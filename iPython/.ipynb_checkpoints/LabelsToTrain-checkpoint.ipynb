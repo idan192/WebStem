{
 "cells": [
  {
   "cell_type": "code",
   "execution_count": 1,
   "metadata": {
    "collapsed": false
   },
   "outputs": [],
   "source": [
    "import pickle\n",
    "import os\n",
    "from os import path\n",
    "from sklearn.linear_model import Perceptron\n",
    "from sklearn import svm\n",
    "from numpy.linalg import lstsq\n",
    "import numpy as np"
   ]
  },
  {
   "cell_type": "code",
   "execution_count": 2,
   "metadata": {
    "collapsed": true
   },
   "outputs": [],
   "source": [
    "pcklPath = \"/home/iizhaki/oasis/WebStem/pickles/\"\n",
    "\n",
    "mapped = pickle.load(open(pcklPath + \"mapped.pck\", \"rb\"))\n",
    "props = pickle.load(open(pcklPath + \"props.pck\", \"rb\"))\n",
    "hists = pickle.load(open(pcklPath + \"hists.pck\", \"rb\"))\n",
    "refs = pickle.load(open(pcklPath + \"refs.pck\", \"rb\"))"
   ]
  },
  {
   "cell_type": "code",
   "execution_count": 3,
   "metadata": {
    "collapsed": false
   },
   "outputs": [
    {
     "name": "stdout",
     "output_type": "stream",
     "text": [
      "['/home/iizhaki/WebStem/triplets/triplets_page_1.log', '/home/iizhaki/WebStem/triplets/triplets_page_2.log']\n"
     ]
    }
   ],
   "source": [
    "tripletsPath = \"/home/iizhaki/WebStem/triplets/\"\n",
    "imgsPath = \"/home/iizhaki/WebStem/photos/\"\n",
    "\n",
    "groups = [(tripletsPath + f) for f in os.listdir(tripletsPath)]\n",
    "\n",
    "predXs = [0] * 30\n",
    "predYs = [0] * 30\n",
    "predResults = [0] * 30\n",
    "print groups"
   ]
  },
  {
   "cell_type": "code",
   "execution_count": 4,
   "metadata": {
    "collapsed": false
   },
   "outputs": [
    {
     "name": "stdout",
     "output_type": "stream",
     "text": [
      "Group: /home/iizhaki/WebStem/photos/group_0 ['1', '2']\n",
      "set([3105, 3106, 2790, 2993, 3049, 2157, 2926, 3183, 2833])\n",
      "set([1834, 3021, 2927, 2928, 2929, 3027, 2809, 1722, 2398])\n",
      "3047 2189\n",
      "Group: /home/iizhaki/WebStem/photos/group_1 ['1', '2']\n",
      "set([3107, 2568, 3145, 3051, 3217, 2482, 2627, 2811])\n",
      "set([1826, 3186, 1832, 2601, 2738, 2894, 3026, 2742])\n",
      "3048 2181\n"
     ]
    }
   ],
   "source": [
    "for group in groups:\n",
    "    # Blue is lower than Red\n",
    "    groupN = \"\"\n",
    "    groupBR = [set(), set()]\n",
    "    lower = \"\"\n",
    "    upper = \"\"\n",
    "    \n",
    "    with open(group) as f:\n",
    "        for line in f:               \n",
    "            splitted = line.split()\n",
    "            #print splitted\n",
    "            #break\n",
    "            \n",
    "            if len(splitted) < 6:\n",
    "                continue\n",
    "            \n",
    "            if groupN == \"\":\n",
    "                groupN = imgsPath + splitted[4].split(\"/\")[2]\n",
    "                groupY = sorted([f.split(\"_\")[1] for f in os.listdir(groupN) if \"org_\" in f])\n",
    "                groupO = sorted([f for f in os.listdir(groupN) if \"img_ref_\" in f])\n",
    "                if (\"img_ref_\" + groupY[0]) in groupO[0]:\n",
    "                    lower = int(groupO[0].split(\"_\")[3])\n",
    "                    upper = int(groupO[1].split(\"_\")[3])\n",
    "                else:\n",
    "                    lower = int(groupO[1].split(\"_\")[3])\n",
    "                    upper = int(groupO[0].split(\"_\")[3])\n",
    "                print \"Group:\", groupN, groupY\n",
    "                        \n",
    "            \n",
    "            if splitted[5] == \"blue\":\n",
    "                if (\"ref_\" + groupY[0]) in splitted[4]:\n",
    "                    groupBR[0].add(int(splitted[4].split(\"_\")[3]))\n",
    "            elif splitted[5] == \"red\":\n",
    "                if (\"ref_\" + groupY[1]) in splitted[4]:\n",
    "                    groupBR[1].add(int(splitted[4].split(\"_\")[3]))\n",
    "                    \n",
    "    print groupBR[0]\n",
    "    print groupBR[1]\n",
    "    print lower, upper\n",
    "    \n",
    "    \n",
    "    \n",
    "    i = 0\n",
    "    X = []\n",
    "    y = []\n",
    "\n",
    "    g0 = int(groupY[0])\n",
    "    g1 = int(groupY[1])\n",
    "    lowHist = hists[g0][lower]\n",
    "    highHist = hists[g1][upper]\n",
    "    lenHist = len(lowHist)\n",
    "\n",
    "    # =============================\n",
    "    if predXs[g0] == 0:\n",
    "        predXs[g0] = []\n",
    "        predYs[g0] = []\n",
    "    \n",
    "    predXs[g0].append(lowHist);\n",
    "    predYs[g0].append(1.0);\n",
    "\n",
    "    predXs[g0].append(highHist);\n",
    "    predYs[g0].append(0.0);\n",
    "\n",
    "    for b1 in groupBR[0]:\n",
    "        predXs[g0].append(hists[g0][b1])\n",
    "        predYs[g0].append(1.0)    \n",
    "\n",
    "    for r1 in groupBR[1]:\n",
    "        predXs[g0].append(hists[g1][r1])\n",
    "        predYs[g0].append(0.0)\n",
    "\n",
    "\n",
    "    # =============================\n",
    "    if predXs[g1] == 0:\n",
    "        predXs[g1] = []\n",
    "        predYs[g1] = []\n",
    "    \n",
    "    predXs[g1].append(lowHist);\n",
    "    predYs[g1].append(0.0);\n",
    "\n",
    "    predXs[g1].append(highHist);\n",
    "    predYs[g1].append(1.0);\n",
    "\n",
    "    for b1 in groupBR[0]:\n",
    "        predXs[g1].append(hists[g0][b1])\n",
    "        predYs[g1].append(0.0)    \n",
    "\n",
    "    for r1 in groupBR[1]:\n",
    "        predXs[g1].append(hists[g1][r1])\n",
    "        predYs[g1].append(1.0)\n",
    "\n",
    "    \n",
    "    "
   ]
  },
  {
   "cell_type": "code",
   "execution_count": 5,
   "metadata": {
    "collapsed": false
   },
   "outputs": [],
   "source": [
    "for i in range(len(predYs)):\n",
    "    X = predXs[i]\n",
    "    y = predYs[i]\n",
    "    \n",
    "    if X == 0:\n",
    "        continue\n",
    "    \n",
    "    clf = svm.SVC()\n",
    "    clf.fit(X, y) \n",
    "    \n",
    "    predResults[i] = clf"
   ]
  },
  {
   "cell_type": "code",
   "execution_count": null,
   "metadata": {
    "collapsed": true
   },
   "outputs": [],
   "source": []
  },
  {
   "cell_type": "code",
   "execution_count": null,
   "metadata": {
    "collapsed": true
   },
   "outputs": [],
   "source": []
  },
  {
   "cell_type": "code",
   "execution_count": null,
   "metadata": {
    "collapsed": true
   },
   "outputs": [],
   "source": []
  },
  {
   "cell_type": "code",
   "execution_count": null,
   "metadata": {
    "collapsed": true
   },
   "outputs": [],
   "source": []
  },
  {
   "cell_type": "code",
   "execution_count": null,
   "metadata": {
    "collapsed": true
   },
   "outputs": [],
   "source": []
  },
  {
   "cell_type": "code",
   "execution_count": null,
   "metadata": {
    "collapsed": true
   },
   "outputs": [],
   "source": []
  },
  {
   "cell_type": "code",
   "execution_count": null,
   "metadata": {
    "collapsed": true
   },
   "outputs": [],
   "source": []
  },
  {
   "cell_type": "code",
   "execution_count": null,
   "metadata": {
    "collapsed": true
   },
   "outputs": [],
   "source": []
  },
  {
   "cell_type": "code",
   "execution_count": 122,
   "metadata": {
    "collapsed": false
   },
   "outputs": [
    {
     "name": "stdout",
     "output_type": "stream",
     "text": [
      "[0, 6, 0, 0, 0, 588, 60, 306, 4, 0, 242, 0, 17, 1429] [0, 0, 0, 0, 2063, 317, 39, 128, 0, 0, 68, 0, 0, 247] 1.0 0.0\n"
     ]
    }
   ],
   "source": [
    "print X[0], X[1], y[0], y[1]"
   ]
  },
  {
   "cell_type": "code",
   "execution_count": 123,
   "metadata": {
    "collapsed": false
   },
   "outputs": [],
   "source": [
    "prc = Perceptron()\n",
    "prc.fit(X, y)\n",
    "\n",
    "clf = svm.SVC()\n",
    "clf.fit(X, y) \n",
    "\n",
    "thetax, _, _, _ = np.linalg.lstsq(X, y)"
   ]
  },
  {
   "cell_type": "code",
   "execution_count": 142,
   "metadata": {
    "collapsed": false
   },
   "outputs": [
    {
     "name": "stdout",
     "output_type": "stream",
     "text": [
      "100.0\n",
      "100.0\n",
      "81.25\n"
     ]
    }
   ],
   "source": [
    "allImgs = [f for f in os.listdir(groupN) if \"ref_\" in f and \"img\" not in f]\n",
    "\n",
    "total = 0\n",
    "right = 0\n",
    "\n",
    "def predict(data, theta):\n",
    "    theta = np.array(theta)\n",
    "    prediction = [np.dot(theta, d)  for d in data]\n",
    "    return prediction\n",
    "\n",
    "#ptrain = predict(X_train, thetax)\n",
    "\n",
    "for b1 in groupBR[0]:\n",
    "    if int(clf.predict(hists[g0][b1])) == 1:\n",
    "        right += 1\n",
    "    total += 1\n",
    "    \n",
    "print right * 100.0 / total\n",
    "\n",
    "# ==============================\n",
    "\n",
    "total = 0\n",
    "right = 0\n",
    "\n",
    "for r1 in groupBR[1]:\n",
    "    if int(clf.predict(hists[g1][r1])) == 0:\n",
    "           right += 1\n",
    "    total += 1\n",
    "\n",
    "print right * 100.0 / total\n",
    "\n",
    "# ==============================\n",
    "\n",
    "total = 0\n",
    "right = 0\n",
    "           \n",
    "for img in allImgs:\n",
    "    cords = img.split(\"_\")[1: 3]\n",
    "    if cords[0] == \"ref\":\n",
    "        continue\n",
    "        \n",
    "    a = int(cords[0])\n",
    "    b = int(cords[1])\n",
    "        \n",
    "    # print cords[0], prc.predict(hists[a][b])[0]\n",
    "    #if int(cords[0]) ==  int(2 - prc.predict(hists[a][b])[0]):\n",
    "    res =  np.dot(thetax, np.array(hists[a][b]))\n",
    "    #if int(cords[0]) ==  int(round(2 - res)):\n",
    "    if int(cords[0]) ==  int(round(2 - clf.predict(hists[a][b])[0])):\n",
    "        right += 1\n",
    "    \n",
    "    total += 1\n",
    "    \n",
    "print right * 100.0 / total"
   ]
  },
  {
   "cell_type": "code",
   "execution_count": null,
   "metadata": {
    "collapsed": true
   },
   "outputs": [],
   "source": []
  },
  {
   "cell_type": "code",
   "execution_count": null,
   "metadata": {
    "collapsed": true
   },
   "outputs": [],
   "source": []
  }
 ],
 "metadata": {
  "kernelspec": {
   "display_name": "Python 2",
   "language": "python",
   "name": "python2"
  },
  "language_info": {
   "codemirror_mode": {
    "name": "ipython",
    "version": 2
   },
   "file_extension": ".py",
   "mimetype": "text/x-python",
   "name": "python",
   "nbconvert_exporter": "python",
   "pygments_lexer": "ipython2",
   "version": "2.7.3"
  }
 },
 "nbformat": 4,
 "nbformat_minor": 0
}
