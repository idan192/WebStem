{
 "cells": [
  {
   "cell_type": "code",
   "execution_count": 1,
   "metadata": {
    "collapsed": false
   },
   "outputs": [
    {
     "name": "stdout",
     "output_type": "stream",
     "text": [
      "Reading train...\n"
     ]
    },
    {
     "ename": "KeyboardInterrupt",
     "evalue": "",
     "output_type": "error",
     "traceback": [
      "\u001b[1;31m---------------------------------------------------------------------------\u001b[0m",
      "\u001b[1;31mKeyboardInterrupt\u001b[0m                         Traceback (most recent call last)",
      "\u001b[1;32m<ipython-input-1-7359a1cfaaae>\u001b[0m in \u001b[0;36m<module>\u001b[1;34m()\u001b[0m\n\u001b[0;32m     17\u001b[0m \u001b[1;33m\u001b[0m\u001b[0m\n\u001b[0;32m     18\u001b[0m \u001b[1;32mprint\u001b[0m \u001b[1;34m\"Reading train...\"\u001b[0m\u001b[1;33m\u001b[0m\u001b[0m\n\u001b[1;32m---> 19\u001b[1;33m \u001b[0mtrain\u001b[0m \u001b[1;33m=\u001b[0m \u001b[0mlist\u001b[0m\u001b[1;33m(\u001b[0m\u001b[0mparseData\u001b[0m\u001b[1;33m(\u001b[0m\u001b[1;34m\"/home/iizhaki/oasis/train.json\"\u001b[0m\u001b[1;33m)\u001b[0m\u001b[1;33m)\u001b[0m\u001b[1;33m\u001b[0m\u001b[0m\n\u001b[0m\u001b[0;32m     20\u001b[0m \u001b[1;32mprint\u001b[0m \u001b[1;34m\"done\"\u001b[0m\u001b[1;33m\u001b[0m\u001b[0m\n",
      "\u001b[1;32m<ipython-input-1-7359a1cfaaae>\u001b[0m in \u001b[0;36mparseData\u001b[1;34m(fname)\u001b[0m\n\u001b[0;32m     10\u001b[0m \u001b[1;32mdef\u001b[0m \u001b[0mparseData\u001b[0m\u001b[1;33m(\u001b[0m\u001b[0mfname\u001b[0m\u001b[1;33m)\u001b[0m\u001b[1;33m:\u001b[0m\u001b[1;33m\u001b[0m\u001b[0m\n\u001b[0;32m     11\u001b[0m   \u001b[1;32mfor\u001b[0m \u001b[0ml\u001b[0m \u001b[1;32min\u001b[0m \u001b[0mopen\u001b[0m\u001b[1;33m(\u001b[0m\u001b[0mfname\u001b[0m\u001b[1;33m)\u001b[0m\u001b[1;33m:\u001b[0m\u001b[1;33m\u001b[0m\u001b[0m\n\u001b[1;32m---> 12\u001b[1;33m     \u001b[1;32myield\u001b[0m \u001b[0meval\u001b[0m\u001b[1;33m(\u001b[0m\u001b[0ml\u001b[0m\u001b[1;33m)\u001b[0m\u001b[1;33m\u001b[0m\u001b[0m\n\u001b[0m\u001b[0;32m     13\u001b[0m \u001b[1;33m\u001b[0m\u001b[0m\n\u001b[0;32m     14\u001b[0m \u001b[1;32mdef\u001b[0m \u001b[0mparseTxt\u001b[0m\u001b[1;33m(\u001b[0m\u001b[0mfname\u001b[0m\u001b[1;33m)\u001b[0m\u001b[1;33m:\u001b[0m\u001b[1;33m\u001b[0m\u001b[0m\n",
      "\u001b[1;32m<string>\u001b[0m in \u001b[0;36m<module>\u001b[1;34m()\u001b[0m\n",
      "\u001b[1;31mKeyboardInterrupt\u001b[0m: "
     ]
    }
   ],
   "source": [
    "from _collections import defaultdict\n",
    "import time\n",
    "import timeit\n",
    "\n",
    "from numpy.linalg import norm\n",
    "import scipy.optimize\n",
    "\n",
    "import numpy as np\n",
    "\n",
    "def parseData(fname):\n",
    "  for l in open(fname):\n",
    "    yield eval(l)\n",
    "    \n",
    "def parseTxt(fname):\n",
    "  for l in open(fname):\n",
    "    yield l.strip().split(\" \")\n",
    "\n",
    "print \"Reading train...\"\n",
    "train = list(parseData(\"/home/iizhaki/oasis/CSE255/Project2/assignment2/train.json\"))\n",
    "print \"done\""
   ]
  },
  {
   "cell_type": "code",
   "execution_count": 1,
   "metadata": {
    "collapsed": false
   },
   "outputs": [],
   "source": []
  },
  {
   "cell_type": "code",
   "execution_count": 2,
   "metadata": {
    "collapsed": false
   },
   "outputs": [],
   "source": [
    "allHelpful = []\n",
    "userHelpful = defaultdict(list)\n",
    "itemHelpful = defaultdict(list)\n",
    "userRating = defaultdict(list)\n",
    "itemRating = defaultdict(list)\n",
    "userMulRO = defaultdict(list)\n",
    "itemMulRO = defaultdict(list)\n",
    "userMulRN = defaultdict(list)\n",
    "itemMulRN = defaultdict(list)\n",
    "userTime  = defaultdict(list)\n",
    "itemTime = defaultdict(list)\n",
    "userTimeOO  = defaultdict(list)\n",
    "itemTimeOO = defaultdict(list)\n",
    "multiNO = 0\n",
    "maxTime = 0\n",
    "minTime = 3000000000\n",
    "userComb  = defaultdict(list)\n",
    "itemComb = defaultdict(list)\n",
    "maxC = 0\n",
    "import math\n",
    "multiM = 0\n",
    "\n",
    "\n",
    "def nCr(n,r):\n",
    "    f = scipy.misc.factorial\n",
    "    return float(f(n)) / float(f(r)) / float(f(n-r))\n",
    "\n",
    "for l in train:\n",
    "    user,item, rating, helpful, utime = l['reviewerID'],l['itemID'], l['rating'], l['helpful'], l['unixReviewTime']\n",
    "    allHelpful.append(helpful)\n",
    "    userHelpful[user].append(helpful)\n",
    "    itemHelpful[item].append(helpful)\n",
    "    #userRating[user].append(rating / 5.0)\n",
    "    #itemRating[item].append(rating / 5.0)\n",
    "    userRating[user].append(rating)\n",
    "    itemRating[item].append(rating)\n",
    "    #userMulRO[user].append(rating * helpful['outOf'] / 5.0)\n",
    "    #itemMulRO[item].append(rating * helpful['outOf'] / 5.0)\n",
    "    userMulRO[user].append(helpful['outOf'])\n",
    "    itemMulRO[item].append(helpful['outOf'])\n",
    "    \n",
    "    multi = helpful['nHelpful']\n",
    "    multiM = np.max((multiM, multi))\n",
    "    userMulRN[user].append(multi)\n",
    "    itemMulRN[item].append(multi)\n",
    "    \n",
    "    maxTime = np.max((maxTime, utime))\n",
    "    minTime = np.min((minTime, utime))\n",
    "    userTime[(user, int(rating))].append(utime)\n",
    "    itemTime[(item, int(rating))].append(utime)\n",
    "    \n",
    "    userTimeOO[(user, int(helpful['outOf']))].append(utime)\n",
    "    itemTimeOO[(item, int(helpful['outOf']))].append(utime)\n",
    "    \n",
    "    combRatio = 1.0 * (helpful['nHelpful'] + helpful['outOf'])\n",
    "    maxC = np.max((maxC, combRatio))\n",
    "    userComb[user].append(combRatio)\n",
    "    itemComb[item].append(combRatio)\n",
    "    \n",
    "    \n",
    "averageRate = sum([x['nHelpful'] for x in allHelpful]) * 1.0 / sum([x['outOf'] for x in allHelpful])\n",
    "userRate = {}\n",
    "for u in userHelpful:\n",
    "  userRate[u] = sum([x['nHelpful'] for x in userHelpful[u]]) * 1.0 / sum([x['outOf'] for x in userHelpful[u]])\n",
    "itemRate = {}\n",
    "for i in itemHelpful:\n",
    "  itemRate[i] = sum([x['nHelpful'] for x in itemHelpful[i]]) * 1.0 / sum([x['outOf'] for x in itemHelpful[i]])\n",
    "\n",
    "userScore = {}\n",
    "for u in userRating:\n",
    "    userScore[u] = mean(userRating[u])\n",
    "itemScore = {}\n",
    "for i in itemRating:\n",
    "    itemScore[i] = mean(itemRating[i])\n",
    "\n",
    "userMulScore = {}\n",
    "for u in userMulRO:\n",
    "    userMulScore[u] = mean(userMulRO[u])\n",
    "itemMulScore = {}\n",
    "for i in itemMulRO:\n",
    "    itemMulScore[i] = mean(itemMulRO[i])\n",
    "\n",
    "userMulNScore = {}\n",
    "for u in userMulRN:\n",
    "    userMulNScore[u] = mean(userMulRN[u]) * 1.0 / multiM\n",
    "itemMulNScore = {}\n",
    "for i in itemMulRN:\n",
    "    itemMulNScore[i] = mean(itemMulRN[i]) * 1.0 / multiM\n",
    "    \n",
    "diffTime = maxTime - minTime\n",
    "userTimeScore = {}\n",
    "for u in userTime:\n",
    "    userTimeScore[u] = ((mean(userTime[u]) - minTime) * 1.0 / diffTime)\n",
    "itemTimeScore = {}\n",
    "for i in itemTime:\n",
    "    itemTimeScore[i] = ((mean(itemTime[i]) - minTime) * 1.0 / diffTime)\n",
    "  \n",
    "userTimeOOScore = {}\n",
    "for u in userTimeOO:\n",
    "    userTimeOOScore[u] = ((mean(userTimeOO[u]) - minTime) * 1.0 / diffTime)\n",
    "itemTimeOOScore = {}\n",
    "for i in itemTimeOO:\n",
    "    itemTimeOOScore[i] = ((mean(itemTimeOO[i]) - minTime) * 1.0 / diffTime)\n",
    "    \n",
    "userCombScore = {}\n",
    "for u in userComb:\n",
    "    userCombScore[u] = mean(userComb[u]) / maxC\n",
    "itemCombScore = {}\n",
    "for i in itemComb:\n",
    "    itemCombScore[i] = mean(itemComb[i]) / maxC"
   ]
  },
  {
   "cell_type": "code",
   "execution_count": 3,
   "metadata": {
    "collapsed": false
   },
   "outputs": [
    {
     "name": "stdout",
     "output_type": "stream",
     "text": [
      "Done\n"
     ]
    }
   ],
   "source": [
    "print \"Done\""
   ]
  },
  {
   "cell_type": "code",
   "execution_count": 4,
   "metadata": {
    "collapsed": false
   },
   "outputs": [],
   "source": [
    "\n",
    "averageUserScore = mean([userScore[u] for u in userScore])\n",
    "averageItemScore = mean([itemScore[i] for i in itemScore])\n",
    "averageUserRO = mean([userMulScore[u] for u in userMulScore])\n",
    "averageItemRO = mean([itemMulScore[i] for i in itemMulScore])\n",
    "averageUserRN = mean([userMulNScore[u] for u in userMulNScore])\n",
    "averageItemRN = mean([itemMulNScore[i] for i in itemMulNScore])\n",
    "averageUserTime = mean([userTimeScore[u] for u in userTimeScore])\n",
    "averageItemTime = mean([itemTimeScore[i] for i in itemTimeScore])\n",
    "averageUserTimeOO = mean([userTimeOOScore[u] for u in userTimeOOScore])\n",
    "averageItemTimeOO = mean([itemTimeOOScore[i] for i in itemTimeOOScore])\n",
    "averageUserComb = mean([userCombScore[u] for u in userCombScore])\n",
    "averageItemComb = mean([itemCombScore[u] for u in itemCombScore])"
   ]
  },
  {
   "cell_type": "code",
   "execution_count": 4,
   "metadata": {
    "collapsed": false
   },
   "outputs": [],
   "source": []
  },
  {
   "cell_type": "code",
   "execution_count": 5,
   "metadata": {
    "collapsed": false
   },
   "outputs": [
    {
     "name": "stdout",
     "output_type": "stream",
     "text": [
      "5.0\n",
      "3.5\n"
     ]
    }
   ],
   "source": [
    "for u in userScore:\n",
    "    print userScore[u]\n",
    "    break\n",
    "    \n",
    "for i in itemScore:\n",
    "    print itemScore[i]\n",
    "    break"
   ]
  },
  {
   "cell_type": "code",
   "execution_count": 6,
   "metadata": {
    "collapsed": false
   },
   "outputs": [],
   "source": [
    "cUser = 0\n",
    "users = {}\n",
    "cItem = 0\n",
    "items = {}\n",
    "\n",
    "for l in train:\n",
    "    user, item = l['reviewerID'], l['itemID']\n",
    "    if user not in users:\n",
    "        users[user] = cUser\n",
    "        cUser += 1\n",
    "    \n",
    "    if item not in items:\n",
    "        items[item] = cItem\n",
    "        cItem += 1"
   ]
  },
  {
   "cell_type": "code",
   "execution_count": 7,
   "metadata": {
    "collapsed": false
   },
   "outputs": [],
   "source": [
    "def FF(loc, total):\n",
    "    res = [0] * total    \n",
    "    res[loc] = 1\n",
    "    \n",
    "    return res"
   ]
  },
  {
   "cell_type": "code",
   "execution_count": 8,
   "metadata": {
    "collapsed": false
   },
   "outputs": [],
   "source": [
    "def FFID(vals, bits):\n",
    "    n = bin(vals)\n",
    "    res = [0] * bits\n",
    "    i = bits - 1\n",
    "    for l in reversed(n[2:]):\n",
    "        res[i] = int(l)\n",
    "        i -= 1\n",
    "    return res"
   ]
  },
  {
   "cell_type": "code",
   "execution_count": 9,
   "metadata": {
    "collapsed": false
   },
   "outputs": [
    {
     "data": {
      "text/plain": [
       "\"\\n    for cat in categories[0]:\\n        for w in cat.split():\\n            w = ''.join([c for c in w.lower() if not c in punctuation])\\n            if w:\\n                allCats.add(w)\\n\""
      ]
     },
     "execution_count": 9,
     "metadata": {},
     "output_type": "execute_result"
    }
   ],
   "source": [
    "from sets import Set\n",
    "import string\n",
    "\n",
    "punctuation = set(string.punctuation)\n",
    "setPos = defaultdict(int)\n",
    "setNeg = defaultdict(int)\n",
    "allCats = Set()\n",
    "\n",
    "bestOutOf = 0\n",
    "posCats = defaultdict(int)\n",
    "negCats = defaultdict(int)\n",
    "\n",
    "for l in train:\n",
    "    review, helpful, categories = l['reviewText'], l['helpful'], l['category']\n",
    "    outOf = float(helpful['outOf'])\n",
    "    nHelpful = float(helpful['nHelpful'])\n",
    "    ratio = float(nHelpful) / float(outOf)\n",
    "    if ratio >= 0.8:\n",
    "        for w in review.split():\n",
    "            w = ''.join([c for c in w.lower() if not c in punctuation])\n",
    "            setPos[w] += 1\n",
    "        for acat in categories:\n",
    "            for cat in acat:\n",
    "                for w in cat.split():\n",
    "                    w = ''.join([c for c in w.lower() if not c in punctuation])\n",
    "                    if w:\n",
    "                        posCats[w] += 1\n",
    "    elif ratio <= 0.2:\n",
    "        for w in review.split():\n",
    "            w = ''.join([c for c in w.lower() if not c in punctuation])\n",
    "            setNeg[w] += 1\n",
    "        for acat in categories:\n",
    "            for cat in acat:\n",
    "                for w in cat.split():\n",
    "                    w = ''.join([c for c in w.lower() if not c in punctuation])\n",
    "                    if w:\n",
    "                        negCats[w] += 1\n",
    "    \n",
    "        \n",
    "\n",
    "    bestOutOf = max(bestOutOf, outOf)\n",
    "    \n",
    "    \n",
    "'''\n",
    "    for cat in categories[0]:\n",
    "        for w in cat.split():\n",
    "            w = ''.join([c for c in w.lower() if not c in punctuation])\n",
    "            if w:\n",
    "                allCats.add(w)\n",
    "'''"
   ]
  },
  {
   "cell_type": "code",
   "execution_count": 9,
   "metadata": {
    "collapsed": false
   },
   "outputs": [],
   "source": []
  },
  {
   "cell_type": "code",
   "execution_count": 10,
   "metadata": {
    "collapsed": false
   },
   "outputs": [
    {
     "data": {
      "text/plain": [
       "\"\\npunctuation = set(string.punctuation)\\nsetPos = defaultdict(int)\\nsetNeg = defaultdict(int)\\n\\noptions = Set(['VBN', 'JJ', 'NNS'])\\n\\nfor l in train:\\n    review, helpful = l['reviewText'], l['helpful']\\n    outOf = float(helpful['outOf'])\\n    nHelpful = float(helpful['nHelpful'])\\n    ratio = float(nHelpful) / float(outOf)\\n    if ratio >= 0.8:\\n        tokens = word_tokenize(''.join([c for c in review.lower() if not c in punctuation]))\\n        for w, pos in nltk.pos_tag(tokens):\\n            if pos in options:\\n                setPos[w] += 1\\n    elif ratio <= 0.2:\\n        tokens = word_tokenize(''.join([c for c in review.lower() if not c in punctuation]))\\n        for w, pos in nltk.pos_tag(tokens):\\n            if pos in options:\\n                setNeg[w] += 1\\n\""
      ]
     },
     "execution_count": 10,
     "metadata": {},
     "output_type": "execute_result"
    }
   ],
   "source": [
    "from sets import Set\n",
    "import string\n",
    "from nltk.tokenize import word_tokenize\n",
    "\n",
    "'''\n",
    "punctuation = set(string.punctuation)\n",
    "setPos = defaultdict(int)\n",
    "setNeg = defaultdict(int)\n",
    "\n",
    "options = Set(['VBN', 'JJ', 'NNS'])\n",
    "\n",
    "for l in train:\n",
    "    review, helpful = l['reviewText'], l['helpful']\n",
    "    outOf = float(helpful['outOf'])\n",
    "    nHelpful = float(helpful['nHelpful'])\n",
    "    ratio = float(nHelpful) / float(outOf)\n",
    "    if ratio >= 0.8:\n",
    "        tokens = word_tokenize(''.join([c for c in review.lower() if not c in punctuation]))\n",
    "        for w, pos in nltk.pos_tag(tokens):\n",
    "            if pos in options:\n",
    "                setPos[w] += 1\n",
    "    elif ratio <= 0.2:\n",
    "        tokens = word_tokenize(''.join([c for c in review.lower() if not c in punctuation]))\n",
    "        for w, pos in nltk.pos_tag(tokens):\n",
    "            if pos in options:\n",
    "                setNeg[w] += 1\n",
    "'''    "
   ]
  },
  {
   "cell_type": "code",
   "execution_count": 11,
   "metadata": {
    "collapsed": false
   },
   "outputs": [],
   "source": [
    "import pickle\n",
    "\n",
    "#filehandler = open(b\"/home/iizhaki/oasis/CSE255/Project2/assignment2/posWords.pck\",\"wb\")\n",
    "#pickle.dump(setPos, filehandler)\n",
    "\n",
    "#filehandler = open(b\"/home/iizhaki/oasis/CSE255/Project2/assignment2/negWords.pck\",\"wb\")\n",
    "#pickle.dump(setNeg, filehandler)\n",
    "\n",
    "#filehandler = open(b\"/home/iizhaki/oasis/CSE255/Project2/assignment2/posWords.pck\",\"rb\")\n",
    "#setPos = pickle.load(filehandler)\n",
    "\n",
    "#filehandler = open(b\"/home/iizhaki/oasis/CSE255/Project2/assignment2/negWords.pck\",\"rb\")\n",
    "#setNeg = pickle.load(filehandler)"
   ]
  },
  {
   "cell_type": "code",
   "execution_count": 11,
   "metadata": {
    "collapsed": false
   },
   "outputs": [],
   "source": []
  },
  {
   "cell_type": "code",
   "execution_count": 12,
   "metadata": {
    "collapsed": false
   },
   "outputs": [
    {
     "data": {
      "text/plain": [
       "'vecPositiveCats = {}\\ni = 0\\nfor w in truePosCats:\\n    if w[0] not in vecPositiveCats:\\n        vecPositiveCats[w[0]] = i\\n        i += 1\\n    \\nvecNegativeCats = {}\\ni = 0\\nfor w in trueNegCats:\\n    if w[0] not in vecNegativeCats:\\n        vecNegativeCats[w[0]] = i\\n        i += 1\\n        \\nprint vecPositiveCats\\nprint vecNegativeCats'"
      ]
     },
     "execution_count": 12,
     "metadata": {},
     "output_type": "execute_result"
    }
   ],
   "source": [
    "'''vecPositiveCats = {}\n",
    "i = 0\n",
    "for w in truePosCats:\n",
    "    if w[0] not in vecPositiveCats:\n",
    "        vecPositiveCats[w[0]] = i\n",
    "        i += 1\n",
    "    \n",
    "vecNegativeCats = {}\n",
    "i = 0\n",
    "for w in trueNegCats:\n",
    "    if w[0] not in vecNegativeCats:\n",
    "        vecNegativeCats[w[0]] = i\n",
    "        i += 1\n",
    "        \n",
    "print vecPositiveCats\n",
    "print vecNegativeCats'''"
   ]
  },
  {
   "cell_type": "code",
   "execution_count": 13,
   "metadata": {
    "collapsed": false
   },
   "outputs": [
    {
     "data": {
      "text/plain": [
       "'listPosCats = []\\nfor p in posCats:\\n    listPosCats.append((p, posCats[p]))\\n\\nallPosCats = sorted(listPosCats, key=lambda x: x[1], reverse=True)\\n\\nlistNegCats = []\\nfor p in negCats:\\n    listNegCats.append((p, negCats[p]))\\n\\nallNegCats = sorted(listNegCats, key=lambda x: x[1], reverse=True)\\n\\ntruePosCats = [x for x in allPosCats if x[0] not in negCats]\\ntrueNegCats = [x for x in allNegCats if x[0] not in posCats]\\n\\nprint truePosCats\\nprint trueNegCats'"
      ]
     },
     "execution_count": 13,
     "metadata": {},
     "output_type": "execute_result"
    }
   ],
   "source": [
    "'''listPosCats = []\n",
    "for p in posCats:\n",
    "    listPosCats.append((p, posCats[p]))\n",
    "\n",
    "allPosCats = sorted(listPosCats, key=lambda x: x[1], reverse=True)\n",
    "\n",
    "listNegCats = []\n",
    "for p in negCats:\n",
    "    listNegCats.append((p, negCats[p]))\n",
    "\n",
    "allNegCats = sorted(listNegCats, key=lambda x: x[1], reverse=True)\n",
    "\n",
    "truePosCats = [x for x in allPosCats if x[0] not in negCats]\n",
    "trueNegCats = [x for x in allNegCats if x[0] not in posCats]\n",
    "\n",
    "print truePosCats\n",
    "print trueNegCats'''"
   ]
  },
  {
   "cell_type": "code",
   "execution_count": 14,
   "metadata": {
    "collapsed": false
   },
   "outputs": [
    {
     "data": {
      "text/plain": [
       "\"\\nallHelpful = []\\nuserHelpful = defaultdict(list)\\n\\nfor l in train:\\n    user,item = l['reviewerID'],l['itemID']\\n    allHelpful.append(l['helpful'])\\n    userHelpful[user].append(l['helpful'])\\n\\naverageRate = sum([x['nHelpful'] for x in allHelpful]) * 1.0 / sum([x['outOf'] for x in allHelpful])\\nuserRate = {}\\nfor u in userHelpful:\\n    userRate[u] = sum([x['nHelpful'] for x in userHelpful[u]]) * 1.0 / sum([x['outOf'] for x in userHelpful[u]])\\n\""
      ]
     },
     "execution_count": 14,
     "metadata": {},
     "output_type": "execute_result"
    }
   ],
   "source": [
    "'''\n",
    "allHelpful = []\n",
    "userHelpful = defaultdict(list)\n",
    "\n",
    "for l in train:\n",
    "    user,item = l['reviewerID'],l['itemID']\n",
    "    allHelpful.append(l['helpful'])\n",
    "    userHelpful[user].append(l['helpful'])\n",
    "\n",
    "averageRate = sum([x['nHelpful'] for x in allHelpful]) * 1.0 / sum([x['outOf'] for x in allHelpful])\n",
    "userRate = {}\n",
    "for u in userHelpful:\n",
    "    userRate[u] = sum([x['nHelpful'] for x in userHelpful[u]]) * 1.0 / sum([x['outOf'] for x in userHelpful[u]])\n",
    "'''"
   ]
  },
  {
   "cell_type": "code",
   "execution_count": 15,
   "metadata": {
    "collapsed": false
   },
   "outputs": [],
   "source": [
    "import nltk\n",
    "from nltk.corpus import stopwords\n",
    "stopWords = Set(stopwords.words(\"english\"))\n",
    "\n",
    "listPos = []\n",
    "for p in setPos:\n",
    "    if not p or p in stopWords:\n",
    "        continue\n",
    "    listPos.append((p, setPos[p]))\n",
    "\n",
    "posWords = sorted(listPos, key=lambda x: x[1], reverse=True)"
   ]
  },
  {
   "cell_type": "code",
   "execution_count": 16,
   "metadata": {
    "collapsed": false
   },
   "outputs": [],
   "source": [
    "listNeg = []\n",
    "for n in setNeg:\n",
    "    if not n or n in stopWords:\n",
    "        continue\n",
    "    listNeg.append((n, setNeg[n]))\n",
    "\n",
    "negWords = sorted(listNeg, key=lambda x: x[1], reverse=True)"
   ]
  },
  {
   "cell_type": "code",
   "execution_count": 17,
   "metadata": {
    "collapsed": false
   },
   "outputs": [],
   "source": [
    "removeIt = Set()\n",
    "negativeWords = [x[0] for x in negWords][:120]\n",
    "positiveWords = [x[0] for x in posWords if x[0] not in negativeWords][:120]\n"
   ]
  },
  {
   "cell_type": "code",
   "execution_count": 18,
   "metadata": {
    "collapsed": false
   },
   "outputs": [
    {
     "name": "stdout",
     "output_type": "stream",
     "text": [
      "120\n",
      "['2', '3', '5', 'also', 'amazon', 'another', 'around', 'back', 'bad', 'battery', 'best', 'better', 'bought', 'box', 'buy', 'cable', 'came', 'camera', 'cant', 'card', 'case', 'computer', 'could', 'cover', 'device', 'didnt', 'doesnt', 'dont', 'drive', 'easy', 'even', 'far', 'find', 'fine', 'first', 'fit', 'get', 'go', 'going', 'good', 'got', 'great', 'happy', 'hard', 'headphones', 'however', 'im', 'ipad', 'item', 'ive', 'keyboard', 'kindle', 'know', 'laptop', 'like', 'little', 'long', 'looking', 'lot', 'love', 'made', 'make', 'money', 'much', 'need', 'never', 'new', 'nice', 'old', 'one', 'ordered', 'phone', 'plan', 'power', 'price', 'problem', 'product', 'protection', 'purchase', 'purchased', 'put', 'quality', 'really', 'recommend', 'return', 'right', 'say', 'screen', 'see', 'set', 'since', 'small', 'something', 'sound', 'still', 'sure', 'tablet', 'take', 'thing', 'think', 'time', 'tried', 'tv', 'two', 'unit', 'usb', 'use', 'used', 'using', 'want', 'way', 'well', 'without', 'work', 'worked', 'working', 'works', 'worth', 'would', 'yet']\n"
     ]
    }
   ],
   "source": [
    "print len(sorted(positiveWords))\n",
    "print sorted(negativeWords)"
   ]
  },
  {
   "cell_type": "code",
   "execution_count": 19,
   "metadata": {
    "collapsed": false
   },
   "outputs": [],
   "source": [
    "vecPositive = {}\n",
    "i = 0\n",
    "for w in positiveWords:\n",
    "    if w not in vecPositive:\n",
    "        vecPositive[w] = i\n",
    "        i += 1\n",
    "    \n",
    "vecNegative = {}\n",
    "i = 0\n",
    "for w in negativeWords:\n",
    "    if w not in vecNegative:\n",
    "        vecNegative[w] = i\n",
    "        i += 1\n",
    "\n",
    "vecCats = {}\n",
    "i = 0\n",
    "for w in allCats:\n",
    "    vecCats[w] = i\n",
    "    i += 1\n",
    "        \n",
    "#print vecPositive\n",
    "#print vecNegative\n",
    "#print vecCats"
   ]
  },
  {
   "cell_type": "code",
   "execution_count": 20,
   "metadata": {
    "collapsed": false
   },
   "outputs": [],
   "source": [
    "def wordsFF(text, db):\n",
    "    res = [0] * len(db)\n",
    "    for w in text.split():\n",
    "            w = ''.join([c for c in w.lower() if not c in punctuation])\n",
    "            if w in db:\n",
    "                res[db[w]] = 1\n",
    "    return res"
   ]
  },
  {
   "cell_type": "code",
   "execution_count": 21,
   "metadata": {
    "collapsed": false
   },
   "outputs": [],
   "source": [
    "#print vecPositive"
   ]
  },
  {
   "cell_type": "code",
   "execution_count": 22,
   "metadata": {
    "collapsed": false
   },
   "outputs": [],
   "source": [
    "X = []\n",
    "y = []\n",
    "outO = []\n",
    "nVals = []\n",
    "maxL = 0\n",
    "\n",
    "for l in train:\n",
    "    user, item, helpful, rating, words = l['reviewerID'], l['itemID'], l['helpful'], l['rating'], l['reviewText']\n",
    "    rating = int(rating)\n",
    "    rr = rating\n",
    "    outOf = float(helpful['outOf'])\n",
    "    nHelpful = float(helpful['nHelpful'])\n",
    "    ratio = nHelpful / outOf\n",
    "    n = len(words.split())\n",
    "    #rating = rating / 5.0;\n",
    "    \n",
    "    #nWords = [0] * 5\n",
    "    #if n < 25:\n",
    "    #    nWords[0] = n\n",
    "    #elif n < 39:\n",
    "    #    nWords[1] = n\n",
    "    #elif n < 66:\n",
    "    #    nWords[2] = n\n",
    "    #elif n < 125:\n",
    "    #    nWords[3] = n\n",
    "    #else:\n",
    "    #    nWords[4] = n\n",
    "    #if nWords < 100:\n",
    "    #    nWords = [1, 0]\n",
    "    #else:\n",
    "    #    nWords = [0, 1]\n",
    "    \n",
    "    #cOutOf = outOf * 1.0 / bestOutOf\n",
    "    cOutOf = outOf * 1.0\n",
    "    #cOutOf = [0.0] * 3\n",
    "    #if outOf <= 5:\n",
    "    #    cOutOf[0] = 1\n",
    "    #elif outOf <= 10:\n",
    "    #    cOutOf[1] = 1\n",
    "    #else:\n",
    "    #    cOutOf[2] = outOf / 10.0\n",
    "    \n",
    "    #X.append([1] + FF(users[user] / 500, cUser / 500) + FFID(user) + FF(items[item] / 500, cItem / 500) + FFID(item) + FF(rating - 1, 5) + str(nWords))\n",
    "    # FF(rating - 1, 5)\n",
    "    X.append([1, rating, userMulScore[user], userScore[user], userRate[user], cOutOf] +\n",
    "             [n] + wordsFF(words, vecPositive) + wordsFF(words, vecNegative))\n",
    "    #X.append([1, rating, cOutOf, userRate[user], itemRate[item], userScore[user], itemScore[item], userMulScore[user], itemMulScore[item], \n",
    "    #          userMulNScore[user], itemMulNScore[item]]  +\n",
    "    #         nWords + wordsFF(words, vecPositive) + wordsFF(words, vecNegative))\n",
    "    #  + userTimeScore[(user, rr)] + itemTimeScore[(item, rr)]\n",
    "    # + FFID(int(outOf) -1, 10) + FFID(int(user[1:]), 30) +\n",
    "    \n",
    "    y.append(ratio)\n",
    "    outO.append(outOf)\n",
    "    nVals.append(nHelpful)"
   ]
  },
  {
   "cell_type": "code",
   "execution_count": 23,
   "metadata": {
    "collapsed": false
   },
   "outputs": [
    {
     "name": "stdout",
     "output_type": "stream",
     "text": [
      "Done\n",
      "247 120\n"
     ]
    }
   ],
   "source": [
    "print \"Done\"\n",
    "print len(X[0]), len(vecPositive)"
   ]
  },
  {
   "cell_type": "code",
   "execution_count": 24,
   "metadata": {
    "collapsed": false
   },
   "outputs": [],
   "source": [
    "import pylab as pl\n",
    "\n",
    "from sklearn.linear_model import SGDRegressor\n",
    "from sklearn.datasets.samples_generator import make_regression\n",
    "from sklearn.preprocessing import *\n",
    "from sklearn import preprocessing\n",
    "from sklearn.preprocessing import StandardScaler\n",
    "\n",
    "import time\n",
    "import timeit"
   ]
  },
  {
   "cell_type": "code",
   "execution_count": 25,
   "metadata": {
    "collapsed": false
   },
   "outputs": [],
   "source": [
    "X_train = np.array(X).astype(float)\n",
    "y_train = np.array(y).astype(float)\n",
    "\n",
    "#Remember = [X_train[:, i].max() for i in range(len(X_train.T))]\n",
    "#X_train = X_train / len(X_train[0])\n",
    "\n",
    "#X_train = np.array([np.array([xi if y > 0 else xi for (xi, y) in zip(x, Remember)]) for x in X_train])\n",
    "#X_train = X_train / len(X_train[0])\n",
    "\n",
    "scaler = MinMaxScaler().fit(X_train)\n",
    "X_train = scaler.transform(X_train)"
   ]
  },
  {
   "cell_type": "code",
   "execution_count": 26,
   "metadata": {
    "collapsed": false
   },
   "outputs": [
    {
     "name": "stdout",
     "output_type": "stream",
     "text": [
      "Length of FFs:  247\n",
      "911.478042126\n",
      "Length of Thetas: "
     ]
    },
    {
     "ename": "NameError",
     "evalue": "name 'thetax' is not defined",
     "output_type": "error",
     "traceback": [
      "\u001b[1;31m---------------------------------------------------------------------------\u001b[0m\n\u001b[1;31mNameError\u001b[0m                                 Traceback (most recent call last)",
      "\u001b[1;32m<ipython-input-26-72285af3433d>\u001b[0m in \u001b[0;36m<module>\u001b[1;34m()\u001b[0m\n\u001b[0;32m     27\u001b[0m \u001b[0mfinished\u001b[0m \u001b[1;33m=\u001b[0m \u001b[0mend\u001b[0m \u001b[1;33m-\u001b[0m \u001b[0mstart\u001b[0m\u001b[1;33m\u001b[0m\u001b[0m\n\u001b[0;32m     28\u001b[0m \u001b[1;32mprint\u001b[0m \u001b[0mfinished\u001b[0m\u001b[1;33m\u001b[0m\u001b[0m\n\u001b[1;32m---> 29\u001b[1;33m \u001b[1;32mprint\u001b[0m \u001b[1;34m\"Length of Thetas: \"\u001b[0m\u001b[1;33m,\u001b[0m \u001b[0mlen\u001b[0m\u001b[1;33m(\u001b[0m\u001b[0mthetax\u001b[0m\u001b[1;33m)\u001b[0m\u001b[1;33m\u001b[0m\u001b[0m\n\u001b[0m\u001b[0;32m     30\u001b[0m \u001b[1;32mprint\u001b[0m \u001b[0mthetax\u001b[0m\u001b[1;33m\u001b[0m\u001b[0m\n",
      "\u001b[1;31mNameError\u001b[0m: name 'thetax' is not defined"
     ]
    }
   ],
   "source": [
    "print \"Length of FFs: \", len(X_train[0])\n",
    "\n",
    "# Objective\n",
    "'''def f(theta, X, y, lam):\n",
    "    diff = numpy.dot(X, theta) - y\n",
    "    diffSq = (norm(diff) ** 2) / len(X)\n",
    "    diffSqReg = diffSq + lam * norm(theta) ** 2\n",
    "    #print \"f : \" , diffSqReg\n",
    "    return diffSqReg\n",
    "\n",
    "    # Derivative\n",
    "def fprime(theta, X, y, lam):\n",
    "    diff = numpy.dot(X, theta) - y\n",
    "    res = 2 * numpy.dot(X.T, diff) / len(X) + 2 * lam * theta\n",
    "    return res\n",
    "'''\n",
    "start = time.time()\n",
    "\n",
    "clf = SGDRegressor(n_iter = 1000, alpha = 0.0)\n",
    "clf.fit(X_train, y_train)\n",
    "#thetax, residualsx, rankx, sx = numpy.linalg.lstsq(X_train, y_train)\n",
    "#thetax, _, _, _ = np.linalg.lstsq(X_train, y_train)\n",
    "#thetax, _, _ = scipy.optimize.fmin_l_bfgs_b(f, numpy.array([0] * len(X_train[0])).T, fprime, args = (numpy.array(X_train), numpy.array(y_train).T, 0.01))\n",
    "\n",
    "\n",
    "end = time.time()\n",
    "finished = end - start\n",
    "print finished\n",
    "print \"Length of Thetas: \", len(thetax)\n",
    "print thetax"
   ]
  },
  {
   "cell_type": "code",
   "execution_count": 27,
   "metadata": {
    "collapsed": false
   },
   "outputs": [
    {
     "name": "stdout",
     "output_type": "stream",
     "text": [
      "\n"
     ]
    }
   ],
   "source": [
    "#def predict(data, theta):\n",
    "#    theta = numpy.array(theta)\n",
    "#    prediction = [np.dot(theta, d)  for d in data]\n",
    "#    return prediction\n",
    "\n",
    "#ptrain = predict(X_train, thetax)\n",
    "ptrain = clf.predict(X_train)\n",
    "ytrain = [e for e in y_train]\n",
    "\n",
    "ptrain = [p if p >= 0. else 0. for p in ptrain]\n",
    "ptrain = [p if p <= 1. else 1. for p in ptrain]\n",
    "\n",
    "ptrain = [round(x*o) for x, o in zip(ptrain, outO)]\n",
    "ytrain = nVals\n",
    "#ytrain = expY"
   ]
  },
  {
   "cell_type": "code",
   "execution_count": 28,
   "metadata": {
    "collapsed": false
   },
   "outputs": [],
   "source": [
    "def MSE(prediction, real):\n",
    "    squares = [ (p - r)**2 for p,r in zip (prediction,real) ]\n",
    "    return numpy.mean(squares)"
   ]
  },
  {
   "cell_type": "code",
   "execution_count": 29,
   "metadata": {
    "collapsed": false
   },
   "outputs": [
    {
     "name": "stdout",
     "output_type": "stream",
     "text": [
      "MSE training 2.185431\n",
      "Var 439.112243553\n",
      " FVU training 0.00497693023159\n"
     ]
    }
   ],
   "source": [
    "mse = MSE(ptrain, ytrain)\n",
    "var = MSE(ytrain, [mean(ytrain)] * len(ytrain))\n",
    "print \"MSE training\", mse\n",
    "print \"Var\", var\n",
    "print \" FVU training\", (mse / var)"
   ]
  },
  {
   "cell_type": "code",
   "execution_count": 30,
   "metadata": {
    "collapsed": false
   },
   "outputs": [
    {
     "name": "stdout",
     "output_type": "stream",
     "text": [
      "0.079796\n"
     ]
    }
   ],
   "source": [
    "trainScore = len([[p, y] for p, y in zip(ptrain, ytrain) if p != y]) * 1.0 / len(ytrain)\n",
    "print trainScore"
   ]
  },
  {
   "cell_type": "code",
   "execution_count": 30,
   "metadata": {
    "collapsed": false
   },
   "outputs": [],
   "source": []
  },
  {
   "cell_type": "code",
   "execution_count": 30,
   "metadata": {
    "collapsed": false
   },
   "outputs": [],
   "source": []
  },
  {
   "cell_type": "code",
   "execution_count": 31,
   "metadata": {
    "collapsed": false
   },
   "outputs": [
    {
     "name": "stdout",
     "output_type": "stream",
     "text": [
      "Reading test...\n",
      "done\n"
     ]
    }
   ],
   "source": [
    "print \"Reading test...\"\n",
    "tetst = list(parseData(\"/home/iizhaki/oasis/CSE255/Project2/assignment2/helpful.json\"))\n",
    "print \"done\""
   ]
  },
  {
   "cell_type": "code",
   "execution_count": 32,
   "metadata": {
    "collapsed": false
   },
   "outputs": [],
   "source": [
    "Xt = []\n",
    "outOt = []\n",
    "\n",
    "for l in tetst:\n",
    "    user, item, helpful, rating, words = l['reviewerID'], l['itemID'], l['helpful'], l['rating'], l['reviewText']\n",
    "    rating = int(rating)\n",
    "    rr = rating\n",
    "    outOf = float(helpful['outOf'])\n",
    "    n = len(words.split())\n",
    "    #rating = rating / 5.0;\n",
    "    rating = float(rating);\n",
    "    \n",
    "    if user in userRate:\n",
    "        urate = userRate[user]\n",
    "        uscore = userScore[user]\n",
    "        umul = userMulScore[user]\n",
    "        umuln = userMulNScore[user]\n",
    "    else:\n",
    "        if item in itemRate:\n",
    "            urate = itemRate[item]\n",
    "        else:\n",
    "            urate = averageRate\n",
    "        if item in itemScore:\n",
    "            uscore = itemScore[item]\n",
    "        else:\n",
    "            uscore = averageUserScore\n",
    "        if item in itemMulScore:\n",
    "            umul = itemMulScore[item]\n",
    "        else:\n",
    "            umul = averageUserRO\n",
    "        #uscore = averageUserScore\n",
    "        #umul = averageUserRO\n",
    "        umuln = averageUserRN\n",
    "    if item in itemRate:\n",
    "        irate = itemRate[item]\n",
    "        iscore = itemScore[item]\n",
    "        imul = itemMulScore[item]\n",
    "        imuln = itemMulNScore[item]\n",
    "    else:\n",
    "        irate = averageRate\n",
    "        iscore = averageItemScore\n",
    "        imul = averageItemRO\n",
    "        imul = averageItemRN\n",
    "        \n",
    "    #nWords = [0] * 5\n",
    "    #if n < 25:\n",
    "    #    nWords[0] = n\n",
    "    #elif n < 39:\n",
    "    #    nWords[1] = n\n",
    "    #elif n < 66:\n",
    "    #    nWords[2] = n\n",
    "    #elif n < 125:\n",
    "    #    nWords[3] = n\n",
    "    #else:\n",
    "    #    nWords[4] = n\n",
    "    #if nWords < 100:\n",
    "    #    nWords = [1, 0]\n",
    "    #else:\n",
    "    #    nWords = [0, 1]\n",
    "    \n",
    "    #cOutOf = outOf * 1.0 / bestOutOf\n",
    "    cOutOf = outOf * 1.0\n",
    "    #cOutOf = [0.0] * 3\n",
    "    #if outOf <= 5:\n",
    "    #    cOutOf[0] = 1\n",
    "    #elif outOf <= 10:\n",
    "    #    cOutOf[1] = 1\n",
    "    #else:\n",
    "    #    cOutOf[2] = outOf / 10.0\n",
    "    \n",
    "    #X.append([1] + FF(users[user] / 500, cUser / 500) + FFID(user) + FF(items[item] / 500, cItem / 500) + FFID(item) + FF(rating - 1, 5) + str(nWords))\n",
    "    # FF(rating - 1, 5)\n",
    "    Xt.append([1, rating, umul, uscore, urate, cOutOf] +\n",
    "             [n] + wordsFF(words, vecPositive) + wordsFF(words, vecNegative))\n",
    "    '''rating = int(rating)\n",
    "    outOf = float(helpful['outOf'])\n",
    "    n = len(words.split())\n",
    "    rr = rating\n",
    "    rating = rating / 5.0;\n",
    "    \n",
    "    nWords = [0] * 5\n",
    "    if n < 25:\n",
    "        nWords[0] = n\n",
    "    elif n < 39:\n",
    "        nWords[1] = n\n",
    "    elif n < 66:\n",
    "        nWords[2] = n\n",
    "    elif n < 125:\n",
    "        nWords[3] = n\n",
    "    else:\n",
    "        nWords[4] = n\n",
    "    \n",
    "    cOutOf = outOf * 1.0 / bestOutOf\n",
    "    \n",
    "    if user in userRate:\n",
    "        urate = userRate[user]\n",
    "        uscore = userScore[user]\n",
    "        umul = userMulScore[user]\n",
    "        umuln = userMulNScore[user]\n",
    "    else:\n",
    "        urate = averageRate\n",
    "        uscore = averageUserScore\n",
    "        umul = averageUserRO\n",
    "        umuln = averageUserRN\n",
    "    if item in itemRate:\n",
    "        irate = itemRate[item]\n",
    "        iscore = itemScore[item]\n",
    "        imul = itemMulScore[item]\n",
    "        imuln = itemMulNScore[item]\n",
    "    else:\n",
    "        irate = averageRate\n",
    "        iscore = averageItemScore\n",
    "        imul = averageItemRO\n",
    "        imul = averageItemRN\n",
    "        \n",
    "    if (rr, user) in userTimeScore:\n",
    "        uts = userTimeScore[(rr, user)]\n",
    "    else:\n",
    "        uts = averageUserTime\n",
    "        \n",
    "    if (rr, item) in itemTimeScore:\n",
    "        its = itemTimeScore[(rr, user)]\n",
    "    else:\n",
    "        its = averageItemTime\n",
    "        \n",
    "    if user in userCombScore:\n",
    "        usc = userCombScore[user]\n",
    "    else:\n",
    "        usc = averageUserComb\n",
    "        \n",
    "    if item in itemCombScore:\n",
    "        isc = itemCombScore[item]\n",
    "    else:\n",
    "        isc = averageItemComb        \n",
    "        \n",
    "    Xt.append([1, rating, cOutOf, urate, irate, uscore, iscore, umul, imul, umuln, imuln] + nWords + wordsFF(words, vecPositive) + wordsFF(words, vecNegative))\n",
    "    #Xt.append([1, rating] + urate + nWords + wordsFF(words, vecPositive) + wordsFF(words, vecNegative))\n",
    "    '''\n",
    "    \n",
    "    outOt.append(outOf)"
   ]
  },
  {
   "cell_type": "code",
   "execution_count": 33,
   "metadata": {
    "collapsed": false
   },
   "outputs": [
    {
     "name": "stdout",
     "output_type": "stream",
     "text": [
      "247 [1, 1.0, 1.0, 1.0, 0.0, 1.0, 52, 0, 0, 0, 0, 0, 0, 0, 0, 0, 0, 0, 0, 0, 0, 0, 0, 0, 0, 0, 0, 0, 0, 0, 0, 0, 0, 0, 0, 0, 0, 0, 0, 0, 0, 0, 0, 0, 0, 0, 0, 0, 0, 0, 0, 0, 0, 0, 0, 0, 0, 0, 0, 0, 0, 0, 0, 0, 0, 0, 0, 0, 0, 0, 1, 0, 0, 0, 0, 0, 0, 0, 0, 0, 0, 0, 0, 0, 0, 0, 0, 0, 0, 0, 0, 0, 0, 0, 0, 0, 0, 0, 1, 0, 0, 0, 0, 0, 0, 0, 0, 0, 0, 0, 0, 0, 0, 0, 0, 0, 0, 0, 0, 0, 0, 0, 0, 0, 0, 0, 0, 0, 0, 0, 0, 0, 0, 0, 0, 0, 0, 0, 0, 0, 0, 0, 0, 0, 0, 0, 0, 0, 0, 0, 0, 0, 0, 0, 1, 0, 0, 0, 0, 0, 0, 0, 0, 1, 0, 0, 0, 0, 0, 0, 0, 0, 0, 0, 0, 0, 0, 0, 0, 0, 0, 0, 0, 0, 0, 0, 0, 0, 0, 0, 0, 0, 0, 0, 0, 0, 0, 0, 0, 0, 0, 0, 0, 0, 0, 0, 0, 1, 1, 0, 0, 0, 0, 0, 0, 0, 0, 0, 0, 0, 0, 0, 0, 0, 0, 0, 0, 0, 0, 0, 0, 0, 0, 0, 0, 0, 0, 0, 0, 0, 0, 0, 1, 0, 0, 0, 0]\n"
     ]
    }
   ],
   "source": [
    "print len(Xt[0]), Xt[0]\n",
    "X_test = np.array(Xt).astype(float)\n",
    "scaler = MinMaxScaler().fit(X_test)\n",
    "X_test = scaler.transform(X_test)"
   ]
  },
  {
   "cell_type": "code",
   "execution_count": 35,
   "metadata": {
    "collapsed": false
   },
   "outputs": [],
   "source": [
    "#ptest = predict(X_test, thetax)\n",
    "ptest = clf.predict(X_train)\n",
    "\n",
    "\n",
    "ptest = [p if p >= 0. else 0. for p in ptest]\n",
    "ptest = [p if p <= 1. else 1. for p in ptest]\n",
    "\n",
    "ptest = [round(x*o) for x, o in zip(ptest, outOt)]"
   ]
  },
  {
   "cell_type": "code",
   "execution_count": 36,
   "metadata": {
    "collapsed": false
   },
   "outputs": [
    {
     "name": "stdout",
     "output_type": "stream",
     "text": [
      "[1.0, 3.0, 0.0, 2.0, 1.0, 1.0, 1.0, 0.0, 0.0, 0.0]\n"
     ]
    }
   ],
   "source": [
    "print ptest[:10]"
   ]
  },
  {
   "cell_type": "code",
   "execution_count": 37,
   "metadata": {
    "collapsed": false
   },
   "outputs": [
    {
     "name": "stdout",
     "output_type": "stream",
     "text": [
      "Reading helpful...\n",
      "done\n"
     ]
    }
   ],
   "source": [
    "print \"Reading helpful...\"\n",
    "test = np.array(list(parseTxt(\"/home/iizhaki/oasis/CSE255/Project2/assignment2/pairs_Helpful.txt\")))\n",
    "print \"done\""
   ]
  },
  {
   "cell_type": "code",
   "execution_count": null,
   "metadata": {
    "collapsed": false
   },
   "outputs": [],
   "source": [
    "print \"Prediction test...\"\n",
    "myPredictions = open(\"/home/iizhaki/oasis/CSE255/Project2/assignment2/idan_predictions_Helpful_MMF_\" + str(trainScore) + \".txt\", 'w')\n",
    "print \"done\"\n",
    "\n",
    "myPredictions.write(test[0][0] + '\\n')\n",
    "\n",
    "for l, p in zip(test[1 :], ptest):\n",
    "    u, i, o = l[0].split(\"-\")\n",
    "    myPredictions.write(l[0] + ',' + str(p) + '\\n')\n",
    "    \n",
    "myPredictions.close()"
   ]
  },
  {
   "cell_type": "code",
   "execution_count": null,
   "metadata": {
    "collapsed": false
   },
   "outputs": [],
   "source": []
  },
  {
   "cell_type": "code",
   "execution_count": null,
   "metadata": {
    "collapsed": false
   },
   "outputs": [],
   "source": []
  },
  {
   "cell_type": "code",
   "execution_count": null,
   "metadata": {
    "collapsed": false
   },
   "outputs": [],
   "source": []
  },
  {
   "cell_type": "code",
   "execution_count": null,
   "metadata": {
    "collapsed": false
   },
   "outputs": [],
   "source": []
  },
  {
   "cell_type": "code",
   "execution_count": null,
   "metadata": {
    "collapsed": false
   },
   "outputs": [],
   "source": []
  }
 ],
 "metadata": {
  "kernelspec": {
   "display_name": "Python 2",
   "language": "python",
   "name": "python2"
  },
  "language_info": {
   "codemirror_mode": {
    "name": "ipython",
    "version": 2
   },
   "file_extension": ".py",
   "mimetype": "text/x-python",
   "name": "python",
   "nbconvert_exporter": "python",
   "pygments_lexer": "ipython2",
   "version": "2.7.3"
  }
 },
 "nbformat": 4,
 "nbformat_minor": 0
}
