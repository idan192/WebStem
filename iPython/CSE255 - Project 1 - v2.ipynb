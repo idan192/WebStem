{
 "metadata": {
  "name": "",
  "signature": "sha256:4a834e8f0bf61568680c398eceb09d83e5b7626c3e6461e55f02d388e4e9ebce"
 },
 "nbformat": 3,
 "nbformat_minor": 0,
 "worksheets": [
  {
   "cells": [
    {
     "cell_type": "heading",
     "level": 3,
     "metadata": {},
     "source": [
      "All imports and JSon files loads"
     ]
    },
    {
     "cell_type": "code",
     "collapsed": false,
     "input": [
      "import pickle"
     ],
     "language": "python",
     "metadata": {},
     "outputs": [],
     "prompt_number": 2
    },
    {
     "cell_type": "code",
     "collapsed": false,
     "input": [
      "from sklearn.cluster import KMeans\n",
      "import json"
     ],
     "language": "python",
     "metadata": {},
     "outputs": [],
     "prompt_number": 4
    },
    {
     "cell_type": "code",
     "collapsed": false,
     "input": [
      "# Links:\n",
      "# /home/iizhaki/CSE255/googlelocal/places.json\n",
      "# /home/iizhaki/CSE255/googlelocal/reviews.json\n",
      "# /home/iizhaki/CSE255/googlelocal/users.json"
     ],
     "language": "python",
     "metadata": {},
     "outputs": [],
     "prompt_number": 2
    },
    {
     "cell_type": "code",
     "collapsed": false,
     "input": [
      "import json\n",
      "print \"Start loading users...\"\n",
      "jsonUsers = json.load(open(\"/oasis/scratch/iizhaki/temp_project/CSE255/googlelocal/users.json\"))\n",
      "print \"Finished loading users\""
     ],
     "language": "python",
     "metadata": {},
     "outputs": [
      {
       "output_type": "stream",
       "stream": "stdout",
       "text": [
        "Start loading users...\n",
        "Finished loading users"
       ]
      },
      {
       "output_type": "stream",
       "stream": "stdout",
       "text": [
        "\n"
       ]
      }
     ],
     "prompt_number": 5
    },
    {
     "cell_type": "code",
     "collapsed": false,
     "input": [
      "print \"Start loading reviews...\"\n",
      "jsonReviews = json.load(open(\"/home/iizhaki/oasis/CSE255/reviews_0.pck\"))\n",
      "print \"Finished loading reviews\""
     ],
     "language": "python",
     "metadata": {},
     "outputs": []
    },
    {
     "cell_type": "code",
     "collapsed": false,
     "input": [
      "print \"Start loading places...\"\n",
      "jsonPlaces = json.load(open(\"/oasis/scratch/iizhaki/temp_project/CSE255/googlelocal/places.json\"))\n",
      "print \"Finished loading places\""
     ],
     "language": "python",
     "metadata": {},
     "outputs": [
      {
       "output_type": "stream",
       "stream": "stdout",
       "text": [
        "Start loading places...\n",
        "Finished loading places"
       ]
      },
      {
       "output_type": "stream",
       "stream": "stdout",
       "text": [
        "\n"
       ]
      }
     ],
     "prompt_number": 11
    },
    {
     "cell_type": "heading",
     "level": 1,
     "metadata": {},
     "source": [
      "Load Files\n"
     ]
    },
    {
     "cell_type": "code",
     "collapsed": false,
     "input": [
      "##users\n",
      "X = []\n",
      "ids = []\n",
      "for id in jsonUsers:\n",
      "    X.append(jsonUsers[id])\n",
      "    ids.append(id)\n",
      "#X = [jsonUsers[id] for id in jsonUsers ]\n",
      "#id = [id for id in jsonUsers]\n",
      "\n",
      "#place      = [n['currentPlace'] if 'currentPlace' in n and n['currentPlace']!=[] else [] for n in X  ]\n",
      "place      = [n['currentPlace'] for n in X if 'currentPlace' in n and n['currentPlace']!=[] ]\n",
      "\n",
      "ids      = [ids[i] for i in range(len(X)) if 'currentPlace' in X[i] and X[i]['currentPlace']!=[] ]\n",
      "\n",
      "GPS = [g[1] if len(g)>1  else []  for g in place ]\n",
      "id=ids\n",
      "#id      = [ids[i] for i in range(len(place)) if len(place[i])>1 ]\n",
      "\n",
      "GPS = [[g[1]/1e7,g[2]/1e7] if len(g)>2  else [] for g in GPS]\n",
      "\n",
      "#GPS_US = [p for p in GPS if p[0]>=24 and p[0]<=49 and p[1]>=-128 and p[1]<=-47]\n",
      "\n",
      "#id      = [id[i] for i in range(len(GPS)) if GPS[i][0]>=24 and GPS[i][0]<=49 and GPS[i][1]>=-128 and GPS[i][1]<=-47 ]\n",
      "\n",
      "print len(GPS),\",\", len(id)"
     ],
     "language": "python",
     "metadata": {},
     "outputs": [
      {
       "output_type": "stream",
       "stream": "stdout",
       "text": [
        "749941 , 749941\n"
       ]
      }
     ],
     "prompt_number": 15
    },
    {
     "cell_type": "code",
     "collapsed": false,
     "input": [
      "#print len(X), len(ids)\n",
      "\n",
      "##users\n",
      "X = []\n",
      "ids = []\n",
      "for id in jsonUsers:\n",
      "    X.append(jsonUsers[id])\n",
      "    ids.append(id)\n",
      "#X = [jsonUsers[id] for id in jsonUsers ]\n",
      "#id = [id for id in jsonUsers]\n",
      "\n",
      "place      = [n['currentPlace'] if 'currentPlace' in n and n['currentPlace']!=[] else [] for n in X  ]\n",
      "#place      = [n['currentPlace'] for n in X if 'currentPlace' in n and n['currentPlace']!=[] ]\n",
      "\n",
      "#ids      = [ids[i] for i in range(len(X)) if 'currentPlace' in X[i] and X[i]['currentPlace']!=[] ]\n",
      "\n",
      "GPS = [g[1] if len(g)>1  else []  for g in place ]\n",
      "id=ids\n",
      "#id      = [ids[i] for i in range(len(place)) if len(place[i])>1 ]\n",
      "\n",
      "GPS = [[g[1]/1e7,g[2]/1e7] if len(g)>2  else [] for g in GPS]\n",
      "\n",
      "#GPS_US = [p for p in GPS if p[0]>=24 and p[0]<=49 and p[1]>=-128 and p[1]<=-47]\n",
      "\n",
      "#id      = [id[i] for i in range(len(GPS)) if GPS[i][0]>=24 and GPS[i][0]<=49 and GPS[i][1]>=-128 and GPS[i][1]<=-47 ]\n",
      "\n",
      "print len(GPS),\",\", len(id)\n",
      "\n",
      "\n"
     ],
     "language": "python",
     "metadata": {},
     "outputs": [
      {
       "output_type": "stream",
       "stream": "stdout",
       "text": [
        "3747937 , 3747937\n"
       ]
      }
     ],
     "prompt_number": 6
    },
    {
     "cell_type": "code",
     "collapsed": false,
     "input": [
      "GPS_US = []\n",
      "id_US  = [] \n",
      "for i in  range(len(GPS)):\n",
      "    p = GPS[i]\n",
      "    if p!= []:\n",
      "        if p[0]>=24 and p[0]<=49 and p[1]>=-128 and p[1]<=-47:\n",
      "            GPS_US.append(p)\n",
      "            id_US.append(id[i])\n",
      "        \n",
      "#save users\n",
      "file = open(\"/home/iizhaki/oasis/CSE255/users_GPS_US.pck\", \"w\")\n",
      "pickle.dump(GPS_US, file)\n",
      "file.close()\n",
      "print \"done\"\n",
      "\n",
      "#save users\n",
      "file = open(\"/home/iizhaki/oasis/CSE255/users_id_US.pck\", \"w\")\n",
      "pickle.dump(id_US, file)\n",
      "file.close()\n",
      "print \"done\""
     ],
     "language": "python",
     "metadata": {},
     "outputs": [
      {
       "output_type": "stream",
       "stream": "stdout",
       "text": [
        "done\n",
        "done"
       ]
      },
      {
       "output_type": "stream",
       "stream": "stdout",
       "text": [
        "\n"
       ]
      }
     ],
     "prompt_number": 27
    },
    {
     "cell_type": "code",
     "collapsed": false,
     "input": [
      "#save users\n",
      "file = open(\"/home/iizhaki/oasis/CSE255/users_GPS_US.pck\", \"w\")\n",
      "pickle.dump(GPS_US, file)\n",
      "file.close()\n",
      "print \"done\""
     ],
     "language": "python",
     "metadata": {},
     "outputs": [
      {
       "output_type": "stream",
       "stream": "stdout",
       "text": [
        "done\n"
       ]
      }
     ],
     "prompt_number": 42
    },
    {
     "cell_type": "code",
     "collapsed": false,
     "input": [
      "#save users\n",
      "file = open(\"/home/iizhaki/oasis/CSE255/users_GPS.pck\", \"w\")\n",
      "pickle.dump(GPS, file)\n",
      "file.close()\n",
      "print \"done\"\n",
      "\n",
      "#save users\n",
      "file = open(\"/home/iizhaki/oasis/CSE255/users_id.pck\", \"w\")\n",
      "pickle.dump(id, file)\n",
      "file.close()\n",
      "print \"done\""
     ],
     "language": "python",
     "metadata": {},
     "outputs": [
      {
       "output_type": "stream",
       "stream": "stdout",
       "text": [
        "done\n",
        "done"
       ]
      },
      {
       "output_type": "stream",
       "stream": "stdout",
       "text": [
        "\n"
       ]
      }
     ],
     "prompt_number": 7
    },
    {
     "cell_type": "code",
     "collapsed": false,
     "input": [
      "print len(GPS), len(id)"
     ],
     "language": "python",
     "metadata": {},
     "outputs": [
      {
       "ename": "NameError",
       "evalue": "name 'GPS' is not defined",
       "output_type": "pyerr",
       "traceback": [
        "\u001b[1;31m---------------------------------------------------------------------------\u001b[0m\n\u001b[1;31mNameError\u001b[0m                                 Traceback (most recent call last)",
        "\u001b[1;32m<ipython-input-1-4f2baf8b7575>\u001b[0m in \u001b[0;36m<module>\u001b[1;34m()\u001b[0m\n\u001b[1;32m----> 1\u001b[1;33m \u001b[1;32mprint\u001b[0m \u001b[0mlen\u001b[0m\u001b[1;33m(\u001b[0m\u001b[0mGPS\u001b[0m\u001b[1;33m)\u001b[0m\u001b[1;33m,\u001b[0m \u001b[0mlen\u001b[0m\u001b[1;33m(\u001b[0m\u001b[0mid\u001b[0m\u001b[1;33m)\u001b[0m\u001b[1;33m\u001b[0m\u001b[0m\n\u001b[0m",
        "\u001b[1;31mNameError\u001b[0m: name 'GPS' is not defined"
       ]
      }
     ],
     "prompt_number": 1
    },
    {
     "cell_type": "code",
     "collapsed": false,
     "input": [
      "import pickle\n",
      "#load users\n",
      "file = open(\"/home/iizhaki/oasis/CSE255/users_GPS.pck\")\n",
      "GPS = pickle.load(file)\n",
      "file.close()\n",
      "print \"done\"\n",
      "\n",
      "#load users\n",
      "file = open(\"/home/iizhaki/oasis/CSE255/users_id.pck\")\n",
      "id = pickle.load(file)\n",
      "file.close()\n",
      "print \"done\"\n",
      "\n",
      "print len(GPS), len(id)"
     ],
     "language": "python",
     "metadata": {},
     "outputs": [
      {
       "output_type": "stream",
       "stream": "stdout",
       "text": [
        "done\n",
        "done"
       ]
      },
      {
       "output_type": "stream",
       "stream": "stdout",
       "text": [
        "\n",
        "3747937 3747937\n"
       ]
      }
     ],
     "prompt_number": 1
    },
    {
     "cell_type": "code",
     "collapsed": false,
     "input": [
      "#dictionary of users\n",
      "usersD =  dict()\n",
      "_sum = [0]* len(categories)\n",
      "coun =[0]* len(categories)\n",
      "for i in range(len(id)):\n",
      "    usersD[id[i]]=(GPS[i],list(_sum),list(coun))\n",
      "print len(usersD)    \n",
      "print \"done\""
     ],
     "language": "python",
     "metadata": {},
     "outputs": [
      {
       "output_type": "stream",
       "stream": "stdout",
       "text": [
        "3747937\n",
        "done\n"
       ]
      }
     ],
     "prompt_number": 139
    },
    {
     "cell_type": "code",
     "collapsed": false,
     "input": [
      "len(GPS)"
     ],
     "language": "python",
     "metadata": {},
     "outputs": [
      {
       "metadata": {},
       "output_type": "pyout",
       "prompt_number": 138,
       "text": [
        "3747937"
       ]
      }
     ],
     "prompt_number": 138
    },
    {
     "cell_type": "code",
     "collapsed": false,
     "input": [],
     "language": "python",
     "metadata": {},
     "outputs": [],
     "prompt_number": 140
    },
    {
     "cell_type": "code",
     "collapsed": false,
     "input": [
      "X = [jsonPlaces[p] for p in jsonPlaces ]\n",
      "\n",
      "gps     = [g['gps'] if 'gps'in g else [0,0] for g in X]\n",
      "gps_x   = [g[0] for g in gps]\n",
      "gps_y   = [g[1] for g in gps]\n",
      "\n",
      "names   = [n['name'].encode('ascii','ignore') if 'name'in n     else \"no name\" for n in X]\n",
      "id      = [n['id'].encode('ascii','ignore')   if 'id' in n      else \"no id\"   for n in X]\n",
      "address = [n['address']                       if 'address' in n else [\"\",\"\"]   for n in X]\n",
      "address = [n[1].encode('ascii','ignore')      if len(n)>1       else \"\"        for n in address]\n",
      "\n",
      "#name, id, gps, address, categories, rating, count\n",
      "places = [(names[i],id[i],gps[i],address[i],set(),0,0) for i in range(len(X))]\n",
      "places = [p for p in places if p[2]!=[0,0]]\n",
      "print \"done\""
     ],
     "language": "python",
     "metadata": {},
     "outputs": [
      {
       "output_type": "stream",
       "stream": "stdout",
       "text": [
        "done\n"
       ]
      }
     ],
     "prompt_number": 12
    },
    {
     "cell_type": "code",
     "collapsed": false,
     "input": [
      "print len(places)#3087397 "
     ],
     "language": "python",
     "metadata": {},
     "outputs": [
      {
       "output_type": "stream",
       "stream": "stdout",
       "text": [
        "3087397\n"
       ]
      }
     ],
     "prompt_number": 14
    },
    {
     "cell_type": "code",
     "collapsed": false,
     "input": [
      "#save places\n",
      "#file = open(\"/home/iizhaki/oasis/CSE255/places.pck\", \"w\")\n",
      "#pickle.dump(places, file)\n",
      "#file.close()\n",
      "print \"done\"\n"
     ],
     "language": "python",
     "metadata": {},
     "outputs": [
      {
       "output_type": "stream",
       "stream": "stdout",
       "text": [
        "done\n"
       ]
      }
     ],
     "prompt_number": 16
    },
    {
     "cell_type": "code",
     "collapsed": false,
     "input": [
      "#read places\n",
      "\n",
      "file  = open (\"/home/iizhaki/oasis/CSE255/places.pck\")\n",
      "places = pickle.load(file)\n",
      "file.close();\n",
      "print \"done\""
     ],
     "language": "python",
     "metadata": {},
     "outputs": [
      {
       "output_type": "stream",
       "stream": "stdout",
       "text": [
        "done\n"
       ]
      }
     ],
     "prompt_number": 17
    },
    {
     "cell_type": "code",
     "collapsed": false,
     "input": [
      "#read reviews0\n",
      "\n",
      "file  = open (\"/home/iizhaki/oasis/CSE255/reviews_0.pck\")\n",
      "reviews0 = pickle.load(file)\n",
      "file.close();\n",
      "print \"done\""
     ],
     "language": "python",
     "metadata": {},
     "outputs": [
      {
       "output_type": "stream",
       "stream": "stdout",
       "text": [
        "done\n"
       ]
      }
     ],
     "prompt_number": 3
    },
    {
     "cell_type": "code",
     "collapsed": false,
     "input": [
      "#read reviews1\n",
      "\n",
      "file  = open (\"/home/iizhaki/oasis/CSE255/reviews_1.pck\")\n",
      "reviews1 = pickle.load(file)\n",
      "file.close();\n",
      "print \"done\""
     ],
     "language": "python",
     "metadata": {},
     "outputs": [
      {
       "output_type": "stream",
       "stream": "stdout",
       "text": [
        "done\n"
       ]
      }
     ],
     "prompt_number": 4
    },
    {
     "cell_type": "code",
     "collapsed": false,
     "input": [
      "#read reviews2\n",
      "\n",
      "file  = open (\"/home/iizhaki/oasis/CSE255/reviews_2.pck\")\n",
      "reviews2 = pickle.load(file)\n",
      "file.close();\n",
      "print \"done\""
     ],
     "language": "python",
     "metadata": {},
     "outputs": [
      {
       "output_type": "stream",
       "stream": "stdout",
       "text": [
        "done\n"
       ]
      }
     ],
     "prompt_number": 5
    },
    {
     "cell_type": "code",
     "collapsed": false,
     "input": [
      "reviews = reviews0+reviews1+reviews2\n",
      "\n",
      "print len(reviews)"
     ],
     "language": "python",
     "metadata": {},
     "outputs": [
      {
       "output_type": "stream",
       "stream": "stdout",
       "text": [
        "11453845\n"
       ]
      }
     ],
     "prompt_number": 6
    },
    {
     "cell_type": "code",
     "collapsed": false,
     "input": [
      "#creates a dict given the places array\n",
      "placesD =  dict()\n",
      "\n",
      "for p in places:\n",
      "    placesD[p[1]]=p"
     ],
     "language": "python",
     "metadata": {},
     "outputs": []
    },
    {
     "cell_type": "heading",
     "level": 3,
     "metadata": {},
     "source": [
      "Join reviews places"
     ]
    },
    {
     "cell_type": "code",
     "collapsed": false,
     "input": [
      "#fills the dict with the categories and rating from reviews\n",
      "for r in reviews:\n",
      "    if r[4] in placesD:\n",
      "        p = placesD[r[4]]\n",
      "        placesD[r[4]] = (p[0],p[1],p[2],p[3],set(p[4]) | set(r[1]),p[5]+r[0],p[6]+1)\n",
      "print \"done\""
     ],
     "language": "python",
     "metadata": {},
     "outputs": []
    },
    {
     "cell_type": "code",
     "collapsed": false,
     "input": [
      "#calculate Rating\n",
      "todel =[]\n",
      "for idx in placesD:\n",
      "    p = placesD[idx]\n",
      "    if (p[6]==0):\n",
      "        todel += [idx]\n",
      "    else:\n",
      "        placesD[idx] = (p[0],p[1],p[2],p[3],list(p[4]),p[5]/p[6])\n",
      "print \"done\""
     ],
     "language": "python",
     "metadata": {},
     "outputs": [
      {
       "output_type": "stream",
       "stream": "stdout",
       "text": [
        "done\n"
       ]
      }
     ],
     "prompt_number": 32
    },
    {
     "cell_type": "code",
     "collapsed": false,
     "input": [
      "placesReviews = [placesD[idx] for idx in placesD]\n",
      "len(placesReviews)"
     ],
     "language": "python",
     "metadata": {},
     "outputs": [
      {
       "metadata": {},
       "output_type": "pyout",
       "prompt_number": 35,
       "text": [
        "3087397"
       ]
      }
     ],
     "prompt_number": 35
    },
    {
     "cell_type": "code",
     "collapsed": false,
     "input": [
      "placesReviewsUS = [p for p in placesReviews if p[2][0]>=24 and p[2][0]<=49 and p[2][1]>=-128 and p[2][1]<=-47]\n",
      "len(placesReviewsUS)"
     ],
     "language": "python",
     "metadata": {},
     "outputs": [
      {
       "metadata": {},
       "output_type": "pyout",
       "prompt_number": 39,
       "text": [
        "1308838"
       ]
      }
     ],
     "prompt_number": 39
    },
    {
     "cell_type": "code",
     "collapsed": false,
     "input": [
      "placesReviewsUS = [(p[0],p[1],p[2],p[3],[w.encode('ascii','ignore') for w in p[4]   ],p[5]) for p in placesReviewsUS]\n",
      "len (placesReviewsUS)"
     ],
     "language": "python",
     "metadata": {},
     "outputs": [
      {
       "metadata": {},
       "output_type": "pyout",
       "prompt_number": 54,
       "text": [
        "1308838"
       ]
      }
     ],
     "prompt_number": 54
    },
    {
     "cell_type": "code",
     "collapsed": false,
     "input": [],
     "language": "python",
     "metadata": {},
     "outputs": [
      {
       "metadata": {},
       "output_type": "pyout",
       "prompt_number": 55,
       "text": [
        "('China Cottage',\n",
        " '106432060150136868000',\n",
        " [39.692899, -84.136173],\n",
        " 'Dayton, OH 45429',\n",
        " ['Chinese Restaurant', 'Asian Restaurant'],\n",
        " 3916)"
       ]
      }
     ],
     "prompt_number": 55
    },
    {
     "cell_type": "code",
     "collapsed": false,
     "input": [
      "print \"a\""
     ],
     "language": "python",
     "metadata": {},
     "outputs": [
      {
       "output_type": "stream",
       "stream": "stdout",
       "text": [
        "a\n"
       ]
      }
     ],
     "prompt_number": 9
    },
    {
     "cell_type": "code",
     "collapsed": false,
     "input": [
      "#save places with reviews\n",
      "file = open(\"/home/iizhaki/oasis/CSE255/placesReviews.pck\", \"w\")\n",
      "pickle.dump(placesReviews, file)\n",
      "file.close()\n",
      "print \"done\"\n"
     ],
     "language": "python",
     "metadata": {},
     "outputs": [
      {
       "output_type": "stream",
       "stream": "stdout",
       "text": [
        "done\n"
       ]
      }
     ],
     "prompt_number": 40
    },
    {
     "cell_type": "code",
     "collapsed": false,
     "input": [
      "#save places with reviews\n",
      "file = open(\"/home/iizhaki/oasis/CSE255/placesReviewsUS.pck\", \"w\")\n",
      "pickle.dump(placesReviewsUS, file)\n",
      "file.close()\n",
      "print \"done\""
     ],
     "language": "python",
     "metadata": {},
     "outputs": [
      {
       "output_type": "stream",
       "stream": "stdout",
       "text": [
        "done\n"
       ]
      }
     ],
     "prompt_number": 56
    },
    {
     "cell_type": "code",
     "collapsed": false,
     "input": [
      "#read reviewsUS\n",
      "\n",
      "file  = open (\"/home/iizhaki/oasis/CSE255/placesReviewsUS.pck\")\n",
      "placesReviewsUS = pickle.load(file)\n",
      "file.close();\n",
      "print \"done\""
     ],
     "language": "python",
     "metadata": {},
     "outputs": [
      {
       "output_type": "stream",
       "stream": "stdout",
       "text": [
        "done\n"
       ]
      }
     ],
     "prompt_number": 4
    },
    {
     "cell_type": "code",
     "collapsed": false,
     "input": [
      "file  = open (\"/home/iizhaki/oasis/CSE255/gpsUS200.pck\")\n",
      "centroids200 = pickle.load(file)\n",
      "file.close();\n",
      "print \"done\""
     ],
     "language": "python",
     "metadata": {},
     "outputs": [
      {
       "output_type": "stream",
       "stream": "stdout",
       "text": [
        "done\n"
       ]
      }
     ],
     "prompt_number": 13
    },
    {
     "cell_type": "code",
     "collapsed": false,
     "input": [
      "restaurantReviewsUS = [p for p in placesReviewsUS if [y for y in p[4] if 'RESTAURANT' in y.upper() and 'RESTAURANTE' not in y.upper()   ]!=[]]\n",
      "restaurantReviewsUS = [(p[0],p[1],p[2],p[3],[w.upper() for w in p[4]   ],p[5]) for p in restaurantReviewsUS]\n",
      "restaurantReviewsUS = [(p[0],p[1],p[2],p[3],[w  for w in p[4] if 'RESTAURANT' in w or 'BAR' in w or 'BAKERY' in w or 'FOOD' in w or 'GRILL'  in w ],p[5]) for p in restaurantReviewsUS]\n",
      "\n",
      "print len(restaurantReviewsUS) #357191\n",
      "print restaurantReviewsUS[0]"
     ],
     "language": "python",
     "metadata": {},
     "outputs": [
      {
       "output_type": "stream",
       "stream": "stdout",
       "text": [
        "357191\n",
        "(\"T C's Referee Sports Bar\", '100327153115986850675', [43.529494, -96.792244], 'Sioux Falls, SD 57106', ['SPORTS BAR', 'RESTAURANT'], 4625)\n"
       ]
      }
     ],
     "prompt_number": 63
    },
    {
     "cell_type": "code",
     "collapsed": false,
     "input": [
      "#save restaurants with reviews\n",
      "file = open(\"/home/iizhaki/oasis/CSE255/restaurantsReviewsUS.pck\", \"w\")\n",
      "pickle.dump(restaurantReviewsUS, file)\n",
      "file.close()\n",
      "print \"done\""
     ],
     "language": "python",
     "metadata": {},
     "outputs": [
      {
       "output_type": "stream",
       "stream": "stdout",
       "text": [
        "done\n"
       ]
      }
     ],
     "prompt_number": 66
    },
    {
     "cell_type": "code",
     "collapsed": false,
     "input": [
      "import pickle\n",
      "file  = open (\"/home/iizhaki/oasis/CSE255/restaurantsReviewsUS.pck\")\n",
      "restaurantReviewsUS = pickle.load(file)\n",
      "file.close();\n",
      "print \"done\"\n",
      "print len(restaurantReviewsUS) #357191"
     ],
     "language": "python",
     "metadata": {},
     "outputs": [
      {
       "output_type": "stream",
       "stream": "stdout",
       "text": [
        "done\n",
        "357191\n"
       ]
      }
     ],
     "prompt_number": 24
    },
    {
     "cell_type": "code",
     "collapsed": false,
     "input": [
      "categories[0]"
     ],
     "language": "python",
     "metadata": {},
     "outputs": [
      {
       "ename": "NameError",
       "evalue": "name 'categories' is not defined",
       "output_type": "pyerr",
       "traceback": [
        "\u001b[1;31m---------------------------------------------------------------------------\u001b[0m\n\u001b[1;31mNameError\u001b[0m                                 Traceback (most recent call last)",
        "\u001b[1;32m<ipython-input-29-02a1b52a42a0>\u001b[0m in \u001b[0;36m<module>\u001b[1;34m()\u001b[0m\n\u001b[1;32m----> 1\u001b[1;33m \u001b[0mcategories\u001b[0m\u001b[1;33m[\u001b[0m\u001b[1;36m0\u001b[0m\u001b[1;33m]\u001b[0m\u001b[1;33m\u001b[0m\u001b[0m\n\u001b[0m",
        "\u001b[1;31mNameError\u001b[0m: name 'categories' is not defined"
       ]
      }
     ],
     "prompt_number": 29
    },
    {
     "cell_type": "code",
     "collapsed": false,
     "input": [
      "categories = set ()\n",
      "for p in restaurantReviewsUS:\n",
      "    categories = categories | set ( p[4]  ) \n",
      "print len(list(categories))"
     ],
     "language": "python",
     "metadata": {},
     "outputs": [
      {
       "output_type": "stream",
       "stream": "stdout",
       "text": [
        "363\n"
       ]
      }
     ],
     "prompt_number": 7
    },
    {
     "cell_type": "code",
     "collapsed": false,
     "input": [
      "categories = list(categories)\n",
      "#save categories\n",
      "file = open(\"/home/iizhaki/oasis/CSE255/categories.pck\", \"w\")\n",
      "pickle.dump(categories, file)\n",
      "file.close()\n",
      "print \"done\""
     ],
     "language": "python",
     "metadata": {},
     "outputs": [
      {
       "output_type": "stream",
       "stream": "stdout",
       "text": [
        "done\n"
       ]
      }
     ],
     "prompt_number": 15
    },
    {
     "cell_type": "code",
     "collapsed": false,
     "input": [
      "import pickle\n",
      "file  = open (\"/home/iizhaki/oasis/CSE255/categories.pck\")\n",
      "categories = pickle.load(file)\n",
      "file.close();\n",
      "print \"done\"\n",
      "print len(categories) #363"
     ],
     "language": "python",
     "metadata": {},
     "outputs": [
      {
       "output_type": "stream",
       "stream": "stdout",
       "text": [
        "done\n",
        "363\n"
       ]
      }
     ],
     "prompt_number": 30
    },
    {
     "cell_type": "code",
     "collapsed": false,
     "input": [
      "categories = list(categories)\n",
      "matrixCategories = numpy.zeros((len(restaurantReviewsUS),len(categories)))\n",
      "i =0\n",
      "for r in restaurantReviewsUS:\n",
      "    for c in r[4]:\n",
      "        matrixCategories [i,categories.index(c)] = 1\n",
      "    i+=1\n",
      "len(matrixCategories)"
     ],
     "language": "python",
     "metadata": {},
     "outputs": [
      {
       "metadata": {},
       "output_type": "pyout",
       "prompt_number": 70,
       "text": [
        "357191"
       ]
      }
     ],
     "prompt_number": 70
    },
    {
     "cell_type": "code",
     "collapsed": false,
     "input": [
      "#save restaurants matrix\n",
      "file = open(\"/home/iizhaki/oasis/CSE255/reviewMatrix.pck\", \"w\")\n",
      "numpy.save(file,matrixCategories)\n",
      "file.close()\n",
      "print \"done\""
     ],
     "language": "python",
     "metadata": {},
     "outputs": [
      {
       "output_type": "stream",
       "stream": "stdout",
       "text": [
        "done\n"
       ]
      }
     ],
     "prompt_number": 72
    },
    {
     "cell_type": "code",
     "collapsed": false,
     "input": [
      "len(restaurantReviewsUS)"
     ],
     "language": "python",
     "metadata": {},
     "outputs": [
      {
       "metadata": {},
       "output_type": "pyout",
       "prompt_number": 71,
       "text": [
        "357191"
       ]
      }
     ],
     "prompt_number": 71
    },
    {
     "cell_type": "code",
     "collapsed": false,
     "input": [
      "reviewsY = [r[5] for r in restaurantReviewsUS]\n",
      "#save reviews\n",
      "file = open(\"/home/iizhaki/oasis/CSE255/reviewY.pck\", \"w\")\n",
      "numpy.save(file,reviewsY)\n",
      "file.close()\n",
      "print \"done\"\n"
     ],
     "language": "python",
     "metadata": {},
     "outputs": [
      {
       "output_type": "stream",
       "stream": "stdout",
       "text": [
        "done\n"
       ]
      }
     ],
     "prompt_number": 74
    },
    {
     "cell_type": "code",
     "collapsed": false,
     "input": [
      "print \"max\", max(reviewsY), \"min\", min(reviewsY), \"avg\",sum(reviewsY)/len(reviewsY)"
     ],
     "language": "python",
     "metadata": {},
     "outputs": [
      {
       "output_type": "stream",
       "stream": "stdout",
       "text": [
        " max 5000 min 1000 avg "
       ]
      },
      {
       "output_type": "stream",
       "stream": "stdout",
       "text": [
        "3858\n"
       ]
      }
     ],
     "prompt_number": 91
    },
    {
     "cell_type": "heading",
     "level": 3,
     "metadata": {},
     "source": [
      "This part of code computes KMeans clusters for GPS coordinates."
     ]
    },
    {
     "cell_type": "code",
     "collapsed": false,
     "input": [
      "GPS = [g for g in gps if g != [0, 0]]\n",
      "print len(gps), len(GPS)\n",
      "K = 1000\n",
      "kmeans = KMeans(n_clusters=K, n_jobs=-1)\n",
      "kmeans.fit(GPS)"
     ],
     "language": "python",
     "metadata": {},
     "outputs": [
      {
       "output_type": "stream",
       "stream": "stdout",
       "text": [
        "3114353 3087397\n"
       ]
      }
     ]
    },
    {
     "cell_type": "code",
     "collapsed": false,
     "input": [
      "kk = kmeans\n",
      "print type (kk)\n",
      "print len(kk.cluster_centers_)\n",
      "print [sum(kk.labels_ == i) for i in range(K)]\n",
      "print kk.cluster_centers_[3]\n",
      "print gps[0]"
     ],
     "language": "python",
     "metadata": {},
     "outputs": []
    },
    {
     "cell_type": "code",
     "collapsed": false,
     "input": [],
     "language": "python",
     "metadata": {},
     "outputs": [],
     "prompt_number": 140
    },
    {
     "cell_type": "code",
     "collapsed": false,
     "input": [],
     "language": "python",
     "metadata": {},
     "outputs": [],
     "prompt_number": 140
    },
    {
     "cell_type": "code",
     "collapsed": false,
     "input": [],
     "language": "python",
     "metadata": {},
     "outputs": [],
     "prompt_number": 140
    },
    {
     "cell_type": "heading",
     "level": 2,
     "metadata": {},
     "source": [
      "Gradient Ascend Code"
     ]
    },
    {
     "cell_type": "code",
     "collapsed": false,
     "input": [
      "import numpy as np\n",
      "import urllib\n",
      "import scipy.optimize\n",
      "import random\n",
      "from math import exp\n",
      "from math import log\n",
      "\n",
      "print \"Reading data...\"\n",
      "data = np.load(\"/home/iizhaki/oasis/CSE255/reviewFeatures.pck\")\n",
      "print \"done\"\n",
      "\n",
      "def inner(x,y):\n",
      "  return sum([x[i]*y[i] for i in range(len(x))])\n",
      "\n",
      "def sigmoid(x):\n",
      "  return 1.0 / (1 + np.exp(-x))\n",
      "\n",
      "# NEGATIVE Log-likelihood\n",
      "def f(theta, X, y, lam):\n",
      "  logit = np.dot(X, theta)\n",
      "  loglikelihood = -np.log(1 + np.exp(-logit)).sum(axis=0, dtype='float')\n",
      "  loglikelihood -= np.dot(logit, 1 - y)\n",
      "  loglikelihood -= lam * np.dot(theta, theta)\n",
      "  \n",
      "  print \"ll =\", loglikelihood\n",
      "  return -loglikelihood\n",
      "\n",
      "# NEGATIVE Derivative of log-likelihood\n",
      "def fprime(theta, X, y, lam):\n",
      "    logit = np.dot(X, theta)\n",
      "    dl = np.dot(X.T, (1 - sigmoid(logit)));\n",
      "    dl -= y_spec\n",
      "    dl -= 2 * lam * theta\n",
      "    # Negate the return value since we're doing gradient *ascent*\n",
      "    return np.array([-x for x in dl])\n",
      "\n",
      "X = data\n",
      "y = np.load(\"/home/iizhaki/oasis/CSE255/reviewY.pck\")\n",
      "\n",
      "# Training data\n",
      "X_train = X\n",
      "y_train = [(int)(ys/1000) for ys in y]\n",
      "\n",
      "# Test data\n",
      "X_test = X[1000:]\n",
      "y_test = y[1000:]\n",
      "\n",
      "#dummy = np.zeros((X_train.shape[1]))\n",
      "#y_spec = np.array([X[i] if not y_train[i] else dummy for i in range(len(X_train))]).sum(axis=0, dtype='float')\n",
      "\n",
      "#theta,l,info = scipy.optimize.fmin_l_bfgs_b(f, [0]*len(X[0]), fprime, args = (X_train, y_train, 1.0))\n",
      "#print theta.shape\n",
      "#print \"Final log likelihood =\", -l"
     ],
     "language": "python",
     "metadata": {},
     "outputs": []
    },
    {
     "cell_type": "code",
     "collapsed": false,
     "input": [
      "print \"Reading data...\"\n",
      "data = np.load(\"/home/iizhaki/oasis/CSE255/reviewFeatures.pck\")\n",
      "print \"done\"\n",
      "\n",
      "X = data\n",
      "y = np.load(\"/home/iizhaki/oasis/CSE255/reviewY.pck\")\n"
     ],
     "language": "python",
     "metadata": {},
     "outputs": [
      {
       "output_type": "stream",
       "stream": "stdout",
       "text": [
        "Reading data...\n",
        "done"
       ]
      },
      {
       "output_type": "stream",
       "stream": "stdout",
       "text": [
        "\n"
       ]
      }
     ],
     "prompt_number": 86
    },
    {
     "cell_type": "code",
     "collapsed": false,
     "input": [
      "thetax,residualsx,rankx,sx = numpy.linalg.lstsq(X, y)"
     ],
     "language": "python",
     "metadata": {},
     "outputs": [],
     "prompt_number": 87
    },
    {
     "cell_type": "code",
     "collapsed": false,
     "input": [
      "def predict(data, theta):\n",
      "    theta = numpy.matrix(theta)\n",
      "    prediction = [theta*numpy.matrix(d).T  for d in data]\n",
      "    return prediction\n",
      "\n",
      "prediction_training = predict(X, thetax)\n",
      "\n",
      "def MSE(prediction, real):\n",
      "    squares = [ (p - r)**2 for p,r in zip (prediction,real) ]\n",
      "    return numpy.mean(squares)\n",
      "\n",
      "\n",
      "print \" MSE training\", MSE(prediction_training, y )\n",
      "#absolute error 658.914905107"
     ],
     "language": "python",
     "metadata": {},
     "outputs": [
      {
       "ename": "NameError",
       "evalue": "name 'thetax' is not defined",
       "output_type": "pyerr",
       "traceback": [
        "\u001b[1;31m---------------------------------------------------------------------------\u001b[0m\n\u001b[1;31mNameError\u001b[0m                                 Traceback (most recent call last)",
        "\u001b[1;32m<ipython-input-25-da0c0bce89d0>\u001b[0m in \u001b[0;36m<module>\u001b[1;34m()\u001b[0m\n\u001b[0;32m      4\u001b[0m     \u001b[1;32mreturn\u001b[0m \u001b[0mprediction\u001b[0m\u001b[1;33m\u001b[0m\u001b[0m\n\u001b[0;32m      5\u001b[0m \u001b[1;33m\u001b[0m\u001b[0m\n\u001b[1;32m----> 6\u001b[1;33m \u001b[0mprediction_training\u001b[0m \u001b[1;33m=\u001b[0m \u001b[0mpredict\u001b[0m\u001b[1;33m(\u001b[0m\u001b[0mX\u001b[0m\u001b[1;33m,\u001b[0m \u001b[0mthetax\u001b[0m\u001b[1;33m)\u001b[0m\u001b[1;33m\u001b[0m\u001b[0m\n\u001b[0m\u001b[0;32m      7\u001b[0m \u001b[1;33m\u001b[0m\u001b[0m\n\u001b[0;32m      8\u001b[0m \u001b[1;32mdef\u001b[0m \u001b[0mMSE\u001b[0m\u001b[1;33m(\u001b[0m\u001b[0mprediction\u001b[0m\u001b[1;33m,\u001b[0m \u001b[0mreal\u001b[0m\u001b[1;33m)\u001b[0m\u001b[1;33m:\u001b[0m\u001b[1;33m\u001b[0m\u001b[0m\n",
        "\u001b[1;31mNameError\u001b[0m: name 'thetax' is not defined"
       ]
      }
     ],
     "prompt_number": 25
    },
    {
     "cell_type": "code",
     "collapsed": false,
     "input": [
      "print prediction_training[1],\", \", y[1]"
     ],
     "language": "python",
     "metadata": {},
     "outputs": [
      {
       "output_type": "stream",
       "stream": "stdout",
       "text": [
        "[[ 3802.62044907]] ,  3558\n"
       ]
      }
     ],
     "prompt_number": 100
    },
    {
     "cell_type": "code",
     "collapsed": false,
     "input": [
      "avg = [sum(y)*1.0/len(y)] * len(y)\n",
      "\n",
      "print \" MSE training\", MSE(avg, y )\n",
      "#MSE training 686.400936754"
     ],
     "language": "python",
     "metadata": {},
     "outputs": [
      {
       "output_type": "stream",
       "stream": "stdout",
       "text": [
        " MSE training "
       ]
      },
      {
       "output_type": "stream",
       "stream": "stdout",
       "text": [
        "770393.021789\n"
       ]
      }
     ],
     "prompt_number": 90
    },
    {
     "cell_type": "code",
     "collapsed": false,
     "input": [
      "719823.238065/770393.021789"
     ],
     "language": "python",
     "metadata": {},
     "outputs": [
      {
       "metadata": {},
       "output_type": "pyout",
       "prompt_number": 91,
       "text": [
        "0.9343584608196901"
       ]
      }
     ],
     "prompt_number": 91
    },
    {
     "cell_type": "code",
     "collapsed": false,
     "input": [
      "print np.array([X[:,0]]).shape\n",
      "print np.array(X[:,301:]).shape\n",
      "Xx = np.concatenate((np.array([X[:,0]]).T,X[:,301:]), axis =1)"
     ],
     "language": "python",
     "metadata": {},
     "outputs": [
      {
       "output_type": "stream",
       "stream": "stdout",
       "text": [
        "(1, 357191)\n",
        "(357191, 363)"
       ]
      },
      {
       "output_type": "stream",
       "stream": "stdout",
       "text": [
        "\n"
       ]
      }
     ],
     "prompt_number": 128
    },
    {
     "cell_type": "code",
     "collapsed": false,
     "input": [
      "Xx[:,0]"
     ],
     "language": "python",
     "metadata": {},
     "outputs": [
      {
       "metadata": {},
       "output_type": "pyout",
       "prompt_number": 132,
       "text": [
        "array([ 1.,  1.,  1., ...,  1.,  1.,  1.])"
       ]
      }
     ],
     "prompt_number": 132
    },
    {
     "cell_type": "code",
     "collapsed": false,
     "input": [
      "thetax,residualsx,rankx,sx = numpy.linalg.lstsq(Xx, y)"
     ],
     "language": "python",
     "metadata": {},
     "outputs": [],
     "prompt_number": 133
    },
    {
     "cell_type": "code",
     "collapsed": false,
     "input": [],
     "language": "python",
     "metadata": {},
     "outputs": [],
     "prompt_number": 140
    },
    {
     "cell_type": "code",
     "collapsed": false,
     "input": [
      "def predict(data, theta):\n",
      "    theta = numpy.matrix(theta)\n",
      "    prediction = [theta*numpy.matrix(d).T  for d in data]\n",
      "    return prediction\n",
      "\n",
      "prediction_trainingx = predict(Xx, thetax)\n",
      "\n",
      "def MSE(prediction, real):\n",
      "    squares = [ (p - r)**2 for p,r in zip (prediction,real) ]\n",
      "    return numpy.mean(squares)\n",
      "\n",
      "\n",
      "print \" MSE training\", MSE(prediction_trainingx, y )"
     ],
     "language": "python",
     "metadata": {},
     "outputs": [
      {
       "output_type": "stream",
       "stream": "stdout",
       "text": [
        " MSE training "
       ]
      },
      {
       "output_type": "stream",
       "stream": "stdout",
       "text": [
        "661.22571362\n"
       ]
      }
     ],
     "prompt_number": 135
    },
    {
     "cell_type": "code",
     "collapsed": false,
     "input": [
      "restaurantReviewsUS[0]"
     ],
     "language": "python",
     "metadata": {},
     "outputs": [
      {
       "metadata": {},
       "output_type": "pyout",
       "prompt_number": 136,
       "text": [
        "(\"T C's Referee Sports Bar\",\n",
        " '100327153115986850675',\n",
        " [43.529494, -96.792244],\n",
        " 'Sioux Falls, SD 57106',\n",
        " ['SPORTS BAR', 'RESTAURANT'],\n",
        " 4625)"
       ]
      }
     ],
     "prompt_number": 136
    },
    {
     "cell_type": "code",
     "collapsed": false,
     "input": [
      "len(reviews)"
     ],
     "language": "python",
     "metadata": {},
     "outputs": [
      {
       "metadata": {},
       "output_type": "pyout",
       "prompt_number": 49,
       "text": [
        "2157302"
       ]
      }
     ],
     "prompt_number": 49
    },
    {
     "cell_type": "code",
     "collapsed": false,
     "input": [
      "len(restaurantReviewsUS)"
     ],
     "language": "python",
     "metadata": {},
     "outputs": [
      {
       "metadata": {},
       "output_type": "pyout",
       "prompt_number": 140,
       "text": [
        "357191"
       ]
      }
     ],
     "prompt_number": 140
    },
    {
     "cell_type": "code",
     "collapsed": false,
     "input": [
      "reviews1[0]"
     ],
     "language": "python",
     "metadata": {},
     "outputs": [
      {
       "metadata": {},
       "output_type": "pyout",
       "prompt_number": 146,
       "text": [
        "(4000,\n",
        " [u'Shopping Mall'],\n",
        " '',\n",
        " '105753474075712443583',\n",
        " '118294895653644676616')"
       ]
      }
     ],
     "prompt_number": 146
    },
    {
     "cell_type": "code",
     "collapsed": false,
     "input": [
      "reviews1[0:5]"
     ],
     "language": "python",
     "metadata": {},
     "outputs": [
      {
       "ename": "NameError",
       "evalue": "name 'reviews1' is not defined",
       "output_type": "pyerr",
       "traceback": [
        "\u001b[1;31m---------------------------------------------------------------------------\u001b[0m\n\u001b[1;31mNameError\u001b[0m                                 Traceback (most recent call last)",
        "\u001b[1;32m<ipython-input-1-f11bbb8e780c>\u001b[0m in \u001b[0;36m<module>\u001b[1;34m()\u001b[0m\n\u001b[1;32m----> 1\u001b[1;33m \u001b[0mreviews1\u001b[0m\u001b[1;33m[\u001b[0m\u001b[1;36m0\u001b[0m\u001b[1;33m:\u001b[0m\u001b[1;36m5\u001b[0m\u001b[1;33m]\u001b[0m\u001b[1;33m\u001b[0m\u001b[0m\n\u001b[0m",
        "\u001b[1;31mNameError\u001b[0m: name 'reviews1' is not defined"
       ]
      }
     ],
     "prompt_number": 1
    },
    {
     "cell_type": "code",
     "collapsed": false,
     "input": [
      "len(categories)"
     ],
     "language": "python",
     "metadata": {},
     "outputs": [
      {
       "metadata": {},
       "output_type": "pyout",
       "prompt_number": 17,
       "text": [
        "363"
       ]
      }
     ],
     "prompt_number": 17
    },
    {
     "cell_type": "heading",
     "level": 3,
     "metadata": {},
     "source": [
      "Reviews of the US"
     ]
    },
    {
     "cell_type": "code",
     "collapsed": false,
     "input": [
      "#creates a dict given the reviews Restaurants array\n",
      "placesD =  dict()\n",
      "\n",
      "for p in restaurantReviewsUS:\n",
      "    placesD[p[1]]=p\n",
      "print \"Done\""
     ],
     "language": "python",
     "metadata": {},
     "outputs": [
      {
       "output_type": "stream",
       "stream": "stdout",
       "text": [
        "Done\n"
       ]
      }
     ],
     "prompt_number": 4
    },
    {
     "cell_type": "code",
     "collapsed": false,
     "input": [
      "print len(placesD)"
     ],
     "language": "python",
     "metadata": {},
     "outputs": [
      {
       "output_type": "stream",
       "stream": "stdout",
       "text": [
        "357191\n"
       ]
      }
     ],
     "prompt_number": 133
    },
    {
     "cell_type": "code",
     "collapsed": false,
     "input": [
      "#reviews of restaurants in the US\n",
      "\n",
      "reviews = [r for r in reviews if r[4] in placesD]\n",
      "print len(reviews)#2157302\n",
      "print \"Done\""
     ],
     "language": "python",
     "metadata": {},
     "outputs": [
      {
       "output_type": "stream",
       "stream": "stdout",
       "text": [
        "2157302\n",
        "Done\n"
       ]
      }
     ],
     "prompt_number": 14
    },
    {
     "cell_type": "code",
     "collapsed": false,
     "input": [
      "reviews = [r for r in reviews if r[3] in usersD]\n",
      "print len(reviews)#1610014\n",
      "print \"Done\""
     ],
     "language": "python",
     "metadata": {},
     "outputs": [
      {
       "output_type": "stream",
       "stream": "stdout",
       "text": [
        "1610014\n",
        "Done\n"
       ]
      }
     ],
     "prompt_number": 15
    },
    {
     "cell_type": "code",
     "collapsed": false,
     "input": [
      "print len(reviews)#1610014"
     ],
     "language": "python",
     "metadata": {},
     "outputs": [
      {
       "ename": "NameError",
       "evalue": "name 'reviews' is not defined",
       "output_type": "pyerr",
       "traceback": [
        "\u001b[1;31m---------------------------------------------------------------------------\u001b[0m\n\u001b[1;31mNameError\u001b[0m                                 Traceback (most recent call last)",
        "\u001b[1;32m<ipython-input-5-6948c29511b4>\u001b[0m in \u001b[0;36m<module>\u001b[1;34m()\u001b[0m\n\u001b[1;32m----> 1\u001b[1;33m \u001b[1;32mprint\u001b[0m \u001b[0mlen\u001b[0m\u001b[1;33m(\u001b[0m\u001b[0mreviews\u001b[0m\u001b[1;33m)\u001b[0m\u001b[1;31m#1610014\u001b[0m\u001b[1;33m\u001b[0m\u001b[0m\n\u001b[0m",
        "\u001b[1;31mNameError\u001b[0m: name 'reviews' is not defined"
       ]
      }
     ],
     "prompt_number": 5
    },
    {
     "cell_type": "code",
     "collapsed": false,
     "input": [
      "#save reviews\n",
      "file = open(\"/home/iizhaki/oasis/CSE255/reviewsUS.pck\", \"w\")\n",
      "pickle.dump(reviews, file)\n",
      "file.close()\n",
      "print len(reviews)#1610014\n",
      "print \"done\""
     ],
     "language": "python",
     "metadata": {},
     "outputs": [
      {
       "output_type": "stream",
       "stream": "stdout",
       "text": [
        "1610014\n",
        "done\n"
       ]
      }
     ],
     "prompt_number": 16
    },
    {
     "cell_type": "code",
     "collapsed": false,
     "input": [
      "#load reviews US with users\n",
      "file = open(\"/home/iizhaki/oasis/CSE255/reviewsUS.pck\")\n",
      "reviews = pickle.load( file)\n",
      "file.close()\n",
      "print len(reviews)#1610014\n",
      "print \"done\""
     ],
     "language": "python",
     "metadata": {},
     "outputs": [
      {
       "output_type": "stream",
       "stream": "stdout",
       "text": [
        "1610014\n",
        "done\n"
       ]
      }
     ],
     "prompt_number": 5
    },
    {
     "cell_type": "code",
     "collapsed": false,
     "input": [
      "len(usersD)"
     ],
     "language": "python",
     "metadata": {},
     "outputs": [
      {
       "metadata": {},
       "output_type": "pyout",
       "prompt_number": 140,
       "text": [
        "3747937"
       ]
      }
     ],
     "prompt_number": 140
    },
    {
     "cell_type": "code",
     "collapsed": false,
     "input": [
      "len(reviews)"
     ],
     "language": "python",
     "metadata": {},
     "outputs": [
      {
       "metadata": {},
       "output_type": "pyout",
       "prompt_number": 134,
       "text": [
        "1610014"
       ]
      }
     ],
     "prompt_number": 134
    },
    {
     "cell_type": "code",
     "collapsed": false,
     "input": [
      "categories = list(categories)\n",
      "usersDD = dict()\n",
      "for r in reviews:\n",
      "    if r[4] in placesD: #places\n",
      "        if r[3] in usersD: #user\n",
      "            p = placesD[r[4]]\n",
      "            u = usersD[r[3]]\n",
      "            sum   =  list(u[1])\n",
      "            count =  list(u[2])\n",
      "            for c in p[4]:\n",
      "                if c in categories:\n",
      "                    idx = categories.index(c)\n",
      "                    sum[idx]   += r[0]\n",
      "                    count[idx] += 1\n",
      "            usersDD[r[3]] = (u[0],sum,count)\n",
      "print \"Done\""
     ],
     "language": "python",
     "metadata": {},
     "outputs": [
      {
       "output_type": "stream",
       "stream": "stdout",
       "text": [
        "Done\n"
       ]
      }
     ],
     "prompt_number": 141
    },
    {
     "cell_type": "code",
     "collapsed": false,
     "input": [
      "len(usersDD)"
     ],
     "language": "python",
     "metadata": {},
     "outputs": [
      {
       "metadata": {},
       "output_type": "pyout",
       "prompt_number": 11,
       "text": [
        "692157"
       ]
      }
     ],
     "prompt_number": 11
    },
    {
     "cell_type": "code",
     "collapsed": false,
     "input": [
      "del usersD"
     ],
     "language": "python",
     "metadata": {},
     "outputs": [],
     "prompt_number": 146
    },
    {
     "cell_type": "code",
     "collapsed": false,
     "input": [
      "#save usersDD\n",
      "file = open(\"/home/iizhaki/oasis/CSE255/usersDD.pck\", \"w\")\n",
      "pickle.dump(usersDD, file)\n",
      "file.close()\n",
      "print \"done\""
     ],
     "language": "python",
     "metadata": {},
     "outputs": [
      {
       "output_type": "stream",
       "stream": "stdout",
       "text": [
        "done\n"
       ]
      }
     ],
     "prompt_number": 72
    },
    {
     "cell_type": "code",
     "collapsed": false,
     "input": [
      "#load usersDD\n",
      "file = open(\"/home/iizhaki/oasis/CSE255/usersDD.pck\")\n",
      "usersDD = pickle.load( file)\n",
      "file.close()\n",
      "print \"done\""
     ],
     "language": "python",
     "metadata": {},
     "outputs": [
      {
       "output_type": "stream",
       "stream": "stdout",
       "text": [
        "done\n"
       ]
      }
     ],
     "prompt_number": 10
    },
    {
     "cell_type": "code",
     "collapsed": false,
     "input": [
      "len (list(usersDD))"
     ],
     "language": "python",
     "metadata": {},
     "outputs": [
      {
       "metadata": {},
       "output_type": "pyout",
       "prompt_number": 126,
       "text": [
        "153241"
       ]
      }
     ],
     "prompt_number": 126
    },
    {
     "cell_type": "code",
     "collapsed": false,
     "input": [
      "#calculate rank\n",
      "for u in usersDD:\n",
      "    us = usersDD[u]\n",
      "    rank = []\n",
      "    for i in range(len(us[1])):\n",
      "        if us[2][i]!=0:\n",
      "            rank += [us[1][i]/us[2][i]]\n",
      "        else:\n",
      "            rank += [0]\n",
      "    usersDD[u] = (u,us[0],rank)"
     ],
     "language": "python",
     "metadata": {},
     "outputs": [],
     "prompt_number": 147
    },
    {
     "cell_type": "code",
     "collapsed": false,
     "input": [
      "len(usersDD)"
     ],
     "language": "python",
     "metadata": {},
     "outputs": [
      {
       "metadata": {},
       "output_type": "pyout",
       "prompt_number": 148,
       "text": [
        "692157"
       ]
      }
     ],
     "prompt_number": 148
    },
    {
     "cell_type": "code",
     "collapsed": false,
     "input": [
      "#save usersDD\n",
      "file = open(\"/home/iizhaki/oasis/CSE255/usersDD.pck\", \"w\")\n",
      "pickle.dump(usersDD, file)\n",
      "file.close()\n",
      "print \"done\""
     ],
     "language": "python",
     "metadata": {},
     "outputs": [
      {
       "output_type": "stream",
       "stream": "stdout",
       "text": [
        "done\n"
       ]
      }
     ],
     "prompt_number": 149
    },
    {
     "cell_type": "code",
     "collapsed": false,
     "input": [
      "\n",
      "u= [usersDD[sd] for sd in usersDD[:10]]\n",
      "u[0]"
     ],
     "language": "python",
     "metadata": {},
     "outputs": [
      {
       "ename": "TypeError",
       "evalue": "unhashable type",
       "output_type": "pyerr",
       "traceback": [
        "\u001b[1;31m---------------------------------------------------------------------------\u001b[0m\n\u001b[1;31mTypeError\u001b[0m                                 Traceback (most recent call last)",
        "\u001b[1;32m<ipython-input-62-73399bb3b8fb>\u001b[0m in \u001b[0;36m<module>\u001b[1;34m()\u001b[0m\n\u001b[1;32m----> 1\u001b[1;33m \u001b[0mu\u001b[0m\u001b[1;33m=\u001b[0m \u001b[1;33m[\u001b[0m\u001b[0musersDD\u001b[0m\u001b[1;33m[\u001b[0m\u001b[0msd\u001b[0m\u001b[1;33m]\u001b[0m \u001b[1;32mfor\u001b[0m \u001b[0msd\u001b[0m \u001b[1;32min\u001b[0m \u001b[0musersDD\u001b[0m\u001b[1;33m[\u001b[0m\u001b[1;33m:\u001b[0m\u001b[1;36m10\u001b[0m\u001b[1;33m]\u001b[0m\u001b[1;33m]\u001b[0m\u001b[1;33m\u001b[0m\u001b[0m\n\u001b[0m\u001b[0;32m      2\u001b[0m \u001b[0mu\u001b[0m\u001b[1;33m[\u001b[0m\u001b[1;36m0\u001b[0m\u001b[1;33m]\u001b[0m\u001b[1;33m\u001b[0m\u001b[0m\n",
        "\u001b[1;31mTypeError\u001b[0m: unhashable type"
       ]
      }
     ],
     "prompt_number": 62
    },
    {
     "cell_type": "code",
     "collapsed": false,
     "input": [
      "ur = [r for r in reviews if  r[3] =='106887711560311804886'] "
     ],
     "language": "python",
     "metadata": {},
     "outputs": [],
     "prompt_number": 39
    },
    {
     "cell_type": "code",
     "collapsed": false,
     "input": [
      "len(reviews)"
     ],
     "language": "python",
     "metadata": {},
     "outputs": [
      {
       "metadata": {},
       "output_type": "pyout",
       "prompt_number": 19,
       "text": [
        "1610014"
       ]
      }
     ],
     "prompt_number": 19
    },
    {
     "cell_type": "code",
     "collapsed": false,
     "input": [
      "#len of reviews most be 1610014 \n",
      "K=300\n",
      "matrixC= []\n",
      "rankingY = []\n",
      "for r in reviews:\n",
      "    if r[3] in usersDD: #user\n",
      "        l = locationD[r[4]]\n",
      "        locs = list(l) #location or Rest\n",
      "        p = placesD[r[4]]\n",
      "        positive \n",
      "        if r[4] in positive:\n",
      "            pos = list(positive[r[4]])\n",
      "        else:\n",
      "            pos = [0] * 50\n",
      "        negative\n",
      "        if r[4] in negative:\n",
      "            neg = list(negative[r[4]])\n",
      "        else:\n",
      "            neg = [0] * 50\n",
      "        \n",
      "        #categories\n",
      "        cats = [0] * len(categories)\n",
      "        for c in p[4]:\n",
      "            cats [categories.index(c)] = 1\n",
      "        u = usersDD[r[3]]\n",
      "    \n",
      "        #alpha + location + avg review + categories + user info\n",
      "        matrixC.append ( [1] + locs + [p[5]] + cats + pos + neg +  u[2])\n",
      "        rankingY.append (r[0])\n",
      "print \"Done\"\n",
      "print len(matrixC)\n"
     ],
     "language": "python",
     "metadata": {},
     "outputs": [
      {
       "output_type": "stream",
       "stream": "stdout",
       "text": [
        "Done\n",
        "1610014\n"
       ]
      }
     ],
     "prompt_number": 16
    },
    {
     "cell_type": "code",
     "collapsed": false,
     "input": [
      "len(matrixC[0])"
     ],
     "language": "python",
     "metadata": {},
     "outputs": [
      {
       "metadata": {},
       "output_type": "pyout",
       "prompt_number": 17,
       "text": [
        "1128"
       ]
      }
     ],
     "prompt_number": 17
    },
    {
     "cell_type": "code",
     "collapsed": false,
     "input": [
      "del usersDD"
     ],
     "language": "python",
     "metadata": {},
     "outputs": [],
     "prompt_number": 35
    },
    {
     "cell_type": "code",
     "collapsed": false,
     "input": [
      "import numpy as np\n",
      "#save  matrix\n",
      "file = open(\"/home/iizhaki/oasis/CSE255/MatrixD.pck\", \"w\")\n",
      "np.save(file,matrix)\n",
      "file.close()\n",
      "print \"done\""
     ],
     "language": "python",
     "metadata": {},
     "outputs": [
      {
       "output_type": "stream",
       "stream": "stdout",
       "text": [
        "done\n"
       ]
      }
     ],
     "prompt_number": 121
    },
    {
     "cell_type": "code",
     "collapsed": false,
     "input": [
      "#save y\n",
      "file = open(\"/home/iizhaki/oasis/CSE255/YsD.pck\", \"w\")\n",
      "np.save(file,rankingR)\n",
      "file.close()\n",
      "print \"done\""
     ],
     "language": "python",
     "metadata": {},
     "outputs": [
      {
       "output_type": "stream",
       "stream": "stdout",
       "text": [
        "done\n"
       ]
      }
     ],
     "prompt_number": 123
    },
    {
     "cell_type": "code",
     "collapsed": false,
     "input": [
      "import numpy as np\n",
      "#save  matrix\n",
      "matrix = np.load(\"/home/iizhaki/oasis/CSE255/MatrixD.pck\")\n",
      "print \"done\"\n",
      "#save y\n",
      "rankingR = np.load(\"/home/iizhaki/oasis/CSE255/YsD.pck\")\n",
      "\n",
      "print \"done\""
     ],
     "language": "python",
     "metadata": {},
     "outputs": [
      {
       "output_type": "stream",
       "stream": "stdout",
       "text": [
        "done\n",
        "done"
       ]
      },
      {
       "output_type": "stream",
       "stream": "stdout",
       "text": [
        "\n"
       ]
      }
     ],
     "prompt_number": 3
    },
    {
     "cell_type": "code",
     "collapsed": false,
     "input": [
      "m0 = matrixC[:500000]"
     ],
     "language": "python",
     "metadata": {},
     "outputs": [],
     "prompt_number": 26
    },
    {
     "cell_type": "code",
     "collapsed": false,
     "input": [
      "import numpy as np\n",
      "#save  matrix\n",
      "file = open(\"/home/iizhaki/oasis/CSE255/MatrixwWords0.pck\", \"w\")\n",
      "np.save (file,m0)\n",
      "#pickle.dump(matrixC, file)\n",
      "file.close()\n",
      "print \"done\"\n"
     ],
     "language": "python",
     "metadata": {},
     "outputs": [
      {
       "output_type": "stream",
       "stream": "stdout",
       "text": [
        "done\n"
       ]
      }
     ],
     "prompt_number": 27
    },
    {
     "cell_type": "code",
     "collapsed": false,
     "input": [
      "m1 = matrixC[500000:1000000]\n",
      "import numpy as np\n",
      "#save  matrix\n",
      "file = open(\"/home/iizhaki/oasis/CSE255/MatrixwWords1.pck\", \"w\")\n",
      "np.save (file,m1)\n",
      "#pickle.dump(matrixC, file)\n",
      "file.close()\n",
      "print \"done\""
     ],
     "language": "python",
     "metadata": {},
     "outputs": [
      {
       "output_type": "stream",
       "stream": "stdout",
       "text": [
        "done\n"
       ]
      }
     ],
     "prompt_number": 28
    },
    {
     "cell_type": "code",
     "collapsed": false,
     "input": [
      "m2 = matrixC[1000000:]\n",
      "import numpy as np\n",
      "#save  matrix\n",
      "file = open(\"/home/iizhaki/oasis/CSE255/MatrixwWords2.pck\", \"w\")\n",
      "np.save (file,m2)\n",
      "#pickle.dump(matrixC, file)\n",
      "file.close()\n",
      "print \"done\""
     ],
     "language": "python",
     "metadata": {},
     "outputs": [
      {
       "output_type": "stream",
       "stream": "stdout",
       "text": [
        "done\n"
       ]
      }
     ],
     "prompt_number": 29
    },
    {
     "cell_type": "code",
     "collapsed": false,
     "input": [
      "print \"Reading data...\"\n",
      "m0 = np.load(\"/home/iizhaki/oasis/CSE255/MatrixwWords0.pck\")\n",
      "print \"done\"\n",
      "print \"Reading data...\"\n",
      "m1 = np.load(\"/home/iizhaki/oasis/CSE255/MatrixwWords1.pck\")\n",
      "print \"done\"\n",
      "print \"Reading data...\"\n",
      "m2 = np.load(\"/home/iizhaki/oasis/CSE255/MatrixwWords2.pck\")\n",
      "print \"done\"\n"
     ],
     "language": "python",
     "metadata": {},
     "outputs": [
      {
       "output_type": "stream",
       "stream": "stdout",
       "text": [
        "Reading data...\n",
        "done"
       ]
      },
      {
       "output_type": "stream",
       "stream": "stdout",
       "text": [
        "\n",
        "Reading data...\n",
        "done"
       ]
      },
      {
       "output_type": "stream",
       "stream": "stdout",
       "text": [
        "\n",
        "Reading data...\n",
        "done"
       ]
      },
      {
       "output_type": "stream",
       "stream": "stdout",
       "text": [
        "\n"
       ]
      }
     ],
     "prompt_number": 1
    },
    {
     "cell_type": "code",
     "collapsed": false,
     "input": [
      "len(m0)+len(m1)+len(m2)\n",
      "matrixC= numpy.vstack((m0,m1,m2))\n",
      "print len(matrixC)"
     ],
     "language": "python",
     "metadata": {},
     "outputs": [
      {
       "output_type": "stream",
       "stream": "stdout",
       "text": [
        "1610014\n"
       ]
      }
     ],
     "prompt_number": 5
    },
    {
     "cell_type": "code",
     "collapsed": false,
     "input": [
      "type (matrixC)"
     ],
     "language": "python",
     "metadata": {},
     "outputs": [
      {
       "metadata": {},
       "output_type": "pyout",
       "prompt_number": 6,
       "text": [
        "numpy.ndarray"
       ]
      }
     ],
     "prompt_number": 6
    },
    {
     "cell_type": "code",
     "collapsed": false,
     "input": [
      "#save y\n",
      "file = open(\"/home/iizhaki/oasis/CSE255/YwWords.pck\", \"w\")\n",
      "np.save(file,rankingY)\n",
      "file.close()\n",
      "print \"done\""
     ],
     "language": "python",
     "metadata": {},
     "outputs": [
      {
       "output_type": "stream",
       "stream": "stdout",
       "text": [
        "done\n"
       ]
      }
     ],
     "prompt_number": 33
    },
    {
     "cell_type": "code",
     "collapsed": false,
     "input": [
      "\n",
      "#load y\n",
      "rankingY = np.load(\"/home/iizhaki/oasis/CSE255/YwWords.pck\")\n",
      "print len(rankingY)\n",
      "print \"done\""
     ],
     "language": "python",
     "metadata": {},
     "outputs": [
      {
       "output_type": "stream",
       "stream": "stdout",
       "text": [
        "done\n"
       ]
      }
     ],
     "prompt_number": 7
    },
    {
     "cell_type": "code",
     "collapsed": false,
     "input": [
      "print len(rankingY)"
     ],
     "language": "python",
     "metadata": {},
     "outputs": [
      {
       "output_type": "stream",
       "stream": "stdout",
       "text": [
        "1610014\n"
       ]
      }
     ],
     "prompt_number": 8
    },
    {
     "cell_type": "code",
     "collapsed": false,
     "input": [
      "print \"Reading data...\"\n",
      "mdata = np.load(\"/home/iizhaki/oasis/CSE255/reviewFeatures.pck\")\n",
      "print \"done\""
     ],
     "language": "python",
     "metadata": {},
     "outputs": [
      {
       "output_type": "stream",
       "stream": "stdout",
       "text": [
        "Reading data...\n",
        "done"
       ]
      },
      {
       "output_type": "stream",
       "stream": "stdout",
       "text": [
        "\n"
       ]
      }
     ],
     "prompt_number": 6
    },
    {
     "cell_type": "code",
     "collapsed": false,
     "input": [
      "len( matrixC)"
     ],
     "language": "python",
     "metadata": {},
     "outputs": [
      {
       "metadata": {},
       "output_type": "pyout",
       "prompt_number": 25,
       "text": [
        "1610014"
       ]
      }
     ],
     "prompt_number": 25
    },
    {
     "cell_type": "code",
     "collapsed": false,
     "input": [
      "mdata = mdata[:,1:301]\n",
      "\n",
      "#creates a dict given the reviews Restaurants array\n",
      "locationD =  dict()\n",
      "\n",
      "for i in range(len(restaurantReviewsUS)):\n",
      "    locationD[restaurantReviewsUS[i][1]]=list(mdata[i])\n",
      "print \"Done\""
     ],
     "language": "python",
     "metadata": {},
     "outputs": [
      {
       "output_type": "stream",
       "stream": "stdout",
       "text": [
        "Done\n"
       ]
      }
     ],
     "prompt_number": 7
    },
    {
     "cell_type": "code",
     "collapsed": false,
     "input": [
      "len(locationD)"
     ],
     "language": "python",
     "metadata": {},
     "outputs": [
      {
       "metadata": {},
       "output_type": "pyout",
       "prompt_number": 9,
       "text": [
        "357191"
       ]
      }
     ],
     "prompt_number": 9
    },
    {
     "cell_type": "code",
     "collapsed": false,
     "input": [
      "del mdata"
     ],
     "language": "python",
     "metadata": {},
     "outputs": [],
     "prompt_number": 8
    },
    {
     "cell_type": "code",
     "collapsed": false,
     "input": [
      "\n",
      "theta,residuals,rank,s = numpy.linalg.lstsq(matrix, rankingR)"
     ],
     "language": "python",
     "metadata": {},
     "outputs": []
    },
    {
     "cell_type": "code",
     "collapsed": false,
     "input": [
      "print 2"
     ],
     "language": "python",
     "metadata": {},
     "outputs": [
      {
       "output_type": "stream",
       "stream": "stdout",
       "text": [
        "2\n"
       ]
      }
     ],
     "prompt_number": 34
    },
    {
     "cell_type": "code",
     "collapsed": false,
     "input": [
      "len(rankingR)"
     ],
     "language": "python",
     "metadata": {},
     "outputs": [
      {
       "metadata": {},
       "output_type": "pyout",
       "prompt_number": 38,
       "text": [
        "1610014"
       ]
      }
     ],
     "prompt_number": 38
    },
    {
     "cell_type": "code",
     "collapsed": false,
     "input": [
      "np.matrix(theta)"
     ],
     "language": "python",
     "metadata": {},
     "outputs": [
      {
       "metadata": {},
       "output_type": "pyout",
       "prompt_number": 50,
       "text": [
        "matrix([[  2.48550859e+10,  -2.48550859e+10,  -2.48550859e+10, ...,\n",
        "           1.25411987e-01,   0.00000000e+00,   1.39045715e-01]])"
       ]
      }
     ],
     "prompt_number": 50
    },
    {
     "cell_type": "code",
     "collapsed": false,
     "input": [
      "len (np.matrix[0])"
     ],
     "language": "python",
     "metadata": {},
     "outputs": [
      {
       "ename": "TypeError",
       "evalue": "'type' object has no attribute '__getitem__'",
       "output_type": "pyerr",
       "traceback": [
        "\u001b[1;31m---------------------------------------------------------------------------\u001b[0m\n\u001b[1;31mTypeError\u001b[0m                                 Traceback (most recent call last)",
        "\u001b[1;32m<ipython-input-49-50ab403e15fb>\u001b[0m in \u001b[0;36m<module>\u001b[1;34m()\u001b[0m\n\u001b[1;32m----> 1\u001b[1;33m \u001b[0mlen\u001b[0m \u001b[1;33m(\u001b[0m\u001b[0mnp\u001b[0m\u001b[1;33m.\u001b[0m\u001b[0mmatrix\u001b[0m\u001b[1;33m[\u001b[0m\u001b[1;36m0\u001b[0m\u001b[1;33m]\u001b[0m\u001b[1;33m)\u001b[0m\u001b[1;33m\u001b[0m\u001b[0m\n\u001b[0m",
        "\u001b[1;31mTypeError\u001b[0m: 'type' object has no attribute '__getitem__'"
       ]
      }
     ],
     "prompt_number": 49
    },
    {
     "cell_type": "code",
     "collapsed": false,
     "input": [
      "import numpy as np\n",
      "#save  matrix\n",
      "file = open(\"/home/iizhaki/oasis/CSE255/ThetaX.pck\", \"w\")\n",
      "np.save(file,theta)\n",
      "file.close()\n",
      "print \"done\""
     ],
     "language": "python",
     "metadata": {},
     "outputs": [
      {
       "output_type": "stream",
       "stream": "stdout",
       "text": [
        "done\n"
       ]
      }
     ],
     "prompt_number": 43
    },
    {
     "cell_type": "code",
     "collapsed": false,
     "input": [
      "print \"Reading data...\"\n",
      "theta = np.load(\"/home/iizhaki/oasis/CSE255/ThetaX.pck\")\n",
      "print \"done\""
     ],
     "language": "python",
     "metadata": {},
     "outputs": []
    },
    {
     "cell_type": "code",
     "collapsed": false,
     "input": [
      "def predict(data, theta):\n",
      "    theta = numpy.matrix(theta)\n",
      "    prediction = [theta*numpy.matrix(d).T  for d in data]\n",
      "    return prediction\n",
      "\n",
      "prediction_trainingx = predict(matrix, theta)\n",
      "\n",
      "def MSE(prediction, real):\n",
      "    squares = [ (p - r) ** 2 for p,r in zip (prediction,real) ]\n",
      "    return numpy.mean(squares)\n",
      "\n",
      "y = [e/1000.0 for e in rankingR]\n",
      "p = [e/1000.0 for e in prediction_trainingx]\n",
      "print \" MSE training\", MSE(p, y ) # mean abs error 0.708222960173"
     ],
     "language": "python",
     "metadata": {},
     "outputs": [
      {
       "output_type": "stream",
       "stream": "stdout",
       "text": [
        " MSE training "
       ]
      },
      {
       "output_type": "stream",
       "stream": "stdout",
       "text": [
        "0.832253748827\n"
       ]
      }
     ],
     "prompt_number": 83
    },
    {
     "cell_type": "code",
     "collapsed": false,
     "input": [
      "0.832253748827 /1.39914325993"
     ],
     "language": "python",
     "metadata": {},
     "outputs": [
      {
       "metadata": {},
       "output_type": "pyout",
       "prompt_number": 85,
       "text": [
        "0.5948309745412619"
       ]
      }
     ],
     "prompt_number": 85
    },
    {
     "cell_type": "code",
     "collapsed": false,
     "input": [
      "avg_p = [sum(y)/len(y)] * len(y)\n",
      "print avg_p[0]\n",
      "print \" MSE training\", MSE(avg_p, y ) # mean abs error 0.924575762201"
     ],
     "language": "python",
     "metadata": {},
     "outputs": [
      {
       "output_type": "stream",
       "stream": "stdout",
       "text": [
        "3.94964888504\n",
        " MSE training "
       ]
      },
      {
       "output_type": "stream",
       "stream": "stdout",
       "text": [
        "1.39914325993\n"
       ]
      }
     ],
     "prompt_number": 84
    },
    {
     "cell_type": "code",
     "collapsed": false,
     "input": [
      "sum(y)"
     ],
     "language": "python",
     "metadata": {},
     "outputs": [
      {
       "metadata": {},
       "output_type": "pyout",
       "prompt_number": 67,
       "text": [
        "6358990000"
       ]
      }
     ],
     "prompt_number": 67
    },
    {
     "cell_type": "code",
     "collapsed": false,
     "input": [
      "3949/1000.0"
     ],
     "language": "python",
     "metadata": {},
     "outputs": [
      {
       "metadata": {},
       "output_type": "pyout",
       "prompt_number": 80,
       "text": [
        "3.949"
       ]
      }
     ],
     "prompt_number": 80
    },
    {
     "cell_type": "code",
     "collapsed": false,
     "input": [
      "prediction_trainingx/1000"
     ],
     "language": "python",
     "metadata": {},
     "outputs": [
      {
       "ename": "TypeError",
       "evalue": "unsupported operand type(s) for /: 'list' and 'int'",
       "output_type": "pyerr",
       "traceback": [
        "\u001b[1;31m---------------------------------------------------------------------------\u001b[0m\n\u001b[1;31mTypeError\u001b[0m                                 Traceback (most recent call last)",
        "\u001b[1;32m<ipython-input-73-ce9cd07e76af>\u001b[0m in \u001b[0;36m<module>\u001b[1;34m()\u001b[0m\n\u001b[1;32m----> 1\u001b[1;33m \u001b[0mprediction_trainingx\u001b[0m\u001b[1;33m/\u001b[0m\u001b[1;36m1000\u001b[0m\u001b[1;33m\u001b[0m\u001b[0m\n\u001b[0m",
        "\u001b[1;31mTypeError\u001b[0m: unsupported operand type(s) for /: 'list' and 'int'"
       ]
      }
     ],
     "prompt_number": 73
    },
    {
     "cell_type": "code",
     "collapsed": false,
     "input": [
      "#load reviews US with users\n",
      "file = open(\"/home/iizhaki/oasis/CSE255/reviewToPositiveMap.pck\")\n",
      "positive = pickle.load( file)\n",
      "file.close()\n",
      "print len(positive)#1610014\n",
      "print \"done\"\n",
      "len (positive)\n",
      "# positive"
     ],
     "language": "python",
     "metadata": {},
     "outputs": [
      {
       "output_type": "stream",
       "stream": "stdout",
       "text": [
        "340642\n",
        "done\n"
       ]
      }
     ],
     "prompt_number": 12
    },
    {
     "cell_type": "code",
     "collapsed": false,
     "input": [
      "len (positive)"
     ],
     "language": "python",
     "metadata": {},
     "outputs": [
      {
       "metadata": {},
       "output_type": "pyout",
       "prompt_number": 94,
       "text": [
        "340642"
       ]
      }
     ],
     "prompt_number": 94
    },
    {
     "cell_type": "code",
     "collapsed": false,
     "input": [
      "len (restaurantReviewsUS)"
     ],
     "language": "python",
     "metadata": {},
     "outputs": [
      {
       "metadata": {},
       "output_type": "pyout",
       "prompt_number": 96,
       "text": [
        "357191"
       ]
      }
     ],
     "prompt_number": 96
    },
    {
     "cell_type": "code",
     "collapsed": false,
     "input": [
      "az =[r for r in restaurantReviewsUS if r[1] not in positive]\n",
      "\n",
      "len(az)"
     ],
     "language": "python",
     "metadata": {},
     "outputs": [
      {
       "metadata": {},
       "output_type": "pyout",
       "prompt_number": 102,
       "text": [
        "16549"
       ]
      }
     ],
     "prompt_number": 102
    },
    {
     "cell_type": "code",
     "collapsed": false,
     "input": [
      "restaurantReviewsUS[0]"
     ],
     "language": "python",
     "metadata": {},
     "outputs": [
      {
       "metadata": {},
       "output_type": "pyout",
       "prompt_number": 107,
       "text": [
        "(\"T C's Referee Sports Bar\",\n",
        " '100327153115986850675',\n",
        " [43.529494, -96.792244],\n",
        " 'Sioux Falls, SD 57106',\n",
        " ['SPORTS BAR', 'RESTAURANT'],\n",
        " 4625)"
       ]
      }
     ],
     "prompt_number": 107
    },
    {
     "cell_type": "code",
     "collapsed": false,
     "input": [
      "#load reviews US with users\n",
      "file = open(\"/home/iizhaki/oasis/CSE255/reviewToNegativeMap.pck\")\n",
      "negative = pickle.load( file)\n",
      "file.close()\n",
      "print len(positive)#1610014\n",
      "print \"done\"\n",
      "len(negative)\n",
      "# negative"
     ],
     "language": "python",
     "metadata": {},
     "outputs": [
      {
       "output_type": "stream",
       "stream": "stdout",
       "text": [
        "340642\n",
        "done\n"
       ]
      },
      {
       "metadata": {},
       "output_type": "pyout",
       "prompt_number": 13,
       "text": [
        "340642"
       ]
      }
     ],
     "prompt_number": 13
    },
    {
     "cell_type": "code",
     "collapsed": false,
     "input": [
      "len(negative)"
     ],
     "language": "python",
     "metadata": {},
     "outputs": [
      {
       "metadata": {},
       "output_type": "pyout",
       "prompt_number": 104,
       "text": [
        "340642"
       ]
      }
     ],
     "prompt_number": 104
    },
    {
     "cell_type": "code",
     "collapsed": false,
     "input": [
      "az[1]"
     ],
     "language": "python",
     "metadata": {},
     "outputs": [
      {
       "metadata": {},
       "output_type": "pyout",
       "prompt_number": 106,
       "text": [
        "('Dixie Lee Chicken',\n",
        " '112480955169876860251',\n",
        " [46.213896, -82.076332],\n",
        " 'Spanish, ON P0P 2A0',\n",
        " ['FAMILY RESTAURANT'],\n",
        " 5000)"
       ]
      }
     ],
     "prompt_number": 106
    },
    {
     "cell_type": "code",
     "collapsed": false,
     "input": [
      "reviews[0]"
     ],
     "language": "python",
     "metadata": {},
     "outputs": [
      {
       "metadata": {},
       "output_type": "pyout",
       "prompt_number": 110,
       "text": [
        "(5000,\n",
        " [u'Mexican Restaurant', u'Latin American Restaurant'],\n",
        " \"You won't be disappointed in the food.  They do business lunches and groups (6 to 10) very well.  Service always fast and helpful.  This is one of my top 4 Mexican restaurants in Akron area, the only detractor is the age of the building and the environment.  Again not back, nothing to stay away from, but their business is serving Mexican food to their customers and they do that well.  Lunch is the majority of times I have been there.\",\n",
        " '101280967457665576418',\n",
        " '103173356293785774089')"
       ]
      }
     ],
     "prompt_number": 110
    },
    {
     "cell_type": "code",
     "collapsed": false,
     "input": [
      "qqq =  [q for q in reviews if q[4] ==az[1]]"
     ],
     "language": "python",
     "metadata": {},
     "outputs": [],
     "prompt_number": 112
    },
    {
     "cell_type": "code",
     "collapsed": false,
     "input": [
      "len (negative[negative.keys()[1]])\n"
     ],
     "language": "python",
     "metadata": {},
     "outputs": [
      {
       "metadata": {},
       "output_type": "pyout",
       "prompt_number": 119,
       "text": [
        "50"
       ]
      }
     ],
     "prompt_number": 119
    },
    {
     "cell_type": "code",
     "collapsed": false,
     "input": [
      "len(qqq)"
     ],
     "language": "python",
     "metadata": {},
     "outputs": [
      {
       "metadata": {},
       "output_type": "pyout",
       "prompt_number": 115,
       "text": [
        "0"
       ]
      }
     ],
     "prompt_number": 115
    },
    {
     "cell_type": "code",
     "collapsed": false,
     "input": [
      "theta,residuals,rank,s = numpy.linalg.lstsq(matrixC, rankingY)"
     ],
     "language": "python",
     "metadata": {},
     "outputs": []
    },
    {
     "cell_type": "code",
     "collapsed": false,
     "input": [
      "len(theta)"
     ],
     "language": "python",
     "metadata": {},
     "outputs": [
      {
       "metadata": {},
       "output_type": "pyout",
       "prompt_number": 10,
       "text": [
        "1128"
       ]
      }
     ],
     "prompt_number": 10
    },
    {
     "cell_type": "code",
     "collapsed": false,
     "input": [
      "def predict(data, theta):\n",
      "    theta = numpy.matrix(theta)\n",
      "    prediction = [theta*numpy.matrix(d).T  for d in data]\n",
      "    return prediction\n",
      "\n",
      "\n",
      "\n",
      "def MSE(prediction, real):\n",
      "    squares = [ (p - r) ** 2 for p,r in zip (prediction,real) ]\n",
      "    return numpy.mean(squares)"
     ],
     "language": "python",
     "metadata": {},
     "outputs": [],
     "prompt_number": 17
    },
    {
     "cell_type": "code",
     "collapsed": false,
     "input": [
      "prediction_trainingx = predict(matrixC, theta)\n",
      "\n",
      "y = [e/1000.0 for e in rankingY]\n",
      "p = [e/1000.0 for e in prediction_trainingx]\n",
      "print \" MSE training\", MSE(p, y ) # mean abs error 0.832253748827"
     ],
     "language": "python",
     "metadata": {},
     "outputs": [
      {
       "output_type": "stream",
       "stream": "stdout",
       "text": [
        " MSE training "
       ]
      },
      {
       "output_type": "stream",
       "stream": "stdout",
       "text": [
        "0.832031361789\n"
       ]
      }
     ],
     "prompt_number": 12
    },
    {
     "cell_type": "code",
     "collapsed": false,
     "input": [
      "len(prediction_trainingx)"
     ],
     "language": "python",
     "metadata": {},
     "outputs": [
      {
       "ename": "NameError",
       "evalue": "name 'prediction_trainingx' is not defined",
       "output_type": "pyerr",
       "traceback": [
        "\u001b[1;31m---------------------------------------------------------------------------\u001b[0m\n\u001b[1;31mNameError\u001b[0m                                 Traceback (most recent call last)",
        "\u001b[1;32m<ipython-input-11-3e16f324a7bc>\u001b[0m in \u001b[0;36m<module>\u001b[1;34m()\u001b[0m\n\u001b[1;32m----> 1\u001b[1;33m \u001b[0mlen\u001b[0m\u001b[1;33m(\u001b[0m\u001b[0mprediction_trainingx\u001b[0m\u001b[1;33m)\u001b[0m\u001b[1;33m\u001b[0m\u001b[0m\n\u001b[0m",
        "\u001b[1;31mNameError\u001b[0m: name 'prediction_trainingx' is not defined"
       ]
      }
     ],
     "prompt_number": 11
    },
    {
     "cell_type": "code",
     "collapsed": false,
     "input": [
      " 0.832031361789/0.832253748827"
     ],
     "language": "python",
     "metadata": {},
     "outputs": [
      {
       "metadata": {},
       "output_type": "pyout",
       "prompt_number": 14,
       "text": [
        "0.9997327893826691"
       ]
      }
     ],
     "prompt_number": 14
    },
    {
     "cell_type": "code",
     "collapsed": false,
     "input": [
      "import numpy as np\n",
      "#save  matrix\n",
      "file = open(\"/home/iizhaki/oasis/CSE255/ThetawWords.pck\", \"w\")\n",
      "np.save(file,theta)\n",
      "file.close()\n",
      "print \"done\""
     ],
     "language": "python",
     "metadata": {},
     "outputs": [
      {
       "output_type": "stream",
       "stream": "stdout",
       "text": [
        "done\n"
       ]
      }
     ],
     "prompt_number": 15
    },
    {
     "cell_type": "code",
     "collapsed": false,
     "input": [
      "foo = ['a', 'b', 'c', 'd', 'e']\n",
      "from random import randrange\n",
      "random_index = randrange(0,len(foo))\n",
      "print random_index"
     ],
     "language": "python",
     "metadata": {},
     "outputs": [
      {
       "output_type": "stream",
       "stream": "stdout",
       "text": [
        "2\n"
       ]
      }
     ],
     "prompt_number": 18
    },
    {
     "cell_type": "code",
     "collapsed": false,
     "input": [
      "import random\n",
      "\n",
      "indexes = range(len(matrix))\n",
      "random.shuffle(indexes)\n",
      "print indexes[:20]\n",
      "X = [matrix[i] for i in indexes]\n",
      "y = [rankingR[i] for i in indexes]\n"
     ],
     "language": "python",
     "metadata": {},
     "outputs": [
      {
       "output_type": "stream",
       "stream": "stdout",
       "text": [
        "[1079569, 944663, 1177637, 202632, 1327565, 277798, 625838, 296735, 382265, 1212205, 1038896, 1251769, 1025485, 379692, 1587813, 184734, 951334, 1234560, 952987, 209674]\n"
       ]
      }
     ],
     "prompt_number": 7
    },
    {
     "cell_type": "code",
     "collapsed": false,
     "input": [
      "print indexes[:20]\n",
      "X = [matrix[i] for i in indexes]\n",
      "y = [rankingR[i] for i in indexes]"
     ],
     "language": "python",
     "metadata": {},
     "outputs": [
      {
       "output_type": "stream",
       "stream": "stdout",
       "text": [
        "[1079569  944663 1177637  202632 1327565  277798  625838  296735  382265\n",
        " 1212205 1038896 1251769 1025485  379692 1587813  184734  951334 1234560\n",
        "  952987  209674]\n"
       ]
      }
     ],
     "prompt_number": 6
    },
    {
     "cell_type": "code",
     "collapsed": false,
     "input": [
      "print sum(X[0]==matrix[0])"
     ],
     "language": "python",
     "metadata": {},
     "outputs": [
      {
       "output_type": "stream",
       "stream": "stdout",
       "text": [
        "1015\n"
       ]
      }
     ],
     "prompt_number": 8
    },
    {
     "cell_type": "code",
     "collapsed": false,
     "input": [
      "import numpy as np\n",
      "#save  matrix\n",
      "file = open(\"/home/iizhaki/oasis/CSE255/MatrixReorder.pck\", \"w\")\n",
      "np.save(file,matrix)\n",
      "file.close()\n",
      "print \"done\"\n",
      "\n",
      "#save  matrix\n",
      "file = open(\"/home/iizhaki/oasis/CSE255/YsReorder.pck\", \"w\")\n",
      "np.save(file,rankingR)\n",
      "file.close()\n",
      "print \"done\"\n",
      "\n",
      "#save  matrix\n",
      "file = open(\"/home/iizhaki/oasis/CSE255/IndexReorder.pck\", \"w\")\n",
      "np.save(file,indexes)\n",
      "file.close()\n",
      "print \"done\""
     ],
     "language": "python",
     "metadata": {},
     "outputs": [
      {
       "output_type": "stream",
       "stream": "stdout",
       "text": [
        "done\n",
        "done\n",
        "done"
       ]
      },
      {
       "output_type": "stream",
       "stream": "stdout",
       "text": [
        "\n"
       ]
      }
     ],
     "prompt_number": 12
    },
    {
     "cell_type": "code",
     "collapsed": false,
     "input": [
      "import numpy as np\n",
      "#save  matrix\n",
      "file = open(\"/home/iizhaki/oasis/CSE255/MatrixReorder.pck\")\n",
      "matrix =np.load(file)\n",
      "file.close()\n",
      "print \"done\"\n",
      "\n",
      "#save  matrix\n",
      "file = open(\"/home/iizhaki/oasis/CSE255/YsReorder.pck\")\n",
      "rankingR = np.load(file)\n",
      "file.close()\n",
      "print \"done\"\n",
      "\n",
      "#save  matrix\n",
      "file = open(\"/home/iizhaki/oasis/CSE255/IndexReorder.pck\")\n",
      "indexes= np.load(file)\n",
      "file.close()\n",
      "print \"done\""
     ],
     "language": "python",
     "metadata": {},
     "outputs": [
      {
       "output_type": "stream",
       "stream": "stdout",
       "text": [
        "done\n",
        "done\n",
        "done\n"
       ]
      }
     ],
     "prompt_number": 1
    },
    {
     "cell_type": "code",
     "collapsed": false,
     "input": [
      "n = int(len(X)*0.7)\n",
      "X_train = X[:n]\n",
      "y_train = y[:n]\n",
      "\n",
      "X_test =X[n:]\n",
      "y_test =y[n:]\n",
      "\n"
     ],
     "language": "python",
     "metadata": {},
     "outputs": [
      {
       "ename": "NameError",
       "evalue": "name 'X' is not defined",
       "output_type": "pyerr",
       "traceback": [
        "\u001b[1;31m---------------------------------------------------------------------------\u001b[0m\n\u001b[1;31mNameError\u001b[0m                                 Traceback (most recent call last)",
        "\u001b[1;32m<ipython-input-2-8a79feb921bd>\u001b[0m in \u001b[0;36m<module>\u001b[1;34m()\u001b[0m\n\u001b[1;32m----> 1\u001b[1;33m \u001b[0mn\u001b[0m \u001b[1;33m=\u001b[0m \u001b[0mint\u001b[0m\u001b[1;33m(\u001b[0m\u001b[0mlen\u001b[0m\u001b[1;33m(\u001b[0m\u001b[0mX\u001b[0m\u001b[1;33m)\u001b[0m\u001b[1;33m*\u001b[0m\u001b[1;36m0.7\u001b[0m\u001b[1;33m)\u001b[0m\u001b[1;33m\u001b[0m\u001b[0m\n\u001b[0m\u001b[0;32m      2\u001b[0m \u001b[0mX_train\u001b[0m \u001b[1;33m=\u001b[0m \u001b[0mX\u001b[0m\u001b[1;33m[\u001b[0m\u001b[1;33m:\u001b[0m\u001b[0mn\u001b[0m\u001b[1;33m]\u001b[0m\u001b[1;33m\u001b[0m\u001b[0m\n\u001b[0;32m      3\u001b[0m \u001b[0my_train\u001b[0m \u001b[1;33m=\u001b[0m \u001b[0my\u001b[0m\u001b[1;33m[\u001b[0m\u001b[1;33m:\u001b[0m\u001b[0mn\u001b[0m\u001b[1;33m]\u001b[0m\u001b[1;33m\u001b[0m\u001b[0m\n\u001b[0;32m      4\u001b[0m \u001b[1;33m\u001b[0m\u001b[0m\n\u001b[0;32m      5\u001b[0m \u001b[0mX_test\u001b[0m \u001b[1;33m=\u001b[0m\u001b[0mX\u001b[0m\u001b[1;33m[\u001b[0m\u001b[0mn\u001b[0m\u001b[1;33m:\u001b[0m\u001b[1;33m]\u001b[0m\u001b[1;33m\u001b[0m\u001b[0m\n",
        "\u001b[1;31mNameError\u001b[0m: name 'X' is not defined"
       ]
      }
     ],
     "prompt_number": 2
    },
    {
     "cell_type": "code",
     "collapsed": false,
     "input": [
      "theta,residuals,rank,s = numpy.linalg.lstsq(X_train, y_train)"
     ],
     "language": "python",
     "metadata": {},
     "outputs": []
    },
    {
     "cell_type": "code",
     "collapsed": false,
     "input": [
      "prediction_training = predict(X_train, theta)\n",
      "yt = [e/1000.0 for e in y_train]\n",
      "pt = [e/1000.0 for e in prediction_training]\n",
      "print \" MSE training\", MSE(pt, yt ) # mean abs error 0.832253748827\n",
      "\n",
      "\n",
      "prediction_test = predict(X_test, theta)\n",
      "ys = [e/1000.0 for e in y_test]\n",
      "ps = [e/1000.0 for e in prediction_test]\n",
      "print \" MSE test\", MSE(ps, ys ) # mean abs error 0.832253748827"
     ],
     "language": "python",
     "metadata": {},
     "outputs": []
    },
    {
     "cell_type": "code",
     "collapsed": false,
     "input": [
      "a=[y-p for (y,p) in zip (ys,ps)]"
     ],
     "language": "python",
     "metadata": {},
     "outputs": []
    },
    {
     "cell_type": "code",
     "collapsed": false,
     "input": [
      "def MAE(prediction, real):\n",
      "    squares = [ abs(p - r)  for p,r in zip (prediction,real) ]\n",
      "    return max(squares)#sum(squares)/len(squares)"
     ],
     "language": "python",
     "metadata": {},
     "outputs": []
    },
    {
     "cell_type": "code",
     "collapsed": false,
     "input": [
      "foos =[p for p in prediction_test if p>5000]\n",
      "len(foos)"
     ],
     "language": "python",
     "metadata": {},
     "outputs": []
    },
    {
     "cell_type": "code",
     "collapsed": false,
     "input": [
      "min(theta)"
     ],
     "language": "python",
     "metadata": {},
     "outputs": []
    },
    {
     "cell_type": "code",
     "collapsed": false,
     "input": [
      "\n",
      "matrixCategories = numpy.zeros((len(restaurantReviewsUS),len(categories)))\n",
      "i =0\n",
      "for r in restaurantReviewsUS:\n",
      "    for c in r[4]:\n",
      "        matrixCategories [i,categories.index(c)] = r[5]\n",
      "    i+=1\n",
      "len(matrixCategories)\n",
      "    "
     ],
     "language": "python",
     "metadata": {},
     "outputs": [
      {
       "metadata": {},
       "output_type": "pyout",
       "prompt_number": 51,
       "text": [
        "357191"
       ]
      }
     ],
     "prompt_number": 51
    },
    {
     "cell_type": "code",
     "collapsed": false,
     "input": [
      "s = sum(matrixCategories,axis=0)"
     ],
     "language": "python",
     "metadata": {},
     "outputs": [],
     "prompt_number": 52
    },
    {
     "cell_type": "code",
     "collapsed": false,
     "input": [
      "l = sum(matrixCategories,axis=0)"
     ],
     "language": "python",
     "metadata": {},
     "outputs": [],
     "prompt_number": 50
    },
    {
     "cell_type": "code",
     "collapsed": false,
     "input": [
      "t =s /l"
     ],
     "language": "python",
     "metadata": {},
     "outputs": [],
     "prompt_number": 53
    },
    {
     "cell_type": "code",
     "collapsed": false,
     "input": [
      "print (s/l)"
     ],
     "language": "python",
     "metadata": {},
     "outputs": [
      {
       "output_type": "stream",
       "stream": "stdout",
       "text": [
        "[ 4625.  3558.  3916. ...,  4250.  3750.  3750.]\n"
       ]
      }
     ],
     "prompt_number": 43
    },
    {
     "cell_type": "code",
     "collapsed": false,
     "input": [
      "index = range(len(t))\n",
      "index.sort (key= l.__getitem__, reverse=True)\n",
      "    \n",
      "ct = [categories[i] for i in index]\n",
      "t[:] = [l[i] for i in index]"
     ],
     "language": "python",
     "metadata": {},
     "outputs": [],
     "prompt_number": 56
    },
    {
     "cell_type": "code",
     "collapsed": false,
     "input": [
      "print t[:10]\n",
      "print ct[:10]"
     ],
     "language": "python",
     "metadata": {},
     "outputs": [
      {
       "output_type": "stream",
       "stream": "stdout",
       "text": [
        "[ 92193.  62372.  51248.  50239.  43532.  41073.  39149.  32937.  29796.\n",
        "  27967.]\n",
        "['RESTAURANT', 'FAST FOOD RESTAURANT', 'AMERICAN RESTAURANT', 'EUROPEAN RESTAURANT', 'ASIAN RESTAURANT', 'PIZZA RESTAURANT', 'ITALIAN RESTAURANT', 'MEXICAN RESTAURANT', 'HAMBURGER RESTAURANT', 'LATIN AMERICAN RESTAURANT']\n"
       ]
      }
     ],
     "prompt_number": 57
    },
    {
     "cell_type": "code",
     "collapsed": false,
     "input": [
      "prediction_training[:10]"
     ],
     "language": "python",
     "metadata": {},
     "outputs": [
      {
       "metadata": {},
       "output_type": "pyout",
       "prompt_number": 64,
       "text": [
        "[matrix([[ 4045.84846337]]),\n",
        " matrix([[ 3338.69120392]]),\n",
        " matrix([[ 4189.7933387]]),\n",
        " matrix([[ 3566.76011685]]),\n",
        " matrix([[ 3868.23306624]]),\n",
        " matrix([[ 4562.30147085]]),\n",
        " matrix([[ 5003.98583937]]),\n",
        " matrix([[ 4087.29172447]]),\n",
        " matrix([[ 3534.33690685]]),\n",
        " matrix([[ 3863.80331597]])]"
       ]
      }
     ],
     "prompt_number": 64
    },
    {
     "cell_type": "code",
     "collapsed": false,
     "input": [
      "import numpy as np\n",
      "print \"Reading data...\"\n",
      "m0 = np.load(\"/home/iizhaki/oasis/CSE255/MatrixwWords0.pck\")\n",
      "print \"done\"\n",
      "print \"Reading data...\"\n",
      "m1 = np.load(\"/home/iizhaki/oasis/CSE255/MatrixwWords1.pck\")\n",
      "print \"done\"\n",
      "print \"Reading data...\"\n",
      "m2 = np.load(\"/home/iizhaki/oasis/CSE255/MatrixwWords2.pck\")\n",
      "print \"done\"\n",
      "\n",
      "matrix = numpy.vstack((m0,m1,m2))\n",
      "print len(matrix )\n",
      "\n",
      "\n",
      "#load y\n",
      "rankingR = np.load(\"/home/iizhaki/oasis/CSE255/YwWords.pck\")\n",
      "print len(rankingR)\n",
      "print \"done\"\n",
      "\n",
      "\n",
      "#save  matrix\n",
      "file = open(\"/home/iizhaki/oasis/CSE255/IndexReorder.pck\")\n",
      "indexes= np.load(file)\n",
      "file.close()\n",
      "print \"done\"\n",
      "\n",
      "print indexes[:20]\n",
      "X = [matrix[i] for i in indexes]\n",
      "y = [rankingR[i] for i in indexes]\n",
      "\n",
      "\n",
      "n = int(len(X)*0.1)\n",
      "X_train = X[:n]\n",
      "y_train = y[:n]\n",
      "\n",
      "X_test =X[n:]\n",
      "y_test =y[n:]"
     ],
     "language": "python",
     "metadata": {},
     "outputs": [
      {
       "output_type": "stream",
       "stream": "stdout",
       "text": [
        "Reading data...\n",
        "done"
       ]
      },
      {
       "output_type": "stream",
       "stream": "stdout",
       "text": [
        "\n",
        "Reading data...\n",
        "done"
       ]
      },
      {
       "output_type": "stream",
       "stream": "stdout",
       "text": [
        "\n",
        "Reading data...\n",
        "done"
       ]
      },
      {
       "output_type": "stream",
       "stream": "stdout",
       "text": [
        "\n",
        "1610014"
       ]
      },
      {
       "output_type": "stream",
       "stream": "stdout",
       "text": [
        "\n",
        "1610014"
       ]
      },
      {
       "output_type": "stream",
       "stream": "stdout",
       "text": [
        "\n",
        "done\n",
        "done"
       ]
      },
      {
       "output_type": "stream",
       "stream": "stdout",
       "text": [
        "\n",
        "[1079569  944663 1177637  202632 1327565  277798  625838  296735  382265\n",
        " 1212205 1038896 1251769 1025485  379692 1587813  184734  951334 1234560\n",
        "  952987  209674]"
       ]
      },
      {
       "output_type": "stream",
       "stream": "stdout",
       "text": [
        "\n"
       ]
      }
     ],
     "prompt_number": 1
    },
    {
     "cell_type": "code",
     "collapsed": false,
     "input": [
      "import numpy as np\n",
      "#save  matrix\n",
      "file = open(\"/home/iizhaki/oasis/CSE255/MatrixReorder.pck\")\n",
      "matrix =np.load(file)\n",
      "file.close()\n",
      "print \"done\"\n",
      "\n",
      "#save  matrix\n",
      "file = open(\"/home/iizhaki/oasis/CSE255/YsReorder.pck\")\n",
      "rankingR = np.load(file)\n",
      "file.close()\n",
      "print \"done\"\n",
      "\n",
      "#save  matrix\n",
      "file = open(\"/home/iizhaki/oasis/CSE255/IndexReorder.pck\")\n",
      "indexes= np.load(file)\n",
      "file.close()\n",
      "print \"done\"\n",
      "\n",
      "print indexes[:20]\n",
      "X = [matrix[i] for i in indexes]\n",
      "y = [rankingR[i] for i in indexes]\n",
      "\n",
      "\n",
      "n = 100 #int(len(X)*0.7)\n",
      "X_train = X[:n]\n",
      "y_train = y[:n]\n",
      "\n",
      "X_test =X[n:]\n",
      "y_test =y[n:]"
     ],
     "language": "python",
     "metadata": {},
     "outputs": []
    },
    {
     "cell_type": "code",
     "collapsed": false,
     "input": [
      "X_train_b = list(X_train)"
     ],
     "language": "python",
     "metadata": {},
     "outputs": [],
     "prompt_number": 65
    },
    {
     "cell_type": "code",
     "collapsed": false,
     "input": [
      "from sklearn.cluster import KMeans \n",
      "\n",
      "K = 1000\n",
      "km =  KMeans (n_clusters=K, n_jobs=-1)\n",
      "km.fit(X_train)"
     ],
     "language": "python",
     "metadata": {},
     "outputs": [
      {
       "metadata": {},
       "output_type": "pyout",
       "prompt_number": 66,
       "text": [
        "KMeans(copy_x=True, init='k-means++', max_iter=300, n_clusters=1000,\n",
        "    n_init=10, n_jobs=-1, precompute_distances=True, random_state=None,\n",
        "    tol=0.0001, verbose=0)"
       ]
      }
     ],
     "prompt_number": 66
    },
    {
     "cell_type": "code",
     "collapsed": false,
     "input": [],
     "language": "python",
     "metadata": {},
     "outputs": [],
     "prompt_number": 1
    },
    {
     "cell_type": "code",
     "collapsed": false,
     "input": [
      "X_train = list(X_train_b)\n",
      "\n",
      "def bitIt(idx, rng):\n",
      "    res = [0] * (rng + 1)\n",
      "    res[0] = 1\n",
      "    res[idx + 1] = 1\n",
      "    return res\n",
      "\n",
      "X_train = [bitIt(i, K) for i in km.labels_]\n",
      "print X_train[0]"
     ],
     "language": "python",
     "metadata": {},
     "outputs": [
      {
       "output_type": "stream",
       "stream": "stdout",
       "text": [
        "[1, 0, 0, 0, 0, 0, 0, 0, 0, 0, 0, 0, 0, 0, 0, 0, 0, 0, 0, 0, 0, 0, 0, 0, 0, 0, 0, 0, 0, 0, 0, 0, 0, 0, 0, 0, 0, 0, 0, 0, 0, 0, 0, 0, 0, 0, 0, 0, 0, 0, 0, 0, 0, 0, 0, 0, 0, 0, 0, 0, 0, 0, 0, 0, 0, 0, 0, 0, 0, 0, 0, 0, 0, 0, 0, 0, 0, 0, 0, 0, 0, 0, 0, 0, 0, 0, 0, 0, 0, 0, 0, 0, 0, 0, 0, 0, 0, 0, 0, 0, 0, 0, 0, 0, 0, 0, 0, 0, 0, 0, 0, 0, 0, 0, 0, 0, 0, 0, 0, 0, 0, 0, 0, 0, 0, 0, 0, 0, 0, 0, 0, 0, 0, 0, 0, 0, 0, 0, 0, 0, 0, 0, 0, 0, 0, 0, 0, 0, 0, 0, 0, 0, 0, 1, 0, 0, 0, 0, 0, 0, 0, 0, 0, 0, 0, 0, 0, 0, 0, 0, 0, 0, 0, 0, 0, 0, 0, 0, 0, 0, 0, 0, 0, 0, 0, 0, 0, 0, 0, 0, 0, 0, 0, 0, 0, 0, 0, 0, 0, 0, 0, 0, 0, 0, 0, 0, 0, 0, 0, 0, 0, 0, 0, 0, 0, 0, 0, 0, 0, 0, 0, 0, 0, 0, 0, 0, 0, 0, 0, 0, 0, 0, 0, 0, 0, 0, 0, 0, 0, 0, 0, 0, 0, 0, 0, 0, 0, 0, 0, 0, 0, 0, 0, 0, 0, 0, 0, 0, 0, 0, 0, 0, 0, 0, 0, 0, 0, 0, 0, 0, 0, 0, 0, 0, 0, 0, 0, 0, 0, 0, 0, 0, 0, 0, 0, 0, 0, 0, 0, 0, 0, 0, 0, 0, 0, 0, 0, 0, 0, 0, 0, 0, 0, 0, 0, 0, 0, 0, 0, 0, 0, 0, 0, 0, 0, 0, 0, 0, 0, 0, 0, 0, 0, 0, 0, 0, 0, 0, 0, 0, 0, 0, 0, 0, 0, 0, 0, 0, 0, 0, 0, 0, 0, 0, 0, 0, 0, 0, 0, 0, 0, 0, 0, 0, 0, 0, 0, 0, 0, 0, 0, 0, 0, 0, 0, 0, 0, 0, 0, 0, 0, 0, 0, 0, 0, 0, 0, 0, 0, 0, 0, 0, 0, 0, 0, 0, 0, 0, 0, 0, 0, 0, 0, 0, 0, 0, 0, 0, 0, 0, 0, 0, 0, 0, 0, 0, 0, 0, 0, 0, 0, 0, 0, 0, 0, 0, 0, 0, 0, 0, 0, 0, 0, 0, 0, 0, 0, 0, 0, 0, 0, 0, 0, 0, 0, 0, 0, 0, 0, 0, 0, 0, 0, 0, 0, 0, 0, 0, 0, 0, 0, 0, 0, 0, 0, 0, 0, 0, 0, 0, 0, 0, 0, 0, 0, 0, 0, 0, 0, 0, 0, 0, 0, 0, 0, 0, 0, 0, 0, 0, 0, 0, 0, 0, 0, 0, 0, 0, 0, 0, 0, 0, 0, 0, 0, 0, 0, 0, 0, 0, 0, 0, 0, 0, 0, 0, 0, 0, 0, 0, 0, 0, 0, 0, 0, 0, 0, 0, 0, 0, 0, 0, 0, 0, 0, 0, 0, 0, 0, 0, 0, 0, 0, 0, 0, 0, 0, 0, 0, 0, 0, 0, 0, 0, 0, 0, 0, 0, 0, 0, 0, 0, 0, 0, 0, 0, 0, 0, 0, 0, 0, 0, 0, 0, 0, 0, 0, 0, 0, 0, 0, 0, 0, 0, 0, 0, 0, 0, 0, 0, 0, 0, 0, 0, 0, 0, 0, 0, 0, 0, 0, 0, 0, 0, 0, 0, 0, 0, 0, 0, 0, 0, 0, 0, 0, 0, 0, 0, 0, 0, 0, 0, 0, 0, 0, 0, 0, 0, 0, 0, 0, 0, 0, 0, 0, 0, 0, 0, 0, 0, 0, 0, 0, 0, 0, 0, 0, 0, 0, 0, 0, 0, 0, 0, 0, 0, 0, 0, 0, 0, 0, 0, 0, 0, 0, 0, 0, 0, 0, 0, 0, 0, 0, 0, 0, 0, 0, 0, 0, 0, 0, 0, 0, 0, 0, 0, 0, 0, 0, 0, 0, 0, 0, 0, 0, 0, 0, 0, 0, 0, 0, 0, 0, 0, 0, 0, 0, 0, 0, 0, 0, 0, 0, 0, 0, 0, 0, 0, 0, 0, 0, 0, 0, 0, 0, 0, 0, 0, 0, 0, 0, 0, 0, 0, 0, 0, 0, 0, 0, 0, 0, 0, 0, 0, 0, 0, 0, 0, 0, 0, 0, 0, 0, 0, 0, 0, 0, 0, 0, 0, 0, 0, 0, 0, 0, 0, 0, 0, 0, 0, 0, 0, 0, 0, 0, 0, 0, 0, 0, 0, 0, 0, 0, 0, 0, 0, 0, 0, 0, 0, 0, 0, 0, 0, 0, 0, 0, 0, 0, 0, 0, 0, 0, 0, 0, 0, 0, 0, 0, 0, 0, 0, 0, 0, 0, 0, 0, 0, 0, 0, 0, 0, 0, 0, 0, 0, 0, 0, 0, 0, 0, 0, 0, 0, 0, 0, 0, 0, 0, 0, 0, 0, 0, 0, 0, 0, 0, 0, 0, 0, 0, 0, 0, 0, 0, 0, 0, 0, 0, 0, 0, 0, 0, 0, 0, 0, 0, 0, 0, 0, 0, 0, 0, 0, 0, 0, 0, 0, 0, 0, 0, 0, 0, 0, 0, 0, 0, 0, 0, 0, 0, 0, 0, 0, 0, 0, 0, 0, 0, 0, 0, 0, 0, 0, 0, 0, 0, 0, 0, 0, 0, 0, 0, 0, 0, 0, 0, 0, 0, 0, 0, 0, 0, 0, 0, 0, 0, 0, 0, 0, 0, 0, 0, 0, 0, 0, 0, 0, 0, 0, 0, 0, 0, 0, 0, 0, 0, 0, 0, 0, 0, 0, 0, 0, 0, 0, 0, 0, 0, 0, 0, 0, 0, 0, 0, 0, 0, 0, 0, 0, 0, 0, 0, 0, 0, 0, 0, 0, 0, 0, 0, 0, 0, 0, 0, 0, 0, 0, 0, 0, 0, 0, 0, 0, 0, 0, 0, 0, 0, 0, 0, 0, 0, 0, 0, 0, 0, 0, 0, 0, 0]\n"
       ]
      }
     ],
     "prompt_number": 67
    },
    {
     "cell_type": "code",
     "collapsed": false,
     "input": [
      "import scipy.optimize\n",
      "from numpy.linalg import norm\n",
      "\n",
      "### Gradient descent ###\n",
      "\n",
      "# Objective\n",
      "def f(theta, X, y, lam):\n",
      "    diff = numpy.dot(X, theta) - y\n",
      "    diffSq = (norm(diff) ** 2) / len(X)\n",
      "    diffSqReg = diffSq + lam * norm(theta) ** 2\n",
      "    #print \"f : \" , diffSqReg\n",
      "    return diffSqReg\n",
      "\n",
      "    # Derivative\n",
      "def fprime(theta, X, y, lam):\n",
      "    diff = numpy.dot(X, theta) - y\n",
      "    res = 2 * numpy.dot(X.T, diff) / len(X) + 2 * lam * theta\n",
      "    return res"
     ],
     "language": "python",
     "metadata": {},
     "outputs": [],
     "prompt_number": 68
    },
    {
     "cell_type": "code",
     "collapsed": false,
     "input": [
      "import time\n",
      "import timeit\n",
      "\n",
      "start = time.time()\n",
      "thetar,l,info = scipy.optimize.fmin_l_bfgs_b(f, numpy.array([0] * len(X_train[0])).T, fprime, args = (numpy.array(X_train), numpy.array(y_train).T, 0.1))\n",
      "#thetar = scipy.optimize.minimize(f, numpy.array([0] * len(X_train[0])).T, jac = fprime, args = (numpy.array(X_train), numpy.array(y_train).T, 0.1))\n",
      "end = time.time()\n",
      "finished = end - start\n",
      "print finished"
     ],
     "language": "python",
     "metadata": {},
     "outputs": [
      {
       "output_type": "stream",
       "stream": "stdout",
       "text": [
        "0.552059173584\n"
       ]
      }
     ],
     "prompt_number": 69
    },
    {
     "cell_type": "code",
     "collapsed": false,
     "input": [
      "len (thetar)"
     ],
     "language": "python",
     "metadata": {},
     "outputs": [
      {
       "metadata": {},
       "output_type": "pyout",
       "prompt_number": 70,
       "text": [
        "1001"
       ]
      }
     ],
     "prompt_number": 70
    },
    {
     "cell_type": "code",
     "collapsed": false,
     "input": [
      "def predict(data, theta):\n",
      "    theta = numpy.matrix(theta)\n",
      "    prediction = [theta*numpy.matrix(d).T  for d in data]\n",
      "    return prediction\n",
      "\n",
      "#prediction_training = predict(X, thetax)\n",
      "\n",
      "def MSE(prediction, real):\n",
      "    squares = [ (p - r)**2 for p,r in zip (prediction,real) ]\n",
      "    return numpy.mean(squares)\n",
      "\n",
      "\n",
      "#print \" MSE training\", MSE(prediction_training, y )"
     ],
     "language": "python",
     "metadata": {},
     "outputs": [],
     "prompt_number": 71
    },
    {
     "cell_type": "code",
     "collapsed": false,
     "input": [
      "prediction_training = predict(X_train, thetar)\n",
      "yt = [e/1000.0 for e in y_train]\n",
      "pt = [e/1000.0 for e in prediction_training]\n",
      "print \" MSE training\", MSE(pt, yt ) # mean abs error 0.832253748827"
     ],
     "language": "python",
     "metadata": {},
     "outputs": [
      {
       "output_type": "stream",
       "stream": "stdout",
       "text": [
        " MSE training 1.60364829241\n"
       ]
      }
     ],
     "prompt_number": 72
    },
    {
     "cell_type": "code",
     "collapsed": false,
     "input": [
      "prediction_test = predict(X_test, thetar)\n",
      "ys = [e/1000.0 for e in y_test]\n",
      "ps = [e/1000.0 for e in prediction_test]\n",
      "print \" MSE test\", MSE(ps, ys ) # mean abs error 0.832253748827"
     ],
     "language": "python",
     "metadata": {},
     "outputs": [
      {
       "ename": "KeyboardInterrupt",
       "evalue": "",
       "output_type": "pyerr",
       "traceback": [
        "\u001b[1;31m---------------------------------------------------------------------------\u001b[0m\n\u001b[1;31mKeyboardInterrupt\u001b[0m                         Traceback (most recent call last)",
        "\u001b[1;32m<ipython-input-240-97808929ec05>\u001b[0m in \u001b[0;36m<module>\u001b[1;34m()\u001b[0m\n\u001b[1;32m----> 1\u001b[1;33m \u001b[0mprediction_test\u001b[0m \u001b[1;33m=\u001b[0m \u001b[0mpredict\u001b[0m\u001b[1;33m(\u001b[0m\u001b[0mX_test\u001b[0m\u001b[1;33m,\u001b[0m \u001b[0mthetar\u001b[0m\u001b[1;33m)\u001b[0m\u001b[1;33m\u001b[0m\u001b[0m\n\u001b[0m\u001b[0;32m      2\u001b[0m \u001b[0mys\u001b[0m \u001b[1;33m=\u001b[0m \u001b[1;33m[\u001b[0m\u001b[0me\u001b[0m\u001b[1;33m/\u001b[0m\u001b[1;36m1000.0\u001b[0m \u001b[1;32mfor\u001b[0m \u001b[0me\u001b[0m \u001b[1;32min\u001b[0m \u001b[0my_test\u001b[0m\u001b[1;33m]\u001b[0m\u001b[1;33m\u001b[0m\u001b[0m\n\u001b[0;32m      3\u001b[0m \u001b[0mps\u001b[0m \u001b[1;33m=\u001b[0m \u001b[1;33m[\u001b[0m\u001b[0me\u001b[0m\u001b[1;33m/\u001b[0m\u001b[1;36m1000.0\u001b[0m \u001b[1;32mfor\u001b[0m \u001b[0me\u001b[0m \u001b[1;32min\u001b[0m \u001b[0mprediction_test\u001b[0m\u001b[1;33m]\u001b[0m\u001b[1;33m\u001b[0m\u001b[0m\n\u001b[0;32m      4\u001b[0m \u001b[1;32mprint\u001b[0m \u001b[1;34m\" MSE test\"\u001b[0m\u001b[1;33m,\u001b[0m \u001b[0mMSE\u001b[0m\u001b[1;33m(\u001b[0m\u001b[0mps\u001b[0m\u001b[1;33m,\u001b[0m \u001b[0mys\u001b[0m \u001b[1;33m)\u001b[0m \u001b[1;31m# mean abs error 0.832253748827\u001b[0m\u001b[1;33m\u001b[0m\u001b[0m\n",
        "\u001b[1;32m<ipython-input-238-34ca80dbdc63>\u001b[0m in \u001b[0;36mpredict\u001b[1;34m(data, theta)\u001b[0m\n\u001b[0;32m      1\u001b[0m \u001b[1;32mdef\u001b[0m \u001b[0mpredict\u001b[0m\u001b[1;33m(\u001b[0m\u001b[0mdata\u001b[0m\u001b[1;33m,\u001b[0m \u001b[0mtheta\u001b[0m\u001b[1;33m)\u001b[0m\u001b[1;33m:\u001b[0m\u001b[1;33m\u001b[0m\u001b[0m\n\u001b[0;32m      2\u001b[0m     \u001b[0mtheta\u001b[0m \u001b[1;33m=\u001b[0m \u001b[0mnumpy\u001b[0m\u001b[1;33m.\u001b[0m\u001b[0mmatrix\u001b[0m\u001b[1;33m(\u001b[0m\u001b[0mtheta\u001b[0m\u001b[1;33m)\u001b[0m\u001b[1;33m\u001b[0m\u001b[0m\n\u001b[1;32m----> 3\u001b[1;33m     \u001b[0mprediction\u001b[0m \u001b[1;33m=\u001b[0m \u001b[1;33m[\u001b[0m\u001b[0mtheta\u001b[0m\u001b[1;33m*\u001b[0m\u001b[0mnumpy\u001b[0m\u001b[1;33m.\u001b[0m\u001b[0mmatrix\u001b[0m\u001b[1;33m(\u001b[0m\u001b[0md\u001b[0m\u001b[1;33m)\u001b[0m\u001b[1;33m.\u001b[0m\u001b[0mT\u001b[0m  \u001b[1;32mfor\u001b[0m \u001b[0md\u001b[0m \u001b[1;32min\u001b[0m \u001b[0mdata\u001b[0m\u001b[1;33m]\u001b[0m\u001b[1;33m\u001b[0m\u001b[0m\n\u001b[0m\u001b[0;32m      4\u001b[0m     \u001b[1;32mreturn\u001b[0m \u001b[0mprediction\u001b[0m\u001b[1;33m\u001b[0m\u001b[0m\n\u001b[0;32m      5\u001b[0m \u001b[1;33m\u001b[0m\u001b[0m\n",
        "\u001b[1;32m/oasis/scratch/iizhaki/temp_project/PV/python-virtualEnv3/lib/python2.7/site-packages/numpy/matrixlib/defmatrix.pyc\u001b[0m in \u001b[0;36m__mul__\u001b[1;34m(self, other)\u001b[0m\n\u001b[0;32m    339\u001b[0m         \u001b[1;32mif\u001b[0m \u001b[0misinstance\u001b[0m\u001b[1;33m(\u001b[0m\u001b[0mother\u001b[0m\u001b[1;33m,\u001b[0m \u001b[1;33m(\u001b[0m\u001b[0mN\u001b[0m\u001b[1;33m.\u001b[0m\u001b[0mndarray\u001b[0m\u001b[1;33m,\u001b[0m \u001b[0mlist\u001b[0m\u001b[1;33m,\u001b[0m \u001b[0mtuple\u001b[0m\u001b[1;33m)\u001b[0m\u001b[1;33m)\u001b[0m \u001b[1;33m:\u001b[0m\u001b[1;33m\u001b[0m\u001b[0m\n\u001b[0;32m    340\u001b[0m             \u001b[1;31m# This promotes 1-D vectors to row vectors\u001b[0m\u001b[1;33m\u001b[0m\u001b[1;33m\u001b[0m\u001b[0m\n\u001b[1;32m--> 341\u001b[1;33m             \u001b[1;32mreturn\u001b[0m \u001b[0mN\u001b[0m\u001b[1;33m.\u001b[0m\u001b[0mdot\u001b[0m\u001b[1;33m(\u001b[0m\u001b[0mself\u001b[0m\u001b[1;33m,\u001b[0m \u001b[0masmatrix\u001b[0m\u001b[1;33m(\u001b[0m\u001b[0mother\u001b[0m\u001b[1;33m)\u001b[0m\u001b[1;33m)\u001b[0m\u001b[1;33m\u001b[0m\u001b[0m\n\u001b[0m\u001b[0;32m    342\u001b[0m         \u001b[1;32mif\u001b[0m \u001b[0misscalar\u001b[0m\u001b[1;33m(\u001b[0m\u001b[0mother\u001b[0m\u001b[1;33m)\u001b[0m \u001b[1;32mor\u001b[0m \u001b[1;32mnot\u001b[0m \u001b[0mhasattr\u001b[0m\u001b[1;33m(\u001b[0m\u001b[0mother\u001b[0m\u001b[1;33m,\u001b[0m \u001b[1;34m'__rmul__'\u001b[0m\u001b[1;33m)\u001b[0m \u001b[1;33m:\u001b[0m\u001b[1;33m\u001b[0m\u001b[0m\n\u001b[0;32m    343\u001b[0m             \u001b[1;32mreturn\u001b[0m \u001b[0mN\u001b[0m\u001b[1;33m.\u001b[0m\u001b[0mdot\u001b[0m\u001b[1;33m(\u001b[0m\u001b[0mself\u001b[0m\u001b[1;33m,\u001b[0m \u001b[0mother\u001b[0m\u001b[1;33m)\u001b[0m\u001b[1;33m\u001b[0m\u001b[0m\n",
        "\u001b[1;31mKeyboardInterrupt\u001b[0m: "
       ]
      }
     ],
     "prompt_number": 240
    },
    {
     "cell_type": "code",
     "collapsed": false,
     "input": [
      "import numpy as np\n",
      "np.__config__.show()"
     ],
     "language": "python",
     "metadata": {},
     "outputs": [
      {
       "output_type": "stream",
       "stream": "stdout",
       "text": [
        "blas_info:\n",
        "    libraries = ['blas']\n",
        "    library_dirs = ['/opt/lapack/gnu/lib']\n",
        "    language = f77\n",
        "lapack_info:\n",
        "    libraries = ['lapack']\n",
        "    library_dirs = ['/opt/lapack/gnu/lib']\n",
        "    language = f77\n",
        "atlas_threads_info:\n",
        "  NOT AVAILABLE\n",
        "blas_opt_info:\n",
        "    libraries = ['blas']\n",
        "    library_dirs = ['/opt/lapack/gnu/lib']\n",
        "    language = f77\n",
        "    define_macros = [('NO_ATLAS_INFO', 1)]\n",
        "atlas_blas_threads_info:\n",
        "  NOT AVAILABLE\n",
        "openblas_info:\n",
        "  NOT AVAILABLE\n",
        "lapack_opt_info:\n",
        "    libraries = ['lapack', 'blas']\n",
        "    library_dirs = ['/opt/lapack/gnu/lib']\n",
        "    language = f77\n",
        "    define_macros = [('NO_ATLAS_INFO', 1)]\n",
        "atlas_info:\n",
        "  NOT AVAILABLE\n",
        "lapack_mkl_info:\n",
        "  NOT AVAILABLE\n",
        "blas_mkl_info:\n",
        "  NOT AVAILABLE\n",
        "atlas_blas_info:\n",
        "  NOT AVAILABLE\n",
        "mkl_info:\n",
        "  NOT AVAILABLE\n"
       ]
      }
     ],
     "prompt_number": 16
    },
    {
     "cell_type": "heading",
     "level": 2,
     "metadata": {},
     "source": [
      "Test with PlayDoh"
     ]
    },
    {
     "cell_type": "code",
     "collapsed": false,
     "input": [
      "import numpy as np\n",
      "#save  matrix\n",
      "file = open(\"/home/iizhaki/oasis/CSE255/MatrixReorder.pck\")\n",
      "matrix =np.load(file)\n",
      "file.close()\n",
      "print \"done\"\n",
      "\n",
      "#save  matrix\n",
      "file = open(\"/home/iizhaki/oasis/CSE255/YsReorder.pck\")\n",
      "rankingR = np.load(file)\n",
      "file.close()\n",
      "print \"done\"\n",
      "\n",
      "#save  matrix\n",
      "file = open(\"/home/iizhaki/oasis/CSE255/IndexReorder.pck\")\n",
      "indexes= np.load(file)\n",
      "file.close()\n",
      "print \"done\"\n",
      "\n",
      "print indexes[:20]\n",
      "X = [matrix[i] for i in indexes]\n",
      "y = [rankingR[i] for i in indexes]\n",
      "\n",
      "\n",
      "n = 100000 #int(len(X)*0.7)\n",
      "X_train = X[:n]\n",
      "y_train = y[:n]\n",
      "\n",
      "#X_test =X[n:]\n",
      "#y_test =y[n:]"
     ],
     "language": "python",
     "metadata": {},
     "outputs": [
      {
       "output_type": "stream",
       "stream": "stdout",
       "text": [
        "done\n",
        "done"
       ]
      },
      {
       "output_type": "stream",
       "stream": "stdout",
       "text": [
        "\n",
        "done"
       ]
      },
      {
       "output_type": "stream",
       "stream": "stdout",
       "text": [
        "\n",
        "[1079569  944663 1177637  202632 1327565  277798  625838  296735  382265\n",
        " 1212205 1038896 1251769 1025485  379692 1587813  184734  951334 1234560\n",
        "  952987  209674]\n"
       ]
      }
     ],
     "prompt_number": 68
    },
    {
     "cell_type": "code",
     "collapsed": false,
     "input": [
      "# NEGATIVE Log-likelihood\n",
      "thetas = numpy.array([0] * len(X_train[0]))\n",
      "lam = 0.1\n",
      "\n",
      "def f(i):\n",
      "    X = X_train[i]\n",
      "    y = Y_train[i]\n",
      "    theta = thetas[i]\n",
      "    logit = np.dot(X, theta)\n",
      "    loglikelihood = -np.log(1 + np.exp(-logit)).sum(axis=0, dtype='float')\n",
      "    loglikelihood -= np.dot(logit, 1 - y)\n",
      "    loglikelihood -= lam * np.dot(theta, theta)\n",
      "  \n",
      "    #print \"ll =\", loglikelihood\n",
      "    return -loglikelihood"
     ],
     "language": "python",
     "metadata": {},
     "outputs": [],
     "prompt_number": 1
    },
    {
     "cell_type": "code",
     "collapsed": false,
     "input": [
      "import time\n",
      "import timeit\n",
      "import playdoh\n",
      "\n",
      "\n",
      "\n",
      "#thetar,l,info = scipy.optimize.fmin_l_bfgs_b(f, numpy.array([0] * len(X_train[0])).T, fprime, args = (numpy.array(X_train), numpy.array(y_train).T, 0.1))\n",
      "#thetar = scipy.optimize.minimize(f, numpy.array([0] * len(X_train[0])).T, jac = fprime, args = (numpy.array(X_train), numpy.array(y_train).T, 0.1))\n",
      "if __name__ == '__main__':\n",
      "    start = time.time()\n",
      "    results = playdoh.maximize(fun,\n",
      "                       popsize = 10000, # size of the population\n",
      "                       maxiter = 10, # maximum number of iterations\n",
      "                       cpu = 2, # number of CPUs to use on the local machine\n",
      "                       x_initrange = [-10.,10.]) # initial interval for the ``x`` parameter\n",
      "\n",
      "    # Display the final results in a table\n",
      "    playdoh.print_table(results)\n",
      "    end = time.time()\n",
      "    finished = end - start\n",
      "    print finished\n",
      "\n"
     ],
     "language": "python",
     "metadata": {},
     "outputs": []
    },
    {
     "cell_type": "code",
     "collapsed": false,
     "input": [
      "import playdoh\n",
      "\n",
      "thetas = numpy.array([0] * 100)\n",
      "lam = 0.1\n",
      "\n",
      "# The fitness function to maximize\n",
      "def fun(x, y):\n",
      "    return x\n",
      "\n",
      "\n",
      "if __name__ == '__main__':\n",
      "    # Maximize the fitness function in parallel\n",
      "    results = playdoh.minimize(fun,\n",
      "                       popsize=1,  # size of the population\n",
      "                       maxiter=1,  # maximum number of iterations\n",
      "                       cpu=1)\n",
      "\n",
      "    # Display the final result in a table\n",
      "    playdoh.print_table(results)"
     ],
     "language": "python",
     "metadata": {},
     "outputs": []
    },
    {
     "cell_type": "code",
     "collapsed": false,
     "input": [
      "X_train = np.array(X_train)\n",
      "y_train = np.array(y_train)"
     ],
     "language": "python",
     "metadata": {},
     "outputs": [],
     "prompt_number": 69
    },
    {
     "cell_type": "code",
     "collapsed": false,
     "input": [
      "# Objective\n",
      "def f(theta, X, y, lam):\n",
      "    diff = numpy.dot(X, theta) - y\n",
      "    diffSq = (norm(diff) ** 2) / len(X)\n",
      "    diffSqReg = diffSq + lam * norm(theta) ** 2\n",
      "    #print \"f : \" , diffSqReg\n",
      "    return diffSqReg"
     ],
     "language": "python",
     "metadata": {},
     "outputs": [],
     "prompt_number": 32
    },
    {
     "cell_type": "code",
     "collapsed": false,
     "input": [
      "import time\n",
      "import timeit\n",
      "\n",
      "theta  = numpy.array([0] * len(X_train[0])).T\n",
      "\n",
      "start = time.time()\n",
      "f(theta, X_train, y_train, 0.1)\n",
      "end = time.time()\n",
      "finished = end - start\n",
      "print finished"
     ],
     "language": "python",
     "metadata": {},
     "outputs": [
      {
       "ename": "TypeError",
       "evalue": "f() takes at most 3 positional arguments (4 given)",
       "output_type": "pyerr",
       "traceback": [
        "\u001b[1;31m---------------------------------------------------------------------------\u001b[0m\n\u001b[1;31mTypeError\u001b[0m                                 Traceback (most recent call last)",
        "\u001b[1;32m<ipython-input-70-54e05b225547>\u001b[0m in \u001b[0;36m<module>\u001b[1;34m()\u001b[0m\n\u001b[0;32m      5\u001b[0m \u001b[1;33m\u001b[0m\u001b[0m\n\u001b[0;32m      6\u001b[0m \u001b[0mstart\u001b[0m \u001b[1;33m=\u001b[0m \u001b[0mtime\u001b[0m\u001b[1;33m.\u001b[0m\u001b[0mtime\u001b[0m\u001b[1;33m(\u001b[0m\u001b[1;33m)\u001b[0m\u001b[1;33m\u001b[0m\u001b[0m\n\u001b[1;32m----> 7\u001b[1;33m \u001b[0mf\u001b[0m\u001b[1;33m(\u001b[0m\u001b[0mtheta\u001b[0m\u001b[1;33m,\u001b[0m \u001b[0mX_train\u001b[0m\u001b[1;33m,\u001b[0m \u001b[0my_train\u001b[0m\u001b[1;33m,\u001b[0m \u001b[1;36m0.1\u001b[0m\u001b[1;33m)\u001b[0m\u001b[1;33m\u001b[0m\u001b[0m\n\u001b[0m\u001b[0;32m      8\u001b[0m \u001b[0mend\u001b[0m \u001b[1;33m=\u001b[0m \u001b[0mtime\u001b[0m\u001b[1;33m.\u001b[0m\u001b[0mtime\u001b[0m\u001b[1;33m(\u001b[0m\u001b[1;33m)\u001b[0m\u001b[1;33m\u001b[0m\u001b[0m\n\u001b[0;32m      9\u001b[0m \u001b[0mfinished\u001b[0m \u001b[1;33m=\u001b[0m \u001b[0mend\u001b[0m \u001b[1;33m-\u001b[0m \u001b[0mstart\u001b[0m\u001b[1;33m\u001b[0m\u001b[0m\n",
        "\u001b[1;32m/oasis/scratch/iizhaki/temp_project/PV/python-virtualEnv3/lib/python2.7/site-packages/numpy/random/mtrand.so\u001b[0m in \u001b[0;36mmtrand.RandomState.f (numpy/random/mtrand/mtrand.c:11268)\u001b[1;34m()\u001b[0m\n",
        "\u001b[1;31mTypeError\u001b[0m: f() takes at most 3 positional arguments (4 given)"
       ]
      }
     ],
     "prompt_number": 70
    },
    {
     "cell_type": "code",
     "collapsed": false,
     "input": [
      "import threading\n",
      "from threading import Thread\n",
      "from multiprocessing.pool import ThreadPool\n",
      "import time\n",
      "import timeit\n",
      "\n",
      "def inner(x,y):\n",
      "  return sum([x[i]*y[i] for i in range(len(x))])\n",
      "\n",
      "def sigmoid(x):\n",
      "  return 1.0 / (1 + np.exp(-x))\n",
      "\n",
      "l = X_train.shape[0]\n",
      "res = dict()\n",
      "theta = numpy.array([0] * len(X_train[0]))\n",
      "\n",
      "def fprimeold(theta, X, y, lam):\n",
      "    diff = numpy.dot(X, theta) - y\n",
      "    #print diff\n",
      "    return 2 * numpy.dot(X.T, diff) / X_train.shape[0] + 2 * lam * theta\n",
      "\n",
      "# Derivative\n",
      "def fprime(theta, X, y, lam, mi, ma, ress):\n",
      "    X = np.array(X, copy=True)\n",
      "    y = np.array(y, copy=True)\n",
      "    theta = np.array(theta, copy=True)\n",
      "    X[: mi] = 0.\n",
      "    X[ma :] = 0\n",
      "    y[: mi] = 0\n",
      "    y[ma : ] = 0\n",
      "    theta[mi : ma] = 0\n",
      "    diff = numpy.dot(X, theta) - y\n",
      "    #print diff\n",
      "    ress[mi] = 2 * (numpy.dot(diff, X) / X_train.shape[0] + lam * theta)\n",
      "\n",
      "threads = []\n",
      "N = 1\n",
      "for n in range(N):\n",
      "    low = n * 1.0 / N\n",
      "    high = (n + 1.0) / N\n",
      "    threads.append(Thread(target = fprime, args = (theta, X_train, y_train, 0.1, low, high, res)))\n",
      "#t3 = Thread(target = fprime, args = (theta, X_train, y_train, 0.1, 2.0*l / 3, l - 1, res))\n",
      "\n",
      "start = time.time()\n",
      "\n",
      "for t in threads:\n",
      "    t.start()\n",
      "\n",
      "for t in threads:\n",
      "    t.join()\n",
      "\n",
      "end = time.time()\n",
      "finished = end - start\n",
      "print finished\n",
      "\n",
      "fres = np.zeros(res[0].shape)\n",
      "for r in res.values():\n",
      "    fres += r\n",
      "    \n",
      "\n",
      "start = time.time()\n",
      "d = fprimeold(theta, X_train, y_train, 0.1)\n",
      "end = time.time()\n",
      "finished = end - start\n",
      "print finished\n",
      "\n",
      "print fres\n",
      "print d\n",
      "print [100.0 * sum(fres == d) / len(d)]"
     ],
     "language": "python",
     "metadata": {},
     "outputs": [
      {
       "output_type": "stream",
       "stream": "stdout",
       "text": [
        "0.912188053131\n",
        "0.496465921402"
       ]
      },
      {
       "output_type": "stream",
       "stream": "stdout",
       "text": [
        "\n",
        "[-0.08  0.    0.   ...,  0.    0.    0.  ]\n",
        "[ -7.91206000e+03  -1.13400000e+01  -1.18400000e+01 ...,  -1.72000000e+04\n",
        "   0.00000000e+00  -1.39800000e+04]\n",
        "[20.233463035019454]\n"
       ]
      }
     ],
     "prompt_number": 84
    },
    {
     "cell_type": "code",
     "collapsed": false,
     "input": [],
     "language": "python",
     "metadata": {},
     "outputs": [],
     "prompt_number": 17
    },
    {
     "cell_type": "code",
     "collapsed": false,
     "input": [],
     "language": "python",
     "metadata": {},
     "outputs": [],
     "prompt_number": 16
    },
    {
     "cell_type": "code",
     "collapsed": false,
     "input": [],
     "language": "python",
     "metadata": {},
     "outputs": []
    }
   ],
   "metadata": {}
  }
 ]
}