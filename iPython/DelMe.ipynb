{
 "metadata": {
  "name": "",
  "signature": "sha256:31efc7b86e2fb9cb88953e02b2e2a6eb7e189383d607014eaeb54c74978bcde2"
 },
 "nbformat": 3,
 "nbformat_minor": 0,
 "worksheets": [
  {
   "cells": [
    {
     "cell_type": "code",
     "collapsed": false,
     "input": [
      "import pickle\n",
      "from sklearn.cluster import KMeans \n",
      "from sklearn.cluster import AgglomerativeClustering \n",
      "from sklearn.neighbors import kneighbors_graph\n",
      "import time\n",
      "import timeit"
     ],
     "language": "python",
     "metadata": {},
     "outputs": [],
     "prompt_number": 1
    },
    {
     "cell_type": "code",
     "collapsed": false,
     "input": [
      "#read places\n",
      "\n",
      "file  = open (\"/home/iizhaki/oasis/CSE255/restaurantsReviewsUS.pck\")\n",
      "places = pickle.load(file)\n",
      "file.close();\n",
      "print \"done\""
     ],
     "language": "python",
     "metadata": {},
     "outputs": [
      {
       "output_type": "stream",
       "stream": "stdout",
       "text": [
        "done\n"
       ]
      }
     ],
     "prompt_number": 2
    },
    {
     "cell_type": "code",
     "collapsed": false,
     "input": [
      "start = timeit.timeit()\n",
      "gps = [tuple(p[2]) for p in places]\n",
      "\n",
      "#GPS = [g for g in gps if (g != [0, 0] and ((g[0] >= 24 and g[0] <= 49 and g[1] >= -128 and g[1] <= -47) or (g[0] >= 35 and g[0] <= 58 and g[1] >= -11 and g[1] <= 45)))]\n",
      "GPS = [g for g in gps if (g != [0, 0] and (g[0] >= 24 and g[0] <= 49 and g[1] >= -128 and g[1] <= -47))]\n",
      "print len(gps), len(GPS)\n",
      "end = timeit.timeit()\n",
      "print end - start"
     ],
     "language": "python",
     "metadata": {},
     "outputs": [
      {
       "output_type": "stream",
       "stream": "stdout",
       "text": [
        "357191 357191\n",
        "-0.00137424468994\n"
       ]
      }
     ],
     "prompt_number": 3
    },
    {
     "cell_type": "code",
     "collapsed": false,
     "input": [
      "K = 100\n",
      "km =  KMeans (n_clusters=K, n_jobs=-1)\n",
      "km.fit(GPS)"
     ],
     "language": "python",
     "metadata": {},
     "outputs": [
      {
       "metadata": {},
       "output_type": "pyout",
       "prompt_number": 4,
       "text": [
        "KMeans(copy_x=True, init='k-means++', max_iter=300, n_clusters=100, n_init=10,\n",
        "    n_jobs=-1, precompute_distances=True, random_state=None, tol=0.0001,\n",
        "    verbose=0)"
       ]
      }
     ],
     "prompt_number": 4
    },
    {
     "cell_type": "code",
     "collapsed": false,
     "input": [
      "#save places clusters\n",
      "file = open(\"/home/iizhaki/oasis/CSE255/gpsUS\" + str(K) + \".pck\", \"w\")\n",
      "pickle.dump(km.labels_, file)\n",
      "file.close()\n",
      "print \"done\""
     ],
     "language": "python",
     "metadata": {},
     "outputs": [
      {
       "output_type": "stream",
       "stream": "stdout",
       "text": [
        "done\n"
       ]
      }
     ],
     "prompt_number": 5
    },
    {
     "cell_type": "code",
     "collapsed": false,
     "input": [
      "#save places clusters\n",
      "file = open(\"/home/iizhaki/oasis/CSE255/gpsUS\" + str(K) + \"_cent.pck\", \"w\")\n",
      "pickle.dump(km.cluster_centers_, file)\n",
      "file.close()\n",
      "print \"done\""
     ],
     "language": "python",
     "metadata": {},
     "outputs": [
      {
       "output_type": "stream",
       "stream": "stdout",
       "text": [
        "done\n"
       ]
      }
     ],
     "prompt_number": 6
    },
    {
     "cell_type": "code",
     "collapsed": false,
     "input": [
      "#save kmeans object itself\n",
      "file = open(\"/home/iizhaki/oasis/CSE255/gpsUS\" + str(K) + \"_obj.pck\", \"w\")\n",
      "pickle.dump(km, file)\n",
      "file.close()\n",
      "print \"done\""
     ],
     "language": "python",
     "metadata": {},
     "outputs": [
      {
       "output_type": "stream",
       "stream": "stdout",
       "text": [
        "done\n"
       ]
      }
     ],
     "prompt_number": 73
    },
    {
     "cell_type": "code",
     "collapsed": false,
     "input": [
      "file = open(\"/home/iizhaki/oasis/CSE255/gpsUS\" + str(K) + \"_obj.pck\")\n",
      "kmm = pickle.load(file)\n",
      "file.close()\n",
      "print \"done\""
     ],
     "language": "python",
     "metadata": {},
     "outputs": [
      {
       "output_type": "stream",
       "stream": "stdout",
       "text": [
        "done\n"
       ]
      }
     ],
     "prompt_number": 27
    },
    {
     "cell_type": "code",
     "collapsed": false,
     "input": [
      "print type (km)\n",
      "print [sum(km.labels_ == i) for i in range(K)]\n",
      "print km.cluster_centers_\n",
      "print gps[0]"
     ],
     "language": "python",
     "metadata": {},
     "outputs": []
    },
    {
     "cell_type": "code",
     "collapsed": false,
     "input": [
      "X = [tuple(p[2]) for p in places]\n",
      "knn_graph = kneighbors_graph(X, 30)\n",
      "print(X[0])\n",
      "\n",
      "for connectivity in (None, knn_graph):\n",
      "    for n_clusters in (30, 3):\n",
      "        plt.figure(figsize=(10, 4))\n",
      "        for index, linkage in enumerate(('average', 'complete', 'ward')):\n",
      "            plt.subplot(1, 3, index + 1)\n",
      "            model = AgglomerativeClustering(linkage=linkage,\n",
      "                                            connectivity=connectivity,\n",
      "                                            n_clusters=n_clusters)\n",
      "            t0 = time.time()\n",
      "            model.fit(X)\n",
      "            elapsed_time = time.time() - t0\n",
      "            plt.scatter(X[:, 0], X[:, 1], c=model.labels_,\n",
      "                        cmap=plt.cm.spectral)\n",
      "            plt.title('linkage=%s (time %.2fs)' % (linkage, elapsed_time),\n",
      "                      fontdict=dict(verticalalignment='top'))\n",
      "            plt.axis('equal')\n",
      "            plt.axis('off')\n",
      "\n",
      "            plt.subplots_adjust(bottom=0, top=.89, wspace=0,\n",
      "                                left=0, right=1)\n",
      "            plt.suptitle('n_cluster=%i, connectivity=%r' %\n",
      "                         (n_clusters, connectivity is not None), size=17)\n",
      "\n",
      "\n",
      "plt.show()"
     ],
     "language": "python",
     "metadata": {},
     "outputs": []
    },
    {
     "cell_type": "code",
     "collapsed": false,
     "input": [
      "test = [(y, x) for (x, y) in km.cluster_centers_]\n",
      "plt.plot(*np.transpose(test), marker='o', color='r', ls='')"
     ],
     "language": "python",
     "metadata": {},
     "outputs": []
    },
    {
     "cell_type": "code",
     "collapsed": false,
     "input": [
      "for (x, y) in km.cluster_centers_:\n",
      "    break\n",
      "    print \"addMarker(new google.maps.LatLng(\", x, \", \",  y, \"), \\\"(\", x, \", \", y,  \")\\\");\""
     ],
     "language": "python",
     "metadata": {},
     "outputs": [],
     "prompt_number": 5
    },
    {
     "cell_type": "code",
     "collapsed": false,
     "input": [
      "restReviews = np.load(\"/home/iizhaki/oasis/CSE255/reviewMatrix.pck\")\n",
      "print restReviews.shape \n",
      "\n",
      "print km.labels_.max()\n",
      "\n",
      "def rankVector():\n",
      "    total = len(places)\n",
      "    i = -1\n",
      "    restLocations = [()] * K\n",
      "\n",
      "    for l in km.labels_:\n",
      "        i = i + 1\n",
      "        \n",
      "        potential = restLocations[l]\n",
      "        if potential == ():\n",
      "            potential = ([i], np.array(restReviews[i], copy=True))\n",
      "        else:\n",
      "            idxs, arr = potential\n",
      "            potential = (idxs + [i], np.vstack([arr, restReviews[i]]))\n",
      "        restLocations[l] = potential\n",
      "            \n",
      "    return restLocations\n",
      "\n",
      "restLocations = rankVector()"
     ],
     "language": "python",
     "metadata": {},
     "outputs": [
      {
       "output_type": "stream",
       "stream": "stdout",
       "text": [
        "(357191, 363)\n",
        "299\n"
       ]
      }
     ],
     "prompt_number": 119
    },
    {
     "cell_type": "code",
     "collapsed": false,
     "input": [
      "#shadow = np.array(restLocations, copy=True)\n",
      "restLocations = np.array(shadow, copy=True)\n",
      "print len(restLocations[1][1])"
     ],
     "language": "python",
     "metadata": {},
     "outputs": [
      {
       "output_type": "stream",
       "stream": "stdout",
       "text": [
        "673\n"
       ]
      }
     ],
     "prompt_number": 73
    },
    {
     "cell_type": "code",
     "collapsed": false,
     "input": [
      "#for i in range (len(restLocations)):\n",
      " #   restLocations[i] = (restLocations[i][0], restLocations[i][1].tolist())\n",
      "\n",
      "file = open(\"/home/iizhaki/oasis/CSE255/categoriesByLocation.pck\", \"w\")\n",
      "pickle.dump(restLocations, file)\n",
      "file.close()\n",
      "print \"done\""
     ],
     "language": "python",
     "metadata": {},
     "outputs": [
      {
       "output_type": "stream",
       "stream": "stdout",
       "text": [
        "done\n"
       ]
      }
     ],
     "prompt_number": 120
    },
    {
     "cell_type": "code",
     "collapsed": false,
     "input": [
      "print len(restLocations[0][1]), len(restLocations[0][1][0]), shadow[0][1].shape"
     ],
     "language": "python",
     "metadata": {},
     "outputs": [
      {
       "output_type": "stream",
       "stream": "stdout",
       "text": [
        "1662 363 (1662, 363)\n"
       ]
      }
     ],
     "prompt_number": 63
    },
    {
     "cell_type": "code",
     "collapsed": false,
     "input": [
      "restLabel = np.load(\"/home/iizhaki/oasis/CSE255/reviewY.pck\")"
     ],
     "language": "python",
     "metadata": {},
     "outputs": [
      {
       "output_type": "stream",
       "stream": "stdout",
       "text": [
        "\n"
       ]
      }
     ],
     "prompt_number": 46
    },
    {
     "cell_type": "code",
     "collapsed": false,
     "input": [
      "padding = np.ones((len(places), 1))\n",
      "print padding.shape, restLocations.shape, restReviews.shape, restScore.shape\n",
      "restFeatures = np.concatenate((padding, restLocations, restReviews), axis = 1)\n",
      "print restFeatures.shape"
     ],
     "language": "python",
     "metadata": {},
     "outputs": [
      {
       "output_type": "stream",
       "stream": "stdout",
       "text": [
        "(357191, 1) (357191, 300) (357191, 363) (357191,)\n",
        "(357191, 664)"
       ]
      },
      {
       "output_type": "stream",
       "stream": "stdout",
       "text": [
        "\n"
       ]
      }
     ],
     "prompt_number": 52
    },
    {
     "cell_type": "code",
     "collapsed": false,
     "input": [
      "file = open(\"/home/iizhaki/oasis/CSE255/reviewFeatures.pck\", \"w\")\n",
      "np.save(file, restFeatures)\n",
      "file.close()"
     ],
     "language": "python",
     "metadata": {},
     "outputs": [],
     "prompt_number": 55
    },
    {
     "cell_type": "code",
     "collapsed": false,
     "input": [
      "import numpy as np\n",
      "import urllib\n",
      "import scipy.optimize\n",
      "import random\n",
      "from math import exp\n",
      "from math import log\n",
      "\n",
      "def parseData(fname):\n",
      "  for l in urllib.urlopen(fname):\n",
      "    yield eval(l)\n",
      "\n",
      "print \"Reading data...\"\n",
      "#data = np.load(\"/home/iizhaki/oasis/CSE255/reviewFeatures.pck\")\n",
      "print \"done\"\n",
      "\n",
      "def inner(x,y):\n",
      "  return sum([x[i]*y[i] for i in range(len(x))])\n",
      "\n",
      "def sigmoid(x):\n",
      "  return 1.0 / (1 + np.exp(-x))\n",
      "\n",
      "# NEGATIVE Log-likelihood\n",
      "def f(theta, X, y, lam):\n",
      "  logit = np.dot(X, theta)\n",
      "  loglikelihood = np.log(1 + np.exp(-logit)).sum(axis=0, dtype='float')\n",
      "  loglikelihood -= np.dot(logit, y)\n",
      "  loglikelihood -= lam * np.dot(theta, theta)\n",
      "  \n",
      "  print \"ll =\", loglikelihood\n",
      "  return -loglikelihood\n",
      "\n",
      "# NEGATIVE Derivative of log-likelihood\n",
      "def fprime(theta, X, y, lam):\n",
      "    logit = np.dot(X, theta)\n",
      "    dl = np.dot(X.T, (1 - sigmoid(logit)));\n",
      "    dl -= y_spec\n",
      "    dl -= 2 * lam * theta\n",
      "    # Negate the return value since we're doing gradient *ascent*\n",
      "    return np.array([-x for x in dl])\n",
      "\n",
      "\n",
      "X = np.ones((10, 20))\n",
      "y = np.array([0, 1, 1, 1, 0, 0, 1, 0, 1, 1])\n",
      "print y.shape\n",
      "\n",
      "# Training data\n",
      "X_train = X\n",
      "y_train = y\n",
      "\n",
      "dummy = np.zeros((X_train.shape[1]))\n",
      "y_spec = np.array([X[i] if not y_train[i] else dummy for i in range(len(X_train))]).sum(axis=0, dtype='float')\n",
      "\n",
      "# Test data\n",
      "#X_test = X[1000:]\n",
      "#y_test = y[1000:]\n",
      "\n",
      "theta,l,info = scipy.optimize.fmin_l_bfgs_b(f, [0]*len(X[0]), fprime, args = (X_train, y_train, 1.0))\n",
      "print theta.shape\n",
      "print \"Final log likelihood =\", -l"
     ],
     "language": "python",
     "metadata": {},
     "outputs": [
      {
       "output_type": "stream",
       "stream": "stdout",
       "text": [
        "Reading data...\n",
        "done\n",
        "(10,)\n",
        "ll = 6.9314718056\n",
        "ll = -27.7192343061\n",
        "ll = 5.74386274729\n",
        "ll = 6.91421450357\n",
        "ll = 6.93122858857\n",
        "ll = 6.9314683793\n",
        "ll = 6.93147175733\n",
        "ll = 6.93147180492\n",
        "ll = 6.93147180559\n",
        "ll = 6.9314718056\n",
        "ll = 6.9314718056\n",
        "ll = 6.9314718056\n",
        "ll = 6.9314718056\n",
        "ll = 6.9314718056\n",
        "ll = 6.9314718056\n",
        "ll = 6.9314718056\n",
        "ll = 6.9314718056\n",
        "ll = 6.9314718056\n",
        "ll = 6.9314718056\n",
        "ll = 6.9314718056\n",
        "ll = 6.9314718056\n",
        "(20,)\n",
        "Final log likelihood = 6.9314718056\n"
       ]
      }
     ],
     "prompt_number": 148
    },
    {
     "cell_type": "code",
     "collapsed": false,
     "input": [
      "len(data\n",
      "    )"
     ],
     "language": "python",
     "metadata": {},
     "outputs": [
      {
       "metadata": {},
       "output_type": "pyout",
       "prompt_number": 128,
       "text": [
        "357191"
       ]
      }
     ],
     "prompt_number": 128
    },
    {
     "cell_type": "code",
     "collapsed": false,
     "input": [
      "import numpy as np\n",
      "import urllib\n",
      "import scipy.optimize\n",
      "import random\n",
      "from math import exp\n",
      "from math import log\n",
      "\n",
      "def parseData(fname):\n",
      "  for l in urllib.urlopen(fname):\n",
      "    yield eval(l)\n",
      "\n",
      "print \"Reading data...\"\n",
      "data = np.load(\"/home/iizhaki/oasis/CSE255/reviewFeatures.pck\")\n",
      "print \"done\"\n",
      "\n",
      "def inner(x,y):\n",
      "  return sum([x[i]*y[i] for i in range(len(x))])\n",
      "\n",
      "def sigmoid(x):\n",
      "  return 1.0 / (1 + np.exp(-x))\n",
      "\n",
      "# NEGATIVE Log-likelihood\n",
      "def f(theta, X, y, lam):\n",
      "  loglikelihood = 0\n",
      "  for i in range(len(X)):\n",
      "    logit = inner(X[i], theta)\n",
      "    loglikelihood -= log(1 + exp(-logit))\n",
      "    if not y[i]:\n",
      "      loglikelihood -= logit\n",
      "  for k in range(len(theta)):\n",
      "    loglikelihood -= lam * theta[k]*theta[k]\n",
      "  print \"ll =\", loglikelihood\n",
      "  return -loglikelihood\n",
      "\n",
      "# NEGATIVE Derivative of log-likelihood\n",
      "def fprime(theta, X, y, lam):\n",
      "    logit = np.dot(X, theta)\n",
      "    dl = np.dot(X.T, (1 - sigmoid(logit)));\n",
      "    dl -= y_spec\n",
      "    dl -= 2 * lam * theta\n",
      "    # Negate the return value since we're doing gradient *ascent*\n",
      "    return np.array([-x for x in dl])\n",
      "\n",
      "X = data\n",
      "y = np.load(\"/home/iizhaki/oasis/CSE255/reviewY.pck\")\n",
      "\n",
      "\n",
      "ntraining = len(X) * 0.7\n",
      "# Training data\n",
      "X_train = X[:ntraining]\n",
      "y_train = y[:ntraining]\n",
      "\n",
      "# Test data\n",
      "X_test = X[ntraining:]\n",
      "y_test = y[ntraining:]\n",
      "\n",
      "dummy = np.zeros((X_train.shape[1]))\n",
      "y_spec = np.array([X[i] if not y_train[i] else dummy for i in range(len(X_train))]).sum(axis=0, dtype='float')\n",
      "\n",
      "theta,l,info = scipy.optimize.fmin_l_bfgs_b(f, [0]*len(X[0]), fprime, args = (X_train, y_train, 1.0))\n",
      "print theta.shape\n",
      "print \"Final log likelihood =\", -l"
     ],
     "language": "python",
     "metadata": {},
     "outputs": [
      {
       "output_type": "stream",
       "stream": "stdout",
       "text": [
        "Reading data...\n",
        "done"
       ]
      },
      {
       "output_type": "stream",
       "stream": "stdout",
       "text": [
        "\n"
       ]
      },
      {
       "ename": "KeyboardInterrupt",
       "evalue": "",
       "output_type": "pyerr",
       "traceback": [
        "\u001b[1;31m---------------------------------------------------------------------------\u001b[0m\n\u001b[1;31mKeyboardInterrupt\u001b[0m                         Traceback (most recent call last)",
        "\u001b[1;32m<ipython-input-131-563325817cde>\u001b[0m in \u001b[0;36m<module>\u001b[1;34m()\u001b[0m\n\u001b[0;32m     56\u001b[0m \u001b[1;33m\u001b[0m\u001b[0m\n\u001b[0;32m     57\u001b[0m \u001b[0mdummy\u001b[0m \u001b[1;33m=\u001b[0m \u001b[0mnp\u001b[0m\u001b[1;33m.\u001b[0m\u001b[0mzeros\u001b[0m\u001b[1;33m(\u001b[0m\u001b[1;33m(\u001b[0m\u001b[0mX_train\u001b[0m\u001b[1;33m.\u001b[0m\u001b[0mshape\u001b[0m\u001b[1;33m[\u001b[0m\u001b[1;36m1\u001b[0m\u001b[1;33m]\u001b[0m\u001b[1;33m)\u001b[0m\u001b[1;33m)\u001b[0m\u001b[1;33m\u001b[0m\u001b[0m\n\u001b[1;32m---> 58\u001b[1;33m \u001b[0my_spec\u001b[0m \u001b[1;33m=\u001b[0m \u001b[0mnp\u001b[0m\u001b[1;33m.\u001b[0m\u001b[0marray\u001b[0m\u001b[1;33m(\u001b[0m\u001b[1;33m[\u001b[0m\u001b[0mX\u001b[0m\u001b[1;33m[\u001b[0m\u001b[0mi\u001b[0m\u001b[1;33m]\u001b[0m \u001b[1;32mif\u001b[0m \u001b[1;32mnot\u001b[0m \u001b[0my_train\u001b[0m\u001b[1;33m[\u001b[0m\u001b[0mi\u001b[0m\u001b[1;33m]\u001b[0m \u001b[1;32melse\u001b[0m \u001b[0mdummy\u001b[0m \u001b[1;32mfor\u001b[0m \u001b[0mi\u001b[0m \u001b[1;32min\u001b[0m \u001b[0mrange\u001b[0m\u001b[1;33m(\u001b[0m\u001b[0mlen\u001b[0m\u001b[1;33m(\u001b[0m\u001b[0mX_train\u001b[0m\u001b[1;33m)\u001b[0m\u001b[1;33m)\u001b[0m\u001b[1;33m]\u001b[0m\u001b[1;33m)\u001b[0m\u001b[1;33m.\u001b[0m\u001b[0msum\u001b[0m\u001b[1;33m(\u001b[0m\u001b[0maxis\u001b[0m\u001b[1;33m=\u001b[0m\u001b[1;36m0\u001b[0m\u001b[1;33m,\u001b[0m \u001b[0mdtype\u001b[0m\u001b[1;33m=\u001b[0m\u001b[1;34m'float'\u001b[0m\u001b[1;33m)\u001b[0m\u001b[1;33m\u001b[0m\u001b[0m\n\u001b[0m\u001b[0;32m     59\u001b[0m \u001b[1;33m\u001b[0m\u001b[0m\n\u001b[0;32m     60\u001b[0m \u001b[0mtheta\u001b[0m\u001b[1;33m,\u001b[0m\u001b[0ml\u001b[0m\u001b[1;33m,\u001b[0m\u001b[0minfo\u001b[0m \u001b[1;33m=\u001b[0m \u001b[0mscipy\u001b[0m\u001b[1;33m.\u001b[0m\u001b[0moptimize\u001b[0m\u001b[1;33m.\u001b[0m\u001b[0mfmin_l_bfgs_b\u001b[0m\u001b[1;33m(\u001b[0m\u001b[0mf\u001b[0m\u001b[1;33m,\u001b[0m \u001b[1;33m[\u001b[0m\u001b[1;36m0\u001b[0m\u001b[1;33m]\u001b[0m\u001b[1;33m*\u001b[0m\u001b[0mlen\u001b[0m\u001b[1;33m(\u001b[0m\u001b[0mX\u001b[0m\u001b[1;33m[\u001b[0m\u001b[1;36m0\u001b[0m\u001b[1;33m]\u001b[0m\u001b[1;33m)\u001b[0m\u001b[1;33m,\u001b[0m \u001b[0mfprime\u001b[0m\u001b[1;33m,\u001b[0m \u001b[0margs\u001b[0m \u001b[1;33m=\u001b[0m \u001b[1;33m(\u001b[0m\u001b[0mX_train\u001b[0m\u001b[1;33m,\u001b[0m \u001b[0my_train\u001b[0m\u001b[1;33m,\u001b[0m \u001b[1;36m1.0\u001b[0m\u001b[1;33m)\u001b[0m\u001b[1;33m)\u001b[0m\u001b[1;33m\u001b[0m\u001b[0m\n",
        "\u001b[1;31mKeyboardInterrupt\u001b[0m: "
       ]
      }
     ],
     "prompt_number": 131
    },
    {
     "cell_type": "code",
     "collapsed": false,
     "input": [
      "A = np.array([[1,2,3],[4,5,6],[7,8,9]])\n",
      "B = np.array([[5,5,6],[1,3,3],[9,8,9]])\n",
      "print np.append(A, B, axis=0)"
     ],
     "language": "python",
     "metadata": {},
     "outputs": [
      {
       "output_type": "stream",
       "stream": "stdout",
       "text": [
        "[[1 2 3]\n",
        " [4 5 6]\n",
        " [7 8 9]\n",
        " [5 5 6]\n",
        " [1 3 3]\n",
        " [9 8 9]]\n"
       ]
      }
     ],
     "prompt_number": 2
    },
    {
     "cell_type": "code",
     "collapsed": false,
     "input": [
      "A = [1,2,3]\n",
      "A[1] = 5\n",
      "print A"
     ],
     "language": "python",
     "metadata": {},
     "outputs": [
      {
       "output_type": "stream",
       "stream": "stdout",
       "text": [
        "[1, 5, 3]\n"
       ]
      }
     ],
     "prompt_number": 3
    },
    {
     "cell_type": "code",
     "collapsed": false,
     "input": [
      "A = [1,2,3]\n",
      "B = [2,3,4];\n",
      "print [A, B]"
     ],
     "language": "python",
     "metadata": {},
     "outputs": [
      {
       "output_type": "stream",
       "stream": "stdout",
       "text": [
        "[[1, 2, 3], [2, 3, 4]]\n"
       ]
      }
     ],
     "prompt_number": 34
    },
    {
     "cell_type": "code",
     "collapsed": false,
     "input": [
      "import numpy as np\n",
      "import urllib\n",
      "import scipy.optimize\n",
      "import random\n",
      "from math import exp\n",
      "from math import log\n",
      "\n",
      "def parseData(fname):\n",
      "  for l in urllib.urlopen(fname):\n",
      "    yield eval(l)\n",
      "\n",
      "print \"Reading data...\"\n",
      "file  = open (\"/home/iizhaki/oasis/CSE255/categoriesByLocation.pck\")\n",
      "data = pickle.load(file)\n",
      "file.close();\n",
      "print \"done\"\n",
      "print data.shape"
     ],
     "language": "python",
     "metadata": {},
     "outputs": [
      {
       "output_type": "stream",
       "stream": "stdout",
       "text": [
        "Reading data...\n",
        "done"
       ]
      },
      {
       "output_type": "stream",
       "stream": "stdout",
       "text": [
        "\n"
       ]
      },
      {
       "ename": "AttributeError",
       "evalue": "'list' object has no attribute 'shape'",
       "output_type": "pyerr",
       "traceback": [
        "\u001b[1;31m---------------------------------------------------------------------------\u001b[0m\n\u001b[1;31mAttributeError\u001b[0m                            Traceback (most recent call last)",
        "\u001b[1;32m<ipython-input-121-bacc95db270b>\u001b[0m in \u001b[0;36m<module>\u001b[1;34m()\u001b[0m\n\u001b[0;32m     15\u001b[0m \u001b[0mfile\u001b[0m\u001b[1;33m.\u001b[0m\u001b[0mclose\u001b[0m\u001b[1;33m(\u001b[0m\u001b[1;33m)\u001b[0m\u001b[1;33m;\u001b[0m\u001b[1;33m\u001b[0m\u001b[0m\n\u001b[0;32m     16\u001b[0m \u001b[1;32mprint\u001b[0m \u001b[1;34m\"done\"\u001b[0m\u001b[1;33m\u001b[0m\u001b[0m\n\u001b[1;32m---> 17\u001b[1;33m \u001b[1;32mprint\u001b[0m \u001b[0mdata\u001b[0m\u001b[1;33m.\u001b[0m\u001b[0mshape\u001b[0m\u001b[1;33m\u001b[0m\u001b[0m\n\u001b[0m",
        "\u001b[1;31mAttributeError\u001b[0m: 'list' object has no attribute 'shape'"
       ]
      }
     ],
     "prompt_number": 121
    },
    {
     "cell_type": "code",
     "collapsed": false,
     "input": [
      "def inner(x,y):\n",
      "  return sum([x[i]*y[i] for i in range(len(x))])\n",
      "\n",
      "def sigmoid(x):\n",
      "  return 1.0 / (1 + np.exp(-x))\n",
      "\n",
      "# NEGATIVE Log-likelihood\n",
      "def f(theta, X, y, lam):\n",
      "  logit = np.dot(X, theta)\n",
      "  loglikelihood = -np.log(1 + np.exp(-logit)).sum(axis=0, dtype='float')\n",
      "  loglikelihood -= np.dot(logit, 1 - y)\n",
      "  loglikelihood -= lam * np.dot(theta, theta)\n",
      "  \n",
      "  #print \"ll =\", loglikelihood\n",
      "  return -loglikelihood\n",
      "\n",
      "# NEGATIVE Derivative of log-likelihood\n",
      "def fprime(theta, X, y, lam):\n",
      "    logit = np.dot(X, theta)\n",
      "    dl = np.dot(X.T, (1 - sigmoid(logit)));\n",
      "    dl -= y_spec\n",
      "    dl -= 2 * lam * theta\n",
      "    # Negate the return value since we're doing gradient *ascent*\n",
      "    return np.array([-x for x in dl])\n",
      "\n",
      "X = data\n",
      "y = np.load(\"/home/iizhaki/oasis/CSE255/reviewY.pck\")\n",
      "\n",
      "# Training data\n",
      "X_train = X\n",
      "y_train = y\n",
      "\n",
      "# Test data\n",
      "X_test = X[1000:]\n",
      "y_test = y[1000:]\n",
      "K = 300\n",
      "\n",
      "thetas = [None] * K\n",
      "\n",
      "for k in range(K):\n",
      "    X_train = np.array(data[k][1])\n",
      "    #print X_train.shape\n",
      "    X_train = np.hstack([np.ones((X_train.shape[0], 1)), X_train])\n",
      "    #print X_train.shape\n",
      "    y_train = np.array([y[i] for i in data[k][0]])\n",
      "    \n",
      "    #dummy = np.zeros((X_train.shape[1]))\n",
      "    #y_spec = np.array([X_train[i] if not y_train[i] else dummy for i in range(len(X_train))]).sum(axis=0, dtype='float')\n",
      "\n",
      "    #theta,l,info = scipy.optimize.fmin_l_bfgs_b(f, [0]*len(X_train[0]), fprime, args = (X_train, y_train, 1.0))\n",
      "    theta, residuals, rank, s = numpy.linalg.lstsq(X_train, y_train)\n",
      "    #print \"Final log likelihood for \", k, \" = \", -l\n",
      "    \n",
      "    thetas[k] = theta\n",
      "    \n",
      "print \"done\""
     ],
     "language": "python",
     "metadata": {},
     "outputs": [
      {
       "output_type": "stream",
       "stream": "stdout",
       "text": [
        "done\n"
       ]
      }
     ],
     "prompt_number": 158
    },
    {
     "cell_type": "code",
     "collapsed": false,
     "input": [
      "print y_spec.shape\n",
      "\n",
      "k = 2\n",
      "X_train = np.array(data[k][1])\n",
      "y_train = np.array([(int)(y[i] / 1000) for i in data[k][0]])\n",
      "\n",
      "print data[k][0][0]\n",
      "print sum(data[k][1][0] == restReviews[23])"
     ],
     "language": "python",
     "metadata": {},
     "outputs": [
      {
       "output_type": "stream",
       "stream": "stdout",
       "text": [
        "(363,)\n",
        "23\n",
        "363\n"
       ]
      }
     ],
     "prompt_number": 144
    },
    {
     "cell_type": "code",
     "collapsed": false,
     "input": [
      "def predict(data, theta):\n",
      "    theta = numpy.matrix(theta)\n",
      "    prediction = [theta * numpy.matrix(d).T  for d in data]\n",
      "    return prediction\n",
      "\n",
      "def MSE(prediction, real):\n",
      "    squares = [ (p - r) for p,r in zip (prediction, real) ]\n",
      "    return numpy.mean(squares)\n",
      "\n",
      "num = 0\n",
      "for k in range(K):\n",
      "    X_train = data[k][1]\n",
      "    X_train = np.hstack([np.ones((X_train.shape[0], 1)), X_train])\n",
      "    y_train = np.array([y[i] for i in data[k][0]])\n",
      "    \n",
      "    y_pred = predict(X_train, thetas[k])\n",
      "    #print len(y_pred), len(X_train)\n",
      "    \n",
      "    mse = MSE(y_pred, y_train)\n",
      "    num = num + mse\n",
      "    #print \" MSE training \", k, \" is: \", mse\n",
      "    \n",
      "print num / K"
     ],
     "language": "python",
     "metadata": {},
     "outputs": [
      {
       "output_type": "stream",
       "stream": "stdout",
       "text": [
        "-0.259466274409\n"
       ]
      }
     ],
     "prompt_number": 160
    },
    {
     "cell_type": "code",
     "collapsed": false,
     "input": [
      "import os\n",
      "\n",
      "statinfo = os.stat(\"/home/iizhaki/oasis/CSE255/MatrixwWords2.pck\")\n",
      "#statinfo = os.stat(\"/home/iizhaki/oasis/CSE255/MatrixD.pck\")\n",
      "statinfo.st_size\n",
      "#13240755216"
     ],
     "language": "python",
     "metadata": {},
     "outputs": [
      {
       "metadata": {},
       "output_type": "pyout",
       "prompt_number": 126,
       "text": [
        "5504766416"
       ]
      }
     ],
     "prompt_number": 126
    },
    {
     "cell_type": "heading",
     "level": 2,
     "metadata": {},
     "source": [
      "Cross  Computing Users"
     ]
    },
    {
     "cell_type": "code",
     "collapsed": false,
     "input": [
      "file  = open (\"/home/iizhaki/oasis/CSE255/users_GPS_US.pck\")\n",
      "usersGps = pickle.load(file)\n",
      "file.close();\n",
      "print \"done\"\n",
      "\n",
      "file  = open (\"/home/iizhaki/oasis/CSE255/users_id_US.pck\")\n",
      "userIds = pickle.load(file)\n",
      "file.close();\n",
      "print \"done\"\n"
     ],
     "language": "python",
     "metadata": {},
     "outputs": [
      {
       "output_type": "stream",
       "stream": "stdout",
       "text": [
        "done\n",
        "done"
       ]
      },
      {
       "output_type": "stream",
       "stream": "stdout",
       "text": [
        "\n"
       ]
      }
     ],
     "prompt_number": 28
    },
    {
     "cell_type": "code",
     "collapsed": false,
     "input": [
      "userPerRegion = {}\n",
      "i = 0\n",
      "for gps in usersGps:\n",
      "    pred = km.predict(gps)\n",
      "    userPerRegion[userIds[i]] = pred[0]\n",
      "    i = i + 1"
     ],
     "language": "python",
     "metadata": {},
     "outputs": [],
     "prompt_number": 38
    },
    {
     "cell_type": "code",
     "collapsed": false,
     "input": [
      "print (list(userPerRegion))[0]"
     ],
     "language": "python",
     "metadata": {},
     "outputs": [
      {
       "output_type": "stream",
       "stream": "stdout",
       "text": [
        "108437601487080769932\n"
       ]
      }
     ],
     "prompt_number": 40
    },
    {
     "cell_type": "code",
     "collapsed": false,
     "input": [
      "#read places\n",
      "\n",
      "file  = open (\"/home/iizhaki/oasis/CSE255/reviewsUS.pck\")\n",
      "reviews = pickle.load(file)\n",
      "file.close();\n",
      "print \"done\""
     ],
     "language": "python",
     "metadata": {},
     "outputs": [
      {
       "output_type": "stream",
       "stream": "stdout",
       "text": [
        "done\n"
       ]
      }
     ],
     "prompt_number": 41
    },
    {
     "cell_type": "code",
     "collapsed": false,
     "input": [
      "print reviews[0]"
     ],
     "language": "python",
     "metadata": {},
     "outputs": [
      {
       "output_type": "stream",
       "stream": "stdout",
       "text": [
        "(5000, [u'Mexican Restaurant', u'Latin American Restaurant'], \"You won't be disappointed in the food.  They do business lunches and groups (6 to 10) very well.  Service always fast and helpful.  This is one of my top 4 Mexican restaurants in Akron area, the only detractor is the age of the building and the environment.  Again not back, nothing to stay away from, but their business is serving Mexican food to their customers and they do that well.  Lunch is the majority of times I have been there.\", '101280967457665576418', '103173356293785774089')\n"
       ]
      }
     ],
     "prompt_number": 42
    },
    {
     "cell_type": "code",
     "collapsed": false,
     "input": [
      "from collections import defaultdict\n",
      "import re\n",
      "\n",
      "occurs = defaultdict(int)\n",
      "for review in reviews:\n",
      "    string = reviews[0][2].lower()\n",
      "    occs = filter(None, re.split(\"[,. \\-!?:()01234566789]+\", string))\n",
      "    for occ in occs:\n",
      "        occurs[occ] += 1"
     ],
     "language": "python",
     "metadata": {},
     "outputs": []
    },
    {
     "cell_type": "code",
     "collapsed": false,
     "input": [
      "print 2"
     ],
     "language": "python",
     "metadata": {},
     "outputs": []
    },
    {
     "cell_type": "code",
     "collapsed": false,
     "input": [
      "import numpy as np\n",
      "#save  matrix\n",
      "file = open(\"/home/iizhaki/oasis/CSE255/MatrixReorder.pck\")\n",
      "matrix =np.load(file)\n",
      "file.close()\n",
      "print \"done\"\n",
      "\n",
      "#save  matrix\n",
      "file = open(\"/home/iizhaki/oasis/CSE255/YsReorder.pck\")\n",
      "rankingR = np.load(file)\n",
      "file.close()\n",
      "print \"done\""
     ],
     "language": "python",
     "metadata": {},
     "outputs": [
      {
       "output_type": "stream",
       "stream": "stdout",
       "text": [
        "done\n",
        "done\n"
       ]
      }
     ],
     "prompt_number": 1
    },
    {
     "cell_type": "code",
     "collapsed": false,
     "input": [
      "len(matrix)"
     ],
     "language": "python",
     "metadata": {},
     "outputs": [
      {
       "metadata": {},
       "output_type": "pyout",
       "prompt_number": 9,
       "text": [
        "1609992"
       ]
      }
     ],
     "prompt_number": 9
    },
    {
     "cell_type": "code",
     "collapsed": false,
     "input": [
      "a=  np.ndarray([])"
     ],
     "language": "python",
     "metadata": {},
     "outputs": [
      {
       "output_type": "stream",
       "stream": "stdout",
       "text": [
        "2.03512200714e-316\n"
       ]
      }
     ],
     "prompt_number": 13
    },
    {
     "cell_type": "code",
     "collapsed": false,
     "input": [
      "matrix_n   = []\n",
      "rankingR_n = []\n",
      "for i in range(len(matrix)):\n",
      "    if rankingR[i]!=0:\n",
      "        matrix_n.append(matrix[i])\n",
      "        rankingR_n.append(rankingR[i])\n",
      "import random\n",
      "del matrix\n",
      "del rankingR\n",
      "matrix   = matrix_n\n",
      "rankingR = rankingR_n\n",
      "indexes = range(len(matrix))\n",
      "random.shuffle(indexes)"
     ],
     "language": "python",
     "metadata": {},
     "outputs": [],
     "prompt_number": 3
    },
    {
     "cell_type": "code",
     "collapsed": false,
     "input": [
      "m = np.array(matrix)"
     ],
     "language": "python",
     "metadata": {},
     "outputs": [],
     "prompt_number": 7
    },
    {
     "cell_type": "code",
     "collapsed": false,
     "input": [
      "import numpy as np\n",
      "#save  matrix\n",
      "file = open(\"/home/iizhaki/oasis/CSE255/MatrixReorder_0.pck\", \"w\")\n",
      "np.save(file,m)\n",
      "file.close()\n",
      "print \"done\"\n",
      "\n",
      "\n",
      "#save  matrix\n",
      "file = open(\"/home/iizhaki/oasis/CSE255/YsReorder_1.pck\", \"w\")\n",
      "np.save(file,rankingR)\n",
      "file.close()\n",
      "print \"done\"\n",
      "\n",
      "#save  matrix\n",
      "file = open(\"/home/iizhaki/oasis/CSE255/IndexReorder_1.pck\", \"w\")\n",
      "np.save(file,indexes)\n",
      "file.close()\n",
      "print \"done\""
     ],
     "language": "python",
     "metadata": {},
     "outputs": [
      {
       "output_type": "stream",
       "stream": "stdout",
       "text": [
        "done\n",
        "done"
       ]
      },
      {
       "output_type": "stream",
       "stream": "stdout",
       "text": [
        "\n",
        "done"
       ]
      },
      {
       "output_type": "stream",
       "stream": "stdout",
       "text": [
        "\n"
       ]
      }
     ],
     "prompt_number": 8
    },
    {
     "cell_type": "code",
     "collapsed": false,
     "input": [],
     "language": "python",
     "metadata": {},
     "outputs": []
    }
   ],
   "metadata": {}
  }
 ]
}