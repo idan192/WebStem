{
 "metadata": {
  "name": "",
  "signature": "sha256:f8f6f139b14d5f2ec0465d0db5c758bb6989a7617b6e7c30c48a37cc9e960780"
 },
 "nbformat": 3,
 "nbformat_minor": 0,
 "worksheets": [
  {
   "cells": [
    {
     "cell_type": "code",
     "collapsed": false,
     "input": [
      "import pickle\n",
      "from collections import defaultdict \n",
      "from sklearn.cluster import KMeans \n",
      "from sklearn.cluster import AgglomerativeClustering \n",
      "from sklearn.neighbors import kneighbors_graph\n",
      "import time\n",
      "import timeit"
     ],
     "language": "python",
     "metadata": {},
     "outputs": [],
     "prompt_number": 41
    },
    {
     "cell_type": "code",
     "collapsed": false,
     "input": [
      "#read places\n",
      "\n",
      "file  = open (\"/home/iizhaki/oasis/CSE255/reviewsUS.pck\")\n",
      "reviews = pickle.load(file)\n",
      "file.close();\n",
      "print \"done\""
     ],
     "language": "python",
     "metadata": {},
     "outputs": [
      {
       "output_type": "stream",
       "stream": "stdout",
       "text": [
        "done\n"
       ]
      }
     ],
     "prompt_number": 35
    },
    {
     "cell_type": "heading",
     "level": 2,
     "metadata": {},
     "source": [
      "Cross  Computing Users"
     ]
    },
    {
     "cell_type": "code",
     "collapsed": false,
     "input": [
      "#read places\n",
      "\n",
      "file  = open (\"/home/iizhaki/oasis/CSE255/reviewsUS.pck\")\n",
      "reviews = pickle.load(file)\n",
      "file.close();\n",
      "print \"done\""
     ],
     "language": "python",
     "metadata": {},
     "outputs": [
      {
       "output_type": "stream",
       "stream": "stdout",
       "text": [
        "done\n"
       ]
      }
     ],
     "prompt_number": 36
    },
    {
     "cell_type": "code",
     "collapsed": false,
     "input": [
      "print reviews[0], len(reviews)"
     ],
     "language": "python",
     "metadata": {},
     "outputs": [
      {
       "output_type": "stream",
       "stream": "stdout",
       "text": [
        "(5000, [u'Mexican Restaurant', u'Latin American Restaurant'], \"You won't be disappointed in the food.  They do business lunches and groups (6 to 10) very well.  Service always fast and helpful.  This is one of my top 4 Mexican restaurants in Akron area, the only detractor is the age of the building and the environment.  Again not back, nothing to stay away from, but their business is serving Mexican food to their customers and they do that well.  Lunch is the majority of times I have been there.\", '101280967457665576418', '103173356293785774089') 1610014\n"
       ]
      }
     ],
     "prompt_number": 37
    },
    {
     "cell_type": "code",
     "collapsed": false,
     "input": [
      "import collections\n",
      "import re\n",
      "\n",
      "occursPos = defaultdict(int)\n",
      "occursNeg = defaultdict(int)\n",
      "\n",
      "for review in reviews:\n",
      "    string = review[2].lower()\n",
      "    occs = filter(None, re.split(\"[,. !?:()01234566789\\t\\n]+\", string))\n",
      "    if review[0] >= 4000:\n",
      "        for occ in occs:\n",
      "            occursPos[occ] += 1\n",
      "    elif review[0] <= 2000:\n",
      "        for occ in occs:\n",
      "            occursNeg[occ] += 1"
     ],
     "language": "python",
     "metadata": {},
     "outputs": [],
     "prompt_number": 42
    },
    {
     "cell_type": "code",
     "collapsed": false,
     "input": [
      "odPos = sorted(occursPos, key=occursPos.get)[::-1]\n",
      "odNeg = sorted(occursNeg, key=occursNeg.get)[::-1]\n",
      "#odPos = collections.OrderedDict(sorted(occursPos,key=lambda key: occursPos[key]))\n",
      "#print odPos[0:100]"
     ],
     "language": "python",
     "metadata": {},
     "outputs": [],
     "prompt_number": 43
    },
    {
     "cell_type": "code",
     "collapsed": false,
     "input": [
      "print odPos[0], occursPos[odPos[0]]\n",
      "print odNeg[0], occursNeg[odNeg[0]]"
     ],
     "language": "python",
     "metadata": {},
     "outputs": [
      {
       "output_type": "stream",
       "stream": "stdout",
       "text": [
        "the 1503865\n",
        "the 671701\n"
       ]
      }
     ],
     "prompt_number": 44
    },
    {
     "cell_type": "code",
     "collapsed": false,
     "input": [
      "xxx = filter(lambda x : occursPos[x] >= 1000, odPos)\n",
      "yyy = filter(lambda y : occursNeg[y] >= 1000, odNeg)\n",
      "\n",
      "diff = lambda l1,l2: [x for x in l1 if x not in l2]\n",
      "inter = set(xxx).intersection(set(yyy))\n",
      "\n",
      "pos = diff(xxx, inter)\n",
      "neg = diff(yyy, inter)\n",
      "\n",
      "pos = [(x, occursPos[x]) for x in pos]\n",
      "neg = [(x, occursNeg[x]) for x in neg]"
     ],
     "language": "python",
     "metadata": {},
     "outputs": [],
     "prompt_number": 63
    },
    {
     "cell_type": "code",
     "collapsed": false,
     "input": [
      "print [x for (x, y) in pos[:50]]\n",
      "print [y for (y, r) in neg[:50]]"
     ],
     "language": "python",
     "metadata": {},
     "outputs": [
      {
       "output_type": "stream",
       "stream": "stdout",
       "text": [
        "['wonderful', 'fantastic', 'loved', 'perfect', 'reasonable', 'attentive', 'outstanding', 'variety', 'pricey', 'specials', 'yummy', 'brunch', 'helpful', 'unique', 'die', 'beautiful', 'ambiance', 'incredible', 'perfectly', 'beers', 'vegetarian', 'neighborhood', 'homemade', 'patio', 'flavors', 'cuisine', 'miss', 'yum', 'chicago', 'glad', 'beat', 'packed', 'chocolate', 'affordable', 'flavorful', 'reasonably', 'pho', 'environment', 'easy', 'healthy', 'gem', 'downtown', 'comfortable', 'crispy', 'cozy', 'interesting', 'favorites', 'consistently', 'generous', 'tender']\n",
        "['awful', 'disgusting', 'nasty', 'waste', 'worse', 'charged', 'sucks', 'sick', 'gross', 'hair', 'burnt', 'soggy', 'barely', 'employee', 'tasteless', 'refused', 'overcooked', 'sent', 'refund', 'supposed', 'crap', 'cashier', 'mess', 'driver', 'stale', 'apparently', 'bother', 'ridiculous', 'health', 'poisoning', 'unprofessional', 'returned', 'ignored', 'joke', 'spoke', 'receipt', 'nor', 'threw', 'hung', 'messed', 'answer', 'telling', 'complained', 'shame', 'needless', 'calling', 'standing', 'upset', 'disappointment', 'poorly']\n"
       ]
      }
     ],
     "prompt_number": 65
    },
    {
     "cell_type": "code",
     "collapsed": false,
     "input": [
      "i = 0\n",
      "posDict = {}\n",
      "for p in pos[:50]:\n",
      "    posDict[p[0]] = i\n",
      "    i += 1"
     ],
     "language": "python",
     "metadata": {},
     "outputs": [],
     "prompt_number": 47
    },
    {
     "cell_type": "code",
     "collapsed": false,
     "input": [
      "i = 0\n",
      "negDict = {}\n",
      "for p in neg[:50]:\n",
      "    negDict[p[0]] = i\n",
      "    i += 1"
     ],
     "language": "python",
     "metadata": {},
     "outputs": [],
     "prompt_number": 48
    },
    {
     "cell_type": "code",
     "collapsed": false,
     "input": [
      "print posDict"
     ],
     "language": "python",
     "metadata": {},
     "outputs": [
      {
       "output_type": "stream",
       "stream": "stdout",
       "text": [
        "{'beautiful': 15, 'fantastic': 1, 'neighborhood': 21, 'outstanding': 6, 'ambiance': 16, 'comfortable': 42, 'tender': 49, 'miss': 26, 'packed': 31, 'cozy': 44, 'perfect': 3, 'cuisine': 25, 'generous': 48, 'attentive': 5, 'yummy': 10, 'variety': 7, 'crispy': 43, 'environment': 37, 'consistently': 47, 'wonderful': 0, 'gem': 40, 'homemade': 22, 'perfectly': 18, 'affordable': 33, 'flavors': 24, 'pho': 36, 'easy': 38, 'beat': 30, 'flavorful': 34, 'chocolate': 32, 'downtown': 41, 'pricey': 8, 'beers': 19, 'favorites': 46, 'brunch': 11, 'unique': 13, 'chicago': 28, 'glad': 29, 'loved': 2, 'helpful': 12, 'healthy': 39, 'die': 14, 'vegetarian': 20, 'incredible': 17, 'specials': 9, 'yum': 27, 'reasonable': 4, 'interesting': 45, 'reasonably': 35, 'patio': 23}\n"
       ]
      }
     ],
     "prompt_number": 49
    },
    {
     "cell_type": "code",
     "collapsed": false,
     "input": [
      "posReviewMap = defaultdict(list)\n",
      "\n",
      "for review in reviews:\n",
      "    restId = review[4]\n",
      "    pot = posReviewMap[restId]\n",
      "    if pot == []:\n",
      "        pot = [0] * 50\n",
      "        \n",
      "    string = review[2].lower()\n",
      "    occs = filter(None, re.split(\"[,. !?:()01234566789\\t\\n]+\", string))\n",
      "    for occ in occs:\n",
      "        if occ in posDict:\n",
      "            pot[posDict[occ]] += 1    \n",
      "            \n",
      "    posReviewMap[restId] = pot   "
     ],
     "language": "python",
     "metadata": {},
     "outputs": [],
     "prompt_number": 50
    },
    {
     "cell_type": "code",
     "collapsed": false,
     "input": [
      "negReviewMap = defaultdict(list)\n",
      "\n",
      "for review in reviews:\n",
      "    restId = review[4]\n",
      "    pot = negReviewMap[restId]\n",
      "    if pot == []:\n",
      "        pot = [0] * 50\n",
      "        \n",
      "    string = review[2].lower()\n",
      "    occs = filter(None, re.split(\"[,. !?:()01234566789\\t\\n]+\", string))\n",
      "    for occ in occs:\n",
      "        if occ in negDict:\n",
      "            pot[negDict[occ]] += 1    \n",
      "    \n",
      "    negReviewMap[restId] = pot"
     ],
     "language": "python",
     "metadata": {},
     "outputs": [],
     "prompt_number": 51
    },
    {
     "cell_type": "code",
     "collapsed": false,
     "input": [
      "for obj in posReviewMap.values():\n",
      "    if sum(obj) > 50:\n",
      "        i = 0\n",
      "        for o in obj:\n",
      "            if o > 90:\n",
      "                print pos[i]\n",
      "            i += 1"
     ],
     "language": "python",
     "metadata": {},
     "outputs": [
      {
       "output_type": "stream",
       "stream": "stdout",
       "text": [
        "('chocolate', 5610)\n"
       ]
      }
     ],
     "prompt_number": 61
    },
    {
     "cell_type": "code",
     "collapsed": false,
     "input": [
      "file  = open (\"/home/iizhaki/oasis/CSE255/reviewToPositiveMap.pck\", \"w\")\n",
      "pickle.dump(posReviewMap, file)\n",
      "file.close();\n",
      "print \"done\""
     ],
     "language": "python",
     "metadata": {},
     "outputs": [
      {
       "output_type": "stream",
       "stream": "stdout",
       "text": [
        "done\n"
       ]
      }
     ],
     "prompt_number": 279
    },
    {
     "cell_type": "code",
     "collapsed": false,
     "input": [
      "file  = open (\"/home/iizhaki/oasis/CSE255/reviewToNegativeMap.pck\", \"w\")\n",
      "pickle.dump(negReviewMap, file)\n",
      "file.close();\n",
      "print \"done\""
     ],
     "language": "python",
     "metadata": {},
     "outputs": [
      {
       "output_type": "stream",
       "stream": "stdout",
       "text": [
        "done\n"
       ]
      }
     ],
     "prompt_number": 280
    },
    {
     "cell_type": "code",
     "collapsed": false,
     "input": [
      "file  = open (\"/home/iizhaki/oasis/CSE255/positiveDict.pck\", \"w\")\n",
      "pickle.dump(pos[:50], file)\n",
      "file.close();\n",
      "print \"done\"\n",
      "\n",
      "file  = open (\"/home/iizhaki/oasis/CSE255/negativeDict.pck\", \"w\")\n",
      "pickle.dump(neg[:50], file)\n",
      "file.close();\n",
      "print \"done\""
     ],
     "language": "python",
     "metadata": {},
     "outputs": [
      {
       "output_type": "stream",
       "stream": "stdout",
       "text": [
        "done\n",
        "done\n"
       ]
      }
     ],
     "prompt_number": 281
    },
    {
     "cell_type": "heading",
     "level": 2,
     "metadata": {},
     "source": [
      "Compare least-square performance"
     ]
    },
    {
     "cell_type": "code",
     "collapsed": false,
     "input": [
      "import numpy as np\n",
      "\n",
      "file = open(\"/home/iizhaki/oasis/CSE255/MatrixD.pck\")\n",
      "A = np.load(file)\n",
      "file.close()\n",
      "print \"done\"\n",
      "\n",
      "file = open(\"/home/iizhaki/oasis/CSE255/YsD.pck\")\n",
      "B = np.load(file)\n",
      "file.close()\n",
      "print \"done\""
     ],
     "language": "python",
     "metadata": {},
     "outputs": [
      {
       "output_type": "stream",
       "stream": "stdout",
       "text": [
        "done\n",
        "done\n"
       ]
      }
     ],
     "prompt_number": 16
    },
    {
     "cell_type": "code",
     "collapsed": false,
     "input": [
      "import time\n",
      "import scipy\n",
      "from scipy.sparse import csr_matrix\n",
      "from scipy.optimize import leastsq"
     ],
     "language": "python",
     "metadata": {},
     "outputs": [],
     "prompt_number": 17
    },
    {
     "cell_type": "code",
     "collapsed": false,
     "input": [
      "start = time.time()\n",
      "X1, _, _, _ = numpy.linalg.lstsq(A[:2000], B[:2000]);\n",
      "end = time.time()\n",
      "print end - start"
     ],
     "language": "python",
     "metadata": {},
     "outputs": [
      {
       "output_type": "stream",
       "stream": "stdout",
       "text": [
        "2.31600308418\n"
       ]
      }
     ],
     "prompt_number": 18
    },
    {
     "cell_type": "code",
     "collapsed": false,
     "input": [
      "start = time.time()\n",
      "X2, _, _, _ = scipy.linalg.lstsq(A[:2000], B[:2000], False, False);\n",
      "end = time.time()\n",
      "print end - start"
     ],
     "language": "python",
     "metadata": {},
     "outputs": [
      {
       "output_type": "stream",
       "stream": "stdout",
       "text": [
        "3.16320014\n"
       ]
      }
     ],
     "prompt_number": 19
    },
    {
     "cell_type": "code",
     "collapsed": false,
     "input": [
      "print X1\n",
      "print X2"
     ],
     "language": "python",
     "metadata": {},
     "outputs": [
      {
       "output_type": "stream",
       "stream": "stdout",
       "text": [
        "[ -1.05684097e+11   1.05684096e+11   1.05684097e+11 ...,   0.00000000e+00\n",
        "   0.00000000e+00   0.00000000e+00]\n",
        "[  1.37792230e+14  -6.11870999e+43   1.52128245e+44 ...,   0.00000000e+00\n",
        "   0.00000000e+00   0.00000000e+00]\n"
       ]
      }
     ],
     "prompt_number": 32
    },
    {
     "cell_type": "code",
     "collapsed": false,
     "input": [],
     "language": "python",
     "metadata": {},
     "outputs": [],
     "prompt_number": 26
    },
    {
     "cell_type": "code",
     "collapsed": false,
     "input": [],
     "language": "python",
     "metadata": {},
     "outputs": []
    }
   ],
   "metadata": {}
  }
 ]
}