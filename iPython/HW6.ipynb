{
 "metadata": {
  "name": "",
  "signature": "sha256:bc76be3e37f0dd3e06eaed8dbb610dc8764f5df2441335328344229ce3f5decf"
 },
 "nbformat": 3,
 "nbformat_minor": 0,
 "worksheets": [
  {
   "cells": [
    {
     "cell_type": "code",
     "collapsed": false,
     "input": [
      "from _collections import defaultdict\n",
      "import time\n",
      "import timeit\n",
      "\n",
      "from numpy.linalg import norm\n",
      "import scipy.optimize\n",
      "\n",
      "import numpy as np\n",
      "\n",
      "\n",
      "def parseData(fname):\n",
      "  for l in open(fname):\n",
      "    yield eval(l)\n",
      "    \n",
      "def parseTxt(fname):\n",
      "  for l in open(fname):\n",
      "    yield l.strip().split(\" \")\n",
      "\n",
      "print \"Reading train...\"\n",
      "train = list(parseData(\"homework6_7/train.json\"))\n",
      "print \"done\"\n",
      "\n",
      "allXs = []\n",
      "allYs = []\n",
      "for l in train:\n",
      "  user, item, rating = l['reviewerID'], l['itemID'], l['rating']\n",
      "  allXs.append([user, item])\n",
      "  allYs.append(float(rating))\n",
      "\n",
      "print \"Reading test...\"\n",
      "test = np.array(list(parseTxt(\"homework6_7/labeled_Rating.txt\")))\n",
      "print \"done\"\n",
      "\n",
      "\n",
      "def miniFunc(Data, Alpha, BetaU, BetaI, Lambd):\n",
      "    part1 = 0\n",
      "    for [u, i], Rui in Data:\n",
      "        part1 += ((Alpha + BetaU[u] + BetaI[i] - Rui) ** 2)\n",
      "    \n",
      "    part2 = 0\n",
      "    for u in BetaU:\n",
      "        part2 += (BetaU[u] ** 2)\n",
      "    for i in BetaI:\n",
      "        part2 += (BetaI[i] ** 2)\n",
      "    \n",
      "    return part1 + Lambd * part2   \n",
      "\n",
      "\n",
      "oldVal = 0\n",
      "lambd = 1\n",
      "alpha = 0\n",
      "X = allXs\n",
      "y = allYs\n",
      "betaU = defaultdict(int)\n",
      "betaI = defaultdict(int)\n",
      "Ntrain = len(y)\n",
      "\n",
      "data = zip(X, y)\n",
      "\n",
      "while True:\n",
      "    lastAlpha = alpha\n",
      "    lastBetaU = betaU\n",
      "    lastBetaI = betaI\n",
      "    \n",
      "    # Alpha stage\n",
      "    alpha = 0\n",
      "    for [u, i], Rui in data:\n",
      "        bu = betaU[u]\n",
      "        bi = betaI[i]\n",
      "        alpha += Rui - (bu + bi)\n",
      "    alpha = alpha / Ntrain\n",
      "    \n",
      "    # BetaU stage \n",
      "    Iu = defaultdict(int)\n",
      "    betaU = defaultdict(int)\n",
      "    for [u, i], Rui in data:\n",
      "        betaU[u] += (Rui - (alpha + betaI[i]))\n",
      "        Iu[u] += 1\n",
      "    for u in betaU:\n",
      "        betaU[u] = betaU[u] / (lambd + Iu[u])\n",
      "\n",
      "    # BetaI stage \n",
      "    Ii = defaultdict(int)\n",
      "    betaI = defaultdict(int)\n",
      "    for [u, i], Rui in data:\n",
      "        betaI[i] += (Rui - (alpha + betaU[u]))\n",
      "        Ii[i] += 1\n",
      "    for i in betaI:\n",
      "        betaI[i] = betaI[i] / (lambd + Ii[i])\n",
      "        \n",
      "    newVal = miniFunc(data, alpha, betaU, betaI, lambd)\n",
      "    \n",
      "    if lastAlpha != 0 and oldVal < newVal:\n",
      "        alpha = lastAlpha\n",
      "        betaU = lastBetaU\n",
      "        betaI = lastBetaI\n",
      "        break\n",
      "        \n",
      "    oldVal = newVal\n",
      "    \n",
      "print alpha"
     ],
     "language": "python",
     "metadata": {},
     "outputs": [
      {
       "output_type": "stream",
       "stream": "stdout",
       "text": [
        "Reading train...\n",
        "done"
       ]
      },
      {
       "output_type": "stream",
       "stream": "stdout",
       "text": [
        "\n",
        "Reading test..."
       ]
      },
      {
       "output_type": "stream",
       "stream": "stdout",
       "text": [
        "\n",
        "done"
       ]
      },
      {
       "output_type": "stream",
       "stream": "stdout",
       "text": [
        "\n",
        "3.5194082852"
       ]
      },
      {
       "output_type": "stream",
       "stream": "stdout",
       "text": [
        "\n"
       ]
      }
     ],
     "prompt_number": 2
    },
    {
     "cell_type": "code",
     "collapsed": false,
     "input": [
      "item = 'I102776733'\n",
      "user = 'U566105319'"
     ],
     "language": "python",
     "metadata": {},
     "outputs": [],
     "prompt_number": 3
    },
    {
     "cell_type": "code",
     "collapsed": false,
     "input": [
      "print \"Alpha: \", alpha\n",
      "print \"BetaI of \", item, \": \", betaI[item]\n",
      "print \"BetaU of \", user, \": \", betaU[user]"
     ],
     "language": "python",
     "metadata": {},
     "outputs": [
      {
       "output_type": "stream",
       "stream": "stdout",
       "text": [
        "Alpha:  3.5194082852\n",
        "BetaI of  I102776733 :  0.171752035867\n",
        "BetaU of  U566105319 :  -1.03076735296\n"
       ]
      }
     ],
     "prompt_number": 4
    },
    {
     "cell_type": "code",
     "collapsed": false,
     "input": [
      "mse = 0\n",
      "for u, i, Rui in test:\n",
      "    p = alpha + betaU[u] + betaI[i]\n",
      "    mse += (p - float(Rui)) ** 2\n",
      "mse = mse / len(test)\n",
      "\n",
      "print \"Mse: \", mse"
     ],
     "language": "python",
     "metadata": {},
     "outputs": [
      {
       "output_type": "stream",
       "stream": "stdout",
       "text": [
        "Mse:  2.19889993422\n"
       ]
      }
     ],
     "prompt_number": 5
    },
    {
     "cell_type": "code",
     "collapsed": false,
     "input": [],
     "language": "python",
     "metadata": {},
     "outputs": [],
     "prompt_number": 45
    },
    {
     "cell_type": "heading",
     "level": 2,
     "metadata": {},
     "source": [
      "Jaccard"
     ]
    },
    {
     "cell_type": "code",
     "collapsed": false,
     "input": [
      "user1 = 'U229891973'\n",
      "user2 = 'U622491081'\n",
      "\n",
      "A = set([i for (u, i) in allXs if u == user1])\n",
      "B = set([i for (u, i) in allXs if u == user2])"
     ],
     "language": "python",
     "metadata": {},
     "outputs": [],
     "prompt_number": 6
    },
    {
     "cell_type": "code",
     "collapsed": false,
     "input": [
      "print len(A), len(B)"
     ],
     "language": "python",
     "metadata": {},
     "outputs": [
      {
       "output_type": "stream",
       "stream": "stdout",
       "text": [
        "4 3\n"
       ]
      }
     ],
     "prompt_number": 7
    },
    {
     "cell_type": "code",
     "collapsed": false,
     "input": [
      "Jaccard1 = len(A.intersection(B)) * 1.0 / len((A.union(B)))\n",
      "print Jaccard1"
     ],
     "language": "python",
     "metadata": {},
     "outputs": [
      {
       "output_type": "stream",
       "stream": "stdout",
       "text": [
        "0.75\n"
       ]
      }
     ],
     "prompt_number": 8
    },
    {
     "cell_type": "code",
     "collapsed": false,
     "input": [
      "user3 = 'U622491081'\n",
      "\n",
      "dictU = defaultdict(list)\n",
      "for u, i in allXs:\n",
      "    dictU[u].append(i)"
     ],
     "language": "python",
     "metadata": {},
     "outputs": [],
     "prompt_number": 9
    },
    {
     "cell_type": "code",
     "collapsed": false,
     "input": [
      "A = set(dictU[user3])\n",
      "\n",
      "bestJac = 0\n",
      "bestU = []\n",
      "\n",
      "for u in dictU:\n",
      "    if u == user3:\n",
      "        continue\n",
      "        \n",
      "    B = set(dictU[u])\n",
      "    jacc = len(A.intersection(B)) * 1.0 / len(A.union(B))\n",
      "    \n",
      "    if jacc > bestJac:\n",
      "        bestU = [u]\n",
      "        bestJac = jacc\n",
      "    elif jacc == bestJac:\n",
      "        bestU.append(u)\n",
      "        \n",
      "print bestU, bestJac"
     ],
     "language": "python",
     "metadata": {},
     "outputs": [
      {
       "output_type": "stream",
       "stream": "stdout",
       "text": [
        "['U359587607', 'U687939146', 'U096951499', 'U296575297', 'U387971231', 'U300899166'] 1.0\n"
       ]
      }
     ],
     "prompt_number": 10
    },
    {
     "cell_type": "code",
     "collapsed": false,
     "input": [],
     "language": "python",
     "metadata": {},
     "outputs": [],
     "prompt_number": 10
    },
    {
     "cell_type": "code",
     "collapsed": false,
     "input": [
      "user4 = 'U639726733'\n",
      "\n",
      "dictI = defaultdict(list)\n",
      "for u, i in allXs:\n",
      "    dictI[i].append(u)"
     ],
     "language": "python",
     "metadata": {},
     "outputs": [],
     "prompt_number": 11
    },
    {
     "cell_type": "code",
     "collapsed": false,
     "input": [
      "items = dictU[user4]\n",
      "\n",
      "for item in items:\n",
      "    A = set(dictI[item])\n",
      "\n",
      "    bestJac = 0\n",
      "    bestI = []\n",
      "\n",
      "    for i in dictI:\n",
      "        if i in items:\n",
      "            continue\n",
      "            \n",
      "        B = set(dictI[i])\n",
      "        jacc = len(A.intersection(B)) * 1.0 / len(A.union(B))\n",
      "\n",
      "        if jacc > bestJac:\n",
      "            bestI = [i]\n",
      "            bestJac = jacc\n",
      "        elif jacc == bestJac:\n",
      "            #bestI += [i]\n",
      "            bestI = [i]\n",
      "\n",
      "    print item, bestI, bestJac\n",
      "    print \"-------------\""
     ],
     "language": "python",
     "metadata": {},
     "outputs": [
      {
       "output_type": "stream",
       "stream": "stdout",
       "text": [
        "I827118969 ['I368057136'] 0\n",
        "-------------\n",
        "I988644602"
       ]
      },
      {
       "output_type": "stream",
       "stream": "stdout",
       "text": [
        " ['I368057136'] 0\n",
        "-------------\n",
        "I958777870"
       ]
      },
      {
       "output_type": "stream",
       "stream": "stdout",
       "text": [
        " ['I368057136'] 0\n",
        "-------------\n",
        "I616454620"
       ]
      },
      {
       "output_type": "stream",
       "stream": "stdout",
       "text": [
        " ['I368057136'] 0\n",
        "-------------\n",
        "I970119134"
       ]
      },
      {
       "output_type": "stream",
       "stream": "stdout",
       "text": [
        " ['I970165134'] 0.2\n",
        "-------------\n"
       ]
      }
     ],
     "prompt_number": 12
    },
    {
     "cell_type": "code",
     "collapsed": false,
     "input": [],
     "language": "python",
     "metadata": {},
     "outputs": [],
     "prompt_number": 12
    },
    {
     "cell_type": "code",
     "collapsed": false,
     "input": [],
     "language": "python",
     "metadata": {},
     "outputs": []
    }
   ],
   "metadata": {}
  }
 ]
}