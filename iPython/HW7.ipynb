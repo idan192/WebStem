{
 "metadata": {
  "name": "",
  "signature": "sha256:67f8c4a8531eeb659de0b944f28195ce8ffd04586ae07db51fa7e390e40e99ed"
 },
 "nbformat": 3,
 "nbformat_minor": 0,
 "worksheets": [
  {
   "cells": [
    {
     "cell_type": "code",
     "collapsed": false,
     "input": [
      "from _collections import defaultdict\n",
      "import time\n",
      "import timeit\n",
      "\n",
      "from numpy.linalg import norm\n",
      "import scipy.optimize\n",
      "\n",
      "import numpy as np\n",
      "\n",
      "def parseData(fname):\n",
      "  for l in open(fname):\n",
      "    yield eval(l)\n",
      "    \n",
      "def parseTxt(fname):\n",
      "  for l in open(fname):\n",
      "    yield l.strip().split(\" \")\n",
      "\n",
      "print \"Reading train...\"\n",
      "train = list(parseData(\"homework6_7/train.json\"))\n",
      "print \"done\"\n",
      "\n",
      "allXs = []\n",
      "allYs = []\n",
      "allRs = []\n",
      "for l in train:\n",
      "    user, item, helpful = l['reviewerID'], l['itemID'], l['helpful']\n",
      "    rating, words = l['rating'], l['reviewText']\n",
      "    allXs.append([user, item])\n",
      "    outOf = float(helpful['outOf'])\n",
      "    nHelpful = float(helpful['nHelpful'])\n",
      "    allYs.append((outOf, nHelpful))\n",
      "    \n",
      "    nWords = len(words.split())\n",
      "    allRs.append((float(rating), nWords, nHelpful * 1.0 / outOf))"
     ],
     "language": "python",
     "metadata": {},
     "outputs": [
      {
       "output_type": "stream",
       "stream": "stdout",
       "text": [
        "Reading train...\n",
        "done"
       ]
      },
      {
       "output_type": "stream",
       "stream": "stdout",
       "text": [
        "\n"
       ]
      }
     ],
     "prompt_number": 8
    },
    {
     "cell_type": "code",
     "collapsed": false,
     "input": [
      "print \"Reading test...\"\n",
      "test = list(parseTxt(\"homework6_7/labeled_Helpful.txt\"))\n",
      "print \"done\""
     ],
     "language": "python",
     "metadata": {},
     "outputs": [
      {
       "output_type": "stream",
       "stream": "stdout",
       "text": [
        "Reading test...\n",
        "done\n"
       ]
      }
     ],
     "prompt_number": 9
    },
    {
     "cell_type": "code",
     "collapsed": false,
     "input": [
      "# Part A\n",
      "alpha = 0\n",
      "for o, n in allYs:\n",
      "    if o == 0.:\n",
      "        continue\n",
      "    alpha += n * 1.0 / o\n",
      "alpha = alpha / len(allYs)\n",
      "\n",
      "print alpha"
     ],
     "language": "python",
     "metadata": {},
     "outputs": [
      {
       "output_type": "stream",
       "stream": "stdout",
       "text": [
        "0.533185849504\n"
       ]
      }
     ],
     "prompt_number": 10
    },
    {
     "cell_type": "code",
     "collapsed": false,
     "input": [
      "# Part B\n",
      "dictUI = defaultdict(list)\n",
      "\n",
      "for [u, i], [o, n] in zip(allXs, allYs):\n",
      "    dictUI[(u, i)] += (o, n)"
     ],
     "language": "python",
     "metadata": {},
     "outputs": [],
     "prompt_number": 11
    },
    {
     "cell_type": "code",
     "collapsed": false,
     "input": [
      "yUI = defaultdict(list)\n",
      "for u, i, o, n in test:\n",
      "    yUI[(u, i)] += (o, n)"
     ],
     "language": "python",
     "metadata": {},
     "outputs": [],
     "prompt_number": 12
    },
    {
     "cell_type": "code",
     "collapsed": false,
     "input": [
      "mse = 0.\n",
      "AE = 0.\n",
      "for u, i, o, n in test:\n",
      "    predN = float(o) * alpha\n",
      "    mse += (float(n) - predN) ** 2\n",
      "    AE += abs(float(n) - predN)   \n",
      "        \n",
      "mse = mse / len(test)\n",
      "print \"MSE: \", mse\n",
      "print \"AE: \", AE"
     ],
     "language": "python",
     "metadata": {},
     "outputs": [
      {
       "output_type": "stream",
       "stream": "stdout",
       "text": [
        "MSE:  74.4869061806\n",
        "AE:  18362.4004226\n"
       ]
      }
     ],
     "prompt_number": 13
    },
    {
     "cell_type": "code",
     "collapsed": false,
     "input": [],
     "language": "python",
     "metadata": {},
     "outputs": [],
     "prompt_number": 13
    },
    {
     "cell_type": "code",
     "collapsed": false,
     "input": [
      "# Part C\n",
      "X = []\n",
      "y = []\n",
      "for rating, count, ratio in allRs:\n",
      "    X.append([1, count, rating])\n",
      "    y.append(ratio)"
     ],
     "language": "python",
     "metadata": {},
     "outputs": [],
     "prompt_number": 14
    },
    {
     "cell_type": "code",
     "collapsed": false,
     "input": [
      "from _collections import defaultdict\n",
      "import time\n",
      "import timeit\n",
      "\n",
      "from numpy.linalg import norm\n",
      "import scipy.optimize\n",
      "\n",
      "import numpy as np\n",
      "\n",
      "start = time.time()\n",
      "thetar, _, _, _ = np.linalg.lstsq(X, y)\n",
      "end = time.time()\n",
      "finished = end - start\n",
      "print finished"
     ],
     "language": "python",
     "metadata": {},
     "outputs": [
      {
       "output_type": "stream",
       "stream": "stdout",
       "text": [
        "0.0817348957062\n"
       ]
      }
     ],
     "prompt_number": 15
    },
    {
     "cell_type": "code",
     "collapsed": false,
     "input": [
      "print \"Fitted parmaters: \", thetar"
     ],
     "language": "python",
     "metadata": {},
     "outputs": [
      {
       "output_type": "stream",
       "stream": "stdout",
       "text": [
        "Fitted parmaters:  [  3.45431358e-01   2.71683612e-04   4.39997995e-02]\n"
       ]
      }
     ],
     "prompt_number": 16
    },
    {
     "cell_type": "code",
     "collapsed": false,
     "input": [
      "# Part D\n",
      "\n",
      "print \"Reading train...\"\n",
      "test = list(parseTxt(\"homework6_7/labeled_Helpful.txt\"))\n",
      "print \"done\"\n",
      "\n",
      "print \"Reading train...\"\n",
      "test2 = list(parseData(\"homework6_7/helpful.json\"))\n",
      "print \"done\"\n",
      "\n",
      "allTestRefXs = []\n",
      "allTestRefYs = []\n",
      "allTestRefRs = []\n",
      "for l in test2:\n",
      "    user, item, helpful = l['reviewerID'], l['itemID'], l['helpful']\n",
      "    rating, words = l['rating'], l['reviewText']\n",
      "    allTestRefXs.append([user, item])\n",
      "    outOf = float(helpful['outOf'])\n",
      "    allTestRefYs.append(outOf)\n",
      "    \n",
      "    nWords = len(words.split())\n",
      "    allTestRefRs.append((float(rating), nWords))"
     ],
     "language": "python",
     "metadata": {},
     "outputs": [
      {
       "output_type": "stream",
       "stream": "stdout",
       "text": [
        "Reading train...\n",
        "done\n",
        "Reading train...\n",
        "done"
       ]
      },
      {
       "output_type": "stream",
       "stream": "stdout",
       "text": [
        "\n"
       ]
      }
     ],
     "prompt_number": 28
    },
    {
     "cell_type": "code",
     "collapsed": false,
     "input": [],
     "language": "python",
     "metadata": {},
     "outputs": [],
     "prompt_number": 28
    },
    {
     "cell_type": "code",
     "collapsed": false,
     "input": [
      "def predict(data, theta):\n",
      "    prediction = [np.dot(theta, d)  for d in data]\n",
      "    return prediction"
     ],
     "language": "python",
     "metadata": {},
     "outputs": [],
     "prompt_number": 29
    },
    {
     "cell_type": "code",
     "collapsed": false,
     "input": [
      "mse = 0.\n",
      "AE = 0.\n",
      "\n",
      "for [_, _, oReal, nReal], refR  in zip(test, allTestRefRs):\n",
      "    (rating, count) = refR\n",
      "    X = np.array([1, count, rating])\n",
      "    predRatio = np.dot(np.array(thetar, dtype='float'), X)\n",
      "    \n",
      "    mse += (float(nReal) / float(oReal) - float(predRatio)) ** 2\n",
      "    AE += abs(float(nReal) / float(oReal) - float(predRatio))\n",
      "    \n",
      "mse = mse / len(test)\n",
      "print \"MSE: \", mse\n",
      "print \"AE: \", AE"
     ],
     "language": "python",
     "metadata": {},
     "outputs": [
      {
       "output_type": "stream",
       "stream": "stdout",
       "text": [
        "MSE:  0.162314627719\n",
        "AE:  3594.22471383\n"
       ]
      }
     ],
     "prompt_number": 48
    },
    {
     "cell_type": "markdown",
     "metadata": {},
     "source": [
      "# Q2\n",
      "\n",
      "The idea:\n",
      "- Take the maximum of \"outOf\"s\n",
      "- Divide each outOf by the maximum (normailzed outOf)\n",
      "- Take the squared root of this value, and multiplty it by the original ratio\n",
      "\n",
      "- 1/1, 4/5, 48/50, 20/40\n",
      "- => Maximum is 50\n",
      "=> New rations are: 1/50, 5/50, 50/50, 40/50\n",
      "=> Take square root: sq(1/50) * 1/1, sq(5/50) * 4/5, sq(50/50) * 48/50, sq(40/50) * 20/40\n",
      "===============> 0.14, 0.25, 0.96, 0.45"
     ]
    },
    {
     "cell_type": "code",
     "collapsed": false,
     "input": [],
     "language": "python",
     "metadata": {},
     "outputs": []
    }
   ],
   "metadata": {}
  }
 ]
}