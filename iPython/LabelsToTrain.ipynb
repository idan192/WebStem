{
 "cells": [
  {
   "cell_type": "code",
   "execution_count": 139,
   "metadata": {
    "collapsed": false
   },
   "outputs": [],
   "source": [
    "import sys\n",
    "sys.path.append('/home/yuncong/Brain/pipeline_scripts')\n",
    "\n",
    "import matplotlib\n",
    "%matplotlib inline\n",
    "#from IPython.display import display\n",
    "#matplotlib.use('GTkAgg')\n",
    "import matplotlib.pyplot as plt\n",
    "import pickle\n",
    "import os\n",
    "from os import path\n",
    "from sklearn.linear_model import SGDRegressor\n",
    "from sklearn.linear_model import Perceptron\n",
    "from sklearn.cluster import KMeans\n",
    "from sklearn import svm\n",
    "from numpy.linalg import lstsq\n",
    "import numpy as np\n",
    "import sys\n",
    "import utilities2014\n",
    "reload(utilities2014)\n",
    "from utilities2014 import *\n",
    "from sklearn.grid_search import GridSearchCV\n",
    "from sklearn.svm import SVC\n",
    "\n",
    "\n",
    "from sklearn.preprocessing import MinMaxScaler"
   ]
  },
  {
   "cell_type": "code",
   "execution_count": 140,
   "metadata": {
    "collapsed": false
   },
   "outputs": [],
   "source": [
    "pcklPath = \"/home/iizhaki/oasis/WebStem/pickles/\"\n",
    "\n",
    "mapped = pickle.load(open(pcklPath + \"mapped.pck\", \"rb\"))\n",
    "props = pickle.load(open(pcklPath + \"props.pck\", \"rb\"))\n",
    "hists = pickle.load(open(pcklPath + \"hists.pck\", \"rb\"))\n",
    "refs = pickle.load(open(pcklPath + \"refs.pck\", \"rb\"))"
   ]
  },
  {
   "cell_type": "code",
   "execution_count": 141,
   "metadata": {
    "collapsed": false
   },
   "outputs": [],
   "source": [
    "tripletsPath = \"/home/iizhaki/WebStem/triplets/\"\n",
    "imgsPath = \"/home/iizhaki/WebStem/photos/\""
   ]
  },
  {
   "cell_type": "code",
   "execution_count": 142,
   "metadata": {
    "collapsed": true
   },
   "outputs": [],
   "source": [
    "os.environ['GORDON_DATA_DIR'] = '/home/yuncong/project/DavidData2014tif/'\n",
    "os.environ['GORDON_REPO_DIR'] = '/home/yuncong/Brain'\n",
    "os.environ['GORDON_RESULT_DIR'] = '/home/yuncong/project/DavidData2014results/'\n",
    "os.environ['GORDON_LABELING_DIR'] = '/home/yuncong/project/DavidData2014labelings/'"
   ]
  },
  {
   "cell_type": "code",
   "execution_count": 149,
   "metadata": {
    "collapsed": true
   },
   "outputs": [],
   "source": [
    "def collectPageData(pPath, pData):\n",
    "    redRef = \"\"\n",
    "    blueRef = \"\"\n",
    "\n",
    "    with open(pPath) as pFile:\n",
    "        for pLine in pFile:\n",
    "            pSplit = pLine.split()\n",
    "            if len(pSplit) < 6:  # Maybe comment or blank space\n",
    "                continue\n",
    "            \n",
    "            #print pSplit\n",
    "\n",
    "            pName = pSplit[4]\n",
    "            pColor = pSplit[5]\n",
    "            \n",
    "            # Initialize sets\n",
    "            if \"gold\" in pColor:\n",
    "                boundNum = int(pName.split(\"_\")[3])\n",
    "                superpixel = int(pName.split(\"_\")[4])\n",
    "                \n",
    "                if \"red\" in pSplit[6]:\n",
    "                    redRef = boundNum\n",
    "                    if redRef not in pData:\n",
    "                        pData[redRef] = set()\n",
    "                    pData[redRef].add(superpixel)\n",
    "                elif \"blue\" in pSplit[6]:\n",
    "                    blueRef = boundNum\n",
    "                    if blueRef not in pData:\n",
    "                        pData[blueRef] = set()\n",
    "                    pData[blueRef].add(superpixel)\n",
    "                else:\n",
    "                    print \"ERROR!\"\n",
    "                    return \"ERROR!\"\n",
    "                \n",
    "                continue\n",
    "            \n",
    "            boundNum = int(pName.split(\"_\")[2])\n",
    "            superpixel = int(pName.split(\"_\")[3])\n",
    "\n",
    "            if \"red\" in pColor:\n",
    "                if boundNum == redRef:\n",
    "                    pData[redRef].add(superpixel)\n",
    "\n",
    "            if \"blue\" in pColor:\n",
    "                if boundNum == blueRef:\n",
    "                    pData[blueRef].add(superpixel)\n",
    "\n",
    "    return \"Ok\""
   ]
  },
  {
   "cell_type": "code",
   "execution_count": 150,
   "metadata": {
    "collapsed": false
   },
   "outputs": [],
   "source": [
    "pagesPath = [(tripletsPath + f) for f in os.listdir(tripletsPath)]"
   ]
  },
  {
   "cell_type": "code",
   "execution_count": 151,
   "metadata": {
    "collapsed": false
   },
   "outputs": [
    {
     "name": "stdout",
     "output_type": "stream",
     "text": [
      "Ok\n",
      "Ok\n",
      "{9: set([224, 228, 229, 232, 269, 142, 175, 273, 155, 223]), 10: set([204, 202, 236, 207, 178, 250, 271, 284]), 11: set([160, 227, 235, 140, 238, 239, 112, 337, 338, 182, 216, 271, 284, 287])}\n"
     ]
    }
   ],
   "source": [
    "pData = {}\n",
    "\n",
    "for pageFile in pagesPath:\n",
    "    print collectPageData(pageFile, pData)\n",
    "    \n",
    "print pData"
   ]
  },
  {
   "cell_type": "code",
   "execution_count": null,
   "metadata": {
    "collapsed": true
   },
   "outputs": [],
   "source": []
  },
  {
   "cell_type": "code",
   "execution_count": 152,
   "metadata": {
    "collapsed": false
   },
   "outputs": [],
   "source": [
    "# 30 sections in total\n",
    "collectHists = {}\n",
    "\n",
    "for section in pData:\n",
    "    # Initialize array of histograms\n",
    "    collectHists[section] = []\n",
    "    \n",
    "    for superpixel in pData[section]:\n",
    "        collectHists[section].append(hists[section][superpixel])"
   ]
  },
  {
   "cell_type": "code",
   "execution_count": 155,
   "metadata": {
    "collapsed": false
   },
   "outputs": [],
   "source": [
    "# [(11, 7), (13, 5), (14, 12)], [(12, 12)]\n",
    "# [(11, 22), (12, 11)], [(13, 25), (14, 17)]\n",
    "\n",
    "# Some manual work:\n",
    "predXs = []\n",
    "predYs = []\n",
    "\n",
    "for section in [9, 10]:\n",
    "    for currHist in collectHists[section]:\n",
    "        predXs.append(currHist)\n",
    "        predYs.append(1)\n",
    "        \n",
    "for section in [11]:\n",
    "    for currHist in collectHists[section]:\n",
    "        predXs.append(currHist)\n",
    "        predYs.append(-1)\n",
    "        \n",
    "#predXs = np.array(predXs) * 1.0 / np.max(predXs)"
   ]
  },
  {
   "cell_type": "code",
   "execution_count": 156,
   "metadata": {
    "collapsed": false
   },
   "outputs": [
    {
     "name": "stdout",
     "output_type": "stream",
     "text": [
      "[[477, 24, 80, 441, 0, 35, 86, 88, 188, 718, 66, 545, 316, 10], [465, 118, 60, 7, 0, 0, 200, 9, 380, 612, 60, 961, 263, 0]] [1, 1]\n",
      "[[268, 114, 0, 0, 0, 56, 209, 142, 317, 208, 325, 422, 516, 223], [324, 92, 26, 117, 0, 67, 294, 133, 507, 312, 372, 424, 911, 203]] [-1, -1]\n"
     ]
    }
   ],
   "source": [
    "print predXs[0:2], predYs[0:2]\n",
    "print predXs[-2:], predYs[-2:]\n",
    "\n",
    "# print predYs[0][0], predYs[1][0]"
   ]
  },
  {
   "cell_type": "code",
   "execution_count": 157,
   "metadata": {
    "collapsed": false
   },
   "outputs": [
    {
     "name": "stdout",
     "output_type": "stream",
     "text": [
      "ref_26_1435_1743_1223_68_hist.png\n"
     ]
    }
   ],
   "source": [
    "import shutil\n",
    "\n",
    "allFiles = os.listdir(imgsPath)\n",
    "print allFiles[0]"
   ]
  },
  {
   "cell_type": "code",
   "execution_count": 158,
   "metadata": {
    "collapsed": false
   },
   "outputs": [],
   "source": [
    "for section in pData:\n",
    "    spxs = pData[section]\n",
    "    break ############\n",
    "    for sp in spxs:\n",
    "        exp = \"ref_\" + str(section) + \"_\" + str(sp)\n",
    "        for fn in allFiles:\n",
    "            if exp in fn:\n",
    "                thedir = \"/home/iizhaki/WebStem/temp/\" + str(section)\n",
    "                try:\n",
    "                    os.stat(thedir)\n",
    "                except:\n",
    "                    os.mkdir(thedir)       \n",
    "\n",
    "                shutil.copy2(imgsPath + \"/\" + fn, \"/home/iizhaki/WebStem/temp/\" + str(section))\n",
    "    \n",
    "        \n",
    "        "
   ]
  },
  {
   "cell_type": "code",
   "execution_count": null,
   "metadata": {
    "collapsed": false
   },
   "outputs": [],
   "source": []
  },
  {
   "cell_type": "code",
   "execution_count": 159,
   "metadata": {
    "collapsed": false
   },
   "outputs": [
    {
     "data": {
      "text/plain": [
       "(32, 14)"
      ]
     },
     "execution_count": 159,
     "metadata": {},
     "output_type": "execute_result"
    }
   ],
   "source": [
    "predYs_arr = np.array(predYs)\n",
    "predXs_arr  = np.array(predXs)\n",
    "predXs_arr.shape"
   ]
  },
  {
   "cell_type": "code",
   "execution_count": 160,
   "metadata": {
    "collapsed": false
   },
   "outputs": [
    {
     "data": {
      "image/png": "[encoded data removed]",
      "text/plain": [
       "<matplotlib.figure.Figure at 0xa871510>"
      ]
     },
     "metadata": {},
     "output_type": "display_data"
    }
   ],
   "source": [
    "plt.scatter(predXs_arr[predYs_arr==1,0], predXs_arr[predYs_arr==1,1], c='r')\n",
    "plt.scatter(predXs_arr[predYs_arr==-1,0], predXs_arr[predYs_arr==-1,1], c='g')\n",
    "plt.show()\n",
    "\n",
    "#plt.savefig(\"/home/iizhaki/WebStem/temp/img_[(11,22),(12,11)]vs.[(13,25),(14,17)].png\")"
   ]
  },
  {
   "cell_type": "code",
   "execution_count": null,
   "metadata": {
    "collapsed": false
   },
   "outputs": [],
   "source": []
  },
  {
   "cell_type": "code",
   "execution_count": null,
   "metadata": {
    "collapsed": false
   },
   "outputs": [],
   "source": []
  },
  {
   "cell_type": "code",
   "execution_count": null,
   "metadata": {
    "collapsed": false
   },
   "outputs": [],
   "source": []
  },
  {
   "cell_type": "code",
   "execution_count": null,
   "metadata": {
    "collapsed": true
   },
   "outputs": [],
   "source": []
  },
  {
   "cell_type": "code",
   "execution_count": 162,
   "metadata": {
    "collapsed": true
   },
   "outputs": [],
   "source": [
    "# Training SVM\n",
    "X = predXs\n",
    "y = predYs\n",
    "\n",
    "X = np.array(X).astype(float)\n",
    "#scaler = MinMaxScaler().fit(X)\n",
    "#X = scaler.transform(X)"
   ]
  },
  {
   "cell_type": "code",
   "execution_count": 163,
   "metadata": {
    "collapsed": false
   },
   "outputs": [
    {
     "name": "stdout",
     "output_type": "stream",
     "text": [
      "[LibSVM][1, 1, 1, 1, 1, 1, 1, 1, 1, 1, 1, 1, 1, 1, 1, 1, 1, 1, -1, -1, -1, -1, -1, -1, -1, -1, -1, -1, -1, -1, -1, -1]\n"
     ]
    }
   ],
   "source": [
    "#X = [np.array(x) * 1.0 / np.max(x) for x in predXs]\n",
    "\n",
    "#thetax, _, _, _ = np.linalg.lstsq(X, y)\n",
    "\n",
    "#del clf\n",
    "#clf = SGDRegressor()\n",
    "#clf.fit(X, y)\n",
    "\n",
    "#clf = svm.SVC(verbose = True)\n",
    "#clf.fit(X, y) \n",
    "\n",
    "param_grid = {'C': [1, 1e1, 1e2, 1e3, 5e3, 1e4, 5e4, 1e5],\n",
    "              'gamma': [0.0001, 0.0005, 0.001, 0.005, 0.01, 0.1, 1, 10], }\n",
    "#clf = GridSearchCV(SVC(kernel='poly', class_weight='auto', degree = 14), param_grid)\n",
    "#clf = SVC(verbose = True, kernel='poly', class_weight='auto', degree=4) \n",
    "clf = SVC(verbose = True, kernel='poly', class_weight='auto', degree=5) \n",
    "clf = clf.fit(X, y)\n",
    "\n",
    "#clf = Perceptron()\n",
    "#clf.fit(X, y)\n",
    "\n",
    "\n",
    "print predYs"
   ]
  },
  {
   "cell_type": "code",
   "execution_count": 164,
   "metadata": {
    "collapsed": true
   },
   "outputs": [],
   "source": [
    "def predict(data, theta):\n",
    "    return np.dot(np.array(data), np.array(theta))"
   ]
  },
  {
   "cell_type": "code",
   "execution_count": 165,
   "metadata": {
    "collapsed": false
   },
   "outputs": [
    {
     "name": "stdout",
     "output_type": "stream",
     "text": [
      "[ 1  1  1  1  1  1  1  1  1  1  1  1  1  1  1  1  1  1 -1 -1 -1 -1 -1 -1 -1\n",
      " -1 -1 -1 -1 -1 -1 -1]\n",
      "====================\n",
      "1.0\n",
      "1.0\n"
     ]
    }
   ],
   "source": [
    "trueYes = 0\n",
    "totalYes = 0\n",
    "trueNo = 0\n",
    "totalNo = 0\n",
    "\n",
    "predictions = clf.predict(X)\n",
    "print predictions \n",
    "\n",
    "for i in range(len(predictions)):\n",
    "    #thePred =  predict(predXs[i], thetax)\n",
    "    thePred = predictions[i]\n",
    "    if (predYs[i] > 0):\n",
    "        totalYes += 1\n",
    "        if (thePred > 0.):\n",
    "            trueYes += 1\n",
    "    else:\n",
    "        totalNo += 1\n",
    "        if (thePred < 0):\n",
    "            trueNo += 1\n",
    "    \n",
    "print \"====================\"\n",
    "print trueYes * 1.0 / totalYes\n",
    "print trueNo * 1.0 / totalNo"
   ]
  },
  {
   "cell_type": "code",
   "execution_count": null,
   "metadata": {
    "collapsed": true
   },
   "outputs": [],
   "source": []
  },
  {
   "cell_type": "code",
   "execution_count": 166,
   "metadata": {
    "collapsed": false
   },
   "outputs": [],
   "source": [
    "#print clf.coef_ \n",
    "#print clf.intercept_ "
   ]
  },
  {
   "cell_type": "code",
   "execution_count": 167,
   "metadata": {
    "collapsed": false
   },
   "outputs": [
    {
     "name": "stdout",
     "output_type": "stream",
     "text": [
      "set([160, 227, 235, 140, 238, 239, 112, 337, 338, 182, 216, 271, 284, 287])\n",
      "Section  11 :  [(100.0, 28), (100.0, 27), (100.0, 21), (100.0, 18), (100.0, 13), (100.0, 12), (100.0, 11), (100.0, 7), (100.0, 4), (100.0, 3), (100.0, 2), (100.0, 0), (80.0, 15), (72.22222222222223, 14), (65.0, 6), (58.8235294117647, 25), (57.0, 1), (41.666666666666664, 24), (37.5, 8), (36.36363636363637, 5), (28.571428571428573, 26), (24.444444444444443, 23), (11.290322580645162, 20), (11.11111111111111, 19), (5.2631578947368425, 22), (4.545454545454546, 17), (3.4482758620689653, 10), (0.0, 16), (0.0, 9)]\n",
      "============================================\n",
      "Boudnary:  13 , Score:  7.94635555362\n",
      "Boudnary:  27 , Score:  5.36045504225\n",
      "Boudnary:  25 , Score:  3.47889563446\n",
      "Boudnary:  21 , Score:  2.74143986062\n",
      "Boudnary:  3 , Score:  2.74095360378\n",
      "Boudnary:  12 , Score:  2.71885673072\n",
      "Boudnary:  0 , Score:  2.69330269405\n",
      "Boudnary:  2 , Score:  2.66949699882\n",
      "Boudnary:  7 , Score:  2.51893777146\n",
      "Boudnary:  28 , Score:  2.45804824601\n",
      "Boudnary:  18 , Score:  2.45337021913\n",
      "Boudnary:  11 , Score:  2.41751622281\n",
      "Boudnary:  4 , Score:  2.35226785231\n",
      "Boudnary:  14 , Score:  1.96207605735\n",
      "Boudnary:  15 , Score:  1.85972893103\n",
      "Boudnary:  1 , Score:  1.26089348871\n",
      "Boudnary:  6 , Score:  1.23688643105\n",
      "Boudnary:  8 , Score:  0.737080778565\n",
      "Boudnary:  5 , Score:  0.346134013872\n"
     ]
    }
   ],
   "source": [
    "# [(25, 22), (27, 28)] vs. [(26, 3)]\n",
    "# [(25, 22), (27, 28)] vs. [(26, 5)]\n",
    "# [(11, 7), (13, 5), (14, 12)] vs. [(12, 12)]\n",
    "# [(11, 22), (12, 11)], [(13, 25), (14, 17)]\n",
    "\n",
    "\n",
    "viss = {}\n",
    "#for cSection in [25, 26, 27]:\n",
    "for cSection in [11]:\n",
    "    pos26 = []\n",
    "    scores26 = []\n",
    "    DM = DataManager(generate_hierarchy = False, stack = 'RS141', resol = 'x5', section = cSection)\n",
    "    cSupporters = DM.load_pipeline_result('nonoverlappingSupporters', 'pkl')\n",
    "    print pData[cSection]\n",
    "    #viss[cSection] = DM.visualize_cluster(pData[cSection])\n",
    "\n",
    "    tuples = []\n",
    "    for cBoundary in range(len(cSupporters)):        \n",
    "        total = 0\n",
    "        truePos = 0\n",
    "        trueNeg = 0\n",
    "        \n",
    "        scores = []\n",
    "        \n",
    "        cSample = (cSection, cBoundary)\n",
    "        pot = []\n",
    "        for s in cSupporters[cBoundary]:\n",
    "            total += 1\n",
    "            hs = hists[cSection][s]\n",
    "            hs = np.array(hs).astype(float)\n",
    "            #hs = scaler.transform(hs)\n",
    "            #print clf.decision_function(hs)\n",
    "            #if clf.predict(hs)[0] > 0:\n",
    "            #if cBoundary == 0:\n",
    "                 #print clf.decision_function(hs)\n",
    "            \n",
    "            scores.append(clf.decision_function(hs)[0])\n",
    "            if clf.decision_function(hs) >= 1:\n",
    "                truePos += 1\n",
    "                pot.append(s)\n",
    "\n",
    "        value = truePos * 100.0 / total\n",
    "        #if value < 70:\n",
    "         #   continue\n",
    "        tuples.append((value, cBoundary))\n",
    "        \n",
    "        scores = np.array(scores)\n",
    "        scores26.append((np.mean(scores), cBoundary))\n",
    "        if cSection == 26:\n",
    "            pos26 += pot\n",
    "        #print cSample, \": Using classifier results:\", truePos * 100.0 / total    \n",
    "\n",
    "    print \"Section \", cSection, \": \", sorted(tuples, reverse=True)\n",
    "    print \"============================================\"\n",
    "    scores26 = sorted(scores26, reverse=True)\n",
    "    for i in range(len(scores26)):\n",
    "        if scores26[i][0] > 0:\n",
    "            print \"Boudnary: \", scores26[i][1], \", Score: \", scores26[i][0]"
   ]
  },
  {
   "cell_type": "code",
   "execution_count": 134,
   "metadata": {
    "collapsed": false
   },
   "outputs": [
    {
     "data": {
      "text/html": [
       "<a href='tmp.jpg' target='_blank'>tmp.jpg</a><br>"
      ],
      "text/plain": [
       "/oasis/scratch/iizhaki/temp_project/WebStem/iPython/tmp.jpg"
      ]
     },
     "execution_count": 134,
     "metadata": {},
     "output_type": "execute_result"
    }
   ],
   "source": [
    "DM = DataManager(generate_hierarchy = False, stack = 'RS141', resol = 'x5', section = 26)\n",
    "cSupporters = DM.load_pipeline_result('nonoverlappingSupporters', 'pkl')\n",
    "\n",
    "display(DM.visualize_cluster(pos26))"
   ]
  },
  {
   "cell_type": "code",
   "execution_count": 170,
   "metadata": {
    "collapsed": false
   },
   "outputs": [],
   "source": [
    "DM = DataManager(generate_hierarchy = False, stack = 'RS141', resol = 'x5', section = 10)\n",
    "matchings = DM.load_pipeline_result('DBoundaries10With11', 'npy')\n",
    "\n"
   ]
  },
  {
   "cell_type": "code",
   "execution_count": 171,
   "metadata": {
    "collapsed": false
   },
   "outputs": [
    {
     "name": "stdout",
     "output_type": "stream",
     "text": [
      "[ 1.30044443  2.44392935  2.64190043  2.80692862         inf         inf\n",
      "         inf         inf         inf         inf         inf         inf\n",
      "         inf         inf         inf         inf         inf         inf\n",
      "         inf         inf         inf         inf         inf         inf\n",
      "         inf         inf         inf         inf         inf]\n",
      "[ 9 15 26 14 25 24 23 22 21 20 19 18 17 16  0 13 12 11 10  8  7  6  5  4  3\n",
      "  2  1 27 28]\n"
     ]
    }
   ],
   "source": [
    "print matchings[np.argsort(matchings[:, 3]), 3] \n",
    "print np.argsort(matchings[:, 3])"
   ]
  },
  {
   "cell_type": "code",
   "execution_count": null,
   "metadata": {
    "collapsed": true
   },
   "outputs": [],
   "source": []
  },
  {
   "cell_type": "code",
   "execution_count": 137,
   "metadata": {
    "collapsed": false
   },
   "outputs": [
    {
     "name": "stdout",
     "output_type": "stream",
     "text": [
      "[ 0.66467065  0.66958352  0.8229889   0.85319059  0.87260952  0.88394716\n",
      "  0.95227919  0.96957002  0.97706937  0.98381796  1.01106212  1.05428913\n",
      "  1.05961905  1.0682539   1.08313887  1.22246128  1.56025875  1.6679087\n",
      "  2.01896999  2.2753929          inf         inf         inf         inf\n",
      "         inf         inf         inf         inf         inf         inf]\n",
      "[24 12 29 23 10 14 21 27  4 28  1 25 20 22  9 13  3  8  2 16  6 26 17 18  5\n",
      " 15 11  7 19  0]\n"
     ]
    }
   ],
   "source": [
    "DM = DataManager(generate_hierarchy = False, stack = 'RS141', resol = 'x5', section = 2)\n",
    "matchings = DM.load_pipeline_result('DBoundaries2With4', 'npy')\n",
    "\n",
    "print matchings[np.argsort(matchings[:, 8]), 8] \n",
    "print np.argsort(matchings[:, 8])"
   ]
  },
  {
   "cell_type": "code",
   "execution_count": null,
   "metadata": {
    "collapsed": true
   },
   "outputs": [],
   "source": []
  },
  {
   "cell_type": "code",
   "execution_count": 175,
   "metadata": {
    "collapsed": false
   },
   "outputs": [
    {
     "data": {
      "text/html": [
       "<a href='tmp.jpg' target='_blank'>tmp.jpg</a><br>"
      ],
      "text/plain": [
       "/oasis/scratch/iizhaki/temp_project/WebStem/iPython/tmp.jpg"
      ]
     },
     "execution_count": 175,
     "metadata": {},
     "output_type": "execute_result"
    }
   ],
   "source": [
    "DM = DataManager(generate_hierarchy = False, stack = 'RS141', resol = 'x5', section = 2)\n",
    "display(DM.visualize_cluster"
   ]
  },
  {
   "cell_type": "code",
   "execution_count": 181,
   "metadata": {
    "collapsed": false
   },
   "outputs": [
    {
     "data": {
      "text/html": [
       "<a href='tmp.jpg' target='_blank'>tmp.jpg</a><br>"
      ],
      "text/plain": [
       "/oasis/scratch/iizhaki/temp_project/WebStem/iPython/tmp.jpg"
      ]
     },
     "execution_count": 181,
     "metadata": {},
     "output_type": "execute_result"
    }
   ],
   "source": []
  },
  {
   "cell_type": "code",
   "execution_count": 202,
   "metadata": {
    "collapsed": true
   },
   "outputs": [],
   "source": [
    "def visualize_cluster(self, cluster, text=False, highlight_seed=False):\n",
    "\n",
    "    if not hasattr(self, 'segmentation'):\n",
    "        self.segmentation = self.load_pipeline_result('segmentation', 'npy')\n",
    "\n",
    "    if text:\n",
    "        segmentation_vis = self.load_pipeline_result('segmentationWithText', 'jpg')\n",
    "    else:\n",
    "        segmentation_vis = self.load_pipeline_result('segmentationWithoutText', 'jpg')\n",
    "\n",
    "    a = -1*np.ones_like(self.segmentation)\n",
    "\n",
    "    for c in [1347, 1346, 1411, 1463, 1449, 1464, 1451, 1679, 1659, 1765, 1785, 1779, 1786, 1669,\n",
    "                 1894, 1934, 2068, 1973, 1970, 2083, 2075, 2078, 1758, 1551, 1934, 1894, 2068, 1970, 2075, 2078]:\n",
    "        if highlight_seed:\n",
    "            if i == 0:\n",
    "                a[self.segmentation == c] = 1\n",
    "            else:\n",
    "                a[self.segmentation == c] = 0\n",
    "        else:\n",
    "            a[self.segmentation == c] = 0\n",
    "\n",
    "    vis = label2rgb(a, image=segmentation_vis)\n",
    "\n",
    "    vis = img_as_ubyte(vis[...,::-1])\n",
    "\n",
    "    return vis.copy()\n"
   ]
  },
  {
   "cell_type": "code",
   "execution_count": 203,
   "metadata": {
    "collapsed": false
   },
   "outputs": [
    {
     "data": {
      "text/html": [
       "<a href='tmp.jpg' target='_blank'>tmp.jpg</a><br>"
      ],
      "text/plain": [
       "/oasis/scratch/iizhaki/temp_project/WebStem/iPython/tmp.jpg"
      ]
     },
     "execution_count": 203,
     "metadata": {},
     "output_type": "execute_result"
    }
   ],
   "source": [
    "display(visualize_cluster(DM, 0))"
   ]
  },
  {
   "cell_type": "code",
   "execution_count": null,
   "metadata": {
    "collapsed": true
   },
   "outputs": [],
   "source": []
  },
  {
   "cell_type": "code",
   "execution_count": null,
   "metadata": {
    "collapsed": true
   },
   "outputs": [],
   "source": []
  },
  {
   "cell_type": "code",
   "execution_count": null,
   "metadata": {
    "collapsed": true
   },
   "outputs": [],
   "source": [
    "groups = [(tripletsPath + f) for f in os.listdir(tripletsPath)]\n",
    "\n",
    "predXs = [0] * 40\n",
    "predYs = [0] * 40\n",
    "predResults = [0] * 40\n",
    "print groups"
   ]
  },
  {
   "cell_type": "code",
   "execution_count": 195,
   "metadata": {
    "collapsed": false
   },
   "outputs": [
    {
     "name": "stdout",
     "output_type": "stream",
     "text": [
      "N:  /home/iizhaki/WebStem/photos/group_0\n",
      "O:  ['img_ref_26_2100_703_1535_64.png', 'img_ref_25_3154_1483_1735_85.png']\n",
      "Y:  ['26', '25']\n",
      "Br:  0\n",
      "N:  /home/iizhaki/WebStem/photos/group_1\n",
      "O:  ['img_ref_27_2631_1298_1821_64.png', 'img_ref_26_2100_703_1535_64.png']\n",
      "Y:  ['27', '26']\n",
      "Br:  1\n"
     ]
    }
   ],
   "source": [
    "for group in groups:\n",
    "    # Blue is lower than Red\n",
    "    groupN = \"\"\n",
    "    groupBR = [set(), set()]\n",
    "    \n",
    "    with open(group) as f:\n",
    "        for line in f:               \n",
    "            splitted = line.split()\n",
    "            \n",
    "            if len(splitted) < 6:\n",
    "                continue\n",
    "                \n",
    "                \n",
    "            if groupN == \"\":\n",
    "                groupN = imgsPath + splitted[4].split(\"/\")[2]\n",
    "                print \"N: \", groupN\n",
    "                groupO = ([f for f in os.listdir(groupN) if \"img_ref_\" in f])\n",
    "                print \"O: \", groupO\n",
    "                groupY =([fn.split(\"_\")[2] for fn in groupO])\n",
    "                print \"Y: \", groupY\n",
    "                lower = int(groupO[0].split(\"_\")[3])\n",
    "                upper = int(groupO[1].split(\"_\")[3])\n",
    "                 \n",
    "                if groupY[0] == \"26\":\n",
    "                    br = 0\n",
    "                else:\n",
    "                    br = 1\n",
    "                print \"Br: \", br\n",
    "            \n",
    "            if splitted[5] == \"blue\":\n",
    "                if (\"ref_\" + groupY[0]) in splitted[4]:\n",
    "                    groupBR[br].add(int(splitted[4].split(\"_\")[3]))\n",
    "            elif splitted[5] == \"red\":\n",
    "                if (\"ref_\" + groupY[1]) in splitted[4]:\n",
    "                    groupBR[1-br].add(int(splitted[4].split(\"_\")[3]))\n",
    "            elif splitted[5] == \"uncheck\":\n",
    "                if splitted[6] == \"blue\" and (\"ref_\" + groupY[0]) in splitted[4]:\n",
    "                    groupBR[br].remove(int(splitted[4].split(\"_\")[3]))\n",
    "                elif splitted[6] == \"red\" and (\"ref_\" + groupY[1]) in splitted[4]:\n",
    "                    groupBR[1-br].remove(int(splitted[4].split(\"_\")[3]))\n",
    "\n",
    "    # =============================\n",
    "    y0 = int(groupY[0])\n",
    "    y1 = int(groupY[1])\n",
    "    # =============================            \n",
    "        \n",
    "    if predXs[br] == 0:\n",
    "        predXs[br] = []\n",
    "        predYs[br] = []\n",
    "        \n",
    "    predXs[br].append(hists[y0][lower]);\n",
    "    predYs[br].append(1.0);\n",
    "\n",
    "    predXs[br].append(hists[y1][upper]);\n",
    "    predYs[br].append(-1.0);\n",
    "    \n",
    "    for b1 in groupBR[br]:\n",
    "        predXs[br].append(hists[y0][b1])\n",
    "        predYs[br].append(1.0)    \n",
    "\n",
    "    for r1 in groupBR[1-br]:\n",
    "        predXs[br].append(hists[y1][r1])\n",
    "        predYs[br].append(-1.0)\n",
    "\n",
    "\n",
    "    # =============================\n",
    "    if predXs[1-br] == 0:\n",
    "        predXs[1-br] = []\n",
    "        predYs[1-br] = []\n",
    "\n",
    "    predXs[1-br].append(hists[y0][lower]);\n",
    "    predYs[1-br].append(-1.0);\n",
    "\n",
    "    predXs[1-br].append(hists[y1][upper]);\n",
    "    predYs[1-br].append(1.0);\n",
    "    \n",
    "    for b1 in groupBR[br]:\n",
    "        predXs[1-br].append(hists[y0][b1])\n",
    "        predYs[1-br].append(-1.0)    \n",
    "\n",
    "    for r1 in groupBR[1-br]:\n",
    "        predXs[1-br].append(hists[y1][r1])\n",
    "        predYs[1-br].append(1.0)"
   ]
  },
  {
   "cell_type": "code",
   "execution_count": null,
   "metadata": {
    "collapsed": true
   },
   "outputs": [],
   "source": []
  },
  {
   "cell_type": "code",
   "execution_count": null,
   "metadata": {
    "collapsed": true
   },
   "outputs": [],
   "source": []
  },
  {
   "cell_type": "code",
   "execution_count": 203,
   "metadata": {
    "collapsed": false
   },
   "outputs": [],
   "source": [
    "for i in range(len(predYs)):\n",
    "    X = predXs[i]\n",
    "    y = predYs[i]\n",
    "    \n",
    "    if X == 0:\n",
    "        continue\n",
    "    \n",
    "    clf = svm.SVC()\n",
    "    clf.fit(X, y) \n",
    "    \n",
    "    predResults[i] = clf"
   ]
  },
  {
   "cell_type": "code",
   "execution_count": 272,
   "metadata": {
    "collapsed": false
   },
   "outputs": [
    {
     "name": "stdout",
     "output_type": "stream",
     "text": [
      "0 [30 31 32 33 34 35 36 37 38 39 40 41 42 43 44 15 16 17 18 19 20 21 22 23 24\n",
      " 25 26 27 28 29]\n",
      "1 [15 16 17 18 19 20 21 22 23 24 25 26 27 28 29 30 31 32 33 34 35 36 37 38 39\n",
      " 40 41 42 43 44]\n"
     ]
    }
   ],
   "source": [
    "for i in range(len(predYs)):\n",
    "    if predResults[i] != 0:\n",
    "        print i, predResults[i].support_  "
   ]
  },
  {
   "cell_type": "code",
   "execution_count": 273,
   "metadata": {
    "collapsed": true
   },
   "outputs": [],
   "source": [
    "# 0 => Corresponds to 26\n",
    "# 1 => Corresponds to others"
   ]
  },
  {
   "cell_type": "code",
   "execution_count": 274,
   "metadata": {
    "collapsed": false
   },
   "outputs": [],
   "source": [
    "import sys\n",
    "sys.path.append('/home/yuncong/Brain/pipeline_scripts')\n",
    "from utilities2014 import *"
   ]
  },
  {
   "cell_type": "code",
   "execution_count": 275,
   "metadata": {
    "collapsed": true
   },
   "outputs": [],
   "source": [
    "os.environ['GORDON_DATA_DIR'] = '/home/yuncong/project/DavidData2014tif/'\n",
    "os.environ['GORDON_REPO_DIR'] = '/home/yuncong/Brain'\n",
    "os.environ['GORDON_RESULT_DIR'] = '/home/yuncong/project/DavidData2014results/'\n",
    "os.environ['GORDON_LABELING_DIR'] = '/home/yuncong/project/DavidData2014labelings/'"
   ]
  },
  {
   "cell_type": "code",
   "execution_count": 288,
   "metadata": {
    "collapsed": false
   },
   "outputs": [
    {
     "name": "stdout",
     "output_type": "stream",
     "text": [
      "loaded /home/yuncong/project/DavidData2014results/RS141/0025/RS141_x5_0025_gabor-blueNisslWide-segm-blueNisslRegular-vq-blueNissl_nonoverlappingSupporters.pkl\n",
      "25 : Using classifier '26' results 0 out of 39\n",
      "25 : Using classifier 'other' results 0 out of 39\n",
      "loaded /home/yuncong/project/DavidData2014results/RS141/0027/RS141_x5_0027_gabor-blueNisslWide-segm-blueNisslRegular-vq-blueNissl_nonoverlappingSupporters.pkl\n",
      "27 : Using classifier '26' results 0 out of 42\n",
      "27 : Using classifier 'other' results 0 out of 42\n",
      "loaded /home/yuncong/project/DavidData2014results/RS141/0026/RS141_x5_0026_gabor-blueNisslWide-segm-blueNisslRegular-vq-blueNissl_nonoverlappingSupporters.pkl\n",
      "26 : Using classifier 'other' results 34 out of 34\n",
      "26 : Using classifier '26' results 34 out of 34\n"
     ]
    }
   ],
   "source": [
    "\n",
    "for smpl1 in [(25, 22), (27, 28)]:\n",
    "    sec1 = smpl1[0]\n",
    "    i = smpl1[1]\n",
    "    \n",
    "    total = 0\n",
    "    right = 0\n",
    "    wrong = 0\n",
    "    \n",
    "    dm_prev = DataManager(generate_hierarchy=False, stack='RS141', resol='x5', section=sec1)\n",
    "    supporters_prev = dm_prev.load_pipeline_result('nonoverlappingSupporters', 'pkl')\n",
    "    \n",
    "    for s in supporters_prev[i]:\n",
    "        total += 1\n",
    "        if predResults[0].predict(hists[sec1][s])[0] < 0:\n",
    "            right += 1\n",
    "        \n",
    "        if predResults[1].predict(hists[sec1][s])[0] > 0:\n",
    "            wrong += 1\n",
    "            \n",
    "    print sec1, \": Using classifier '26' results\", right, \"out of\", total\n",
    "    print sec1, \": Using classifier 'other' results\", wrong, \"out of\", total\n",
    "        \n",
    "\n",
    "\n",
    "for smpl2 in [(26, 3)]:\n",
    "    sec2 = smpl2[0]\n",
    "    j = smpl2[1]\n",
    "    \n",
    "    total = 0\n",
    "    right = 0\n",
    "    wrong = 0\n",
    "        \n",
    "    dm_next = DataManager(generate_hierarchy=False, stack='RS141', resol='x5', section=sec2)\n",
    "    supporters_next = dm_next.load_pipeline_result('nonoverlappingSupporters', 'pkl')\n",
    "    \n",
    "    for s in supporters_next[j]:\n",
    "        total += 1\n",
    "        if predResults[1].predict(hists[sec2][s])[0] < 0:\n",
    "            right += 1\n",
    "        \n",
    "        if predResults[0].predict(hists[sec2][s])[0] > 0:\n",
    "            wrong += 1\n",
    "            \n",
    "    print sec2, \": Using classifier 'other' results\", right, \"out of\", total\n",
    "    print sec2, \": Using classifier '26' results\", wrong, \"out of\", total"
   ]
  },
  {
   "cell_type": "code",
   "execution_count": 289,
   "metadata": {
    "collapsed": false
   },
   "outputs": [
    {
     "name": "stdout",
     "output_type": "stream",
     "text": [
      "loaded /home/yuncong/project/DavidData2014results/RS141/0025/RS141_x5_0025_gabor-blueNisslWide-segm-blueNisslRegular-vq-blueNissl_nonoverlappingSupporters.pkl\n",
      "( 25 ,  0 ): Using classifier 'other' results:  100.0\n",
      "( 25 ,  1 ): Using classifier 'other' results:  100.0\n",
      "( 25 ,  2 ): Using classifier 'other' results:  100.0\n",
      "( 25 ,  3 ): Using classifier 'other' results:  100.0\n",
      "( 25 ,  4 ): Using classifier 'other' results:  100.0\n",
      "( 25 ,  5 ): Using classifier 'other' results:  100.0\n",
      "( 25 ,  6 ): Using classifier 'other' results:  100.0\n",
      "( 25 ,  7 ): Using classifier 'other' results:  100.0\n",
      "( 25 ,  8 ): Using classifier 'other' results:  100.0\n",
      "( 25 ,  9 ): Using classifier 'other' results:  100.0\n",
      "( 25 ,  10 ): Using classifier 'other' results:  100.0\n",
      "( 25 ,  11 ): Using classifier 'other' results:  100.0\n",
      "( 25 ,  12 ): Using classifier 'other' results:  100.0\n",
      "( 25 ,  13 ): Using classifier 'other' results:  100.0\n",
      "( 25 ,  14 ): Using classifier 'other' results:  100.0\n",
      "( 25 ,  15 ): Using classifier 'other' results:  100.0\n",
      "( 25 ,  16 ): Using classifier 'other' results:  100.0\n",
      "( 25 ,  17 ): Using classifier 'other' results:  100.0\n",
      "( 25 ,  18 ): Using classifier 'other' results:  100.0\n",
      "( 25 ,  19 ): Using classifier 'other' results:  100.0\n",
      "( 25 ,  20 ): Using classifier 'other' results:  100.0\n",
      "( 25 ,  21 ): Using classifier 'other' results:  100.0\n",
      "( 25 ,  22 ): Using classifier 'other' results:  100.0\n",
      "( 25 ,  23 ): Using classifier 'other' results:  100.0\n",
      "( 25 ,  24 ): Using classifier 'other' results:  100.0\n",
      "( 25 ,  25 ): Using classifier 'other' results:  100.0\n",
      "( 25 ,  26 ): Using classifier 'other' results:  100.0\n",
      "( 25 ,  27 ): Using classifier 'other' results:  100.0\n",
      "( 25 ,  28 ): Using classifier 'other' results:  100.0\n",
      "( 25 ,  29 ): Using classifier 'other' results:  100.0\n"
     ]
    }
   ],
   "source": [
    "sec = 25\n",
    "dm_next = DataManager(generate_hierarchy=False, stack='RS141', resol='x5', section=sec)\n",
    "supporters_next = dm_next.load_pipeline_result('nonoverlappingSupporters', 'pkl')\n",
    "\n",
    "for j in range(len(supporters_next)):\n",
    "    \n",
    "    total = 0\n",
    "    right = 0\n",
    "    wrong = 0\n",
    "        \n",
    "    for s in supporters_next[j]:\n",
    "        total += 1\n",
    "        if predResults[1].predict(hists[sec][s])[0] < 0:\n",
    "            right += 1\n",
    "\n",
    "        if predResults[0].predict(hists[sec][s])[0] > 0:\n",
    "            wrong += 1\n",
    "\n",
    "    print \"(\", sec, \", \", j, \"): Using classifier 'other' results: \", (right * 100.0 / total)\n",
    "    #print \"(26, \", j, \"): Using classifier '26' results\", wrong, \"out of\", total"
   ]
  },
  {
   "cell_type": "code",
   "execution_count": null,
   "metadata": {
    "collapsed": true
   },
   "outputs": [],
   "source": []
  },
  {
   "cell_type": "code",
   "execution_count": null,
   "metadata": {
    "collapsed": true
   },
   "outputs": [],
   "source": []
  },
  {
   "cell_type": "code",
   "execution_count": null,
   "metadata": {
    "collapsed": true
   },
   "outputs": [],
   "source": []
  },
  {
   "cell_type": "code",
   "execution_count": null,
   "metadata": {
    "collapsed": true
   },
   "outputs": [],
   "source": []
  },
  {
   "cell_type": "code",
   "execution_count": null,
   "metadata": {
    "collapsed": true
   },
   "outputs": [],
   "source": []
  },
  {
   "cell_type": "code",
   "execution_count": 122,
   "metadata": {
    "collapsed": false
   },
   "outputs": [
    {
     "name": "stdout",
     "output_type": "stream",
     "text": [
      "[0, 6, 0, 0, 0, 588, 60, 306, 4, 0, 242, 0, 17, 1429] [0, 0, 0, 0, 2063, 317, 39, 128, 0, 0, 68, 0, 0, 247] 1.0 0.0\n"
     ]
    }
   ],
   "source": [
    "print X[0], X[1], y[0], y[1]"
   ]
  },
  {
   "cell_type": "code",
   "execution_count": 123,
   "metadata": {
    "collapsed": false
   },
   "outputs": [],
   "source": [
    "prc = Perceptron()\n",
    "prc.fit(X, y)\n",
    "\n",
    "clf = svm.SVC()\n",
    "clf.fit(X, y) \n",
    "\n",
    "thetax, _, _, _ = np.linalg.lstsq(X, y)"
   ]
  },
  {
   "cell_type": "code",
   "execution_count": 142,
   "metadata": {
    "collapsed": false
   },
   "outputs": [
    {
     "name": "stdout",
     "output_type": "stream",
     "text": [
      "100.0\n",
      "100.0\n",
      "81.25\n"
     ]
    }
   ],
   "source": [
    "allImgs = [f for f in os.listdir(groupN) if \"ref_\" in f and \"img\" not in f]\n",
    "\n",
    "total = 0\n",
    "right = 0\n",
    "\n",
    "def predict(data, theta):\n",
    "    theta = np.array(theta)\n",
    "    prediction = [np.dot(theta, d)  for d in data]\n",
    "    return prediction\n",
    "\n",
    "#ptrain = predict(X_train, thetax)\n",
    "\n",
    "for b1 in groupBR[0]:\n",
    "    if int(clf.predict(hists[g0][b1])) == 1:\n",
    "        right += 1\n",
    "    total += 1\n",
    "    \n",
    "print right * 100.0 / total\n",
    "\n",
    "# ==============================\n",
    "\n",
    "total = 0\n",
    "right = 0\n",
    "\n",
    "for r1 in groupBR[1]:\n",
    "    if int(clf.predict(hists[g1][r1])) == 0:\n",
    "           right += 1\n",
    "    total += 1\n",
    "\n",
    "print right * 100.0 / total\n",
    "\n",
    "# ==============================\n",
    "\n",
    "total = 0\n",
    "right = 0\n",
    "           \n",
    "for img in allImgs:\n",
    "    cords = img.split(\"_\")[1: 3]\n",
    "    if cords[0] == \"ref\":\n",
    "        continue\n",
    "        \n",
    "    a = int(cords[0])\n",
    "    b = int(cords[1])\n",
    "        \n",
    "    # print cords[0], prc.predict(hists[a][b])[0]\n",
    "    #if int(cords[0]) ==  int(2 - prc.predict(hists[a][b])[0]):\n",
    "    res =  np.dot(thetax, np.array(hists[a][b]))\n",
    "    #if int(cords[0]) ==  int(round(2 - res)):\n",
    "    if int(cords[0]) ==  int(round(2 - clf.predict(hists[a][b])[0])):\n",
    "        right += 1\n",
    "    \n",
    "    total += 1\n",
    "    \n",
    "print right * 100.0 / total"
   ]
  },
  {
   "cell_type": "code",
   "execution_count": null,
   "metadata": {
    "collapsed": true
   },
   "outputs": [],
   "source": []
  },
  {
   "cell_type": "code",
   "execution_count": null,
   "metadata": {
    "collapsed": true
   },
   "outputs": [],
   "source": []
  },
  {
   "cell_type": "code",
   "execution_count": 110,
   "metadata": {
    "collapsed": false
   },
   "outputs": [
    {
     "name": "stdout",
     "output_type": "stream",
     "text": [
      "['26', '28'] ['img_ref_28_3456_1224_2060_60.png', 'img_ref_26_2848_388_1898_53.png']\n",
      "Group: /home/iizhaki/WebStem/photos/group_2 ['26', '28']\n",
      "set([2323, 2223])\n",
      "set([3729, 2685, 2894])\n",
      "2848 3456\n",
      "['26', '25'] ['img_ref_26_2100_703_1535_64.png', 'img_ref_25_3154_1483_1735_85.png']\n",
      "Group: /home/iizhaki/WebStem/photos/group_0 ['26', '25']\n",
      "set([2539, 2323, 2219, 2540, 2099, 2613, 2071])\n",
      "set([3360, 3267, 3244, 3083, 3148, 3152, 3179, 3253, 3320, 3258, 3068, 3157])\n",
      "2100 3154\n",
      "['26', '27'] ['img_ref_27_2631_1298_1821_64.png', 'img_ref_26_2100_703_1535_64.png']\n",
      "Group: /home/iizhaki/WebStem/photos/group_1 ['26', '27']\n",
      "set([2223])\n",
      "set([])\n",
      "2100 2631\n"
     ]
    }
   ],
   "source": [
    "for group in groups:\n",
    "    # Blue is lower than Red\n",
    "    groupN = \"\"\n",
    "    groupBR = [set(), set()]\n",
    "    lower = \"\"\n",
    "    upper = \"\"\n",
    "    \n",
    "    with open(group) as f:\n",
    "        for line in f:               \n",
    "            splitted = line.split()\n",
    "            #print splitted\n",
    "            #break\n",
    "            \n",
    "            if len(splitted) < 6:\n",
    "                continue\n",
    "            \n",
    "            if groupN == \"\":\n",
    "                groupN = imgsPath + splitted[4].split(\"/\")[2]\n",
    "                groupY = ([f.split(\"_\")[1] for f in os.listdir(groupN) if \"org_\" in f])\n",
    "                #print sorted([f.split(\"_\")[1] for f in os.listdir(groupN) if \"org_\" in f])\n",
    "                #print [f.split(\"_\")[1] for f in os.listdir(groupN) if \"org_\" in f]\n",
    "                #groupY = [\"0\", \"1\"]\n",
    "                groupO = ([f for f in os.listdir(groupN) if \"img_ref_\" in f])\n",
    "                #groupO = [f for f in os.listdir(groupN) if \"img_ref_\" in f]\n",
    "                print groupY, groupO\n",
    "                if (\"img_ref_\" + groupY[0]) in groupO[0]:\n",
    "                    lower = int(groupO[0].split(\"_\")[3])\n",
    "                    upper = int(groupO[1].split(\"_\")[3])\n",
    "                else:\n",
    "                    lower = int(groupO[1].split(\"_\")[3])\n",
    "                    upper = int(groupO[0].split(\"_\")[3])\n",
    "                print \"Group:\", groupN, groupY\n",
    "                        \n",
    "            \n",
    "            if splitted[5] == \"blue\":\n",
    "                if (\"ref_\" + groupY[0]) in splitted[4]:\n",
    "                    groupBR[0].add(int(splitted[4].split(\"_\")[3]))\n",
    "            elif splitted[5] == \"red\":\n",
    "                if (\"ref_\" + groupY[1]) in splitted[4]:\n",
    "                    groupBR[1].add(int(splitted[4].split(\"_\")[3]))\n",
    "            elif splitted[5] == \"uncheck\":\n",
    "                if splitted[6] == \"blue\" and (\"ref_\" + groupY[0]) in splitted[4]:\n",
    "                    groupBR[0].remove(int(splitted[4].split(\"_\")[3]))\n",
    "                elif splitted[6] == \"red\" and (\"ref_\" + groupY[1]) in splitted[4]:\n",
    "                    groupBR[1].remove(int(splitted[4].split(\"_\")[3]))\n",
    "                    \n",
    "    print groupBR[0]\n",
    "    print groupBR[1]\n",
    "    print lower, upper\n",
    "    \n",
    "    \n",
    "    \n",
    "    i = 0\n",
    "    X = []\n",
    "    y = []\n",
    "\n",
    "    if \"26\" in groupO[0]:\n",
    "        g0 = 0\n",
    "        g1 = 1\n",
    "        k0 = int(groupY[0])\n",
    "        k1 = int(groupY[1])\n",
    "    else:\n",
    "        g0 = 1\n",
    "        g1 = 0\n",
    "        k0 = int(groupY[1])\n",
    "        k1 = int(groupY[0])\n",
    "        \n",
    "    #g0 = int(groupY[0])\n",
    "    #g1 = int(groupY[1])\n",
    "    lowHist = hists[k0][lower]\n",
    "    highHist = hists[k1][upper]\n",
    "    lenHist = len(lowHist)\n",
    "\n",
    "    # =============================\n",
    "    if predXs[g0] == 0:\n",
    "        predXs[g0] = []\n",
    "        predYs[g0] = []\n",
    "    \n",
    "    predXs[g0].append(lowHist);\n",
    "    predYs[g0].append(1.0);\n",
    "\n",
    "    predXs[g0].append(highHist);\n",
    "    predYs[g0].append(-1.0);\n",
    "\n",
    "    for b1 in groupBR[0]:\n",
    "        predXs[g0].append(hists[k0][b1])\n",
    "        predYs[g0].append(1.0)    \n",
    "\n",
    "    for r1 in groupBR[1]:\n",
    "        predXs[g0].append(hists[k1][r1])\n",
    "        predYs[g0].append(-1.0)\n",
    "\n",
    "\n",
    "    # =============================\n",
    "    if predXs[g1] == 0:\n",
    "        predXs[g1] = []\n",
    "        predYs[g1] = []\n",
    "    \n",
    "    predXs[g1].append(lowHist);\n",
    "    predYs[g1].append(-1.0);\n",
    "\n",
    "    predXs[g1].append(highHist);\n",
    "    predYs[g1].append(1.0);\n",
    "\n",
    "    for b1 in groupBR[0]:\n",
    "        predXs[g1].append(hists[k0][b1])\n",
    "        predYs[g1].append(-1.0)    \n",
    "\n",
    "    for r1 in groupBR[1]:\n",
    "        predXs[g1].append(hists[k1][r1])\n",
    "        predYs[g1].append(1.0)\n",
    "\n",
    "    \n",
    "    "
   ]
  },
  {
   "cell_type": "code",
   "execution_count": null,
   "metadata": {
    "collapsed": false
   },
   "outputs": [],
   "source": []
  },
  {
   "cell_type": "code",
   "execution_count": null,
   "metadata": {
    "collapsed": true
   },
   "outputs": [],
   "source": []
  }
 ],
 "metadata": {
  "kernelspec": {
   "display_name": "Python 2",
   "language": "python",
   "name": "python2"
  },
  "language_info": {
   "codemirror_mode": {
    "name": "ipython",
    "version": 2
   },
   "file_extension": ".py",
   "mimetype": "text/x-python",
   "name": "python",
   "nbconvert_exporter": "python",
   "pygments_lexer": "ipython2",
   "version": "2.7.3"
  }
 },
 "nbformat": 4,
 "nbformat_minor": 0
}
