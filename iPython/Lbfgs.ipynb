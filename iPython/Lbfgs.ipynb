{
 "metadata": {
  "name": "",
  "signature": "sha256:959dbf63f60b48b3f8733bc9b0a5efc0f5a828dc328a6e20142fa0a2801377b5"
 },
 "nbformat": 3,
 "nbformat_minor": 0,
 "worksheets": [
  {
   "cells": [
    {
     "cell_type": "code",
     "collapsed": false,
     "input": [
      "print \"Hello\""
     ],
     "language": "python",
     "metadata": {},
     "outputs": [
      {
       "output_type": "stream",
       "stream": "stdout",
       "text": [
        "Hello\n"
       ]
      }
     ],
     "prompt_number": 1
    },
    {
     "cell_type": "code",
     "collapsed": false,
     "input": [
      "import numpy as np\n",
      "#save  matrix\n",
      "file = open(\"/home/iizhaki/oasis/CSE255/MatrixReorder502.pck\")\n",
      "matrix =np.load(file)\n",
      "file.close()\n",
      "print \"done\"\n",
      "\n",
      "#save  matrix\n",
      "file = open(\"/home/iizhaki/oasis/CSE255/YsReorder502.pck\")\n",
      "rankingR = np.load(file)\n",
      "file.close()\n",
      "print \"done\"\n",
      "\n",
      "#save  matrix\n",
      "file = open(\"/home/iizhaki/oasis/CSE255/IndexReorder502.pck\")\n",
      "indexes= np.load(file)\n",
      "file.close()\n",
      "print \"done\"\n",
      "\n",
      "print indexes[:20]\n",
      "X = [matrix[i] for i in indexes]\n",
      "y = [rankingR[i] for i in indexes]\n",
      "\n",
      "\n",
      "n = int(len(X)*0.7)\n",
      "X_train = X[:n]\n",
      "y_train = y[:n]\n",
      "\n",
      "X_test =X[n:]\n",
      "y_test =y[n:]"
     ],
     "language": "python",
     "metadata": {},
     "outputs": [
      {
       "output_type": "stream",
       "stream": "stdout",
       "text": [
        "done\n",
        "done\n",
        "done\n",
        "[ 573812 1055387   93280 1232988  917762 1230238 1010895  520368 1351840\n",
        "   38040  294156   77051  166163  328957  316261 1301367  485036  728258\n",
        "  560926  814129]\n"
       ]
      }
     ],
     "prompt_number": 2
    },
    {
     "cell_type": "code",
     "collapsed": false,
     "input": [
      "import scipy.optimize\n",
      "from numpy.linalg import norm\n",
      "\n",
      "### Gradient descent ###\n",
      "\n",
      "# Objective\n",
      "def f(theta, X, y, lam):\n",
      "    diff = numpy.dot(X, theta) - y\n",
      "    diffSq = (norm(diff) ** 2) / len(X)\n",
      "    diffSqReg = diffSq + lam * norm(theta) ** 2\n",
      "    #print \"f : \" , diffSqReg\n",
      "    return diffSqReg\n",
      "\n",
      "    # Derivative\n",
      "def fprime(theta, X, y, lam):\n",
      "    diff = numpy.dot(X, theta) - y\n",
      "    res = 2 * numpy.dot(X.T, diff) / len(X) + 2 * lam * theta\n",
      "    return res"
     ],
     "language": "python",
     "metadata": {},
     "outputs": [],
     "prompt_number": 3
    },
    {
     "cell_type": "code",
     "collapsed": false,
     "input": [
      "\n",
      "\n",
      "import time\n",
      "import timeit\n",
      "\n",
      "start = time.time()\n",
      "thetar,l,info = scipy.optimize.fmin_l_bfgs_b(f, numpy.array([0] * len(X_train[0])).T, fprime, args = (numpy.array(X_train), numpy.array(y_train).T, 0.1))\n",
      "end = time.time()\n",
      "finished = end - start\n",
      "print finished"
     ],
     "language": "python",
     "metadata": {},
     "outputs": []
    },
    {
     "cell_type": "code",
     "collapsed": false,
     "input": [
      "def predict(data, theta):\n",
      "    theta = numpy.matrix(theta)\n",
      "    prediction = [theta*numpy.matrix(d).T  for d in data]\n",
      "    return prediction\n",
      "\n",
      "#prediction_training = predict(X, thetax)\n",
      "\n",
      "def MSE(prediction, real):\n",
      "    squares = [ (p - r)**2 for p,r in zip (prediction,real) ]\n",
      "    return numpy.mean(squares)\n",
      "\n",
      "\n",
      "#print \" MSE training\", MSE(prediction_training, y )"
     ],
     "language": "python",
     "metadata": {},
     "outputs": [],
     "prompt_number": 15
    },
    {
     "cell_type": "code",
     "collapsed": false,
     "input": [
      "prediction_training = predict(X_train, thetar)\n",
      "var = MSE([np.mean(y_train)]*len(y_train), y_train )\n",
      "ps = [e if e<5 else numpy.matrix([[5.0]])  for e in prediction_training]\n",
      "ps = [e if e>1 else numpy.matrix([[1.0]])  for e in ps]\n",
      "\n",
      "ms = MSE(ps, y_train )\n",
      "print \" MSE training\",ms   # mean abs error 0.832253748827\n",
      "print \"var\", var\n",
      "print \"ratio \", ms/var\n",
      "\n",
      "#MSE training 0.788330098369\n",
      "#var 1.37562975\n",
      "#ratio  0.573068515252"
     ],
     "language": "python",
     "metadata": {},
     "outputs": [
      {
       "output_type": "stream",
       "stream": "stdout",
       "text": [
        " MSE training 0.856862580198\n",
        "var 1.39814050275\n",
        "ratio  0.612858706629\n"
       ]
      }
     ],
     "prompt_number": 16
    },
    {
     "cell_type": "code",
     "collapsed": false,
     "input": [
      "prediction_test = predict(X_test, thetar)\n",
      "var = MSE([np.mean(y_test)]*len(y_test), y_test )\n",
      "ps = [e if e<5 else numpy.matrix([[5.0]])  for e in prediction_test]\n",
      "ps = [e if e>1 else numpy.matrix([[1.0]])  for e in ps]\n",
      "ms =MSE(ps, y_test ) \n",
      "print \" MSE test\", ms# mean abs error 0.832253748827\n",
      "print \"var\", var\n",
      "print \"ratio \", ms/var\n",
      "\n",
      "#MSE test 0.855575828303\n",
      "#var 1.40083603823\n",
      "#ratio  0.610760863481"
     ],
     "language": "python",
     "metadata": {},
     "outputs": [
      {
       "output_type": "stream",
       "stream": "stdout",
       "text": [
        " MSE test 0.857288648125\n",
        "var 1.40083603823\n",
        "ratio  0.611983576043\n"
       ]
      }
     ],
     "prompt_number": 17
    },
    {
     "cell_type": "code",
     "collapsed": false,
     "input": [
      "print finished"
     ],
     "language": "python",
     "metadata": {},
     "outputs": [
      {
       "output_type": "stream",
       "stream": "stdout",
       "text": [
        "319.711966991\n"
       ]
      }
     ],
     "prompt_number": 11
    },
    {
     "cell_type": "code",
     "collapsed": false,
     "input": [
      "pred = dict()\n",
      "real = dict()\n",
      "for i in range(100):\n",
      "    pred[i] = []\n",
      "    real[i] = []\n",
      "for i in range(len(X_test)):\n",
      "    s = X_test[i]\n",
      "    p = s[1:101].tolist().index(1)\n",
      "    pred[p].append(ps[i])\n",
      "    real[p].append(y_test[i])\n",
      "msedict = dict()\n",
      "for p in pred:\n",
      "    msedict[p] = MSE(pred[p], real[p] ) \n",
      "\n"
     ],
     "language": "python",
     "metadata": {},
     "outputs": [],
     "prompt_number": 25
    },
    {
     "cell_type": "code",
     "collapsed": false,
     "input": [
      "K=100\n",
      "import pickle\n",
      "file = open(\"/home/iizhaki/oasis/CSE255/gpsUS\" + str(K) + \"_cent.pck\")\n",
      "kmm = pickle.load(file)\n",
      "file.close()\n",
      "print \"done\""
     ],
     "language": "python",
     "metadata": {},
     "outputs": [
      {
       "output_type": "stream",
       "stream": "stdout",
       "text": [
        "done\n"
       ]
      }
     ],
     "prompt_number": 26
    },
    {
     "cell_type": "code",
     "collapsed": false,
     "input": [
      "from matplotlib import pyplot as PLT\n",
      "from matplotlib import cm as CM\n",
      "from matplotlib import mlab as ML\n",
      "import numpy as NP\n",
      "\n",
      "x=[]\n",
      "y=[]\n",
      "z=[]\n",
      "for a in msedict:\n",
      "    w,q=kmm[a] \n",
      "    x.append(w)\n",
      "    y.append(q)\n",
      "    z.append(msedict[a])\n",
      "    \n",
      "gridsize=80\n",
      "#fig = plt.figure(figsize=(8,4), dpi=100)\n",
      "fig, axes =PLT.subplots(figsize=(16,10))\n",
      "\n",
      "# if 'bins=None', then color of each hexagon corresponds directly to its count\n",
      "# 'C' is optional--it maps values to x-y coordinates; if 'C' is None (default) then \n",
      "# the result is a pure 2D histogram \n",
      "\n",
      "PLT.hexbin( y,x, C=z, gridsize=gridsize, cmap=CM.jet, bins=None)\n",
      "PLT.axis([ -128,-60,24, 50])\n",
      "\n",
      "cb = PLT.colorbar()\n",
      "cb.set_label('Average Error')\n",
      "PLT.show()   \n",
      "\n",
      "fig.savefig(\"AVG_Error.png\", dpi=200)"
     ],
     "language": "python",
     "metadata": {},
     "outputs": [
      {
       "metadata": {},
       "output_type": "display_data",
       "png": "[encoded data removed]",
       "text": [
        "<matplotlib.figure.Figure at 0x13742b90>"
       ]
      }
     ],
     "prompt_number": 28
    },
    {
     "cell_type": "code",
     "collapsed": false,
     "input": [
      "FileLink('AVG_Rating.png')"
     ],
     "language": "python",
     "metadata": {},
     "outputs": []
    }
   ],
   "metadata": {}
  }
 ]
}