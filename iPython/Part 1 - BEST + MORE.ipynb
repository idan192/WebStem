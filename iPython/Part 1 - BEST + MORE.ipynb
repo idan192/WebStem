{
 "metadata": {
  "name": "",
  "signature": "sha256:433f034f5bd5f9075b28ddfd2111c8acaee7a16871d175abd04048efb984d3b4"
 },
 "nbformat": 3,
 "nbformat_minor": 0,
 "worksheets": [
  {
   "cells": [
    {
     "cell_type": "code",
     "collapsed": false,
     "input": [
      "import pickle\n",
      "from sklearn.linear_model import SGDRegressor\n",
      "from _collections import defaultdict\n",
      "import time\n",
      "import timeit\n",
      "\n",
      "from numpy.linalg import norm\n",
      "import scipy.optimize\n",
      "import random\n",
      "from sets import Set\n",
      "\n",
      "import numpy as np"
     ],
     "language": "python",
     "metadata": {},
     "outputs": [],
     "prompt_number": 178
    },
    {
     "cell_type": "code",
     "collapsed": false,
     "input": [
      "def parseData(fname):\n",
      "  for l in open(fname):\n",
      "    yield eval(l)\n",
      "    \n",
      "def parseTxt(fname):\n",
      "  for l in open(fname):\n",
      "    yield l.strip().split(\" \")\n",
      "\n",
      "print \"Reading train...\"\n",
      "train = list(parseData(\"/home/iizhaki/oasis/CSE255/Project2/assignment2/train.json\"))\n",
      "N = len(train)\n",
      "#test = train[int(-0.7 * N) : ]\n",
      "#train = train[: int(0.7 * N)]"
     ],
     "language": "python",
     "metadata": {},
     "outputs": [
      {
       "output_type": "stream",
       "stream": "stdout",
       "text": [
        "Reading train...\n"
       ]
      }
     ],
     "prompt_number": 179
    },
    {
     "cell_type": "code",
     "collapsed": false,
     "input": [],
     "language": "python",
     "metadata": {},
     "outputs": [],
     "prompt_number": 179
    },
    {
     "cell_type": "code",
     "collapsed": false,
     "input": [],
     "language": "python",
     "metadata": {},
     "outputs": [],
     "prompt_number": 179
    },
    {
     "cell_type": "code",
     "collapsed": false,
     "input": [
      "print \"done\"\n",
      "\n",
      "def parseTxt(fname):\n",
      "  for l in open(fname):\n",
      "    yield l.strip().split(\" \")\n",
      "    \n",
      "train2 = list(parseTxt(\"/home/iizhaki/oasis/CSE255/Project2/assignment2/ref.txt\"))\n",
      "\n",
      "allXs = []\n",
      "allYs = []\n",
      "for l in train:\n",
      "    user, item, rating = l['reviewerID'], l['itemID'], l['rating']\n",
      "    allXs.append([user, item])\n",
      "    allYs.append(float(rating))\n",
      "'''for l in train2[1:]:\n",
      "    user, rest = l[0].split(\"-\")\n",
      "    item, rating = rest.split(\",\")\n",
      "    #user, item, rating = l['reviewerID'], l['itemID'], l['rating']\n",
      "    allXs.append([user, item])\n",
      "    allYs.append(float(rating))\n",
      "'''\n",
      "    \n",
      "print \"done\"\n",
      "\n",
      "allXt = []\n",
      "allYt = []\n",
      "for l in test:\n",
      "  user, item, rating = l['reviewerID'], l['itemID'], l['rating']\n",
      "  allXt.append([user, item])\n",
      "  allYt.append(float(rating))"
     ],
     "language": "python",
     "metadata": {},
     "outputs": [
      {
       "output_type": "stream",
       "stream": "stdout",
       "text": [
        "done\n",
        "done"
       ]
      },
      {
       "output_type": "stream",
       "stream": "stdout",
       "text": [
        "\n"
       ]
      }
     ],
     "prompt_number": 180
    },
    {
     "cell_type": "code",
     "collapsed": false,
     "input": [],
     "language": "python",
     "metadata": {},
     "outputs": [],
     "prompt_number": 180
    },
    {
     "cell_type": "code",
     "collapsed": false,
     "input": [],
     "language": "python",
     "metadata": {},
     "outputs": [],
     "prompt_number": 180
    },
    {
     "cell_type": "code",
     "collapsed": false,
     "input": [
      "lambd = 1.0\n",
      "alpha = 0\n",
      "X = allXs\n",
      "y = allYs\n",
      "Ntrain = len(y)\n",
      "data = zip(X, y)\n",
      "\n",
      "numU = 0\n",
      "numI = 0\n",
      "allUs = {}\n",
      "allUrs = {}\n",
      "allIs = {}\n",
      "allIrs = {}\n",
      "fastData = []\n",
      "for [u, i], Rui in data:\n",
      "    if u not in allUs:\n",
      "        allUs[u] = numU\n",
      "        allUrs[numU] = u\n",
      "        numU += 1\n",
      "    if i not in allIs:\n",
      "        allIs[i] = numI\n",
      "        allIrs[numI] = i\n",
      "        numI += 1\n",
      "    fastData.append((allUs[u], allIs[i], Rui))\n",
      "    \n",
      "numUt = 0\n",
      "numIt = 0\n",
      "allUt = {}\n",
      "allUrt = {}\n",
      "allIt = {}\n",
      "allIrt = {}\n",
      "datat = zip(allXt, allYt)\n",
      "fastTest = []\n",
      "for [u, i], Rui in datat:\n",
      "    if u not in allUt:\n",
      "        allUt[u] = numUt\n",
      "        allUrt[numUt] = u\n",
      "        numUt += 1\n",
      "    if i not in allIt:\n",
      "        allIt[i] = numIt\n",
      "        allIrt[numIt] = i\n",
      "        numIt += 1\n",
      "    fastTest.append((allUt[u], allIt[i], Rui))\n",
      "\n",
      "\n",
      "Iu = np.zeros(numU)\n",
      "Ii = np.zeros(numI)\n",
      "uToRI = [[]] * numU\n",
      "iToRU = [[]] * numI\n",
      "for (u, i, Rui) in fastData:\n",
      "    Iu[u] += 1\n",
      "    Ii[i] += 1\n",
      "    if uToRI[u] == []:\n",
      "        uToRI[u] = [(i, Rui)]\n",
      "    else:\n",
      "        uToRI[u].append((i, Rui))\n",
      "    if iToRU[i] == []:\n",
      "        iToRU[i] = [(u, Rui)]\n",
      "    else:\n",
      "        iToRU[i].append((u, Rui))"
     ],
     "language": "python",
     "metadata": {},
     "outputs": [],
     "prompt_number": 181
    },
    {
     "cell_type": "code",
     "collapsed": false,
     "input": [
      "print \"Done\""
     ],
     "language": "python",
     "metadata": {},
     "outputs": [
      {
       "output_type": "stream",
       "stream": "stdout",
       "text": [
        "Done\n"
       ]
      }
     ],
     "prompt_number": 182
    },
    {
     "cell_type": "code",
     "collapsed": false,
     "input": [
      "# Objective\n",
      "def func(theta, X, y, lam):\n",
      "    diff = numpy.dot(X,theta) - y\n",
      "    diffSq = numpy.dot(diff,diff) \n",
      "    diffSqReg = diffSq  + lam * numpy.dot(theta,theta)\n",
      "    #print \"offset =\", diffSqReg\n",
      "    return diffSqReg\n",
      "\n",
      "# Derivative\n",
      "def fprime(theta, X, y, lam):\n",
      "    diff = numpy.dot(X,theta) - y\n",
      "    res = 2 * numpy.dot(X.T,diff)    + 2 * lam * theta\n",
      "    #print \"gradient =\", res\n",
      "    return res"
     ],
     "language": "python",
     "metadata": {},
     "outputs": [],
     "prompt_number": 183
    },
    {
     "cell_type": "code",
     "collapsed": false,
     "input": [
      "def miniFunc(Data, Alpha, BetaU, BetaI, GammaU, GammaI, Lambd):\n",
      "    part1 = 0\n",
      "    for (u, i, Rui) in Data:\n",
      "        part1 += ((Alpha + BetaU[u] + BetaI[i] + np.dot(GammaU[u], GammaI[i]) - Rui) ** 2)\n",
      "    \n",
      "    if Lambd:\n",
      "        part2 = sum(BetaU * BetaU) + sum(BetaI * BetaI)\n",
      "        part3 = sum(GammaU * GammaU) + sum(GammaI * GammaI)\n",
      "    else:\n",
      "        part2 = 0\n",
      "        part3 = 0\n",
      "    \n",
      "    print part1, part2, part3\n",
      "    return part1 + Lambd * (part2 + part3)"
     ],
     "language": "python",
     "metadata": {},
     "outputs": [],
     "prompt_number": 184
    },
    {
     "cell_type": "code",
     "collapsed": false,
     "input": [
      "oldVal = 0\n",
      "betaU = np.zeros(numU)\n",
      "betaI = np.zeros(numI)\n",
      "gammaU = np.zeros((numU, 3))\n",
      "gammaI = np.zeros((numI, 3))\n",
      "for u in range(numU):\n",
      "    gammaU[u] = np.array([0.] * 3)\n",
      "for i in range(numI):\n",
      "    gammaI[i] = np.array([1.] * 3)"
     ],
     "language": "python",
     "metadata": {},
     "outputs": [],
     "prompt_number": 185
    },
    {
     "cell_type": "code",
     "collapsed": false,
     "input": [
      "alpha = pickle.load(open(\"/home/iizhaki/oasis/CSE255/Project2/assignment2/idan_predictions_Rating_a_BEST500.pck\", \"rb\"))\n",
      "betaU = pickle.load(open(\"/home/iizhaki/oasis/CSE255/Project2/assignment2/idan_predictions_Rating_bu_BEST500.pck\", \"rb\"))\n",
      "betaI = pickle.load(open(\"/home/iizhaki/oasis/CSE255/Project2/assignment2/idan_predictions_Rating_bi_BEST500.pck\", \"rb\"))\n",
      "gammaU = pickle.load(open(\"/home/iizhaki/oasis/CSE255/Project2/assignment2/idan_predictions_Rating_gu_BEST500.pck\", \"rb\"))\n",
      "gammaI = pickle.load(open(\"/home/iizhaki/oasis/CSE255/Project2/assignment2/idan_predictions_Rating_gi_BEST500.pck\", \"rb\"))\n",
      "oldVal = pickle.load(open(\"/home/iizhaki/oasis/CSE255/Project2/assignment2/idan_predictions_Rating_val_BEST500.pck\", \"rb\"))"
     ],
     "language": "python",
     "metadata": {},
     "outputs": []
    },
    {
     "cell_type": "code",
     "collapsed": false,
     "input": [
      "#alpha = 3.70361669988\n",
      "#betaUD = pickle.load(open(\"/home/iizhaki/oasis/CSE255/Project2/Bu.pck\", \"r\"))\n",
      "#betaID = pickle.load(open(\"/home/iizhaki/oasis/CSE255/Project2/Bi.pck\", \"rb\"))\n",
      "#gammaUD = pickle.load(open(\"/home/iizhaki/oasis/CSE255/Project2/Yu.pck\", \"rb\"))\n",
      "#gammaID = pickle.load(open(\"/home/iizhaki/oasis/CSE255/Project2/Yi.pck\", \"rb\"))\n",
      "#oldVal = 0"
     ],
     "language": "python",
     "metadata": {},
     "outputs": [],
     "prompt_number": 142
    },
    {
     "cell_type": "code",
     "collapsed": false,
     "input": [
      "for u in betaUD:\n",
      "    betaU[allUs[u]] = betaUD[u]\n",
      "    gammaU[allUs[u]] = gammaUD[u]\n",
      "    \n",
      "for i in betaID:\n",
      "    betaI[allIs[i]] = betaID[i]\n",
      "    gammaI[allIs[i]] = gammaID[i]\n",
      "    \n",
      "print betaU[0]\n",
      "print gammaU[0]\n",
      "print betaI[0]\n",
      "print gammaI[0]"
     ],
     "language": "python",
     "metadata": {},
     "outputs": [
      {
       "ename": "NameError",
       "evalue": "name 'betaUD' is not defined",
       "output_type": "pyerr",
       "traceback": [
        "\u001b[1;31m---------------------------------------------------------------------------\u001b[0m\n\u001b[1;31mNameError\u001b[0m                                 Traceback (most recent call last)",
        "\u001b[1;32m<ipython-input-11-da674eae297e>\u001b[0m in \u001b[0;36m<module>\u001b[1;34m()\u001b[0m\n\u001b[1;32m----> 1\u001b[1;33m \u001b[1;32mfor\u001b[0m \u001b[0mu\u001b[0m \u001b[1;32min\u001b[0m \u001b[0mbetaUD\u001b[0m\u001b[1;33m:\u001b[0m\u001b[1;33m\u001b[0m\u001b[0m\n\u001b[0m\u001b[0;32m      2\u001b[0m     \u001b[0mbetaU\u001b[0m\u001b[1;33m[\u001b[0m\u001b[0mallUs\u001b[0m\u001b[1;33m[\u001b[0m\u001b[0mu\u001b[0m\u001b[1;33m]\u001b[0m\u001b[1;33m]\u001b[0m \u001b[1;33m=\u001b[0m \u001b[0mbetaUD\u001b[0m\u001b[1;33m[\u001b[0m\u001b[0mu\u001b[0m\u001b[1;33m]\u001b[0m\u001b[1;33m\u001b[0m\u001b[0m\n\u001b[0;32m      3\u001b[0m     \u001b[0mgammaU\u001b[0m\u001b[1;33m[\u001b[0m\u001b[0mallUs\u001b[0m\u001b[1;33m[\u001b[0m\u001b[0mu\u001b[0m\u001b[1;33m]\u001b[0m\u001b[1;33m]\u001b[0m \u001b[1;33m=\u001b[0m \u001b[0mgammaUD\u001b[0m\u001b[1;33m[\u001b[0m\u001b[0mu\u001b[0m\u001b[1;33m]\u001b[0m\u001b[1;33m\u001b[0m\u001b[0m\n\u001b[0;32m      4\u001b[0m \u001b[1;33m\u001b[0m\u001b[0m\n\u001b[0;32m      5\u001b[0m \u001b[1;32mfor\u001b[0m \u001b[0mi\u001b[0m \u001b[1;32min\u001b[0m \u001b[0mbetaID\u001b[0m\u001b[1;33m:\u001b[0m\u001b[1;33m\u001b[0m\u001b[0m\n",
        "\u001b[1;31mNameError\u001b[0m: name 'betaUD' is not defined"
       ]
      }
     ],
     "prompt_number": 11
    },
    {
     "cell_type": "code",
     "collapsed": false,
     "input": [
      "betaU = np.array(betaU)\n",
      "betaI = np.array(betaI)\n",
      "gammaU = list(gammaU)\n",
      "gammaI = list(gammaI)\n",
      "\n",
      "for u in range(numU):\n",
      "    gammaU[u] = np.append(gammaU[u], [0] * 1)\n",
      "    \n",
      "for i in range(numI):\n",
      "    gammaI[i] = np.append(gammaI[i], [1] * 1)\n",
      "\n",
      "gammaU = np.array(gammaU)\n",
      "gammaI = np.array(gammaI)\n",
      "oldVal = 0"
     ],
     "language": "python",
     "metadata": {},
     "outputs": [],
     "prompt_number": 186
    },
    {
     "cell_type": "code",
     "collapsed": false,
     "input": [
      "def checkTest(Data, alpha, betaU, betaI, gammaU, gammaI):\n",
      "    error = miniFunc(Data, alpha, betaU, betaI, gammaU, gammaI, 0)\n",
      "    return math.sqrt(error)"
     ],
     "language": "python",
     "metadata": {},
     "outputs": []
    },
    {
     "cell_type": "code",
     "collapsed": false,
     "input": [
      "# Adjust to less features\n",
      "betaU = betaU[:471404]\n",
      "betaI = betaI[:102549]"
     ],
     "language": "python",
     "metadata": {},
     "outputs": [],
     "prompt_number": 103
    },
    {
     "cell_type": "code",
     "collapsed": false,
     "input": [
      "# HERE I RUN WITH 50\n",
      "oldVal = 0\n",
      "error = 50000000\n",
      "fstPlus = 0\n",
      "lambd = 1\n",
      "lambd2 = 1\n",
      "\n",
      "while True:\n",
      "    lastAlpha = alpha\n",
      "    lastBetaU = betaU.copy()\n",
      "    lastBetaI = betaI.copy()\n",
      "    lastGammaU = gammaU.copy()\n",
      "    lastGammaI = gammaI.copy()\n",
      "    \n",
      "    #----------------------\n",
      "    start = time.time()\n",
      "    #----------------------\n",
      "    \n",
      "    # Alpha stage\n",
      "    alpha = 0\n",
      "    for (u, i, Rui) in fastData:\n",
      "        gu = gammaU[u]\n",
      "        gi = gammaI[i]\n",
      "        alpha += Rui - (betaU[u] + betaI[i] + np.dot(gu, gi))\n",
      "    alpha = alpha / Ntrain\n",
      "    \n",
      "    #----------------------\n",
      "    #end = time.time()\n",
      "    #finished = end - start\n",
      "    #print \"Alpha time: \", finished\n",
      "    #----------------------\n",
      "    \n",
      "    #----------------------\n",
      "    #start = time.time()\n",
      "    #----------------------\n",
      "\n",
      "    # BetaU stage \n",
      "    betaU.fill(0)\n",
      "    for (u, i, Rui) in fastData:\n",
      "        gu = gammaU[u]\n",
      "        gi = gammaI[i]\n",
      "        betaU[u] += (Rui - (alpha + betaI[i] + np.dot(gu, gi)))\n",
      "        \n",
      "    betaU = betaU / (lambd + Iu)\n",
      "        \n",
      "    #----------------------\n",
      "    #end = time.time()\n",
      "    #finished = end - start\n",
      "    #print \"BetaU time: \", finished\n",
      "    #----------------------\n",
      "        \n",
      "    #----------------------\n",
      "    #start = time.time()\n",
      "    #----------------------\n",
      "        \n",
      "    # BetaI stage \n",
      "    betaI.fill(0)\n",
      "    for (u, i, Rui) in fastData:\n",
      "        gu = gammaU[u]\n",
      "        gi = gammaI[i]\n",
      "        betaI[i] += (Rui - (alpha + betaU[u] + np.dot(gu, gi)))\n",
      "    betaI = betaI / (lambd + Ii)\n",
      "        \n",
      "    #----------------------\n",
      "    #end = time.time()\n",
      "    #finished = end - start\n",
      "    #print \"BetaI time: \", finished\n",
      "    #----------------------\n",
      "    \n",
      "    #----------------------\n",
      "    #start = time.time()\n",
      "    #----------------------\n",
      "\n",
      "    # GammaU stage \n",
      "    for u in range(numU):\n",
      "        gi = []\n",
      "        y = []\n",
      "        for (i, Rui) in uToRI[u]:\n",
      "            gi.append(gammaI[i])\n",
      "            y.append(Rui - (alpha + betaU[u] + betaI[i]))\n",
      "                    \n",
      "        #clf = SGDRegressor(n_iter = 5, alpha = 0.1)\n",
      "        #clf.fit(gi, y)\n",
      "        #thetas = clf.coef_\n",
      "\n",
      "        #thetas, _, _, _ = np.linalg.lstsq(gi, y)\n",
      "        thetas, _, _ = scipy.optimize.fmin_l_bfgs_b(func, np.array(gammaU[u]).T, fprime, args = (np.array(gi), np.array(y).T, lambd2))\n",
      "        #thetas, _, _ = scipy.optimize.fmin_cg(func, np.array(gammaU[u]).T, fprime, args = (np.array(gi), np.array(y).T, lambd))\n",
      "        gammaU[u] = thetas\n",
      "            \n",
      "    #----------------------\n",
      "    #end = time.time()\n",
      "    #finished = end - start\n",
      "    #print \"GammaU time: \", finished\n",
      "    #----------------------\n",
      "        \n",
      "    #----------------------\n",
      "    #start = time.time()\n",
      "    #----------------------\n",
      "        \n",
      "    # GammaI stage \n",
      "    for i in range(numI):\n",
      "        gu = []\n",
      "        y = []\n",
      "        for (u, Rui) in iToRU[i]:\n",
      "            gu.append(gammaU[u])\n",
      "            y.append(Rui - (alpha + betaU[u] + betaI[i]))\n",
      "            \n",
      "        #clf = SGDRegressor(n_iter = 5, alpha = 0.1)\n",
      "        #clf.fit(gu, y)\n",
      "        #thetas = clf.coef_\n",
      "            \n",
      "        #thetas, _, _, _ = np.linalg.lstsq(gu, y)\n",
      "        thetas, _, _ = scipy.optimize.fmin_l_bfgs_b(func, np.array(gammaI[i]).T, fprime, args = (np.array(gu), np.array(y).T, lambd))\n",
      "        #thetas, _, _ = scipy.optimize.fmin_cg(func, np.array(gammaI[i]).T, fprime, args = (np.array(gu), np.array(y).T, lambd))\n",
      "        gammaI[i] = thetas\n",
      "    \n",
      "    #----------------------\n",
      "    #end = time.time()\n",
      "    #finished = end - start\n",
      "    #print \"GammaI time: \", finished\n",
      "    #----------------------\n",
      "    \n",
      "    #----------------------\n",
      "    #start = time.time()\n",
      "    #----------------------\n",
      "    newVal = miniFunc(fastData, alpha, betaU, betaI, gammaU, gammaI, lambd)\n",
      "    #----------------------\n",
      "    end = time.time()\n",
      "    finished = end - start\n",
      "    print \"miniFunc time: \", finished,  \" --> Diff: \", (oldVal - newVal), newVal\n",
      "    #----------------------\n",
      "    \n",
      "    #err = checkTest(fastData, alpha, betaU, betaI, gammaU, gammaI) \n",
      "    '''if newVal <= oldVal:\n",
      "        oldVal = newVal\n",
      "    else:\n",
      "        alpha = lastAlpha\n",
      "        betaU = lastBetaU\n",
      "        betaI = lastBetaI\n",
      "        gammaU = lastGammaU\n",
      "        gammaI = lastGammaI\n",
      "        if fstPlus == 0:\n",
      "            fstPlus += 1\n",
      "            lambd -= 0.1\n",
      "            if lambd < 0:\n",
      "                lambd = 0\n",
      "        elif fstPlus == 1:\n",
      "            fstPlus += 1\n",
      "            lambd += 0.1\n",
      "            if lambd > 2:\n",
      "                lambd = 2\n",
      "        else:\n",
      "            break\n",
      "    '''\n",
      "    if oldVal > 0 and oldVal <= newVal:\n",
      "        alpha = lastAlpha\n",
      "        betaU = lastBetaU\n",
      "        betaI = lastBetaI\n",
      "        gammaU = lastGammaU\n",
      "        gammaI = lastGammaI\n",
      "        break\n",
      " \n",
      "    fstPlus = 0\n",
      "    oldVal = newVal\n",
      "    \n",
      "print alpha"
     ],
     "language": "python",
     "metadata": {},
     "outputs": [
      {
       "output_type": "stream",
       "stream": "stdout",
       "text": [
        "216461.496677 474304.938167 81581.8106757\n",
        "miniFunc time:  169.261864185  --> Diff:  -772348.24552 772348.24552\n",
        "181535.12901"
       ]
      }
     ]
    },
    {
     "cell_type": "code",
     "collapsed": false,
     "input": [
      "print miniFunc(fastData, alpha, betaU, betaI, gammaU, gammaI, lambd)\n",
      "print len(gammaU[0])"
     ],
     "language": "python",
     "metadata": {},
     "outputs": [
      {
       "output_type": "stream",
       "stream": "stdout",
       "text": [
        "140174.06841 112051.635822 208198.323013\n",
        "460424.027245\n",
        "3\n"
       ]
      }
     ],
     "prompt_number": 160
    },
    {
     "cell_type": "code",
     "collapsed": false,
     "input": [
      "pickle.dump(alpha, open(\"/home/iizhaki/oasis/CSE255/Project2/assignment2/idan_predictions_Rating_a_BEST50.pck\", \"wb\"))\n",
      "pickle.dump(betaU, open(\"/home/iizhaki/oasis/CSE255/Project2/assignment2/idan_predictions_Rating_bu_BEST50.pck\", \"wb\"))\n",
      "pickle.dump(betaI, open(\"/home/iizhaki/oasis/CSE255/Project2/assignment2/idan_predictions_Rating_bi_BEST50.pck\", \"wb\"))\n",
      "pickle.dump(gammaU, open(\"/home/iizhaki/oasis/CSE255/Project2/assignment2/idan_predictions_Rating_gu_BEST50.pck\", \"wb\"))\n",
      "pickle.dump(gammaI, open(\"/home/iizhaki/oasis/CSE255/Project2/assignment2/idan_predictions_Rating_gi_BEST50.pck\", \"wb\"))\n",
      "pickle.dump(oldVal, open(\"/home/iizhaki/oasis/CSE255/Project2/assignment2/idan_predictions_Rating_val_BEST50.pck\", \"wb\"))"
     ],
     "language": "python",
     "metadata": {},
     "outputs": [],
     "prompt_number": 42
    },
    {
     "cell_type": "code",
     "collapsed": false,
     "input": [
      "print \"Done\""
     ],
     "language": "python",
     "metadata": {},
     "outputs": [
      {
       "output_type": "stream",
       "stream": "stdout",
       "text": [
        "Done\n"
       ]
      }
     ],
     "prompt_number": 161
    },
    {
     "cell_type": "code",
     "collapsed": false,
     "input": [
      "print (oldVal - newVal), newVal, err"
     ],
     "language": "python",
     "metadata": {},
     "outputs": [
      {
       "output_type": "stream",
       "stream": "stdout",
       "text": [
        "0.0 454886.171447 43.6954516415\n"
       ]
      }
     ],
     "prompt_number": 189
    },
    {
     "cell_type": "code",
     "collapsed": false,
     "input": [],
     "language": "python",
     "metadata": {},
     "outputs": [],
     "prompt_number": 109
    },
    {
     "cell_type": "code",
     "collapsed": false,
     "input": [
      "testRest = np.array(list(parseTxt(\"/home/iizhaki/oasis/CSE255/Project2/assignment2/pairs_Rating.txt\")))\n",
      "myPredictions = open(\"/home/iizhaki/oasis/CSE255/Project2/assignment2/idan_predictions_Rating_\" + str(lambd) + \"_\" + str(alpha) + \"_\" + str(oldVal) + \"_BEST50_AVG.txt\", 'w')\n",
      "myPredictions.write(str(testRest[0][0]) + '\\n')\n",
      "\n",
      "avgBu = np.mean(betaU)\n",
      "avgBi = np.mean(betaI)\n",
      "avgGu = np.mean(gammaU, axis = 0)\n",
      "avgGi = np.mean(gammaI, axis = 0)\n",
      "\n",
      "mse = 0\n",
      "for currLine in testRest[1:]:\n",
      "    u, i = currLine[0].split(\"-\")\n",
      "    if u in allUs:\n",
      "        bu = betaU[allUs[u]]\n",
      "        gu = gammaU[allUs[u]]\n",
      "    else:\n",
      "        bu = avgBu\n",
      "        gu = avgGu\n",
      "    if i in allIs:\n",
      "        bi = betaI[allIs[i]]\n",
      "        gi = gammaI[allIs[i]]\n",
      "    else:\n",
      "        bi = avgBi\n",
      "        gi = avgGi\n",
      "    p = alpha + bu + bi + np.dot(gu, gi)\n",
      "    if p > 5.0:\n",
      "        p = 4.8\n",
      "    if p < 1.0:\n",
      "        p = 1.2\n",
      "    myPredictions.write(u + '-' + i + ',' + str(p) + '\\n')\n",
      "\n",
      "myPredictions.flush()\n",
      "myPredictions.close()"
     ],
     "language": "python",
     "metadata": {},
     "outputs": [],
     "prompt_number": 191
    },
    {
     "cell_type": "code",
     "collapsed": false,
     "input": [],
     "language": "python",
     "metadata": {},
     "outputs": []
    },
    {
     "cell_type": "code",
     "collapsed": false,
     "input": [],
     "language": "python",
     "metadata": {},
     "outputs": []
    },
    {
     "cell_type": "code",
     "collapsed": false,
     "input": [],
     "language": "python",
     "metadata": {},
     "outputs": [],
     "prompt_number": 47
    },
    {
     "cell_type": "code",
     "collapsed": false,
     "input": [],
     "language": "python",
     "metadata": {},
     "outputs": [],
     "prompt_number": 59
    },
    {
     "cell_type": "code",
     "collapsed": false,
     "input": [],
     "language": "python",
     "metadata": {},
     "outputs": [],
     "prompt_number": 60
    },
    {
     "cell_type": "code",
     "collapsed": false,
     "input": [],
     "language": "python",
     "metadata": {},
     "outputs": []
    }
   ],
   "metadata": {}
  }
 ]
}