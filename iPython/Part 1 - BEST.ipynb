{
 "metadata": {
  "name": "",
  "signature": "sha256:5e9d2618c03d423cecd895c09444f36cc7d04bffb44ae675a2809ae73ec9396b"
 },
 "nbformat": 3,
 "nbformat_minor": 0,
 "worksheets": [
  {
   "cells": [
    {
     "cell_type": "code",
     "collapsed": false,
     "input": [
      "import pickle\n",
      "from sklearn.linear_model import SGDRegressor\n",
      "from _collections import defaultdict\n",
      "import time\n",
      "import timeit\n",
      "\n",
      "from numpy.linalg import norm\n",
      "import scipy.optimize\n",
      "import random\n",
      "from sets import Set\n",
      "\n",
      "import numpy as np"
     ],
     "language": "python",
     "metadata": {},
     "outputs": [],
     "prompt_number": 1
    },
    {
     "cell_type": "code",
     "collapsed": false,
     "input": [
      "def parseData(fname):\n",
      "  for l in open(fname):\n",
      "    yield eval(l)\n",
      "    \n",
      "def parseTxt(fname):\n",
      "  for l in open(fname):\n",
      "    yield l.strip().split(\" \")\n",
      "\n",
      "print \"Reading train...\"\n",
      "train = list(parseData(\"/home/iizhaki/oasis/CSE255/Project2/assignment2/train.json\"))"
     ],
     "language": "python",
     "metadata": {},
     "outputs": [
      {
       "output_type": "stream",
       "stream": "stdout",
       "text": [
        "Reading train...\n"
       ]
      }
     ],
     "prompt_number": 2
    },
    {
     "cell_type": "code",
     "collapsed": false,
     "input": [],
     "language": "python",
     "metadata": {},
     "outputs": [],
     "prompt_number": 2
    },
    {
     "cell_type": "code",
     "collapsed": false,
     "input": [],
     "language": "python",
     "metadata": {},
     "outputs": [],
     "prompt_number": 2
    },
    {
     "cell_type": "code",
     "collapsed": false,
     "input": [
      "print \"done\"\n",
      "\n",
      "allXs = []\n",
      "allYs = []\n",
      "for l in train:\n",
      "  user, item, rating = l['reviewerID'], l['itemID'], l['rating']\n",
      "  allXs.append([user, item])\n",
      "  allYs.append(float(rating))"
     ],
     "language": "python",
     "metadata": {},
     "outputs": [
      {
       "output_type": "stream",
       "stream": "stdout",
       "text": [
        "done\n"
       ]
      }
     ],
     "prompt_number": 3
    },
    {
     "cell_type": "code",
     "collapsed": false,
     "input": [],
     "language": "python",
     "metadata": {},
     "outputs": [],
     "prompt_number": 3
    },
    {
     "cell_type": "code",
     "collapsed": false,
     "input": [],
     "language": "python",
     "metadata": {},
     "outputs": [],
     "prompt_number": 3
    },
    {
     "cell_type": "code",
     "collapsed": false,
     "input": [
      "lambd = 1.0\n",
      "alpha = 0\n",
      "X = allXs\n",
      "y = allYs\n",
      "Ntrain = len(y)\n",
      "data = zip(X, y)\n",
      "\n",
      "numU = 0\n",
      "numI = 0\n",
      "allUs = {}\n",
      "allUrs = {}\n",
      "allIs = {}\n",
      "allIrs = {}\n",
      "fastData = []\n",
      "for [u, i], Rui in data:\n",
      "    if u not in allUs:\n",
      "        allUs[u] = numU\n",
      "        allUrs[numU] = u\n",
      "        numU += 1\n",
      "    if i not in allIs:\n",
      "        allIs[i] = numI\n",
      "        allIrs[numI] = i\n",
      "        numI += 1\n",
      "    fastData.append((allUs[u], allIs[i], Rui))\n",
      "\n",
      "\n",
      "Iu = np.zeros(numU)\n",
      "Ii = np.zeros(numI)\n",
      "uToRI = [[]] * numU\n",
      "iToRU = [[]] * numI\n",
      "for (u, i, Rui) in fastData:\n",
      "    Iu[u] += 1\n",
      "    Ii[i] += 1\n",
      "    if uToRI[u] == []:\n",
      "        uToRI[u] = [(i, Rui)]\n",
      "    else:\n",
      "        uToRI[u].append((i, Rui))\n",
      "    if iToRU[i] == []:\n",
      "        iToRU[i] = [(u, Rui)]\n",
      "    else:\n",
      "        iToRU[i].append((u, Rui))"
     ],
     "language": "python",
     "metadata": {},
     "outputs": [],
     "prompt_number": 4
    },
    {
     "cell_type": "code",
     "collapsed": false,
     "input": [
      "print \"Done\""
     ],
     "language": "python",
     "metadata": {},
     "outputs": [
      {
       "output_type": "stream",
       "stream": "stdout",
       "text": [
        "Done\n"
       ]
      }
     ],
     "prompt_number": 5
    },
    {
     "cell_type": "code",
     "collapsed": false,
     "input": [
      "# Objective\n",
      "def func(theta, X, y, lam):\n",
      "    diff = numpy.dot(X,theta) - y\n",
      "    diffSq = numpy.dot(diff,diff) \n",
      "    diffSqReg = diffSq  + lam * numpy.dot(theta,theta)\n",
      "    #print \"offset =\", diffSqReg\n",
      "    return diffSqReg\n",
      "\n",
      "# Derivative\n",
      "def fprime(theta, X, y, lam):\n",
      "    diff = numpy.dot(X,theta) - y\n",
      "    res = 2 * numpy.dot(X.T,diff)    + 2 * lam * theta\n",
      "    #print \"gradient =\", res\n",
      "    return res"
     ],
     "language": "python",
     "metadata": {},
     "outputs": [],
     "prompt_number": 6
    },
    {
     "cell_type": "code",
     "collapsed": false,
     "input": [
      "def miniFunc(Data, Alpha, BetaU, BetaI, GammaU, GammaI, Lambd):\n",
      "    part1 = 0\n",
      "    for (u, i, Rui) in Data:\n",
      "        part1 += ((Alpha + BetaU[u] + BetaI[i] + np.dot(GammaU[u], GammaI[i]) - Rui) ** 2)\n",
      "    \n",
      "    #part2 = sum(BetaU * BetaU) + sum(BetaI * BetaI)\n",
      "    #part3 = sum(GammaU * GammaU) + sum(GammaI * GammaI)\n",
      "    \n",
      "    #print part1, part2, part3\n",
      "    #return part1 + Lambd * (part2 + part3)\n",
      "    return part1"
     ],
     "language": "python",
     "metadata": {},
     "outputs": [],
     "prompt_number": 110
    },
    {
     "cell_type": "code",
     "collapsed": false,
     "input": [
      "oldVal = 0\n",
      "betaU = np.zeros(numU)\n",
      "betaI = np.zeros(numI)\n",
      "gammaU = [[]] * numU\n",
      "gammaI = [[]] * numI\n",
      "for u in range(numU):\n",
      "    gammaU[u] = [0, 0, 0]\n",
      "for i in range(numI):\n",
      "    gammaI[i] = [5.0, 5.0, 5.0]"
     ],
     "language": "python",
     "metadata": {},
     "outputs": [],
     "prompt_number": 21
    },
    {
     "cell_type": "code",
     "collapsed": false,
     "input": [
      "alpha = pickle.load(open(\"/home/iizhaki/oasis/CSE255/Project2/assignment2/idan_predictions_Rating_a_BEST500.pck\", \"rb\"))\n",
      "betaU = pickle.load(open(\"/home/iizhaki/oasis/CSE255/Project2/assignment2/idan_predictions_Rating_bu_BEST500.pck\", \"rb\"))\n",
      "betaI = pickle.load(open(\"/home/iizhaki/oasis/CSE255/Project2/assignment2/idan_predictions_Rating_bi_BEST500.pck\", \"rb\"))\n",
      "gammaU = pickle.load(open(\"/home/iizhaki/oasis/CSE255/Project2/assignment2/idan_predictions_Rating_gu_BEST500.pck\", \"rb\"))\n",
      "gammaI = pickle.load(open(\"/home/iizhaki/oasis/CSE255/Project2/assignment2/idan_predictions_Rating_gi_BEST500.pck\", \"rb\"))\n",
      "oldVal = pickle.load(open(\"/home/iizhaki/oasis/CSE255/Project2/assignment2/idan_predictions_Rating_val_BEST500.pck\", \"rb\"))"
     ],
     "language": "python",
     "metadata": {},
     "outputs": [],
     "prompt_number": 129
    },
    {
     "cell_type": "code",
     "collapsed": false,
     "input": [
      "alpha = 3.70361669988\n",
      "betaUD = pickle.load(open(\"/home/iizhaki/oasis/CSE255/Project2/Bu.pck\", \"r\"))\n",
      "betaID = pickle.load(open(\"/home/iizhaki/oasis/CSE255/Project2/Bi.pck\", \"rb\"))\n",
      "gammaUD = pickle.load(open(\"/home/iizhaki/oasis/CSE255/Project2/Yu.pck\", \"rb\"))\n",
      "gammaID = pickle.load(open(\"/home/iizhaki/oasis/CSE255/Project2/Yi.pck\", \"rb\"))\n",
      "oldVal = 0"
     ],
     "language": "python",
     "metadata": {},
     "outputs": [],
     "prompt_number": 22
    },
    {
     "cell_type": "code",
     "collapsed": false,
     "input": [
      "for u in betaUD:\n",
      "    betaU[allUs[u]] = betaUD[u]\n",
      "    gammaU[allUs[u]] = gammaUD[u]\n",
      "    \n",
      "for i in betaID:\n",
      "    betaI[allIs[i]] = betaID[i]\n",
      "    gammaI[allIs[i]] = gammaID[i]\n",
      "    \n",
      "print betaU[0]\n",
      "print gammaU[0]\n",
      "print betaI[0]\n",
      "print gammaI[0]"
     ],
     "language": "python",
     "metadata": {},
     "outputs": [
      {
       "output_type": "stream",
       "stream": "stdout",
       "text": [
        "0.074637254187\n",
        "[ 0.11591946  0.05968028  0.13158601]\n",
        "0.72556655728\n",
        "[ 1.54352067  0.79857526  1.76458677]\n"
       ]
      }
     ],
     "prompt_number": 70
    },
    {
     "cell_type": "code",
     "collapsed": false,
     "input": [
      "betaU = np.array(betaU)\n",
      "betaI = np.array(betaI)\n",
      "gammaU = list(gammaU)\n",
      "gammaI = list(gammaI)\n",
      "\n",
      "for u in range(numU):\n",
      "    gammaU[u] = np.append(gammaU[u], [0] * 1)\n",
      "    \n",
      "for i in range(numI):\n",
      "    gammaI[i] = np.append(gammaI[i], [1] * 1)\n",
      "\n",
      "gammaU = np.array(gammaU)\n",
      "gammaI = np.array(gammaI)\n",
      "oldVal = 0"
     ],
     "language": "python",
     "metadata": {},
     "outputs": []
    },
    {
     "cell_type": "code",
     "collapsed": false,
     "input": [
      "oldVal = 0\n",
      "# HERE I RUN WITH 500\n",
      "while True:\n",
      "    lastAlpha = alpha\n",
      "    lastBetaU = betaU.copy()\n",
      "    lastBetaI = betaI.copy()\n",
      "    lastGammaU = gammaU.copy()\n",
      "    lastGammaI = gammaI.copy()\n",
      "    \n",
      "    #----------------------\n",
      "    start = time.time()\n",
      "    #----------------------\n",
      "    \n",
      "    # Alpha stage\n",
      "    alpha = 0\n",
      "    for (u, i, Rui) in fastData:\n",
      "        gu = gammaU[u]\n",
      "        gi = gammaI[i]\n",
      "        alpha += Rui - (betaU[u] + betaI[i] + np.dot(gu, gi))\n",
      "    alpha = alpha / Ntrain\n",
      "    \n",
      "    #----------------------\n",
      "    #end = time.time()\n",
      "    #finished = end - start\n",
      "    #print \"Alpha time: \", finished\n",
      "    #----------------------\n",
      "    \n",
      "    #----------------------\n",
      "    #start = time.time()\n",
      "    #----------------------\n",
      "\n",
      "    # BetaU stage \n",
      "    betaU.fill(0)\n",
      "    for (u, i, Rui) in fastData:\n",
      "        gu = gammaU[u]\n",
      "        gi = gammaI[i]\n",
      "        betaU[u] += (Rui - (alpha + betaI[i] + np.dot(gu, gi)))\n",
      "    betaU = betaU / (lambd + Iu)\n",
      "        \n",
      "    #----------------------\n",
      "    #end = time.time()\n",
      "    #finished = end - start\n",
      "    #print \"BetaU time: \", finished\n",
      "    #----------------------\n",
      "        \n",
      "    #----------------------\n",
      "    #start = time.time()\n",
      "    #----------------------\n",
      "        \n",
      "    # BetaI stage \n",
      "    betaI.fill(0)\n",
      "    for (u, i, Rui) in fastData:\n",
      "        gu = gammaU[u]\n",
      "        gi = gammaI[i]\n",
      "        betaI[i] += (Rui - (alpha + betaU[u] + np.dot(gu, gi)))\n",
      "    betaI = betaI / (lambd + Ii)\n",
      "        \n",
      "    #----------------------\n",
      "    #end = time.time()\n",
      "    #finished = end - start\n",
      "    #print \"BetaI time: \", finished\n",
      "    #----------------------\n",
      "    \n",
      "    #----------------------\n",
      "    #start = time.time()\n",
      "    #----------------------\n",
      "\n",
      "    # GammaU stage \n",
      "    for u in range(numU):\n",
      "        gi = []\n",
      "        y = []\n",
      "        for (i, Rui) in uToRI[u]:\n",
      "            gi.append(gammaI[i])\n",
      "            y.append(Rui - (alpha + betaU[u] + betaI[i]))\n",
      "                    \n",
      "        #clf = SGDRegressor(n_iter = 5, alpha = 0.1)\n",
      "        #clf.fit(gi, y)\n",
      "        #thetas = clf.coef_\n",
      "\n",
      "        #thetas, _, _, _ = np.linalg.lstsq(gi, y)\n",
      "        thetas, _, _ = scipy.optimize.fmin_l_bfgs_b(func, np.array(gammaU[u]).T, fprime, args = (np.array(gi), np.array(y).T, lambd))\n",
      "        #thetas, _, _ = scipy.optimize.fmin_cg(func, np.array(gammaU[u]).T, fprime, args = (np.array(gi), np.array(y).T, lambd))\n",
      "        gammaU[u] = thetas\n",
      "            \n",
      "    #----------------------\n",
      "    #end = time.time()\n",
      "    #finished = end - start\n",
      "    #print \"GammaU time: \", finished\n",
      "    #----------------------\n",
      "        \n",
      "    #----------------------\n",
      "    #start = time.time()\n",
      "    #----------------------\n",
      "        \n",
      "    # GammaI stage \n",
      "    for i in range(numI):\n",
      "        gu = []\n",
      "        y = []\n",
      "        for (u, Rui) in iToRU[i]:\n",
      "            gu.append(gammaU[u])\n",
      "            y.append(Rui - (alpha + betaU[u] + betaI[i]))\n",
      "            \n",
      "        #clf = SGDRegressor(n_iter = 5, alpha = 0.1)\n",
      "        #clf.fit(gu, y)\n",
      "        #thetas = clf.coef_\n",
      "            \n",
      "        #thetas, _, _, _ = np.linalg.lstsq(gu, y)\n",
      "        thetas, _, _ = scipy.optimize.fmin_l_bfgs_b(func, np.array(gammaI[i]).T, fprime, args = (np.array(gu), np.array(y).T, lambd))\n",
      "        #thetas, _, _ = scipy.optimize.fmin_cg(func, np.array(gammaI[i]).T, fprime, args = (np.array(gu), np.array(y).T, lambd))\n",
      "        gammaI[i] = thetas\n",
      "    \n",
      "    #----------------------\n",
      "    #end = time.time()\n",
      "    #finished = end - start\n",
      "    #print \"GammaI time: \", finished\n",
      "    #----------------------\n",
      "    \n",
      "    #----------------------\n",
      "    #start = time.time()\n",
      "    #----------------------\n",
      "    newVal = miniFunc(fastData, alpha, betaU, betaI, np.array(gammaU), np.array(gammaI), lambd)\n",
      "    #----------------------\n",
      "    end = time.time()\n",
      "    finished = end - start\n",
      "    print \"miniFunc time: \", finished,  \" --> Diff: \", (oldVal - newVal), newVal\n",
      "    #----------------------\n",
      "    \n",
      "    if oldVal > 0 and oldVal <= newVal:\n",
      "        alpha = lastAlpha\n",
      "        betaU = lastBetaU\n",
      "        betaI = lastBetaI\n",
      "        gammaU = lastGammaU\n",
      "        gammaI = lastGammaI\n",
      "        break\n",
      "        \n",
      "    oldVal = newVal\n",
      "    \n",
      "print alpha"
     ],
     "language": "python",
     "metadata": {},
     "outputs": []
    },
    {
     "cell_type": "code",
     "collapsed": false,
     "input": [
      "print len(gammaU[0])"
     ],
     "language": "python",
     "metadata": {},
     "outputs": [
      {
       "output_type": "stream",
       "stream": "stdout",
       "text": [
        "1000\n"
       ]
      }
     ],
     "prompt_number": 123
    },
    {
     "cell_type": "code",
     "collapsed": false,
     "input": [
      "pickle.dump(alpha, open(\"/home/iizhaki/oasis/CSE255/Project2/assignment2/idan_predictions_Rating_a_BEST500.pck\", \"wb\"))\n",
      "pickle.dump(betaU, open(\"/home/iizhaki/oasis/CSE255/Project2/assignment2/idan_predictions_Rating_bu_BEST500.pck\", \"wb\"))\n",
      "pickle.dump(betaI, open(\"/home/iizhaki/oasis/CSE255/Project2/assignment2/idan_predictions_Rating_bi_BEST500.pck\", \"wb\"))\n",
      "pickle.dump(gammaU, open(\"/home/iizhaki/oasis/CSE255/Project2/assignment2/idan_predictions_Rating_gu_BEST500.pck\", \"wb\"))\n",
      "pickle.dump(gammaI, open(\"/home/iizhaki/oasis/CSE255/Project2/assignment2/idan_predictions_Rating_gi_BEST500.pck\", \"wb\"))\n",
      "pickle.dump(oldVal, open(\"/home/iizhaki/oasis/CSE255/Project2/assignment2/idan_predictions_Rating_val_BEST500.pck\", \"wb\"))"
     ],
     "language": "python",
     "metadata": {},
     "outputs": [],
     "prompt_number": 114
    },
    {
     "cell_type": "code",
     "collapsed": false,
     "input": [
      "print \"Done\""
     ],
     "language": "python",
     "metadata": {},
     "outputs": [
      {
       "output_type": "stream",
       "stream": "stdout",
       "text": [
        "Done\n"
       ]
      }
     ],
     "prompt_number": 124
    },
    {
     "cell_type": "code",
     "collapsed": false,
     "input": [
      "print (oldVal - newVal), newVal"
     ],
     "language": "python",
     "metadata": {},
     "outputs": [
      {
       "output_type": "stream",
       "stream": "stdout",
       "text": [
        "0.0 56947.6321977\n"
       ]
      }
     ],
     "prompt_number": 125
    },
    {
     "cell_type": "code",
     "collapsed": false,
     "input": [],
     "language": "python",
     "metadata": {},
     "outputs": [],
     "prompt_number": 104
    },
    {
     "cell_type": "code",
     "collapsed": false,
     "input": [
      "testRest = np.array(list(parseTxt(\"/home/iizhaki/oasis/CSE255/Project2/assignment2/pairs_Rating.txt\")))\n",
      "myPredictions = open(\"/home/iizhaki/oasis/CSE255/Project2/assignment2/idan_predictions_Rating_\" + str(lambd) + \"_\" + str(alpha) + \"_\" + str(oldVal) + \"_BEST500_AVG.txt\", 'w')\n",
      "myPredictions.write(str(testRest[0][0]) + '\\n')\n",
      "\n",
      "avgBu = np.mean(betaU)\n",
      "avgBi = np.mean(betaI)\n",
      "avgGu = np.mean(gammaU, axis = 0)\n",
      "avgGi = np.mean(gammaI, axis = 0)\n",
      "\n",
      "mse = 0\n",
      "for currLine in testRest[1:]:\n",
      "    u, i = currLine[0].split(\"-\")\n",
      "    if u in allUs:\n",
      "        bu = betaU[allUs[u]]\n",
      "        gu = gammaU[allUs[u]]\n",
      "    else:\n",
      "        bu = avgBu\n",
      "        gu = avgGu\n",
      "    if i in allIs:\n",
      "        bi = betaI[allIs[i]]\n",
      "        gi = gammaI[allIs[i]]\n",
      "    else:\n",
      "        bi = avgBi\n",
      "        gi = avgGi\n",
      "    p = alpha + bu + bi + np.dot(gu, gi)\n",
      "    if p > 5.0:\n",
      "        p = 4.8\n",
      "    if p < 1.0:\n",
      "        p = 1.2\n",
      "    myPredictions.write(u + '-' + i + ',' + str(p) + '\\n')\n",
      "\n",
      "myPredictions.flush()\n",
      "myPredictions.close()"
     ],
     "language": "python",
     "metadata": {},
     "outputs": [],
     "prompt_number": 133
    },
    {
     "cell_type": "code",
     "collapsed": false,
     "input": [],
     "language": "python",
     "metadata": {},
     "outputs": []
    },
    {
     "cell_type": "code",
     "collapsed": false,
     "input": [],
     "language": "python",
     "metadata": {},
     "outputs": []
    },
    {
     "cell_type": "code",
     "collapsed": false,
     "input": [],
     "language": "python",
     "metadata": {},
     "outputs": [],
     "prompt_number": 47
    },
    {
     "cell_type": "code",
     "collapsed": false,
     "input": [],
     "language": "python",
     "metadata": {},
     "outputs": [],
     "prompt_number": 59
    },
    {
     "cell_type": "code",
     "collapsed": false,
     "input": [],
     "language": "python",
     "metadata": {},
     "outputs": [],
     "prompt_number": 60
    },
    {
     "cell_type": "code",
     "collapsed": false,
     "input": [],
     "language": "python",
     "metadata": {},
     "outputs": []
    }
   ],
   "metadata": {}
  }
 ]
}