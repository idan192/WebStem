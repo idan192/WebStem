{
 "metadata": {
  "name": "",
  "signature": "sha256:f51acb39abb787bec4e17d3ca6ff48a6a10826df21e32f440db31e7c669043f5"
 },
 "nbformat": 3,
 "nbformat_minor": 0,
 "worksheets": [
  {
   "cells": [
    {
     "cell_type": "code",
     "collapsed": false,
     "input": [
      "from _collections import defaultdict\n",
      "import time\n",
      "import timeit\n",
      "\n",
      "from numpy.linalg import norm\n",
      "import scipy.optimize\n",
      "\n",
      "import numpy as np\n",
      "\n",
      "def parseData(fname):\n",
      "  for l in open(fname):\n",
      "    yield eval(l)\n",
      "    \n",
      "def parseTxt(fname):\n",
      "  for l in open(fname):\n",
      "    yield l.strip().split(\" \")\n",
      "\n",
      "print \"Reading train...\"\n",
      "train = list(parseData(\"/home/iizhaki/oasis/CSE255/Project2/assignment2/train.json\"))\n",
      "print \"done\""
     ],
     "language": "python",
     "metadata": {},
     "outputs": [
      {
       "output_type": "stream",
       "stream": "stdout",
       "text": [
        "Reading train...\n",
        "done"
       ]
      },
      {
       "output_type": "stream",
       "stream": "stdout",
       "text": [
        "\n"
       ]
      }
     ],
     "prompt_number": 1
    },
    {
     "cell_type": "code",
     "collapsed": false,
     "input": [
      "allHelpful = []\n",
      "userHelpful = defaultdict(list)\n",
      "itemHelpful = defaultdict(list)\n",
      "userRating = defaultdict(list)\n",
      "itemRating = defaultdict(list)\n",
      "\n",
      "for l in train:\n",
      "    user,item, rating, helpful = l['reviewerID'],l['itemID'], l['rating'], l['helpful']\n",
      "    allHelpful.append(helpful)\n",
      "    userHelpful[user].append(helpful)\n",
      "    itemHelpful[item].append(helpful)\n",
      "    userRating[user].append(rating / 5.0)\n",
      "    itemRating[item].append(rating / 5.0)\n",
      "\n",
      "    \n",
      "averageRate = sum([x['nHelpful'] for x in allHelpful]) * 1.0 / sum([x['outOf'] for x in allHelpful])\n",
      "userRate = {}\n",
      "for u in userHelpful:\n",
      "  userRate[u] = sum([x['nHelpful'] for x in userHelpful[u]]) * 1.0 / sum([x['outOf'] for x in userHelpful[u]])\n",
      "itemRate = {}\n",
      "for i in itemHelpful:\n",
      "  itemRate[i] = sum([x['nHelpful'] for x in itemHelpful[i]]) * 1.0 / sum([x['outOf'] for x in itemHelpful[i]])\n",
      "userScore = {}\n",
      "for u in userRating:\n",
      "    userScore[u] = mean(userRating[u])\n",
      "itemScore = {}\n",
      "for i in itemRating:\n",
      "    itemScore[i] = mean(itemRating[i])\n",
      "    \n",
      "averageUserScore = mean([userScore[u] for u in userScore])\n",
      "averageItemScore = mean([itemScore[i] for u in itemScore])"
     ],
     "language": "python",
     "metadata": {},
     "outputs": [],
     "prompt_number": 2
    },
    {
     "cell_type": "code",
     "collapsed": false,
     "input": [
      "for u in userScore:\n",
      "    print userScore[u]\n",
      "    break\n",
      "    \n",
      "for i in itemScore:\n",
      "    print itemScore[i]\n",
      "    break"
     ],
     "language": "python",
     "metadata": {},
     "outputs": [
      {
       "output_type": "stream",
       "stream": "stdout",
       "text": [
        "1.0\n",
        "0.7\n"
       ]
      }
     ],
     "prompt_number": 3
    },
    {
     "cell_type": "code",
     "collapsed": false,
     "input": [
      "cUser = 0\n",
      "users = {}\n",
      "cItem = 0\n",
      "items = {}\n",
      "\n",
      "for l in train:\n",
      "    user, item = l['reviewerID'], l['itemID']\n",
      "    if user not in users:\n",
      "        users[user] = cUser\n",
      "        cUser += 1\n",
      "    \n",
      "    if item not in items:\n",
      "        items[item] = cItem\n",
      "        cItem += 1"
     ],
     "language": "python",
     "metadata": {},
     "outputs": [],
     "prompt_number": 4
    },
    {
     "cell_type": "code",
     "collapsed": false,
     "input": [
      "def FF(loc, total):\n",
      "    res = [0] * total    \n",
      "    res[loc] = 1\n",
      "    \n",
      "    return res"
     ],
     "language": "python",
     "metadata": {},
     "outputs": [],
     "prompt_number": 5
    },
    {
     "cell_type": "code",
     "collapsed": false,
     "input": [
      "def FFID(vals, bits):\n",
      "    n = bin(vals)\n",
      "    res = [0] * bits\n",
      "    i = bits - 1\n",
      "    for l in reversed(n[2:]):\n",
      "        res[i] = int(l)\n",
      "        i -= 1\n",
      "    return res"
     ],
     "language": "python",
     "metadata": {},
     "outputs": [],
     "prompt_number": 6
    },
    {
     "cell_type": "code",
     "collapsed": false,
     "input": [
      "from sets import Set\n",
      "import string\n",
      "\n",
      "punctuation = set(string.punctuation)\n",
      "setPos = defaultdict(int)\n",
      "setNeg = defaultdict(int)\n",
      "allCats = Set()\n",
      "\n",
      "bestOutOf = 0\n",
      "posCats = defaultdict(int)\n",
      "negCats = defaultdict(int)\n",
      "\n",
      "for l in train:\n",
      "    review, helpful, categories = l['reviewText'], l['helpful'], l['category']\n",
      "    outOf = float(helpful['outOf'])\n",
      "    nHelpful = float(helpful['nHelpful'])\n",
      "    ratio = float(nHelpful) / float(outOf)\n",
      "    if ratio >= 0.8:\n",
      "        for w in review.split():\n",
      "            w = ''.join([c for c in w.lower() if not c in punctuation])\n",
      "            setPos[w] += 1\n",
      "        for acat in categories:\n",
      "            for cat in acat:\n",
      "                for w in cat.split():\n",
      "                    w = ''.join([c for c in w.lower() if not c in punctuation])\n",
      "                    if w:\n",
      "                        posCats[w] += 1\n",
      "    elif ratio <= 0.2:\n",
      "        for w in review.split():\n",
      "            w = ''.join([c for c in w.lower() if not c in punctuation])\n",
      "            setNeg[w] += 1\n",
      "        for acat in categories:\n",
      "            for cat in acat:\n",
      "                for w in cat.split():\n",
      "                    w = ''.join([c for c in w.lower() if not c in punctuation])\n",
      "                    if w:\n",
      "                        negCats[w] += 1\n",
      "    \n",
      "        \n",
      "\n",
      "    bestOutOf = max(bestOutOf, outOf)\n",
      "    \n",
      "    \n",
      "'''\n",
      "    for cat in categories[0]:\n",
      "        for w in cat.split():\n",
      "            w = ''.join([c for c in w.lower() if not c in punctuation])\n",
      "            if w:\n",
      "                allCats.add(w)\n",
      "'''"
     ],
     "language": "python",
     "metadata": {},
     "outputs": [
      {
       "metadata": {},
       "output_type": "pyout",
       "prompt_number": 7,
       "text": [
        "\"\\n    for cat in categories[0]:\\n        for w in cat.split():\\n            w = ''.join([c for c in w.lower() if not c in punctuation])\\n            if w:\\n                allCats.add(w)\\n\""
       ]
      }
     ],
     "prompt_number": 7
    },
    {
     "cell_type": "code",
     "collapsed": false,
     "input": [],
     "language": "python",
     "metadata": {},
     "outputs": [],
     "prompt_number": 7
    },
    {
     "cell_type": "code",
     "collapsed": false,
     "input": [
      "from sets import Set\n",
      "import string\n",
      "from nltk.tokenize import word_tokenize\n",
      "\n",
      "'''\n",
      "punctuation = set(string.punctuation)\n",
      "setPos = defaultdict(int)\n",
      "setNeg = defaultdict(int)\n",
      "\n",
      "options = Set(['VBN', 'JJ', 'NNS'])\n",
      "\n",
      "for l in train:\n",
      "    review, helpful = l['reviewText'], l['helpful']\n",
      "    outOf = float(helpful['outOf'])\n",
      "    nHelpful = float(helpful['nHelpful'])\n",
      "    ratio = float(nHelpful) / float(outOf)\n",
      "    if ratio >= 0.8:\n",
      "        tokens = word_tokenize(''.join([c for c in review.lower() if not c in punctuation]))\n",
      "        for w, pos in nltk.pos_tag(tokens):\n",
      "            if pos in options:\n",
      "                setPos[w] += 1\n",
      "    elif ratio <= 0.2:\n",
      "        tokens = word_tokenize(''.join([c for c in review.lower() if not c in punctuation]))\n",
      "        for w, pos in nltk.pos_tag(tokens):\n",
      "            if pos in options:\n",
      "                setNeg[w] += 1\n",
      "'''    "
     ],
     "language": "python",
     "metadata": {},
     "outputs": [
      {
       "metadata": {},
       "output_type": "pyout",
       "prompt_number": 8,
       "text": [
        "\"\\npunctuation = set(string.punctuation)\\nsetPos = defaultdict(int)\\nsetNeg = defaultdict(int)\\n\\noptions = Set(['VBN', 'JJ', 'NNS'])\\n\\nfor l in train:\\n    review, helpful = l['reviewText'], l['helpful']\\n    outOf = float(helpful['outOf'])\\n    nHelpful = float(helpful['nHelpful'])\\n    ratio = float(nHelpful) / float(outOf)\\n    if ratio >= 0.8:\\n        tokens = word_tokenize(''.join([c for c in review.lower() if not c in punctuation]))\\n        for w, pos in nltk.pos_tag(tokens):\\n            if pos in options:\\n                setPos[w] += 1\\n    elif ratio <= 0.2:\\n        tokens = word_tokenize(''.join([c for c in review.lower() if not c in punctuation]))\\n        for w, pos in nltk.pos_tag(tokens):\\n            if pos in options:\\n                setNeg[w] += 1\\n\""
       ]
      }
     ],
     "prompt_number": 8
    },
    {
     "cell_type": "code",
     "collapsed": false,
     "input": [
      "import pickle\n",
      "\n",
      "#filehandler = open(b\"/home/iizhaki/oasis/CSE255/Project2/assignment2/posWords.pck\",\"wb\")\n",
      "#pickle.dump(setPos, filehandler)\n",
      "\n",
      "#filehandler = open(b\"/home/iizhaki/oasis/CSE255/Project2/assignment2/negWords.pck\",\"wb\")\n",
      "#pickle.dump(setNeg, filehandler)\n",
      "\n",
      "filehandler = open(b\"/home/iizhaki/oasis/CSE255/Project2/assignment2/posWords.pck\",\"rb\")\n",
      "setPos = pickle.load(filehandler)\n",
      "\n",
      "filehandler = open(b\"/home/iizhaki/oasis/CSE255/Project2/assignment2/negWords.pck\",\"rb\")\n",
      "setNeg = pickle.load(filehandler)"
     ],
     "language": "python",
     "metadata": {},
     "outputs": [],
     "prompt_number": 3875
    },
    {
     "cell_type": "code",
     "collapsed": false,
     "input": [],
     "language": "python",
     "metadata": {},
     "outputs": [],
     "prompt_number": 2801
    },
    {
     "cell_type": "code",
     "collapsed": false,
     "input": [
      "vecPositiveCats = {}\n",
      "i = 0\n",
      "for w in truePosCats:\n",
      "    if w[0] not in vecPositiveCats:\n",
      "        vecPositiveCats[w[0]] = i\n",
      "        i += 1\n",
      "    \n",
      "vecNegativeCats = {}\n",
      "i = 0\n",
      "for w in trueNegCats:\n",
      "    if w[0] not in vecNegativeCats:\n",
      "        vecNegativeCats[w[0]] = i\n",
      "        i += 1\n",
      "        \n",
      "print vecPositiveCats\n",
      "print vecNegativeCats"
     ],
     "language": "python",
     "metadata": {},
     "outputs": [
      {
       "output_type": "stream",
       "stream": "stdout",
       "text": [
        "{'hoodies': 4, 'totes': 1, 'sequencing': 32, 'fishing': 88, 'earth': 15, 'sega': 63, 'feeding': 57, 'hunting': 28, 'languages': 59, 'arrest': 85, 'powerdistribution': 38, 'dreamcast': 60, 'archival': 39, 'coffee': 67, 'protective': 61, 'sunglasses': 6, 'suitcases': 25, 'invitations': 68, 'band': 69, 'bracelets': 93, 'fall': 35, 'timing': 55, 'enlargers': 22, 'hoses': 70, 'belts': 40, 'customizable': 8, 'pacifiers': 86, 't': 50, 'barkingdog': 9, 'night': 18, 'optics': 62, 'tea': 74, 'platforms': 53, 'books': 54, 'ebooks': 12, 'carts': 43, 'connecting': 19, 'fossil': 10, 'guiders': 23, 'email': 77, 'math': 13, 'bass': 72, 'guitar': 78, 'protection': 64, 'engines': 83, 'shelves': 41, 'technical': 46, 'womens': 33, 'pulleys': 87, 'filtering': 79, 'binders': 36, 'communication': 76, 'matte': 3, 'belt': 81, 'environment': 45, 'arts': 82, 'handbags': 44, 'instrument': 84, 'pots': 73, 'handles': 52, 'gym': 26, 'specialty': 27, 'environmental': 16, 'tifosi': 56, 'craft': 90, 'rangefinder': 51, 'word': 0, 'f': 29, 'science': 2, 'bed': 21, 'project': 91, 'leashes': 92, 'making': 65, 'purse': 89, 'tabletop': 7, 'wiring': 47, 'eyewear': 48, 'sciences': 14, 'copying': 24, 'toddler': 71, 'blocks': 11, 'pillows': 5, 'sweatshirts': 31, 'sewing': 75, 'smartmedia': 49, 'notebook': 42, 'waist': 37, 'camp': 58, 'contact': 80, 'diagonals': 34, 'crafts': 66, 'alarms': 17, 'wedges': 20, 'rechargeable': 30}\n",
        "{'boy': 8, 'center': 6, 'chest': 9, 'game': 10, 'wenger': 2, 'black': 4, 'contrast': 0, 'w': 5, 'fitness': 7, 'white': 1, 'columns': 3}\n"
       ]
      }
     ],
     "prompt_number": 3809
    },
    {
     "cell_type": "code",
     "collapsed": false,
     "input": [
      "listPosCats = []\n",
      "for p in posCats:\n",
      "    listPosCats.append((p, posCats[p]))\n",
      "\n",
      "allPosCats = sorted(listPosCats, key=lambda x: x[1], reverse=True)\n",
      "\n",
      "listNegCats = []\n",
      "for p in negCats:\n",
      "    listNegCats.append((p, negCats[p]))\n",
      "\n",
      "allNegCats = sorted(listNegCats, key=lambda x: x[1], reverse=True)\n",
      "\n",
      "truePosCats = [x for x in allPosCats if x[0] not in negCats]\n",
      "trueNegCats = [x for x in allNegCats if x[0] not in posCats]\n",
      "\n",
      "print truePosCats\n",
      "print trueNegCats"
     ],
     "language": "python",
     "metadata": {},
     "outputs": [
      {
       "output_type": "stream",
       "stream": "stdout",
       "text": [
        "[('word', 27), ('totes', 14), ('science', 14), ('matte', 13), ('hoodies', 11), ('pillows', 10), ('sunglasses', 8), ('tabletop', 8), ('customizable', 7), ('barkingdog', 6), ('fossil', 6), ('blocks', 6), ('ebooks', 6), ('math', 6), ('sciences', 6), ('earth', 6), ('environmental', 6), ('alarms', 6), ('night', 6), ('connecting', 6), ('wedges', 5), ('bed', 5), ('enlargers', 5), ('guiders', 5), ('copying', 5), ('suitcases', 4), ('gym', 4), ('specialty', 4), ('hunting', 3), ('f', 3), ('rechargeable', 3), ('sweatshirts', 3), ('sequencing', 3), ('womens', 3), ('diagonals', 3), ('fall', 2), ('binders', 2), ('waist', 2), ('powerdistribution', 2), ('archival', 2), ('belts', 2), ('shelves', 2), ('notebook', 2), ('carts', 2), ('handbags', 2), ('environment', 2), ('technical', 2), ('wiring', 2), ('eyewear', 2), ('smartmedia', 2), ('t', 2), ('rangefinder', 2), ('handles', 2), ('platforms', 2), ('books', 2), ('timing', 2), ('tifosi', 2), ('feeding', 1), ('camp', 1), ('languages', 1), ('dreamcast', 1), ('protective', 1), ('optics', 1), ('sega', 1), ('protection', 1), ('making', 1), ('crafts', 1), ('coffee', 1), ('invitations', 1), ('band', 1), ('hoses', 1), ('toddler', 1), ('bass', 1), ('pots', 1), ('tea', 1), ('sewing', 1), ('communication', 1), ('email', 1), ('guitar', 1), ('filtering', 1), ('contact', 1), ('belt', 1), ('arts', 1), ('engines', 1), ('instrument', 1), ('arrest', 1), ('pacifiers', 1), ('pulleys', 1), ('fishing', 1), ('purse', 1), ('craft', 1), ('project', 1), ('leashes', 1), ('bracelets', 1)]\n",
        "[('contrast', 2), ('white', 2), ('wenger', 2), ('columns', 2), ('black', 2), ('w', 2), ('center', 2), ('fitness', 2), ('boy', 1), ('chest', 1), ('game', 1)]\n"
       ]
      }
     ],
     "prompt_number": 3810
    },
    {
     "cell_type": "code",
     "collapsed": false,
     "input": [
      "'''\n",
      "allHelpful = []\n",
      "userHelpful = defaultdict(list)\n",
      "\n",
      "for l in train:\n",
      "    user,item = l['reviewerID'],l['itemID']\n",
      "    allHelpful.append(l['helpful'])\n",
      "    userHelpful[user].append(l['helpful'])\n",
      "\n",
      "averageRate = sum([x['nHelpful'] for x in allHelpful]) * 1.0 / sum([x['outOf'] for x in allHelpful])\n",
      "userRate = {}\n",
      "for u in userHelpful:\n",
      "    userRate[u] = sum([x['nHelpful'] for x in userHelpful[u]]) * 1.0 / sum([x['outOf'] for x in userHelpful[u]])\n",
      "'''"
     ],
     "language": "python",
     "metadata": {},
     "outputs": [
      {
       "metadata": {},
       "output_type": "pyout",
       "prompt_number": 3811,
       "text": [
        "\"\\nallHelpful = []\\nuserHelpful = defaultdict(list)\\n\\nfor l in train:\\n    user,item = l['reviewerID'],l['itemID']\\n    allHelpful.append(l['helpful'])\\n    userHelpful[user].append(l['helpful'])\\n\\naverageRate = sum([x['nHelpful'] for x in allHelpful]) * 1.0 / sum([x['outOf'] for x in allHelpful])\\nuserRate = {}\\nfor u in userHelpful:\\n    userRate[u] = sum([x['nHelpful'] for x in userHelpful[u]]) * 1.0 / sum([x['outOf'] for x in userHelpful[u]])\\n\""
       ]
      }
     ],
     "prompt_number": 3811
    },
    {
     "cell_type": "code",
     "collapsed": false,
     "input": [
      "import nltk\n",
      "from nltk.corpus import stopwords\n",
      "stopWords = Set(stopwords.words(\"english\"))\n",
      "\n",
      "listPos = []\n",
      "for p in setPos:\n",
      "    if not p or p in stopWords:\n",
      "        continue\n",
      "    listPos.append((p, setPos[p]))\n",
      "\n",
      "posWords = sorted(listPos, key=lambda x: x[1], reverse=True)[:300]"
     ],
     "language": "python",
     "metadata": {},
     "outputs": [
      {
       "output_type": "stream",
       "stream": "stdout",
       "text": [
        "\n"
       ]
      }
     ],
     "prompt_number": 13
    },
    {
     "cell_type": "code",
     "collapsed": false,
     "input": [
      "listNeg = []\n",
      "for n in setNeg:\n",
      "    if not n or n in stopWords:\n",
      "        continue\n",
      "    listNeg.append((n, setNeg[n]))\n",
      "\n",
      "negWords = sorted(listNeg, key=lambda x: x[1], reverse=True)[:300]"
     ],
     "language": "python",
     "metadata": {},
     "outputs": [],
     "prompt_number": 14
    },
    {
     "cell_type": "code",
     "collapsed": false,
     "input": [
      "removeIt = Set()\n",
      "negativeWords = [x[0] for x in negWords][:37]\n",
      "positiveWords = [x[0] for x in posWords if x[0] not in negativeWords][:37]\n"
     ],
     "language": "python",
     "metadata": {},
     "outputs": [],
     "prompt_number": 58
    },
    {
     "cell_type": "code",
     "collapsed": false,
     "input": [
      "vecPositive = {}\n",
      "i = 0\n",
      "for w in positiveWords:\n",
      "    if w not in vecPositive:\n",
      "        vecPositive[w] = i\n",
      "        i += 1\n",
      "    \n",
      "vecNegative = {}\n",
      "i = 0\n",
      "for w in negativeWords:\n",
      "    if w not in vecNegative:\n",
      "        vecNegative[w] = i\n",
      "        i += 1\n",
      "\n",
      "vecCats = {}\n",
      "i = 0\n",
      "for w in allCats:\n",
      "    vecCats[w] = i\n",
      "    i += 1\n",
      "        \n",
      "#print vecPositive\n",
      "#print vecNegative\n",
      "#print vecCats"
     ],
     "language": "python",
     "metadata": {},
     "outputs": [],
     "prompt_number": 59
    },
    {
     "cell_type": "code",
     "collapsed": false,
     "input": [
      "def wordsFF(text, db):\n",
      "    res = [0] * len(db)\n",
      "    for w in text.split():\n",
      "            w = ''.join([c for c in w.lower() if not c in punctuation])\n",
      "            if w in db:\n",
      "                res[db[w]] = 1\n",
      "    return res"
     ],
     "language": "python",
     "metadata": {},
     "outputs": [],
     "prompt_number": 60
    },
    {
     "cell_type": "code",
     "collapsed": false,
     "input": [],
     "language": "python",
     "metadata": {},
     "outputs": [],
     "prompt_number": 60
    },
    {
     "cell_type": "code",
     "collapsed": false,
     "input": [
      "X = []\n",
      "y = []\n",
      "nVals = []\n",
      "maxL = 0\n",
      "\n",
      "for l in train:\n",
      "    user, item, helpful, rating, words = l['reviewerID'], l['itemID'], l['helpful'], l['rating'], l['reviewText']\n",
      "    rating = int(rating)\n",
      "    outOf = float(helpful['outOf'])\n",
      "    nHelpful = float(helpful['nHelpful'])\n",
      "    ratio = nHelpful / outOf\n",
      "    nWords = len(words.split())\n",
      "    \n",
      "    nVals.append(rating)\n",
      "    rating = rating / 5.0;\n",
      "    \n",
      "    if nWords < 100:\n",
      "        nWords = [1, 0]\n",
      "    else:\n",
      "        nWords = [0, 1]\n",
      "    \n",
      "    cOutOf = outOf * 1.0 / bestOutOf\n",
      "\n",
      "    #X.append([1] + FF(users[user] / 500, cUser / 500) + FFID(user) + FF(items[item] / 500, cItem / 500) + FFID(item) + FF(rating - 1, 5) + str(nWords))\n",
      "    # FF(rating - 1, 5)\n",
      "    X.append([1, ratio, cOutOf, userRate[user], itemRate[item], userScore[user], itemScore[item]] + nWords + wordsFF(words, vecPositive) + wordsFF(words, vecNegative))\n",
      "    #  \n",
      "    # + FFID(int(outOf) -1, 10) + FFID(int(user[1:]), 30) +\n",
      "    \n",
      "    y.append(rating)"
     ],
     "language": "python",
     "metadata": {},
     "outputs": [],
     "prompt_number": 61
    },
    {
     "cell_type": "code",
     "collapsed": false,
     "input": [
      "print \"Done\""
     ],
     "language": "python",
     "metadata": {},
     "outputs": [
      {
       "output_type": "stream",
       "stream": "stdout",
       "text": [
        "Done\n"
       ]
      }
     ],
     "prompt_number": 62
    },
    {
     "cell_type": "code",
     "collapsed": false,
     "input": [
      "import pylab as pl\n",
      "\n",
      "from sklearn.linear_model import SGDRegressor\n",
      "from sklearn.datasets.samples_generator import make_regression\n",
      "from sklearn.preprocessing import *\n",
      "from sklearn import preprocessing\n",
      "from sklearn.preprocessing import StandardScaler\n",
      "\n",
      "import time\n",
      "import timeit"
     ],
     "language": "python",
     "metadata": {},
     "outputs": [],
     "prompt_number": 63
    },
    {
     "cell_type": "code",
     "collapsed": false,
     "input": [
      "X_train = np.array(X).astype(float)\n",
      "y_train = np.array(y).astype(float)\n",
      "\n",
      "#Remember = [X_train[:, i].max() for i in range(len(X_train.T))]\n",
      "#X_train = X_train / len(X_train[0])\n",
      "\n",
      "#X_train = np.array([np.array([xi if y > 0 else xi for (xi, y) in zip(x, Remember)]) for x in X_train])\n",
      "#X_train = X_train / len(X_train[0])\n",
      "\n",
      "#scaler = MinMaxScaler().fit(X_train)\n",
      "#X_train = scaler.transform(X_train)"
     ],
     "language": "python",
     "metadata": {},
     "outputs": [],
     "prompt_number": 64
    },
    {
     "cell_type": "code",
     "collapsed": false,
     "input": [
      "print \"Length of FFs: \", len(X_train[0])\n",
      "#clf = SGDRegressor(n_iter = 1000, alpha = 0.01)\n",
      "# Objective\n",
      "def f(theta, X, y, lam):\n",
      "    diff = numpy.dot(X, theta) - y\n",
      "    diffSq = (norm(diff) ** 2) / len(X)\n",
      "    diffSqReg = diffSq + lam * norm(theta) ** 2\n",
      "    #print \"f : \" , diffSqReg\n",
      "    return diffSqReg\n",
      "\n",
      "    # Derivative\n",
      "def fprime(theta, X, y, lam):\n",
      "    diff = numpy.dot(X, theta) - y\n",
      "    res = 2 * numpy.dot(X.T, diff) / len(X) + 2 * lam * theta\n",
      "    return res\n",
      "\n",
      "start = time.time()\n",
      "\n",
      "#clf.fit(X_train, y_train)\n",
      "#thetax, residualsx, rankx, sx = numpy.linalg.lstsq(X_train, y_train)\n",
      "thetax, _, _, _ = np.linalg.lstsq(X_train, y_train)\n",
      "#thetax, _, _ = scipy.optimize.fmin_l_bfgs_b(f, numpy.array([0] * len(X_train[0])).T, fprime, args = (numpy.array(X_train), numpy.array(y_train).T, 0.0))\n",
      "\n",
      "\n",
      "end = time.time()\n",
      "finished = end - start\n",
      "print finished\n",
      "print \"Length of Thetas: \", len(thetax)\n",
      "print thetax"
     ],
     "language": "python",
     "metadata": {},
     "outputs": [
      {
       "output_type": "stream",
       "stream": "stdout",
       "text": [
        "Length of FFs:  83\n",
        "13.1952581406"
       ]
      },
      {
       "output_type": "stream",
       "stream": "stdout",
       "text": [
        "\n",
        "Length of Thetas:  83\n",
        "[ -2.88786650e+06   1.18336414e-01  -6.25516078e-01  -1.13704153e-01\n",
        "  -1.82017516e-02   9.52420879e-01   1.21694842e-01   2.88786645e+06\n",
        "   2.88786644e+06   5.01930766e-03   3.20991388e-03   3.87032240e-04\n",
        "   1.87589150e-03  -1.06714375e-03   4.75343626e-03  -2.16084583e-03\n",
        "   5.17687763e-03   7.31494286e-03   1.77162694e-03  -2.47492611e-03\n",
        "   1.67313589e-03   2.96732700e-03  -2.02012796e-03   8.09135817e-05\n",
        "  -2.73085353e-03   3.58179832e-03  -4.16140860e-03   1.74650232e-03\n",
        "   5.39482639e-03  -9.86605930e-04   3.81643112e-03   2.23524341e-03\n",
        "   3.27500887e-03   1.98100659e-04   1.57571994e-03   3.13818565e-03\n",
        "  -1.84487036e-03  -8.15815754e-03  -6.19416675e-04   3.29127185e-03\n",
        "  -6.65032121e-03   1.18405882e-02   7.73580236e-04  -4.92398068e-04\n",
        "   2.16941087e-03  -6.92932748e-03   9.43070149e-05   1.24241576e-03\n",
        "  -7.12443131e-03   1.72182466e-03   1.03372636e-02   8.33892948e-04\n",
        "  -5.17017370e-03  -4.88281329e-03  -6.26739559e-04  -8.25196224e-03\n",
        "  -3.40298299e-03   4.20273068e-03  -2.22106478e-03  -6.93857043e-04\n",
        "   4.49153611e-04  -3.28887670e-03  -1.60939846e-03   5.57715813e-03\n",
        "   1.77592996e-04   7.64439551e-03  -1.74731846e-04  -1.97356374e-03\n",
        "  -5.09720475e-03  -1.01702704e-02  -2.33009052e-04   1.74923517e-03\n",
        "  -1.39623078e-03   3.38629180e-03   6.65081818e-03  -2.20289643e-03\n",
        "   2.31991993e-03   2.75971126e-03   1.34477264e-03   1.00626489e-02\n",
        "  -5.07798335e-03   1.20234987e-02  -1.86898749e-03]\n"
       ]
      }
     ],
     "prompt_number": 65
    },
    {
     "cell_type": "code",
     "collapsed": false,
     "input": [
      "def predict(data, theta):\n",
      "    theta = numpy.array(theta)\n",
      "    prediction = [np.dot(theta, d)  for d in data]\n",
      "    return prediction\n",
      "\n",
      "ptrain = predict(X_train, thetax)\n",
      "#ptrain = clf.predict(X_train)\n",
      "ytrain = [e for e in y_train]\n",
      "\n",
      "print ptrain[0], ytrain[0]\n",
      "\n",
      "ptrain = [p if p >= 0.2 else 0.2 for p in ptrain]\n",
      "ptrain = [p if p <= 1. else 1. for p in ptrain]\n",
      "\n",
      "ptrain = [round(x * 5) for x in ptrain]\n",
      "ytrain = nVals\n",
      "#ytrain = expY"
     ],
     "language": "python",
     "metadata": {},
     "outputs": [
      {
       "output_type": "stream",
       "stream": "stdout",
       "text": [
        "1.03394875422 1.0\n"
       ]
      }
     ],
     "prompt_number": 66
    },
    {
     "cell_type": "code",
     "collapsed": false,
     "input": [],
     "language": "python",
     "metadata": {},
     "outputs": [],
     "prompt_number": 66
    },
    {
     "cell_type": "code",
     "collapsed": false,
     "input": [
      "def MSE(prediction, real):\n",
      "    squares = [ (p - r)**2 for p,r in zip (prediction,real) ]\n",
      "    return numpy.mean(squares)"
     ],
     "language": "python",
     "metadata": {},
     "outputs": [],
     "prompt_number": 67
    },
    {
     "cell_type": "code",
     "collapsed": false,
     "input": [
      "mse = MSE(ptrain, ytrain)\n",
      "var = MSE(ytrain, [mean(ytrain)] * len(ytrain))\n",
      "print \"MSE training\", mse\n",
      "print \"Var\", var\n",
      "print \" FVU training\", (mse / var)"
     ],
     "language": "python",
     "metadata": {},
     "outputs": [
      {
       "output_type": "stream",
       "stream": "stdout",
       "text": [
        "MSE training 0.202836\n",
        "Var 2.37327672907\n",
        " FVU training 0.0854666451307\n"
       ]
      }
     ],
     "prompt_number": 68
    },
    {
     "cell_type": "code",
     "collapsed": false,
     "input": [
      "trainScore = len([[p, y] for p, y in zip(ptrain, ytrain) if p != y]) * 1.0 / len(ytrain)\n",
      "print trainScore"
     ],
     "language": "python",
     "metadata": {},
     "outputs": [
      {
       "output_type": "stream",
       "stream": "stdout",
       "text": [
        "0.108253\n"
       ]
      }
     ],
     "prompt_number": 69
    },
    {
     "cell_type": "code",
     "collapsed": false,
     "input": [],
     "language": "python",
     "metadata": {},
     "outputs": [],
     "prompt_number": 69
    },
    {
     "cell_type": "code",
     "collapsed": false,
     "input": [],
     "language": "python",
     "metadata": {},
     "outputs": [],
     "prompt_number": 69
    },
    {
     "cell_type": "code",
     "collapsed": false,
     "input": [
      "print \"Reading test...\"\n",
      "tetst = list(parseData(\"/home/iizhaki/oasis/CSE255/Project2/assignment2/helpful.json\"))\n",
      "print \"done\""
     ],
     "language": "python",
     "metadata": {},
     "outputs": [
      {
       "output_type": "stream",
       "stream": "stdout",
       "text": [
        "Reading test...\n",
        "done"
       ]
      },
      {
       "output_type": "stream",
       "stream": "stdout",
       "text": [
        "\n"
       ]
      }
     ],
     "prompt_number": 70
    },
    {
     "cell_type": "code",
     "collapsed": false,
     "input": [
      "Xt = []\n",
      "del outOt\n",
      "\n",
      "for l in tetst:\n",
      "    user, item, helpful, rating, words = l['reviewerID'], l['itemID'], l['helpful'], l['rating'], l['reviewText']\n",
      "    outOf = float(helpful['outOf'])\n",
      "    nHelpful = float(helpful['nHelpful'])\n",
      "    ratio = nHelpful / outOf\n",
      "    nWords = len(words.split())\n",
      "    \n",
      "    if nWords < 100:\n",
      "        nWords = [1, 0]\n",
      "    else:\n",
      "        nWords = [0, 1]\n",
      "    \n",
      "    cOutOf = outOf * 1.0 / bestOutOf\n",
      "    \n",
      "    if user in userRate:\n",
      "        urate = userRate[user]\n",
      "        uscore = userScore[user]\n",
      "    else:\n",
      "        urate = averageRate\n",
      "        uscore = averageUserScore\n",
      "    if item in itemRate:\n",
      "        irate = itemRate[item]\n",
      "        iscore = itemScore[item]\n",
      "    else:\n",
      "        irate = averageRate\n",
      "        iscore = averageItemScore\n",
      "        \n",
      "    Xt.append([1, ratio, cOutOf, urate, irate, uscore, iscore] + nWords + wordsFF(words, vecPositive) + wordsFF(words, vecNegative))\n",
      "    #Xt.append([1, rating] + urate + nWords + wordsFF(words, vecPositive) + wordsFF(words, vecNegative))"
     ],
     "language": "python",
     "metadata": {},
     "outputs": [],
     "prompt_number": 4055
    },
    {
     "cell_type": "code",
     "collapsed": false,
     "input": [
      "print Xt[0]\n",
      "X_test = np.array(Xt).astype(float)\n",
      "#scaler = MinMaxScaler().fit(X_test)\n",
      "#X_test = scaler.transform(X_test)"
     ],
     "language": "python",
     "metadata": {},
     "outputs": [
      {
       "output_type": "stream",
       "stream": "stdout",
       "text": [
        "[1, 0.2, 7.987858455148175e-05, 0.0, 0.82622950819672136, 0.20000000000000001, 0.90328638497652625, 1, 0, 0, 1, 0, 0, 0, 0, 0, 0, 0, 0, 0, 0, 0, 0, 0, 0, 0, 0, 0, 0, 0, 0, 0, 0, 0, 0, 0, 0, 0, 0, 0, 0, 0, 0, 0, 0, 0, 0, 0, 0, 0, 0, 0, 0, 0, 0, 0, 0, 0, 0, 0, 0, 0, 0, 0, 0, 0, 0, 0, 0, 0, 0, 0, 0, 0, 0, 0, 0, 0, 0, 0, 0, 0, 0, 0, 0, 0, 0, 0, 1, 0, 0, 0, 0, 0, 0, 0, 0, 0, 0, 0, 0, 0, 0, 0, 0, 0, 0, 0, 0, 0, 0, 0, 0, 0, 0, 0, 0, 0, 0, 0, 0, 0, 0, 0, 0, 0, 0, 0, 0, 0, 0, 0, 0, 0, 0, 0, 1, 0, 0, 0, 0, 0, 0, 0, 0, 1, 0, 0, 0, 0, 0, 0, 0, 0, 0, 0, 0, 0, 0, 0, 0, 0, 0, 0, 0, 0, 0, 0, 0, 0, 0, 0, 0, 0, 0, 0, 0, 0, 0, 0, 0, 0, 0, 0, 0, 0, 0, 0, 0, 1, 1, 0, 0, 0, 0, 0, 0, 0, 0, 0, 0, 0, 0, 0, 0, 0, 0, 0, 0]\n"
       ]
      }
     ],
     "prompt_number": 4056
    },
    {
     "cell_type": "code",
     "collapsed": false,
     "input": [
      "ptest = predict(X_test, thetax)\n",
      "#ptrain = clf.predict(X_train)\n",
      "\n",
      "\n",
      "ptest = [p if p >= 0. else 0. for p in ptest]\n",
      "ptest = [p if p <= 1. else 1. for p in ptest]\n",
      "\n",
      "ptest = [round(x*o) for x, o in zip(ptest, outOt)]"
     ],
     "language": "python",
     "metadata": {},
     "outputs": [],
     "prompt_number": 4057
    },
    {
     "cell_type": "code",
     "collapsed": false,
     "input": [
      "print ptest[:10]"
     ],
     "language": "python",
     "metadata": {},
     "outputs": [
      {
       "output_type": "stream",
       "stream": "stdout",
       "text": [
        "[0.0, 3.0, 0.0, 1.0, 1.0, 0.0, 1.0, 1.0, 1.0, 0.0]\n"
       ]
      }
     ],
     "prompt_number": 4058
    },
    {
     "cell_type": "code",
     "collapsed": false,
     "input": [
      "print \"Reading helpful...\"\n",
      "test = np.array(list(parseTxt(\"/home/iizhaki/oasis/CSE255/Project2/assignment2/pairs_Helpful.txt\")))\n",
      "print \"done\""
     ],
     "language": "python",
     "metadata": {},
     "outputs": [
      {
       "output_type": "stream",
       "stream": "stdout",
       "text": [
        "Reading helpful...\n",
        "done"
       ]
      },
      {
       "output_type": "stream",
       "stream": "stdout",
       "text": [
        "\n"
       ]
      }
     ],
     "prompt_number": 4059
    },
    {
     "cell_type": "code",
     "collapsed": false,
     "input": [
      "print \"Prediction test...\"\n",
      "myPredictions = open(\"/home/iizhaki/oasis/CSE255/Project2/assignment2/idan_predictions_Helpful_TS_\" + str(trainScore) + \".txt\", 'w')\n",
      "print \"done\"\n",
      "\n",
      "myPredictions.write(test[0][0] + '\\n')\n",
      "\n",
      "for l, p in zip(test[1 :], ptest):\n",
      "    u, i, o = l[0].split(\"-\")\n",
      "    myPredictions.write(l[0] + ',' + str(p) + '\\n')\n",
      "    \n",
      "myPredictions.close()"
     ],
     "language": "python",
     "metadata": {},
     "outputs": [
      {
       "output_type": "stream",
       "stream": "stdout",
       "text": [
        "Prediction test...\n",
        "done\n"
       ]
      }
     ],
     "prompt_number": 4060
    },
    {
     "cell_type": "code",
     "collapsed": false,
     "input": [],
     "language": "python",
     "metadata": {},
     "outputs": [],
     "prompt_number": 4060
    },
    {
     "cell_type": "code",
     "collapsed": false,
     "input": [],
     "language": "python",
     "metadata": {},
     "outputs": []
    },
    {
     "cell_type": "code",
     "collapsed": false,
     "input": [],
     "language": "python",
     "metadata": {},
     "outputs": []
    },
    {
     "cell_type": "code",
     "collapsed": false,
     "input": [],
     "language": "python",
     "metadata": {},
     "outputs": []
    },
    {
     "cell_type": "code",
     "collapsed": false,
     "input": [],
     "language": "python",
     "metadata": {},
     "outputs": []
    },
    {
     "cell_type": "code",
     "collapsed": false,
     "input": [],
     "language": "python",
     "metadata": {},
     "outputs": []
    },
    {
     "cell_type": "code",
     "collapsed": false,
     "input": [],
     "language": "python",
     "metadata": {},
     "outputs": []
    },
    {
     "cell_type": "code",
     "collapsed": false,
     "input": [],
     "language": "python",
     "metadata": {},
     "outputs": []
    },
    {
     "cell_type": "code",
     "collapsed": false,
     "input": [],
     "language": "python",
     "metadata": {},
     "outputs": [],
     "prompt_number": 84
    },
    {
     "cell_type": "code",
     "collapsed": false,
     "input": [],
     "language": "python",
     "metadata": {},
     "outputs": []
    },
    {
     "cell_type": "code",
     "collapsed": false,
     "input": [],
     "language": "python",
     "metadata": {},
     "outputs": []
    },
    {
     "cell_type": "code",
     "collapsed": false,
     "input": [],
     "language": "python",
     "metadata": {},
     "outputs": []
    },
    {
     "cell_type": "code",
     "collapsed": false,
     "input": [],
     "language": "python",
     "metadata": {},
     "outputs": []
    },
    {
     "cell_type": "code",
     "collapsed": false,
     "input": [
      "\n",
      "\n",
      "allXs = []\n",
      "allYs = []\n",
      "\n",
      "\n",
      "\n",
      "\n",
      "\n",
      "\n",
      "\n",
      "\n",
      "\n",
      "allXs = []\n",
      "allYs = []\n",
      "allRs = []\n",
      "for l in train:\n",
      "    user, item, helpful = l['reviewerID'], l['itemID'], l['helpful']\n",
      "    rating, words = l['rating'], l['reviewText']\n",
      "    allXs.append([user, item])\n",
      "    outOf = float(helpful['outOf'])\n",
      "    nHelpful = float(helpful['nHelpful'])\n",
      "    allYs.append((outOf, nHelpful))\n",
      "    \n",
      "    nWords = len(words.split())\n",
      "    allRs.append((float(rating), nWords, nHelpful * 1.0 / outOf))"
     ],
     "language": "python",
     "metadata": {},
     "outputs": []
    },
    {
     "cell_type": "code",
     "collapsed": false,
     "input": [
      "print \"Reading test...\"\n",
      "test = list(parseTxt(\"/home/iizhaki/oasis/CSE255/Project2/assignment2/labeled_Helpful.txt\"))\n",
      "print \"done\""
     ],
     "language": "python",
     "metadata": {},
     "outputs": [
      {
       "output_type": "stream",
       "stream": "stdout",
       "text": [
        "Reading test...\n",
        "done\n"
       ]
      }
     ],
     "prompt_number": 9
    },
    {
     "cell_type": "code",
     "collapsed": false,
     "input": [
      "# Part A\n",
      "alpha = 0\n",
      "for o, n in allYs:\n",
      "    if o == 0.:\n",
      "        continue\n",
      "    alpha += n * 1.0 / o\n",
      "alpha = alpha / len(allYs)\n",
      "\n",
      "print alpha"
     ],
     "language": "python",
     "metadata": {},
     "outputs": [
      {
       "output_type": "stream",
       "stream": "stdout",
       "text": [
        "0.533185849504\n"
       ]
      }
     ],
     "prompt_number": 10
    },
    {
     "cell_type": "code",
     "collapsed": false,
     "input": [
      "# Part B\n",
      "dictUI = defaultdict(list)\n",
      "\n",
      "for [u, i], [o, n] in zip(allXs, allYs):\n",
      "    dictUI[(u, i)] += (o, n)"
     ],
     "language": "python",
     "metadata": {},
     "outputs": [],
     "prompt_number": 11
    },
    {
     "cell_type": "code",
     "collapsed": false,
     "input": [
      "yUI = defaultdict(list)\n",
      "for u, i, o, n in test:\n",
      "    yUI[(u, i)] += (o, n)"
     ],
     "language": "python",
     "metadata": {},
     "outputs": [],
     "prompt_number": 12
    },
    {
     "cell_type": "code",
     "collapsed": false,
     "input": [
      "mse = 0.\n",
      "AE = 0.\n",
      "for u, i, o, n in test:\n",
      "    predN = float(o) * alpha\n",
      "    mse += (float(n) - predN) ** 2\n",
      "    AE += abs(float(n) - predN)   \n",
      "        \n",
      "mse = mse / len(test)\n",
      "print \"MSE: \", mse\n",
      "print \"AE: \", AE"
     ],
     "language": "python",
     "metadata": {},
     "outputs": [
      {
       "output_type": "stream",
       "stream": "stdout",
       "text": [
        "MSE:  74.4869061806\n",
        "AE:  18362.4004226\n"
       ]
      }
     ],
     "prompt_number": 13
    },
    {
     "cell_type": "code",
     "collapsed": false,
     "input": [],
     "language": "python",
     "metadata": {},
     "outputs": [],
     "prompt_number": 13
    },
    {
     "cell_type": "code",
     "collapsed": false,
     "input": [
      "# Part C\n",
      "X = []\n",
      "y = []\n",
      "for rating, count, ratio in allRs:\n",
      "    X.append([1, count, rating])\n",
      "    y.append(ratio)"
     ],
     "language": "python",
     "metadata": {},
     "outputs": [],
     "prompt_number": 3
    },
    {
     "cell_type": "code",
     "collapsed": false,
     "input": [
      "from _collections import defaultdict\n",
      "import time\n",
      "import timeit\n",
      "\n",
      "from numpy.linalg import norm\n",
      "import scipy.optimize\n",
      "\n",
      "import numpy as np\n",
      "\n",
      "start = time.time()\n",
      "thetar, _, _, _ = np.linalg.lstsq(X, y)\n",
      "end = time.time()\n",
      "finished = end - start\n",
      "print finished"
     ],
     "language": "python",
     "metadata": {},
     "outputs": [
      {
       "output_type": "stream",
       "stream": "stdout",
       "text": [
        "0.868791103363\n"
       ]
      }
     ],
     "prompt_number": 4
    },
    {
     "cell_type": "code",
     "collapsed": false,
     "input": [],
     "language": "python",
     "metadata": {},
     "outputs": []
    },
    {
     "cell_type": "code",
     "collapsed": false,
     "input": [
      "print \"Fitted parmaters: \", thetar"
     ],
     "language": "python",
     "metadata": {},
     "outputs": [
      {
       "output_type": "stream",
       "stream": "stdout",
       "text": [
        "Fitted parmaters:  [  4.00493735e-01   3.31855284e-04   6.27329666e-02]\n"
       ]
      }
     ],
     "prompt_number": 6
    },
    {
     "cell_type": "code",
     "collapsed": false,
     "input": [
      "# Part D\n",
      "print \"Reading train...\"\n",
      "test2 = list(parseData(\"/home/iizhaki/oasis/CSE255/Project2/assignment2/helpful.json\"))\n",
      "print \"done\"\n",
      "\n",
      "allTestRefXs = []\n",
      "allTestRefYs = []\n",
      "allTestRefRs = []\n",
      "for l in test2:\n",
      "    user, item, helpful = l['reviewerID'], l['itemID'], l['helpful']\n",
      "    rating, words = l['rating'], l['reviewText']\n",
      "    allTestRefXs.append([user, item])\n",
      "    outOf = float(helpful['outOf'])\n",
      "    allTestRefYs.append(outOf)\n",
      "    \n",
      "    nWords = len(words.split())\n",
      "    allTestRefRs.append((float(rating), nWords))"
     ],
     "language": "python",
     "metadata": {},
     "outputs": [
      {
       "output_type": "stream",
       "stream": "stdout",
       "text": [
        "Reading train...\n",
        "done"
       ]
      },
      {
       "output_type": "stream",
       "stream": "stdout",
       "text": [
        "\n"
       ]
      }
     ],
     "prompt_number": 5
    },
    {
     "cell_type": "code",
     "collapsed": false,
     "input": [
      "print rating"
     ],
     "language": "python",
     "metadata": {},
     "outputs": [
      {
       "output_type": "stream",
       "stream": "stdout",
       "text": [
        "5.0\n"
       ]
      }
     ],
     "prompt_number": 6
    },
    {
     "cell_type": "code",
     "collapsed": false,
     "input": [
      "def predict(data, theta):\n",
      "    prediction = [np.dot(theta, d)  for d in data]\n",
      "    return prediction"
     ],
     "language": "python",
     "metadata": {},
     "outputs": [],
     "prompt_number": 7
    },
    {
     "cell_type": "code",
     "collapsed": false,
     "input": [
      "mse = 0.\n",
      "AE = 0.\n",
      "\n",
      "for [_, _, oReal, nReal], refR  in zip(test, allTestRefRs):\n",
      "    (rating, count) = refR\n",
      "    X = np.array([1, count, rating])\n",
      "    predRatio = np.dot(np.array(thetar, dtype='float'), X)\n",
      "    \n",
      "    mse += (float(nReal) / float(oReal) - float(predRatio)) ** 2\n",
      "    AE += abs(float(nReal) / float(oReal) - float(predRatio))\n",
      "    \n",
      "mse = mse / len(test)\n",
      "print \"MSE: \", mse\n",
      "print \"AE: \", AE"
     ],
     "language": "python",
     "metadata": {},
     "outputs": [
      {
       "ename": "TypeError",
       "evalue": "zip argument #1 must support iteration",
       "output_type": "pyerr",
       "traceback": [
        "\u001b[1;31m---------------------------------------------------------------------------\u001b[0m\n\u001b[1;31mTypeError\u001b[0m                                 Traceback (most recent call last)",
        "\u001b[1;32m<ipython-input-8-763fba31734f>\u001b[0m in \u001b[0;36m<module>\u001b[1;34m()\u001b[0m\n\u001b[0;32m      2\u001b[0m \u001b[0mAE\u001b[0m \u001b[1;33m=\u001b[0m \u001b[1;36m0.\u001b[0m\u001b[1;33m\u001b[0m\u001b[0m\n\u001b[0;32m      3\u001b[0m \u001b[1;33m\u001b[0m\u001b[0m\n\u001b[1;32m----> 4\u001b[1;33m \u001b[1;32mfor\u001b[0m \u001b[1;33m[\u001b[0m\u001b[0m_\u001b[0m\u001b[1;33m,\u001b[0m \u001b[0m_\u001b[0m\u001b[1;33m,\u001b[0m \u001b[0moReal\u001b[0m\u001b[1;33m,\u001b[0m \u001b[0mnReal\u001b[0m\u001b[1;33m]\u001b[0m\u001b[1;33m,\u001b[0m \u001b[0mrefR\u001b[0m  \u001b[1;32min\u001b[0m \u001b[0mzip\u001b[0m\u001b[1;33m(\u001b[0m\u001b[0mtest\u001b[0m\u001b[1;33m,\u001b[0m \u001b[0mallTestRefRs\u001b[0m\u001b[1;33m)\u001b[0m\u001b[1;33m:\u001b[0m\u001b[1;33m\u001b[0m\u001b[0m\n\u001b[0m\u001b[0;32m      5\u001b[0m     \u001b[1;33m(\u001b[0m\u001b[0mrating\u001b[0m\u001b[1;33m,\u001b[0m \u001b[0mcount\u001b[0m\u001b[1;33m)\u001b[0m \u001b[1;33m=\u001b[0m \u001b[0mrefR\u001b[0m\u001b[1;33m\u001b[0m\u001b[0m\n\u001b[0;32m      6\u001b[0m     \u001b[0mX\u001b[0m \u001b[1;33m=\u001b[0m \u001b[0mnp\u001b[0m\u001b[1;33m.\u001b[0m\u001b[0marray\u001b[0m\u001b[1;33m(\u001b[0m\u001b[1;33m[\u001b[0m\u001b[1;36m1\u001b[0m\u001b[1;33m,\u001b[0m \u001b[0mcount\u001b[0m\u001b[1;33m,\u001b[0m \u001b[0mrating\u001b[0m\u001b[1;33m]\u001b[0m\u001b[1;33m)\u001b[0m\u001b[1;33m\u001b[0m\u001b[0m\n",
        "\u001b[1;31mTypeError\u001b[0m: zip argument #1 must support iteration"
       ]
      }
     ],
     "prompt_number": 8
    },
    {
     "cell_type": "markdown",
     "metadata": {},
     "source": [
      "# Q2\n",
      "\n",
      "The idea:\n",
      "- Take the maximum of \"outOf\"s\n",
      "- Divide each outOf by the maximum (normailzed outOf)\n",
      "- Take the squared root of this value, and multiplty it by the original ratio\n",
      "\n",
      "- 1/1, 4/5, 48/50, 20/40\n",
      "- => Maximum is 50\n",
      "=> New rations are: 1/50, 5/50, 50/50, 40/50\n",
      "=> Take square root: sq(1/50) * 1/1, sq(5/50) * 4/5, sq(50/50) * 48/50, sq(40/50) * 20/40\n",
      "===============> 0.14, 0.25, 0.96, 0.45"
     ]
    },
    {
     "cell_type": "code",
     "collapsed": false,
     "input": [],
     "language": "python",
     "metadata": {},
     "outputs": []
    }
   ],
   "metadata": {}
  }
 ]
}