{
 "metadata": {
  "name": "",
  "signature": "sha256:48cfde7019344c645dd37f7442bbbfeb7607365296dfd07e16d88a6cce482ef3"
 },
 "nbformat": 3,
 "nbformat_minor": 0,
 "worksheets": [
  {
   "cells": [
    {
     "cell_type": "code",
     "collapsed": false,
     "input": [
      "from _collections import defaultdict\n",
      "import time\n",
      "import timeit\n",
      "\n",
      "from numpy.linalg import norm\n",
      "import scipy.optimize\n",
      "import random\n",
      "\n",
      "import numpy as np"
     ],
     "language": "python",
     "metadata": {},
     "outputs": [],
     "prompt_number": 2
    },
    {
     "cell_type": "code",
     "collapsed": false,
     "input": [
      "def parseData(fname):\n",
      "  for l in open(fname):\n",
      "    yield eval(l)\n",
      "    \n",
      "def parseTxt(fname):\n",
      "  for l in open(fname):\n",
      "    yield l.strip().split(\" \")\n",
      "\n",
      "print \"Reading train...\"\n",
      "train = list(parseData(\"/home/iizhaki/oasis/CSE255/Project2/assignment2/train.json\"))"
     ],
     "language": "python",
     "metadata": {},
     "outputs": [
      {
       "output_type": "stream",
       "stream": "stdout",
       "text": [
        "Reading train...\n"
       ]
      }
     ],
     "prompt_number": 3
    },
    {
     "cell_type": "code",
     "collapsed": false,
     "input": [],
     "language": "python",
     "metadata": {},
     "outputs": [],
     "prompt_number": 3
    },
    {
     "cell_type": "code",
     "collapsed": false,
     "input": [],
     "language": "python",
     "metadata": {},
     "outputs": [],
     "prompt_number": 3
    },
    {
     "cell_type": "code",
     "collapsed": false,
     "input": [
      "print \"done\"\n",
      "\n",
      "allXs = []\n",
      "allYs = []\n",
      "for l in train:\n",
      "  user, item, rating = l['reviewerID'], l['itemID'], l['rating']\n",
      "  allXs.append([user, item])\n",
      "  allYs.append(float(rating))"
     ],
     "language": "python",
     "metadata": {},
     "outputs": [
      {
       "output_type": "stream",
       "stream": "stdout",
       "text": [
        "done\n"
       ]
      }
     ],
     "prompt_number": 4
    },
    {
     "cell_type": "code",
     "collapsed": false,
     "input": [],
     "language": "python",
     "metadata": {},
     "outputs": [],
     "prompt_number": 4
    },
    {
     "cell_type": "code",
     "collapsed": false,
     "input": [],
     "language": "python",
     "metadata": {},
     "outputs": [],
     "prompt_number": 4
    },
    {
     "cell_type": "code",
     "collapsed": false,
     "input": [
      "def miniFunc(Data, Alpha, BetaU, BetaI, Lambd):\n",
      "    part1 = 0\n",
      "    for [u, i], Rui in Data:\n",
      "        part1 += ((Alpha + BetaU[u] + BetaI[i] - Rui) ** 2)\n",
      "\n",
      "    return part1\n",
      "\n",
      "\n",
      "oldVal = 0\n",
      "lambd = 1\n",
      "alpha = 0\n",
      "X = allXs\n",
      "y = allYs\n",
      "betaU = defaultdict(float)\n",
      "betaI = defaultdict(float)\n",
      "Ntrain = len(y)\n",
      "\n",
      "data = zip(X, y)\n",
      "\n",
      "Iu = defaultdict(int)\n",
      "Ii = defaultdict(int)\n",
      "for [u, i], Rui in data:\n",
      "    Iu[u] += 1\n",
      "    Ii[i] += 1\n",
      "\n",
      "while True:\n",
      "    lastAlpha = alpha\n",
      "    lastBetaU = betaU\n",
      "    lastBetaI = betaI\n",
      "    \n",
      "    #----------------------\n",
      "    start = time.time()\n",
      "    #----------------------\n",
      "    \n",
      "    # Alpha stage\n",
      "    alpha = 0\n",
      "    for [u, i], Rui in data:\n",
      "        bu = betaU[u]\n",
      "        bi = betaI[i]\n",
      "        alpha += Rui - (bu + bi)\n",
      "    alpha = alpha / Ntrain\n",
      "    \n",
      "    #----------------------\n",
      "    end = time.time()\n",
      "    finished = end - start\n",
      "    #print \"Alpha time: \", finished\n",
      "    #----------------------\n",
      "    \n",
      "    #----------------------\n",
      "    #start = time.time()\n",
      "    #----------------------\n",
      "\n",
      "    # BetaU stage \n",
      "    betaU = defaultdict(float)\n",
      "    for [u, i], Rui in data:\n",
      "        betaU[u] += (Rui - (alpha + betaI[i]))\n",
      "    for u in betaU:\n",
      "        betaU[u] = float(betaU[u]) / Iu[u]\n",
      "        \n",
      "    #----------------------\n",
      "    #end = time.time()\n",
      "    #finished = end - start\n",
      "    #print \"BetaU time: \", finished\n",
      "    #----------------------\n",
      "        \n",
      "    #----------------------\n",
      "    #start = time.time()\n",
      "    #----------------------\n",
      "        \n",
      "    # BetaI stage \n",
      "    betaI = defaultdict(float)\n",
      "    for [u, i], Rui in data:\n",
      "        betaI[i] += (Rui - (alpha + betaU[u]))\n",
      "    for i in betaI:\n",
      "        betaI[i] = float(betaI[i]) / Ii[i]\n",
      "        \n",
      "    #----------------------\n",
      "    #end = time.time()\n",
      "    #finished = end - start\n",
      "    #print \"BetaI time: \", finished\n",
      "    #----------------------\n",
      "    \n",
      "    #----------------------\n",
      "    #start = time.time()\n",
      "    #----------------------\n",
      "    newVal = miniFunc(data, alpha, betaU, betaI, lambd)\n",
      "    print oldVal, \"            \", newVal\n",
      "    #----------------------\n",
      "    #end = time.time()\n",
      "    #finished = end - start\n",
      "    #print \"miniFunc time: \", finished\n",
      "    #----------------------\n",
      "\n",
      "    if lastAlpha != 0 and oldVal < newVal:\n",
      "        alpha = lastAlpha\n",
      "        betaU = lastBetaU\n",
      "        betaI = lastBetaI\n",
      "        break\n",
      "        \n",
      "    oldVal = newVal\n",
      "    \n",
      "print alpha"
     ],
     "language": "python",
     "metadata": {},
     "outputs": [
      {
       "output_type": "stream",
       "stream": "stdout",
       "text": [
        "0              176706.722687\n",
        "176706.722687"
       ]
      },
      {
       "output_type": "stream",
       "stream": "stdout",
       "text": [
        "              150540.726778\n",
        "150540.726778"
       ]
      },
      {
       "output_type": "stream",
       "stream": "stdout",
       "text": [
        "              138623.406725\n",
        "138623.406725"
       ]
      },
      {
       "output_type": "stream",
       "stream": "stdout",
       "text": [
        "              131589.450991\n",
        "131589.450991"
       ]
      },
      {
       "output_type": "stream",
       "stream": "stdout",
       "text": [
        "              126924.967809\n",
        "126924.967809"
       ]
      },
      {
       "output_type": "stream",
       "stream": "stdout",
       "text": [
        "              123615.119392\n",
        "123615.119392"
       ]
      },
      {
       "output_type": "stream",
       "stream": "stdout",
       "text": [
        "              121157.794215\n",
        "121157.794215"
       ]
      },
      {
       "output_type": "stream",
       "stream": "stdout",
       "text": [
        "              119272.290327\n",
        "119272.290327"
       ]
      },
      {
       "output_type": "stream",
       "stream": "stdout",
       "text": [
        "              117788.376494\n",
        "117788.376494"
       ]
      },
      {
       "output_type": "stream",
       "stream": "stdout",
       "text": [
        "              116596.601644\n",
        "116596.601644"
       ]
      },
      {
       "output_type": "stream",
       "stream": "stdout",
       "text": [
        "              115623.390344\n",
        "115623.390344"
       ]
      },
      {
       "output_type": "stream",
       "stream": "stdout",
       "text": [
        "              114817.500746\n",
        "114817.500746"
       ]
      },
      {
       "output_type": "stream",
       "stream": "stdout",
       "text": [
        "              114142.193088\n",
        "114142.193088"
       ]
      },
      {
       "output_type": "stream",
       "stream": "stdout",
       "text": [
        "              113570.475582\n",
        "113570.475582"
       ]
      },
      {
       "output_type": "stream",
       "stream": "stdout",
       "text": [
        "              113082.101918\n",
        "113082.101918"
       ]
      },
      {
       "output_type": "stream",
       "stream": "stdout",
       "text": [
        "              112661.610947\n",
        "112661.610947"
       ]
      },
      {
       "output_type": "stream",
       "stream": "stdout",
       "text": [
        "              112297.009863\n",
        "112297.009863"
       ]
      },
      {
       "output_type": "stream",
       "stream": "stdout",
       "text": [
        "              111978.867501\n",
        "111978.867501"
       ]
      },
      {
       "output_type": "stream",
       "stream": "stdout",
       "text": [
        "              111699.676304\n",
        "111699.676304"
       ]
      },
      {
       "output_type": "stream",
       "stream": "stdout",
       "text": [
        "              111453.394644\n",
        "111453.394644"
       ]
      },
      {
       "output_type": "stream",
       "stream": "stdout",
       "text": [
        "              111235.112833\n",
        "111235.112833"
       ]
      },
      {
       "output_type": "stream",
       "stream": "stdout",
       "text": [
        "              111040.805637\n",
        "111040.805637"
       ]
      },
      {
       "output_type": "stream",
       "stream": "stdout",
       "text": [
        "              110867.146328\n",
        "110867.146328"
       ]
      },
      {
       "output_type": "stream",
       "stream": "stdout",
       "text": [
        "              110711.36521\n",
        "110711.36521"
       ]
      },
      {
       "output_type": "stream",
       "stream": "stdout",
       "text": [
        "              110571.140769\n",
        "110571.140769"
       ]
      },
      {
       "output_type": "stream",
       "stream": "stdout",
       "text": [
        "              110444.515026\n",
        "110444.515026"
       ]
      },
      {
       "output_type": "stream",
       "stream": "stdout",
       "text": [
        "              110329.827102\n",
        "110329.827102"
       ]
      },
      {
       "output_type": "stream",
       "stream": "stdout",
       "text": [
        "              110225.660602\n",
        "110225.660602"
       ]
      },
      {
       "output_type": "stream",
       "stream": "stdout",
       "text": [
        "              110130.801623\n",
        "110130.801623"
       ]
      },
      {
       "output_type": "stream",
       "stream": "stdout",
       "text": [
        "              110044.204969\n",
        "110044.204969"
       ]
      },
      {
       "output_type": "stream",
       "stream": "stdout",
       "text": [
        "              109964.966792\n",
        "109964.966792"
       ]
      },
      {
       "output_type": "stream",
       "stream": "stdout",
       "text": [
        "              109892.302292\n",
        "109892.302292"
       ]
      },
      {
       "output_type": "stream",
       "stream": "stdout",
       "text": [
        "              109825.527418\n",
        "109825.527418"
       ]
      },
      {
       "output_type": "stream",
       "stream": "stdout",
       "text": [
        "              109764.043782\n",
        "109764.043782"
       ]
      },
      {
       "output_type": "stream",
       "stream": "stdout",
       "text": [
        "              109707.326147\n",
        "109707.326147"
       ]
      },
      {
       "output_type": "stream",
       "stream": "stdout",
       "text": [
        "              109654.91199\n",
        "109654.91199"
       ]
      },
      {
       "output_type": "stream",
       "stream": "stdout",
       "text": [
        "              109606.392776\n",
        "109606.392776"
       ]
      },
      {
       "output_type": "stream",
       "stream": "stdout",
       "text": [
        "              109561.406599\n",
        "109561.406599"
       ]
      },
      {
       "output_type": "stream",
       "stream": "stdout",
       "text": [
        "              109519.631985\n",
        "109519.631985"
       ]
      },
      {
       "output_type": "stream",
       "stream": "stdout",
       "text": [
        "              109480.782617\n",
        "109480.782617"
       ]
      },
      {
       "output_type": "stream",
       "stream": "stdout",
       "text": [
        "              109444.602855\n",
        "109444.602855"
       ]
      },
      {
       "output_type": "stream",
       "stream": "stdout",
       "text": [
        "              109410.863903\n",
        "109410.863903"
       ]
      },
      {
       "output_type": "stream",
       "stream": "stdout",
       "text": [
        "              109379.360524\n",
        "109379.360524"
       ]
      },
      {
       "output_type": "stream",
       "stream": "stdout",
       "text": [
        "              109349.908207\n",
        "109349.908207"
       ]
      },
      {
       "output_type": "stream",
       "stream": "stdout",
       "text": [
        "              109322.340734\n",
        "109322.340734"
       ]
      },
      {
       "output_type": "stream",
       "stream": "stdout",
       "text": [
        "              109296.508058\n",
        "109296.508058"
       ]
      },
      {
       "output_type": "stream",
       "stream": "stdout",
       "text": [
        "              109272.274475\n",
        "109272.274475"
       ]
      },
      {
       "output_type": "stream",
       "stream": "stdout",
       "text": [
        "              109249.517021\n",
        "109249.517021"
       ]
      },
      {
       "output_type": "stream",
       "stream": "stdout",
       "text": [
        "              109228.124081\n",
        "109228.124081"
       ]
      },
      {
       "output_type": "stream",
       "stream": "stdout",
       "text": [
        "              109207.994167\n",
        "109207.994167"
       ]
      },
      {
       "output_type": "stream",
       "stream": "stdout",
       "text": [
        "              109189.034846\n",
        "109189.034846"
       ]
      },
      {
       "output_type": "stream",
       "stream": "stdout",
       "text": [
        "              109171.161799\n",
        "109171.161799"
       ]
      },
      {
       "output_type": "stream",
       "stream": "stdout",
       "text": [
        "              109154.297989\n",
        "109154.297989"
       ]
      },
      {
       "output_type": "stream",
       "stream": "stdout",
       "text": [
        "              109138.372931\n",
        "109138.372931"
       ]
      },
      {
       "output_type": "stream",
       "stream": "stdout",
       "text": [
        "              109123.32204\n",
        "109123.32204"
       ]
      },
      {
       "output_type": "stream",
       "stream": "stdout",
       "text": [
        "              109109.086055\n",
        "109109.086055"
       ]
      },
      {
       "output_type": "stream",
       "stream": "stdout",
       "text": [
        "              109095.610528\n",
        "109095.610528"
       ]
      },
      {
       "output_type": "stream",
       "stream": "stdout",
       "text": [
        "              109082.845368\n",
        "109082.845368"
       ]
      },
      {
       "output_type": "stream",
       "stream": "stdout",
       "text": [
        "              109070.744436\n",
        "109070.744436"
       ]
      },
      {
       "output_type": "stream",
       "stream": "stdout",
       "text": [
        "              109059.26518\n",
        "109059.26518"
       ]
      },
      {
       "output_type": "stream",
       "stream": "stdout",
       "text": [
        "              109048.368309\n",
        "109048.368309"
       ]
      },
      {
       "output_type": "stream",
       "stream": "stdout",
       "text": [
        "              109038.017502\n",
        "109038.017502"
       ]
      },
      {
       "output_type": "stream",
       "stream": "stdout",
       "text": [
        "              109028.17915\n",
        "109028.17915"
       ]
      },
      {
       "output_type": "stream",
       "stream": "stdout",
       "text": [
        "              109018.822115\n",
        "109018.822115"
       ]
      },
      {
       "output_type": "stream",
       "stream": "stdout",
       "text": [
        "              109009.917519\n",
        "109009.917519"
       ]
      },
      {
       "output_type": "stream",
       "stream": "stdout",
       "text": [
        "              109001.438555\n",
        "109001.438555"
       ]
      },
      {
       "output_type": "stream",
       "stream": "stdout",
       "text": [
        "              108993.360313\n",
        "108993.360313"
       ]
      },
      {
       "output_type": "stream",
       "stream": "stdout",
       "text": [
        "              108985.659623\n",
        "108985.659623"
       ]
      },
      {
       "output_type": "stream",
       "stream": "stdout",
       "text": [
        "              108978.314912\n",
        "108978.314912"
       ]
      },
      {
       "output_type": "stream",
       "stream": "stdout",
       "text": [
        "              108971.30608\n",
        "108971.30608"
       ]
      },
      {
       "output_type": "stream",
       "stream": "stdout",
       "text": [
        "              108964.614377\n",
        "108964.614377"
       ]
      },
      {
       "output_type": "stream",
       "stream": "stdout",
       "text": [
        "              108958.222303\n",
        "108958.222303"
       ]
      },
      {
       "output_type": "stream",
       "stream": "stdout",
       "text": [
        "              108952.113506\n",
        "108952.113506"
       ]
      },
      {
       "output_type": "stream",
       "stream": "stdout",
       "text": [
        "              108946.272698\n",
        "108946.272698"
       ]
      },
      {
       "output_type": "stream",
       "stream": "stdout",
       "text": [
        "              108940.685572\n",
        "108940.685572"
       ]
      },
      {
       "output_type": "stream",
       "stream": "stdout",
       "text": [
        "              108935.338729\n",
        "108935.338729"
       ]
      },
      {
       "output_type": "stream",
       "stream": "stdout",
       "text": [
        "              108930.219614\n",
        "108930.219614"
       ]
      },
      {
       "output_type": "stream",
       "stream": "stdout",
       "text": [
        "              108925.316448\n",
        "108925.316448"
       ]
      },
      {
       "output_type": "stream",
       "stream": "stdout",
       "text": [
        "              108920.618178\n",
        "108920.618178"
       ]
      },
      {
       "output_type": "stream",
       "stream": "stdout",
       "text": [
        "              108916.114422\n",
        "108916.114422"
       ]
      },
      {
       "output_type": "stream",
       "stream": "stdout",
       "text": [
        "              108911.795421\n",
        "108911.795421"
       ]
      },
      {
       "output_type": "stream",
       "stream": "stdout",
       "text": [
        "              108907.652\n",
        "108907.652"
       ]
      },
      {
       "output_type": "stream",
       "stream": "stdout",
       "text": [
        "              108903.675519\n",
        "108903.675519"
       ]
      },
      {
       "output_type": "stream",
       "stream": "stdout",
       "text": [
        "              108899.857847\n",
        "108899.857847"
       ]
      },
      {
       "output_type": "stream",
       "stream": "stdout",
       "text": [
        "              108896.191318\n",
        "108896.191318"
       ]
      },
      {
       "output_type": "stream",
       "stream": "stdout",
       "text": [
        "              108892.668706\n",
        "108892.668706"
       ]
      },
      {
       "output_type": "stream",
       "stream": "stdout",
       "text": [
        "              108889.283193\n",
        "108889.283193"
       ]
      },
      {
       "output_type": "stream",
       "stream": "stdout",
       "text": [
        "              108886.028343\n",
        "108886.028343"
       ]
      },
      {
       "output_type": "stream",
       "stream": "stdout",
       "text": [
        "              108882.898078\n",
        "108882.898078"
       ]
      },
      {
       "output_type": "stream",
       "stream": "stdout",
       "text": [
        "              108879.886651\n",
        "108879.886651"
       ]
      },
      {
       "output_type": "stream",
       "stream": "stdout",
       "text": [
        "              108876.988632\n",
        "108876.988632"
       ]
      },
      {
       "output_type": "stream",
       "stream": "stdout",
       "text": [
        "              108874.198881\n",
        "108874.198881"
       ]
      },
      {
       "output_type": "stream",
       "stream": "stdout",
       "text": [
        "              108871.512533\n",
        "108871.512533"
       ]
      },
      {
       "output_type": "stream",
       "stream": "stdout",
       "text": [
        "              108868.924982\n",
        "108868.924982"
       ]
      },
      {
       "output_type": "stream",
       "stream": "stdout",
       "text": [
        "              108866.431863\n",
        "108866.431863"
       ]
      },
      {
       "output_type": "stream",
       "stream": "stdout",
       "text": [
        "              108864.029037\n",
        "108864.029037"
       ]
      },
      {
       "output_type": "stream",
       "stream": "stdout",
       "text": [
        "              108861.71258\n",
        "108861.71258"
       ]
      },
      {
       "output_type": "stream",
       "stream": "stdout",
       "text": [
        "              108859.478769\n",
        "108859.478769"
       ]
      },
      {
       "output_type": "stream",
       "stream": "stdout",
       "text": [
        "              108857.324069\n",
        "108857.324069"
       ]
      },
      {
       "output_type": "stream",
       "stream": "stdout",
       "text": [
        "              108855.245122\n",
        "108855.245122"
       ]
      },
      {
       "output_type": "stream",
       "stream": "stdout",
       "text": [
        "              108853.238738\n",
        "108853.238738"
       ]
      },
      {
       "output_type": "stream",
       "stream": "stdout",
       "text": [
        "              108851.301886\n",
        "108851.301886"
       ]
      },
      {
       "output_type": "stream",
       "stream": "stdout",
       "text": [
        "              108849.431682\n",
        "108849.431682"
       ]
      },
      {
       "output_type": "stream",
       "stream": "stdout",
       "text": [
        "              108847.625383\n",
        "108847.625383"
       ]
      },
      {
       "output_type": "stream",
       "stream": "stdout",
       "text": [
        "              108845.880378\n",
        "108845.880378"
       ]
      },
      {
       "output_type": "stream",
       "stream": "stdout",
       "text": [
        "              108844.194182\n",
        "108844.194182"
       ]
      },
      {
       "output_type": "stream",
       "stream": "stdout",
       "text": [
        "              108842.564427\n",
        "108842.564427"
       ]
      },
      {
       "output_type": "stream",
       "stream": "stdout",
       "text": [
        "              108840.988857\n",
        "108840.988857"
       ]
      },
      {
       "output_type": "stream",
       "stream": "stdout",
       "text": [
        "              108839.465323\n",
        "108839.465323"
       ]
      },
      {
       "output_type": "stream",
       "stream": "stdout",
       "text": [
        "              108837.991773\n",
        "108837.991773"
       ]
      },
      {
       "output_type": "stream",
       "stream": "stdout",
       "text": [
        "              108836.566253\n",
        "108836.566253"
       ]
      },
      {
       "output_type": "stream",
       "stream": "stdout",
       "text": [
        "              108835.186895\n",
        "108835.186895"
       ]
      },
      {
       "output_type": "stream",
       "stream": "stdout",
       "text": [
        "              108833.851918\n",
        "108833.851918"
       ]
      },
      {
       "output_type": "stream",
       "stream": "stdout",
       "text": [
        "              108832.559621\n",
        "108832.559621"
       ]
      },
      {
       "output_type": "stream",
       "stream": "stdout",
       "text": [
        "              108831.308379\n",
        "108831.308379"
       ]
      },
      {
       "output_type": "stream",
       "stream": "stdout",
       "text": [
        "              108830.096639\n",
        "108830.096639"
       ]
      },
      {
       "output_type": "stream",
       "stream": "stdout",
       "text": [
        "              108828.922918\n",
        "108828.922918"
       ]
      },
      {
       "output_type": "stream",
       "stream": "stdout",
       "text": [
        "              108827.785795\n",
        "108827.785795"
       ]
      },
      {
       "output_type": "stream",
       "stream": "stdout",
       "text": [
        "              108826.683914\n",
        "108826.683914"
       ]
      },
      {
       "output_type": "stream",
       "stream": "stdout",
       "text": [
        "              108825.615976\n",
        "108825.615976"
       ]
      },
      {
       "output_type": "stream",
       "stream": "stdout",
       "text": [
        "              108824.580738\n",
        "108824.580738"
       ]
      },
      {
       "output_type": "stream",
       "stream": "stdout",
       "text": [
        "              108823.577012\n",
        "108823.577012"
       ]
      },
      {
       "output_type": "stream",
       "stream": "stdout",
       "text": [
        "              108822.603656\n",
        "108822.603656"
       ]
      },
      {
       "output_type": "stream",
       "stream": "stdout",
       "text": [
        "              108821.659581\n",
        "108821.659581"
       ]
      },
      {
       "output_type": "stream",
       "stream": "stdout",
       "text": [
        "              108820.743741\n",
        "108820.743741"
       ]
      },
      {
       "output_type": "stream",
       "stream": "stdout",
       "text": [
        "              108819.855132\n",
        "108819.855132"
       ]
      },
      {
       "output_type": "stream",
       "stream": "stdout",
       "text": [
        "              108818.992796\n",
        "108818.992796"
       ]
      },
      {
       "output_type": "stream",
       "stream": "stdout",
       "text": [
        "              108818.15581\n",
        "108818.15581"
       ]
      },
      {
       "output_type": "stream",
       "stream": "stdout",
       "text": [
        "              108817.34329\n",
        "108817.34329"
       ]
      },
      {
       "output_type": "stream",
       "stream": "stdout",
       "text": [
        "              108816.55439\n",
        "108816.55439"
       ]
      },
      {
       "output_type": "stream",
       "stream": "stdout",
       "text": [
        "              108815.788294\n",
        "108815.788294"
       ]
      },
      {
       "output_type": "stream",
       "stream": "stdout",
       "text": [
        "              108815.044223\n",
        "108815.044223"
       ]
      },
      {
       "output_type": "stream",
       "stream": "stdout",
       "text": [
        "              108814.321425\n",
        "108814.321425"
       ]
      },
      {
       "output_type": "stream",
       "stream": "stdout",
       "text": [
        "              108813.619182\n",
        "108813.619182"
       ]
      },
      {
       "output_type": "stream",
       "stream": "stdout",
       "text": [
        "              108812.9368\n",
        "108812.9368"
       ]
      },
      {
       "output_type": "stream",
       "stream": "stdout",
       "text": [
        "              108812.273615\n",
        "108812.273615"
       ]
      },
      {
       "output_type": "stream",
       "stream": "stdout",
       "text": [
        "              108811.628987\n",
        "108811.628987"
       ]
      },
      {
       "output_type": "stream",
       "stream": "stdout",
       "text": [
        "              108811.002303\n",
        "108811.002303"
       ]
      },
      {
       "output_type": "stream",
       "stream": "stdout",
       "text": [
        "              108810.392972\n",
        "108810.392972"
       ]
      },
      {
       "output_type": "stream",
       "stream": "stdout",
       "text": [
        "              108809.800425\n",
        "108809.800425"
       ]
      },
      {
       "output_type": "stream",
       "stream": "stdout",
       "text": [
        "              108809.224115\n",
        "108809.224115"
       ]
      },
      {
       "output_type": "stream",
       "stream": "stdout",
       "text": [
        "              108808.663518\n",
        "108808.663518"
       ]
      },
      {
       "output_type": "stream",
       "stream": "stdout",
       "text": [
        "              108808.118126\n",
        "108808.118126"
       ]
      },
      {
       "output_type": "stream",
       "stream": "stdout",
       "text": [
        "              108807.587453\n",
        "108807.587453"
       ]
      },
      {
       "output_type": "stream",
       "stream": "stdout",
       "text": [
        "              108807.071028\n",
        "108807.071028"
       ]
      },
      {
       "output_type": "stream",
       "stream": "stdout",
       "text": [
        "              108806.568401\n",
        "108806.568401"
       ]
      },
      {
       "output_type": "stream",
       "stream": "stdout",
       "text": [
        "              108806.079136\n",
        "108806.079136"
       ]
      },
      {
       "output_type": "stream",
       "stream": "stdout",
       "text": [
        "              108805.602814\n",
        "108805.602814"
       ]
      },
      {
       "output_type": "stream",
       "stream": "stdout",
       "text": [
        "              108805.139031\n",
        "108805.139031"
       ]
      },
      {
       "output_type": "stream",
       "stream": "stdout",
       "text": [
        "              108804.687397\n",
        "108804.687397"
       ]
      },
      {
       "output_type": "stream",
       "stream": "stdout",
       "text": [
        "              108804.247536\n",
        "108804.247536"
       ]
      },
      {
       "output_type": "stream",
       "stream": "stdout",
       "text": [
        "              108803.819088\n",
        "108803.819088"
       ]
      },
      {
       "output_type": "stream",
       "stream": "stdout",
       "text": [
        "              108803.401702\n",
        "108803.401702"
       ]
      },
      {
       "output_type": "stream",
       "stream": "stdout",
       "text": [
        "              108802.995041\n",
        "108802.995041"
       ]
      },
      {
       "output_type": "stream",
       "stream": "stdout",
       "text": [
        "              108802.598782\n",
        "108802.598782"
       ]
      },
      {
       "output_type": "stream",
       "stream": "stdout",
       "text": [
        "              108802.21261\n",
        "108802.21261"
       ]
      },
      {
       "output_type": "stream",
       "stream": "stdout",
       "text": [
        "              108801.836223\n",
        "108801.836223"
       ]
      },
      {
       "output_type": "stream",
       "stream": "stdout",
       "text": [
        "              108801.469329\n",
        "108801.469329"
       ]
      },
      {
       "output_type": "stream",
       "stream": "stdout",
       "text": [
        "              108801.111646\n",
        "108801.111646"
       ]
      },
      {
       "output_type": "stream",
       "stream": "stdout",
       "text": [
        "              108800.762901\n",
        "108800.762901"
       ]
      },
      {
       "output_type": "stream",
       "stream": "stdout",
       "text": [
        "              108800.422831\n",
        "108800.422831"
       ]
      },
      {
       "output_type": "stream",
       "stream": "stdout",
       "text": [
        "              108800.091183\n",
        "108800.091183"
       ]
      },
      {
       "output_type": "stream",
       "stream": "stdout",
       "text": [
        "              108799.767711\n",
        "108799.767711"
       ]
      },
      {
       "output_type": "stream",
       "stream": "stdout",
       "text": [
        "              108799.452177\n",
        "108799.452177"
       ]
      },
      {
       "output_type": "stream",
       "stream": "stdout",
       "text": [
        "              108799.144353\n",
        "108799.144353"
       ]
      },
      {
       "output_type": "stream",
       "stream": "stdout",
       "text": [
        "              108798.844017\n",
        "108798.844017"
       ]
      },
      {
       "output_type": "stream",
       "stream": "stdout",
       "text": [
        "              108798.550955\n",
        "108798.550955"
       ]
      },
      {
       "output_type": "stream",
       "stream": "stdout",
       "text": [
        "              108798.26496\n",
        "108798.26496"
       ]
      },
      {
       "output_type": "stream",
       "stream": "stdout",
       "text": [
        "              108797.98583\n",
        "108797.98583"
       ]
      },
      {
       "output_type": "stream",
       "stream": "stdout",
       "text": [
        "              108797.713373\n",
        "108797.713373"
       ]
      },
      {
       "output_type": "stream",
       "stream": "stdout",
       "text": [
        "              108797.447401\n",
        "108797.447401"
       ]
      },
      {
       "output_type": "stream",
       "stream": "stdout",
       "text": [
        "              108797.187733\n",
        "108797.187733"
       ]
      },
      {
       "output_type": "stream",
       "stream": "stdout",
       "text": [
        "              108796.934192\n",
        "108796.934192"
       ]
      },
      {
       "output_type": "stream",
       "stream": "stdout",
       "text": [
        "              108796.68661\n",
        "108796.68661"
       ]
      },
      {
       "output_type": "stream",
       "stream": "stdout",
       "text": [
        "              108796.444821\n",
        "108796.444821"
       ]
      },
      {
       "output_type": "stream",
       "stream": "stdout",
       "text": [
        "              108796.208667\n",
        "108796.208667"
       ]
      },
      {
       "output_type": "stream",
       "stream": "stdout",
       "text": [
        "              108795.977994\n",
        "108795.977994"
       ]
      },
      {
       "output_type": "stream",
       "stream": "stdout",
       "text": [
        "              108795.752651\n",
        "108795.752651"
       ]
      },
      {
       "output_type": "stream",
       "stream": "stdout",
       "text": [
        "              108795.532495\n",
        "108795.532495"
       ]
      },
      {
       "output_type": "stream",
       "stream": "stdout",
       "text": [
        "              108795.317385\n",
        "108795.317385"
       ]
      },
      {
       "output_type": "stream",
       "stream": "stdout",
       "text": [
        "              108795.107185\n",
        "108795.107185"
       ]
      },
      {
       "output_type": "stream",
       "stream": "stdout",
       "text": [
        "              108794.901765\n",
        "108794.901765"
       ]
      },
      {
       "output_type": "stream",
       "stream": "stdout",
       "text": [
        "              108794.700996\n",
        "108794.700996"
       ]
      },
      {
       "output_type": "stream",
       "stream": "stdout",
       "text": [
        "              108794.504755\n",
        "108794.504755"
       ]
      },
      {
       "output_type": "stream",
       "stream": "stdout",
       "text": [
        "              108794.312922\n",
        "108794.312922"
       ]
      },
      {
       "output_type": "stream",
       "stream": "stdout",
       "text": [
        "              108794.125382\n",
        "108794.125382"
       ]
      },
      {
       "output_type": "stream",
       "stream": "stdout",
       "text": [
        "              108793.942021\n",
        "108793.942021"
       ]
      },
      {
       "output_type": "stream",
       "stream": "stdout",
       "text": [
        "              108793.762731\n",
        "108793.762731"
       ]
      },
      {
       "output_type": "stream",
       "stream": "stdout",
       "text": [
        "              108793.587404\n",
        "108793.587404"
       ]
      },
      {
       "output_type": "stream",
       "stream": "stdout",
       "text": [
        "              108793.41594\n",
        "108793.41594"
       ]
      },
      {
       "output_type": "stream",
       "stream": "stdout",
       "text": [
        "              108793.248238\n",
        "108793.248238"
       ]
      },
      {
       "output_type": "stream",
       "stream": "stdout",
       "text": [
        "              108793.084201\n",
        "108793.084201"
       ]
      },
      {
       "output_type": "stream",
       "stream": "stdout",
       "text": [
        "              108792.923735\n",
        "108792.923735"
       ]
      },
      {
       "output_type": "stream",
       "stream": "stdout",
       "text": [
        "              108792.76675\n",
        "108792.76675"
       ]
      },
      {
       "output_type": "stream",
       "stream": "stdout",
       "text": [
        "              108792.613157\n",
        "108792.613157"
       ]
      },
      {
       "output_type": "stream",
       "stream": "stdout",
       "text": [
        "              108792.46287\n",
        "108792.46287"
       ]
      },
      {
       "output_type": "stream",
       "stream": "stdout",
       "text": [
        "              108792.315805\n",
        "108792.315805"
       ]
      },
      {
       "output_type": "stream",
       "stream": "stdout",
       "text": [
        "              108792.171883\n",
        "108792.171883"
       ]
      },
      {
       "output_type": "stream",
       "stream": "stdout",
       "text": [
        "              108792.031024\n",
        "108792.031024"
       ]
      },
      {
       "output_type": "stream",
       "stream": "stdout",
       "text": [
        "              108791.893152\n",
        "108791.893152"
       ]
      },
      {
       "output_type": "stream",
       "stream": "stdout",
       "text": [
        "              108791.758193\n",
        "108791.758193"
       ]
      },
      {
       "output_type": "stream",
       "stream": "stdout",
       "text": [
        "              108791.626074\n",
        "108791.626074"
       ]
      },
      {
       "output_type": "stream",
       "stream": "stdout",
       "text": [
        "              108791.496727\n",
        "108791.496727"
       ]
      },
      {
       "output_type": "stream",
       "stream": "stdout",
       "text": [
        "              108791.370082\n",
        "108791.370082"
       ]
      },
      {
       "output_type": "stream",
       "stream": "stdout",
       "text": [
        "              108791.246074\n",
        "108791.246074"
       ]
      },
      {
       "output_type": "stream",
       "stream": "stdout",
       "text": [
        "              108791.124639\n",
        "108791.124639"
       ]
      },
      {
       "output_type": "stream",
       "stream": "stdout",
       "text": [
        "              108791.005714\n",
        "108791.005714"
       ]
      },
      {
       "output_type": "stream",
       "stream": "stdout",
       "text": [
        "              108790.889238\n",
        "108790.889238"
       ]
      },
      {
       "output_type": "stream",
       "stream": "stdout",
       "text": [
        "              108790.775153\n",
        "108790.775153"
       ]
      },
      {
       "output_type": "stream",
       "stream": "stdout",
       "text": [
        "              108790.6634\n",
        "108790.6634"
       ]
      },
      {
       "output_type": "stream",
       "stream": "stdout",
       "text": [
        "              108790.553925\n",
        "108790.553925"
       ]
      },
      {
       "output_type": "stream",
       "stream": "stdout",
       "text": [
        "              108790.446673\n",
        "108790.446673"
       ]
      },
      {
       "output_type": "stream",
       "stream": "stdout",
       "text": [
        "              108790.341592\n",
        "108790.341592"
       ]
      },
      {
       "output_type": "stream",
       "stream": "stdout",
       "text": [
        "              108790.238629\n",
        "108790.238629"
       ]
      },
      {
       "output_type": "stream",
       "stream": "stdout",
       "text": [
        "              108790.137735\n",
        "108790.137735"
       ]
      },
      {
       "output_type": "stream",
       "stream": "stdout",
       "text": [
        "              108790.038861\n",
        "108790.038861"
       ]
      },
      {
       "output_type": "stream",
       "stream": "stdout",
       "text": [
        "              108789.941961\n",
        "108789.941961"
       ]
      },
      {
       "output_type": "stream",
       "stream": "stdout",
       "text": [
        "              108789.846987\n",
        "108789.846987"
       ]
      },
      {
       "output_type": "stream",
       "stream": "stdout",
       "text": [
        "              108789.753896\n",
        "108789.753896"
       ]
      },
      {
       "output_type": "stream",
       "stream": "stdout",
       "text": [
        "              108789.662644\n",
        "108789.662644"
       ]
      },
      {
       "output_type": "stream",
       "stream": "stdout",
       "text": [
        "              108789.573187\n",
        "108789.573187"
       ]
      },
      {
       "output_type": "stream",
       "stream": "stdout",
       "text": [
        "              108789.485486\n",
        "108789.485486"
       ]
      },
      {
       "output_type": "stream",
       "stream": "stdout",
       "text": [
        "              108789.399499\n",
        "108789.399499"
       ]
      },
      {
       "output_type": "stream",
       "stream": "stdout",
       "text": [
        "              108789.315188\n",
        "108789.315188"
       ]
      },
      {
       "output_type": "stream",
       "stream": "stdout",
       "text": [
        "              108789.232514\n",
        "108789.232514"
       ]
      },
      {
       "output_type": "stream",
       "stream": "stdout",
       "text": [
        "              108789.15144\n",
        "108789.15144"
       ]
      },
      {
       "output_type": "stream",
       "stream": "stdout",
       "text": [
        "              108789.071931\n",
        "108789.071931"
       ]
      },
      {
       "output_type": "stream",
       "stream": "stdout",
       "text": [
        "              108788.99395\n",
        "108788.99395"
       ]
      },
      {
       "output_type": "stream",
       "stream": "stdout",
       "text": [
        "              108788.917464\n",
        "108788.917464"
       ]
      },
      {
       "output_type": "stream",
       "stream": "stdout",
       "text": [
        "              108788.842438\n",
        "108788.842438"
       ]
      },
      {
       "output_type": "stream",
       "stream": "stdout",
       "text": [
        "              108788.768841\n",
        "108788.768841"
       ]
      },
      {
       "output_type": "stream",
       "stream": "stdout",
       "text": [
        "              108788.696641\n",
        "108788.696641"
       ]
      },
      {
       "output_type": "stream",
       "stream": "stdout",
       "text": [
        "              108788.625806\n",
        "108788.625806"
       ]
      },
      {
       "output_type": "stream",
       "stream": "stdout",
       "text": [
        "              108788.556306\n",
        "108788.556306"
       ]
      },
      {
       "output_type": "stream",
       "stream": "stdout",
       "text": [
        "              108788.488113\n",
        "108788.488113"
       ]
      },
      {
       "output_type": "stream",
       "stream": "stdout",
       "text": [
        "              108788.421197\n",
        "108788.421197"
       ]
      },
      {
       "output_type": "stream",
       "stream": "stdout",
       "text": [
        "              108788.355531\n",
        "108788.355531"
       ]
      },
      {
       "output_type": "stream",
       "stream": "stdout",
       "text": [
        "              108788.291087\n",
        "108788.291087"
       ]
      },
      {
       "output_type": "stream",
       "stream": "stdout",
       "text": [
        "              108788.227838\n",
        "108788.227838"
       ]
      },
      {
       "output_type": "stream",
       "stream": "stdout",
       "text": [
        "              108788.165759\n",
        "108788.165759"
       ]
      },
      {
       "output_type": "stream",
       "stream": "stdout",
       "text": [
        "              108788.104825\n",
        "108788.104825"
       ]
      },
      {
       "output_type": "stream",
       "stream": "stdout",
       "text": [
        "              108788.04501\n",
        "108788.04501"
       ]
      },
      {
       "output_type": "stream",
       "stream": "stdout",
       "text": [
        "              108787.986291\n",
        "108787.986291"
       ]
      },
      {
       "output_type": "stream",
       "stream": "stdout",
       "text": [
        "              108787.928644\n",
        "108787.928644"
       ]
      },
      {
       "output_type": "stream",
       "stream": "stdout",
       "text": [
        "              108787.872047\n",
        "108787.872047"
       ]
      },
      {
       "output_type": "stream",
       "stream": "stdout",
       "text": [
        "              108787.816477\n",
        "108787.816477"
       ]
      },
      {
       "output_type": "stream",
       "stream": "stdout",
       "text": [
        "              108787.761912\n",
        "108787.761912"
       ]
      },
      {
       "output_type": "stream",
       "stream": "stdout",
       "text": [
        "              108787.708332\n",
        "108787.708332"
       ]
      },
      {
       "output_type": "stream",
       "stream": "stdout",
       "text": [
        "              108787.655714\n",
        "108787.655714"
       ]
      },
      {
       "output_type": "stream",
       "stream": "stdout",
       "text": [
        "              108787.60404\n",
        "108787.60404"
       ]
      },
      {
       "output_type": "stream",
       "stream": "stdout",
       "text": [
        "              108787.553289\n",
        "108787.553289"
       ]
      },
      {
       "output_type": "stream",
       "stream": "stdout",
       "text": [
        "              108787.503443\n",
        "108787.503443"
       ]
      },
      {
       "output_type": "stream",
       "stream": "stdout",
       "text": [
        "              108787.454481\n",
        "108787.454481"
       ]
      },
      {
       "output_type": "stream",
       "stream": "stdout",
       "text": [
        "              108787.406386\n",
        "108787.406386"
       ]
      },
      {
       "output_type": "stream",
       "stream": "stdout",
       "text": [
        "              108787.359141\n",
        "108787.359141"
       ]
      },
      {
       "output_type": "stream",
       "stream": "stdout",
       "text": [
        "              108787.312726\n",
        "108787.312726"
       ]
      },
      {
       "output_type": "stream",
       "stream": "stdout",
       "text": [
        "              108787.267126\n",
        "108787.267126"
       ]
      },
      {
       "output_type": "stream",
       "stream": "stdout",
       "text": [
        "              108787.222324\n",
        "108787.222324"
       ]
      },
      {
       "output_type": "stream",
       "stream": "stdout",
       "text": [
        "              108787.178303\n",
        "108787.178303"
       ]
      },
      {
       "output_type": "stream",
       "stream": "stdout",
       "text": [
        "              108787.135048\n",
        "108787.135048"
       ]
      },
      {
       "output_type": "stream",
       "stream": "stdout",
       "text": [
        "              108787.092542\n",
        "108787.092542"
       ]
      },
      {
       "output_type": "stream",
       "stream": "stdout",
       "text": [
        "              108787.050771\n",
        "108787.050771"
       ]
      },
      {
       "output_type": "stream",
       "stream": "stdout",
       "text": [
        "              108787.009719\n",
        "108787.009719"
       ]
      },
      {
       "output_type": "stream",
       "stream": "stdout",
       "text": [
        "              108786.969373\n",
        "108786.969373"
       ]
      },
      {
       "output_type": "stream",
       "stream": "stdout",
       "text": [
        "              108786.929718\n",
        "108786.929718"
       ]
      },
      {
       "output_type": "stream",
       "stream": "stdout",
       "text": [
        "              108786.89074\n",
        "108786.89074"
       ]
      },
      {
       "output_type": "stream",
       "stream": "stdout",
       "text": [
        "              108786.852426\n",
        "108786.852426"
       ]
      },
      {
       "output_type": "stream",
       "stream": "stdout",
       "text": [
        "              108786.814763\n",
        "108786.814763"
       ]
      },
      {
       "output_type": "stream",
       "stream": "stdout",
       "text": [
        "              108786.777737\n",
        "108786.777737"
       ]
      },
      {
       "output_type": "stream",
       "stream": "stdout",
       "text": [
        "              108786.741336\n",
        "108786.741336"
       ]
      },
      {
       "output_type": "stream",
       "stream": "stdout",
       "text": [
        "              108786.705547\n",
        "108786.705547"
       ]
      },
      {
       "output_type": "stream",
       "stream": "stdout",
       "text": [
        "              108786.670359\n",
        "108786.670359"
       ]
      },
      {
       "output_type": "stream",
       "stream": "stdout",
       "text": [
        "              108786.63576\n",
        "108786.63576"
       ]
      },
      {
       "output_type": "stream",
       "stream": "stdout",
       "text": [
        "              108786.601738\n",
        "108786.601738"
       ]
      },
      {
       "output_type": "stream",
       "stream": "stdout",
       "text": [
        "              108786.568282\n",
        "108786.568282"
       ]
      },
      {
       "output_type": "stream",
       "stream": "stdout",
       "text": [
        "              108786.535381\n",
        "108786.535381"
       ]
      },
      {
       "output_type": "stream",
       "stream": "stdout",
       "text": [
        "              108786.503024\n",
        "108786.503024"
       ]
      },
      {
       "output_type": "stream",
       "stream": "stdout",
       "text": [
        "              108786.471201\n",
        "108786.471201"
       ]
      },
      {
       "output_type": "stream",
       "stream": "stdout",
       "text": [
        "              108786.4399\n",
        "108786.4399"
       ]
      },
      {
       "output_type": "stream",
       "stream": "stdout",
       "text": [
        "              108786.409114\n",
        "108786.409114"
       ]
      },
      {
       "output_type": "stream",
       "stream": "stdout",
       "text": [
        "              108786.37883\n",
        "108786.37883"
       ]
      },
      {
       "output_type": "stream",
       "stream": "stdout",
       "text": [
        "              108786.34904\n",
        "108786.34904"
       ]
      },
      {
       "output_type": "stream",
       "stream": "stdout",
       "text": [
        "              108786.319734\n",
        "108786.319734"
       ]
      },
      {
       "output_type": "stream",
       "stream": "stdout",
       "text": [
        "              108786.290904\n",
        "108786.290904"
       ]
      },
      {
       "output_type": "stream",
       "stream": "stdout",
       "text": [
        "              108786.262539\n",
        "108786.262539"
       ]
      },
      {
       "output_type": "stream",
       "stream": "stdout",
       "text": [
        "              108786.234631\n",
        "108786.234631"
       ]
      },
      {
       "output_type": "stream",
       "stream": "stdout",
       "text": [
        "              108786.207173\n",
        "108786.207173"
       ]
      },
      {
       "output_type": "stream",
       "stream": "stdout",
       "text": [
        "              108786.180154\n",
        "108786.180154"
       ]
      },
      {
       "output_type": "stream",
       "stream": "stdout",
       "text": [
        "              108786.153566\n",
        "108786.153566"
       ]
      },
      {
       "output_type": "stream",
       "stream": "stdout",
       "text": [
        "              108786.127403\n",
        "108786.127403"
       ]
      },
      {
       "output_type": "stream",
       "stream": "stdout",
       "text": [
        "              108786.101655\n",
        "108786.101655"
       ]
      },
      {
       "output_type": "stream",
       "stream": "stdout",
       "text": [
        "              108786.076316\n",
        "108786.076316"
       ]
      },
      {
       "output_type": "stream",
       "stream": "stdout",
       "text": [
        "              108786.051376\n",
        "108786.051376"
       ]
      },
      {
       "output_type": "stream",
       "stream": "stdout",
       "text": [
        "              108786.02683\n",
        "108786.02683"
       ]
      },
      {
       "output_type": "stream",
       "stream": "stdout",
       "text": [
        "              108786.002669\n",
        "108786.002669"
       ]
      },
      {
       "output_type": "stream",
       "stream": "stdout",
       "text": [
        "              108785.978887\n",
        "108785.978887"
       ]
      },
      {
       "output_type": "stream",
       "stream": "stdout",
       "text": [
        "              108785.955477\n",
        "108785.955477"
       ]
      },
      {
       "output_type": "stream",
       "stream": "stdout",
       "text": [
        "              108785.932431\n",
        "108785.932431"
       ]
      },
      {
       "output_type": "stream",
       "stream": "stdout",
       "text": [
        "              108785.909744\n",
        "108785.909744"
       ]
      },
      {
       "output_type": "stream",
       "stream": "stdout",
       "text": [
        "              108785.887408\n",
        "108785.887408"
       ]
      },
      {
       "output_type": "stream",
       "stream": "stdout",
       "text": [
        "              108785.865417\n",
        "108785.865417"
       ]
      },
      {
       "output_type": "stream",
       "stream": "stdout",
       "text": [
        "              108785.843765\n",
        "108785.843765"
       ]
      },
      {
       "output_type": "stream",
       "stream": "stdout",
       "text": [
        "              108785.822446\n",
        "108785.822446"
       ]
      },
      {
       "output_type": "stream",
       "stream": "stdout",
       "text": [
        "              108785.801454\n",
        "108785.801454"
       ]
      },
      {
       "output_type": "stream",
       "stream": "stdout",
       "text": [
        "              108785.780782\n",
        "108785.780782"
       ]
      },
      {
       "output_type": "stream",
       "stream": "stdout",
       "text": [
        "              108785.760425\n",
        "108785.760425"
       ]
      },
      {
       "output_type": "stream",
       "stream": "stdout",
       "text": [
        "              108785.740378\n",
        "108785.740378"
       ]
      },
      {
       "output_type": "stream",
       "stream": "stdout",
       "text": [
        "              108785.720635\n",
        "108785.720635"
       ]
      },
      {
       "output_type": "stream",
       "stream": "stdout",
       "text": [
        "              108785.70119\n",
        "108785.70119"
       ]
      },
      {
       "output_type": "stream",
       "stream": "stdout",
       "text": [
        "              108785.682038\n",
        "108785.682038"
       ]
      },
      {
       "output_type": "stream",
       "stream": "stdout",
       "text": [
        "              108785.663174\n",
        "108785.663174"
       ]
      },
      {
       "output_type": "stream",
       "stream": "stdout",
       "text": [
        "              108785.644593\n",
        "108785.644593"
       ]
      },
      {
       "output_type": "stream",
       "stream": "stdout",
       "text": [
        "              108785.62629\n",
        "108785.62629"
       ]
      },
      {
       "output_type": "stream",
       "stream": "stdout",
       "text": [
        "              108785.608259\n"
       ]
      },
      {
       "ename": "KeyboardInterrupt",
       "evalue": "",
       "output_type": "pyerr",
       "traceback": [
        "\u001b[1;31m---------------------------------------------------------------------------\u001b[0m\n\u001b[1;31mKeyboardInterrupt\u001b[0m                         Traceback (most recent call last)",
        "\u001b[1;32m<ipython-input-7-5f3785052525>\u001b[0m in \u001b[0;36m<module>\u001b[1;34m()\u001b[0m\n\u001b[0;32m     84\u001b[0m     \u001b[1;31m#start = time.time()\u001b[0m\u001b[1;33m\u001b[0m\u001b[1;33m\u001b[0m\u001b[0m\n\u001b[0;32m     85\u001b[0m     \u001b[1;31m#----------------------\u001b[0m\u001b[1;33m\u001b[0m\u001b[1;33m\u001b[0m\u001b[0m\n\u001b[1;32m---> 86\u001b[1;33m     \u001b[0mnewVal\u001b[0m \u001b[1;33m=\u001b[0m \u001b[0mminiFunc\u001b[0m\u001b[1;33m(\u001b[0m\u001b[0mdata\u001b[0m\u001b[1;33m,\u001b[0m \u001b[0malpha\u001b[0m\u001b[1;33m,\u001b[0m \u001b[0mbetaU\u001b[0m\u001b[1;33m,\u001b[0m \u001b[0mbetaI\u001b[0m\u001b[1;33m,\u001b[0m \u001b[0mlambd\u001b[0m\u001b[1;33m)\u001b[0m\u001b[1;33m\u001b[0m\u001b[0m\n\u001b[0m\u001b[0;32m     87\u001b[0m     \u001b[1;32mprint\u001b[0m \u001b[0moldVal\u001b[0m\u001b[1;33m,\u001b[0m \u001b[1;34m\"            \"\u001b[0m\u001b[1;33m,\u001b[0m \u001b[0mnewVal\u001b[0m\u001b[1;33m\u001b[0m\u001b[0m\n\u001b[0;32m     88\u001b[0m     \u001b[1;31m#----------------------\u001b[0m\u001b[1;33m\u001b[0m\u001b[1;33m\u001b[0m\u001b[0m\n",
        "\u001b[1;32m<ipython-input-7-5f3785052525>\u001b[0m in \u001b[0;36mminiFunc\u001b[1;34m(Data, Alpha, BetaU, BetaI, Lambd)\u001b[0m\n\u001b[0;32m      2\u001b[0m     \u001b[0mpart1\u001b[0m \u001b[1;33m=\u001b[0m \u001b[1;36m0\u001b[0m\u001b[1;33m\u001b[0m\u001b[0m\n\u001b[0;32m      3\u001b[0m     \u001b[1;32mfor\u001b[0m \u001b[1;33m[\u001b[0m\u001b[0mu\u001b[0m\u001b[1;33m,\u001b[0m \u001b[0mi\u001b[0m\u001b[1;33m]\u001b[0m\u001b[1;33m,\u001b[0m \u001b[0mRui\u001b[0m \u001b[1;32min\u001b[0m \u001b[0mData\u001b[0m\u001b[1;33m:\u001b[0m\u001b[1;33m\u001b[0m\u001b[0m\n\u001b[1;32m----> 4\u001b[1;33m         \u001b[0mpart1\u001b[0m \u001b[1;33m+=\u001b[0m \u001b[1;33m(\u001b[0m\u001b[1;33m(\u001b[0m\u001b[0mAlpha\u001b[0m \u001b[1;33m+\u001b[0m \u001b[0mBetaU\u001b[0m\u001b[1;33m[\u001b[0m\u001b[0mu\u001b[0m\u001b[1;33m]\u001b[0m \u001b[1;33m+\u001b[0m \u001b[0mBetaI\u001b[0m\u001b[1;33m[\u001b[0m\u001b[0mi\u001b[0m\u001b[1;33m]\u001b[0m \u001b[1;33m-\u001b[0m \u001b[0mRui\u001b[0m\u001b[1;33m)\u001b[0m \u001b[1;33m**\u001b[0m \u001b[1;36m2\u001b[0m\u001b[1;33m)\u001b[0m\u001b[1;33m\u001b[0m\u001b[0m\n\u001b[0m\u001b[0;32m      5\u001b[0m \u001b[1;33m\u001b[0m\u001b[0m\n\u001b[0;32m      6\u001b[0m     \u001b[1;32mreturn\u001b[0m \u001b[0mpart1\u001b[0m\u001b[1;33m\u001b[0m\u001b[0m\n",
        "\u001b[1;31mKeyboardInterrupt\u001b[0m: "
       ]
      }
     ],
     "prompt_number": 7
    },
    {
     "cell_type": "code",
     "collapsed": false,
     "input": [],
     "language": "python",
     "metadata": {},
     "outputs": []
    },
    {
     "cell_type": "code",
     "collapsed": false,
     "input": [],
     "language": "python",
     "metadata": {},
     "outputs": []
    },
    {
     "cell_type": "code",
     "collapsed": false,
     "input": [
      "testRest = np.array(list(parseTxt(\"/home/iizhaki/oasis/CSE255/Project2/assignment2/pairs_Rating.txt\")))\n",
      "myPredictions = open(\"/home/iizhaki/oasis/CSE255/Project2/assignment2/idan_predictions_Rating_\" + str(lambd) + \"_\" + str(alpha) + \"_\" + str(oldVal) + \"_o-f.txt\", 'w')\n",
      "myPredictions.write(str(testRest[0][0]) + '\\n')\n",
      "\n",
      "mse = 0\n",
      "for currLine in testRest[1:]:\n",
      "    u, i = currLine[0].split(\"-\")\n",
      "    p = alpha + betaU[u] + betaI[i]\n",
      "    myPredictions.write(u + '-' + i + ',' + str(p) + '\\n')\n",
      "\n",
      "myPredictions.flush()\n",
      "myPredictions.close()"
     ],
     "language": "python",
     "metadata": {},
     "outputs": [],
     "prompt_number": 8
    },
    {
     "cell_type": "code",
     "collapsed": false,
     "input": [],
     "language": "python",
     "metadata": {},
     "outputs": []
    }
   ],
   "metadata": {}
  }
 ]
}