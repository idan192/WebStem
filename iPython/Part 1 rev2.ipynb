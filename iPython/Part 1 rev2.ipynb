{
 "metadata": {
  "name": "",
  "signature": "sha256:5af7111489c926aaf453cd5a6d654b0a630266159231b3f3498b59e5d67d810e"
 },
 "nbformat": 3,
 "nbformat_minor": 0,
 "worksheets": [
  {
   "cells": [
    {
     "cell_type": "code",
     "collapsed": false,
     "input": [
      "import pickle\n",
      "from sklearn.linear_model import SGDRegressor\n",
      "from _collections import defaultdict\n",
      "import time\n",
      "import timeit\n",
      "\n",
      "from numpy.linalg import norm\n",
      "import scipy.optimize\n",
      "import random\n",
      "from sets import Set\n",
      "\n",
      "import numpy as np"
     ],
     "language": "python",
     "metadata": {},
     "outputs": [],
     "prompt_number": 31
    },
    {
     "cell_type": "code",
     "collapsed": false,
     "input": [
      "def parseData(fname):\n",
      "  for l in open(fname):\n",
      "    yield eval(l)\n",
      "    \n",
      "def parseTxt(fname):\n",
      "  for l in open(fname):\n",
      "    yield l.strip().split(\" \")\n",
      "\n",
      "print \"Reading train...\"\n",
      "train = list(parseData(\"/home/iizhaki/oasis/CSE255/Project2/assignment2/train.json\"))"
     ],
     "language": "python",
     "metadata": {},
     "outputs": [
      {
       "output_type": "stream",
       "stream": "stdout",
       "text": [
        "Reading train...\n"
       ]
      }
     ],
     "prompt_number": 2
    },
    {
     "cell_type": "code",
     "collapsed": false,
     "input": [],
     "language": "python",
     "metadata": {},
     "outputs": [],
     "prompt_number": 2
    },
    {
     "cell_type": "code",
     "collapsed": false,
     "input": [],
     "language": "python",
     "metadata": {},
     "outputs": [],
     "prompt_number": 2
    },
    {
     "cell_type": "code",
     "collapsed": false,
     "input": [
      "print \"done\"\n",
      "\n",
      "allXs = []\n",
      "allYs = []\n",
      "for l in train:\n",
      "  user, item, rating = l['reviewerID'], l['itemID'], l['rating']\n",
      "  allXs.append([user, item])\n",
      "  allYs.append(float(rating))"
     ],
     "language": "python",
     "metadata": {},
     "outputs": [
      {
       "output_type": "stream",
       "stream": "stdout",
       "text": [
        "done\n"
       ]
      }
     ],
     "prompt_number": 3
    },
    {
     "cell_type": "code",
     "collapsed": false,
     "input": [],
     "language": "python",
     "metadata": {},
     "outputs": [],
     "prompt_number": 3
    },
    {
     "cell_type": "code",
     "collapsed": false,
     "input": [],
     "language": "python",
     "metadata": {},
     "outputs": [],
     "prompt_number": 3
    },
    {
     "cell_type": "code",
     "collapsed": false,
     "input": [
      "lambd = 1.0\n",
      "alpha = 0\n",
      "X = allXs\n",
      "y = allYs\n",
      "Ntrain = len(y)\n",
      "data = zip(X, y)\n",
      "\n",
      "numU = 0\n",
      "numI = 0\n",
      "allUs = {}\n",
      "allUrs = {}\n",
      "allIs = {}\n",
      "allIrs = {}\n",
      "fastData = []\n",
      "for [u, i], Rui in data:\n",
      "    if u not in allUs:\n",
      "        allUs[u] = numU\n",
      "        allUrs[numU] = u\n",
      "        numU += 1\n",
      "    if i not in allIs:\n",
      "        allIs[i] = numI\n",
      "        allIrs[numI] = i\n",
      "        numI += 1\n",
      "    fastData.append((allUs[u], allIs[i], Rui))\n",
      "\n",
      "\n",
      "Iu = np.zeros(numU)\n",
      "Ii = np.zeros(numI)\n",
      "uToRI = [[]] * numU\n",
      "iToRU = [[]] * numI\n",
      "for (u, i, Rui) in fastData:\n",
      "    Iu[u] += 1\n",
      "    Ii[i] += 1\n",
      "    if uToRI[u] == []:\n",
      "        uToRI[u] = [(i, Rui)]\n",
      "    else:\n",
      "        uToRI[u].append((i, Rui))\n",
      "    if iToRU[i] == []:\n",
      "        iToRU[i] = [(u, Rui)]\n",
      "    else:\n",
      "        iToRU[i].append((u, Rui))"
     ],
     "language": "python",
     "metadata": {},
     "outputs": [],
     "prompt_number": 4
    },
    {
     "cell_type": "code",
     "collapsed": false,
     "input": [
      "print \"Done\""
     ],
     "language": "python",
     "metadata": {},
     "outputs": [
      {
       "output_type": "stream",
       "stream": "stdout",
       "text": [
        "Done\n"
       ]
      }
     ],
     "prompt_number": 5
    },
    {
     "cell_type": "code",
     "collapsed": false,
     "input": [
      "# Objective\n",
      "def func(theta, X, y, lam):\n",
      "    diff = numpy.dot(X,theta) - y\n",
      "    diffSq = numpy.dot(diff,diff) \n",
      "    diffSqReg = diffSq  + lam * numpy.dot(theta,theta)\n",
      "    #print \"offset =\", diffSqReg\n",
      "    return diffSqReg\n",
      "\n",
      "# Derivative\n",
      "def fprime(theta, X, y, lam):\n",
      "    diff = numpy.dot(X,theta) - y\n",
      "    res = 2 * numpy.dot(X.T,diff)    + 2 * lam * theta\n",
      "    #print \"gradient =\", res\n",
      "    return res"
     ],
     "language": "python",
     "metadata": {},
     "outputs": []
    },
    {
     "cell_type": "code",
     "collapsed": false,
     "input": [
      "def miniFunc(Data, Alpha, BetaU, BetaI, GammaU, GammaI, Lambd):\n",
      "    part1 = 0\n",
      "    for (u, i, Rui) in Data:\n",
      "        part1 += ((Alpha + BetaU[u] + BetaI[i] + np.dot(GammaU[u], GammaI[i]) - Rui) ** 2)\n",
      "    \n",
      "    part2 = sum(BetaU * BetaU) + sum(BetaI * BetaI)\n",
      "    part3 = sum(GammaU * GammaU) + sum(GammaI * GammaI)\n",
      "    \n",
      "    print part1, part2, part3\n",
      "    return part1 + Lambd * (part2 + part3)"
     ],
     "language": "python",
     "metadata": {},
     "outputs": []
    },
    {
     "cell_type": "code",
     "collapsed": false,
     "input": [
      "oldVal = 0\n",
      "betaU = np.zeros(numU)\n",
      "betaI = np.zeros(numI)\n",
      "gammaU = [[]] * numU\n",
      "gammaI = [[]] * numI\n",
      "for u in range(numU):\n",
      "    gammaU[u] = [0, 0, 0]\n",
      "for i in range(numI):\n",
      "    gammaI[i] = [5.0, 5.0, 5.0]"
     ],
     "language": "python",
     "metadata": {},
     "outputs": [],
     "prompt_number": 38
    },
    {
     "cell_type": "code",
     "collapsed": false,
     "input": [
      "alpha = pickle.load(open(\"/home/iizhaki/oasis/CSE255/Project2/assignment2/idan_predictions_Rating_a_BEST3.pck\", \"rb\"))\n",
      "betaU = pickle.load(open(\"/home/iizhaki/oasis/CSE255/Project2/assignment2/idan_predictions_Rating_bu_BEST3.pck\", \"rb\"))\n",
      "betaI = pickle.load(open(\"/home/iizhaki/oasis/CSE255/Project2/assignment2/idan_predictions_Rating_bi_BEST3.pck\", \"rb\"))\n",
      "gammaU = pickle.load(open(\"/home/iizhaki/oasis/CSE255/Project2/assignment2/idan_predictions_Rating_gu_BEST3.pck\", \"rb\"))\n",
      "gammaI = pickle.load(open(\"/home/iizhaki/oasis/CSE255/Project2/assignment2/idan_predictions_Rating_gi_BEST3.pck\", \"rb\"))\n",
      "oldVal = pickle.load(open(\"/home/iizhaki/oasis/CSE255/Project2/assignment2/idan_predictions_Rating_val_BEST3.pck\", \"rb\"))"
     ],
     "language": "python",
     "metadata": {},
     "outputs": [],
     "prompt_number": 39
    },
    {
     "cell_type": "code",
     "collapsed": false,
     "input": [
      "while True:\n",
      "    lastAlpha = alpha\n",
      "    lastBetaU = list(betaU)\n",
      "    lastBetaI = list(betaI)\n",
      "    lastGammaU = list(gammaU)\n",
      "    lastGammaI = list(gammaI)\n",
      "    \n",
      "    #----------------------\n",
      "    start = time.time()\n",
      "    #----------------------\n",
      "    \n",
      "    # Alpha stage\n",
      "    alpha = 0\n",
      "    for (u, i, Rui) in fastData:\n",
      "        gu = gammaU[u]\n",
      "        gi = gammaI[i]\n",
      "        alpha += Rui - (betaU[u] + betaI[i] + np.dot(gu, gi))\n",
      "    alpha = alpha / Ntrain\n",
      "    \n",
      "    #----------------------\n",
      "    #end = time.time()\n",
      "    #finished = end - start\n",
      "    #print \"Alpha time: \", finished\n",
      "    #----------------------\n",
      "    \n",
      "    #----------------------\n",
      "    #start = time.time()\n",
      "    #----------------------\n",
      "\n",
      "    # BetaU stage \n",
      "    betaU.fill(0)\n",
      "    for (u, i, Rui) in fastData:\n",
      "        gu = gammaU[u]\n",
      "        gi = gammaI[i]\n",
      "        betaU[u] += (Rui - (alpha + betaI[i] + np.dot(gu, gi)))\n",
      "    betaU = betaU / (lambd + Iu)\n",
      "        \n",
      "    #----------------------\n",
      "    #end = time.time()\n",
      "    #finished = end - start\n",
      "    #print \"BetaU time: \", finished\n",
      "    #----------------------\n",
      "        \n",
      "    #----------------------\n",
      "    #start = time.time()\n",
      "    #----------------------\n",
      "        \n",
      "    # BetaI stage \n",
      "    betaI.fill(0)\n",
      "    for (u, i, Rui) in fastData:\n",
      "        gu = gammaU[u]\n",
      "        gi = gammaI[i]\n",
      "        betaI[i] += (Rui - (alpha + betaU[u] + np.dot(gu, gi)))\n",
      "    betaI = betaI / (lambd + Ii)\n",
      "        \n",
      "    #----------------------\n",
      "    #end = time.time()\n",
      "    #finished = end - start\n",
      "    #print \"BetaI time: \", finished\n",
      "    #----------------------\n",
      "    \n",
      "    #----------------------\n",
      "    #start = time.time()\n",
      "    #----------------------\n",
      "\n",
      "    # GammaU stage \n",
      "    for u in range(numU):\n",
      "        gi = []\n",
      "        y = []\n",
      "        for (i, Rui) in uToRI[u]:\n",
      "            gi.append(gammaI[i])\n",
      "            y.append(Rui - (alpha + betaU[u] + betaI[i]))\n",
      "                    \n",
      "        #clf = SGDRegressor(n_iter = 5, alpha = 0.1)\n",
      "        #clf.fit(gi, y)\n",
      "        #thetas = clf.coef_\n",
      "\n",
      "        #thetas, _, _, _ = np.linalg.lstsq(gi, y)\n",
      "        #thetas, _, _ = scipy.optimize.fmin_l_bfgs_b(func, np.array(gammaU[u]).T, fprime, args = (np.array(gi), np.array(y).T, lambd))\n",
      "        thetas, _, _ = scipy.optimize.fmin_tnc(func, np.array(gammaU[u]).T, fprime, args = (np.array(gi), np.array(y).T, lambd))\n",
      "        gammaU[u] = thetas\n",
      "            \n",
      "    #----------------------\n",
      "    #end = time.time()\n",
      "    #finished = end - start\n",
      "    #print \"GammaU time: \", finished\n",
      "    #----------------------\n",
      "        \n",
      "    #----------------------\n",
      "    #start = time.time()\n",
      "    #----------------------\n",
      "        \n",
      "    # GammaI stage \n",
      "    for i in range(numI):\n",
      "        gu = []\n",
      "        y = []\n",
      "        for (u, Rui) in iToRU[i]:\n",
      "            gu.append(gammaU[u])\n",
      "            y.append(Rui - (alpha + betaU[u] + betaI[i]))\n",
      "            \n",
      "        #clf = SGDRegressor(n_iter = 5, alpha = 0.1)\n",
      "        #clf.fit(gu, y)\n",
      "        #thetas = clf.coef_\n",
      "            \n",
      "        #thetas, _, _, _ = np.linalg.lstsq(gu, y)\n",
      "        #thetas, _, _ = scipy.optimize.fmin_l_bfgs_b(func, np.array(gammaI[i]).T, fprime, args = (np.array(gu), np.array(y).T, lambd))\n",
      "        thetas, _, _ = scipy.optimize.fmin_tnc(func, np.array(gammaI[i]).T, fprime, args = (np.array(gu), np.array(y).T, lambd))\n",
      "        gammaI[i] = thetas\n",
      "    \n",
      "    #----------------------\n",
      "    #end = time.time()\n",
      "    #finished = end - start\n",
      "    #print \"GammaI time: \", finished\n",
      "    #----------------------\n",
      "    \n",
      "    #----------------------\n",
      "    #start = time.time()\n",
      "    #----------------------\n",
      "    newVal = miniFunc(fastData, alpha, betaU, betaI, np.array(gammaU), np.array(gammaI), lambd)\n",
      "    #----------------------\n",
      "    end = time.time()\n",
      "    finished = end - start\n",
      "    print \"miniFunc time: \", finished,  \" --> Diff: \", (oldVal - newVal), newVal\n",
      "    #----------------------\n",
      "\n",
      "    if oldVal > 0 and oldVal < newVal:\n",
      "        alpha = lastAlpha\n",
      "        betaU = lastBetaU\n",
      "        betaI = lastBetaI\n",
      "        gammaU = lastGammaU\n",
      "        gammaI = lastGammaI\n",
      "        break\n",
      "        \n",
      "    oldVal = newVal\n",
      "    \n",
      "print alpha"
     ],
     "language": "python",
     "metadata": {},
     "outputs": [
      {
       "output_type": "stream",
       "stream": "stdout",
       "text": [
        "58737.675964 92109.8194207 228284.179523\n",
        "miniFunc time:  262.268394947  --> Diff:  62.7674105238 379131.674908\n",
        "58742.7480683"
       ]
      },
      {
       "output_type": "stream",
       "stream": "stdout",
       "text": [
        " 92659.2915681 227705.806147\n",
        "miniFunc time:  274.529338837  --> Diff:  23.8291246124 379107.845783\n",
        "58735.5814311"
       ]
      },
      {
       "output_type": "stream",
       "stream": "stdout",
       "text": [
        " 92985.2626411 227372.795073\n",
        "miniFunc time:  335.463057041  --> Diff:  14.2066383667 379093.639145\n",
        "58740.5324374"
       ]
      },
      {
       "output_type": "stream",
       "stream": "stdout",
       "text": [
        " 93175.3015668 227168.328418\n",
        "miniFunc time:  268.743221998  --> Diff:  9.4767222057 379084.162423\n",
        "58749.2902732"
       ]
      },
      {
       "output_type": "stream",
       "stream": "stdout",
       "text": [
        " 93292.3602736 227035.644053\n",
        "miniFunc time:  309.002724171  --> Diff:  6.86782251729 379077.2946\n",
        "58759.3059159"
       ]
      },
      {
       "output_type": "stream",
       "stream": "stdout",
       "text": [
        " 93367.8350682 226944.864703\n",
        "miniFunc time:  253.324931145  --> Diff:  5.2889129867 379072.005687\n",
        "58769.314265"
       ]
      },
      {
       "output_type": "stream",
       "stream": "stdout",
       "text": [
        " 93418.6682016 226879.750626\n",
        "miniFunc time:  259.778446913  --> Diff:  4.27259449655 379067.733093\n",
        "58778.702135"
       ]
      },
      {
       "output_type": "stream",
       "stream": "stdout",
       "text": [
        " 93454.2794939 226831.164781\n",
        "miniFunc time:  251.097245932  --> Diff:  3.58668271877 379064.14641\n",
        "58787.3024796"
       ]
      },
      {
       "output_type": "stream",
       "stream": "stdout",
       "text": [
        " 93480.0810669 226793.656721\n",
        "miniFunc time:  254.635754108  --> Diff:  3.1061429301 379061.040267\n",
        "58795.0615844"
       ]
      },
      {
       "output_type": "stream",
       "stream": "stdout",
       "text": [
        " 93499.3490259 226763.86775\n",
        "miniFunc time:  244.758531094  --> Diff:  2.76190651575 379058.278361\n",
        "58801.9782799"
       ]
      },
      {
       "output_type": "stream",
       "stream": "stdout",
       "text": [
        " 93514.1252067 226739.664591\n",
        "miniFunc time:  283.604290962  --> Diff:  2.51028265845 379055.768078\n",
        "58808.1609949"
       ]
      },
      {
       "output_type": "stream",
       "stream": "stdout",
       "text": [
        " 93525.7040606 226719.582049\n",
        "miniFunc time:  239.867660999  --> Diff:  2.32097354066 379053.447104\n",
        "58813.6638372"
       ]
      },
      {
       "output_type": "stream",
       "stream": "stdout",
       "text": [
        " 93534.9738492 226702.642126\n",
        "miniFunc time:  246.009880066  --> Diff:  2.16729186103 379051.279812\n",
        "58818.6155558"
       ]
      },
      {
       "output_type": "stream",
       "stream": "stdout",
       "text": [
        " 93542.5238693 226688.108171\n",
        "miniFunc time:  237.46310401  --> Diff:  2.03221626848 379049.247596\n",
        "58823.0671349"
       ]
      },
      {
       "output_type": "stream",
       "stream": "stdout",
       "text": [
        " 93548.7801791 226675.490455\n",
        "miniFunc time:  244.491731882  --> Diff:  1.90982720244 379047.337769\n",
        "58827.0910779"
       ]
      },
      {
       "output_type": "stream",
       "stream": "stdout",
       "text": [
        " 93554.0363607 226664.406922\n",
        "miniFunc time:  234.416419983  --> Diff:  1.80340882641 379045.53436\n",
        "58830.7506036"
       ]
      },
      {
       "output_type": "stream",
       "stream": "stdout",
       "text": [
        " 93558.5078263 226654.563159\n",
        "miniFunc time:  243.785156012  --> Diff:  1.71277096472 379043.821589\n",
        "58834.0644503"
       ]
      },
      {
       "output_type": "stream",
       "stream": "stdout",
       "text": [
        " 93562.362145 226645.757377\n",
        "miniFunc time:  232.450376034  --> Diff:  1.63761707826 379042.183972\n",
        "58837.0910973"
       ]
      },
      {
       "output_type": "stream",
       "stream": "stdout",
       "text": [
        " 93565.7103544 226637.807301\n",
        "miniFunc time:  240.071408987  --> Diff:  1.57521925092 379040.608753\n",
        "58839.8492849"
       ]
      },
      {
       "output_type": "stream",
       "stream": "stdout",
       "text": [
        " 93568.6594145 226630.576609\n",
        "miniFunc time:  232.029131889  --> Diff:  1.52344432409 379039.085309\n",
        "58842.3566012"
       ]
      },
      {
       "output_type": "stream",
       "stream": "stdout",
       "text": [
        " 93571.2629843 226623.985306\n",
        "miniFunc time:  239.83244586  --> Diff:  1.48041704844 379037.604892\n",
        "58844.6693016"
       ]
      },
      {
       "output_type": "stream",
       "stream": "stdout",
       "text": [
        " 93573.5831146 226617.907787\n",
        "miniFunc time:  230.075997114  --> Diff:  1.44468790962 379036.160204\n",
        "58846.7767494"
       ]
      },
      {
       "output_type": "stream",
       "stream": "stdout",
       "text": [
        " 93575.670862 226612.297165\n",
        "miniFunc time:  238.716980934  --> Diff:  1.41542701685 379034.744777\n",
        "58848.7063236"
       ]
      },
      {
       "output_type": "stream",
       "stream": "stdout",
       "text": [
        " 93577.54776 226607.099105\n",
        "miniFunc time:  228.957467079  --> Diff:  1.39158814296 379033.353188\n",
        "58850.4577093"
       ]
      },
      {
       "output_type": "stream",
       "stream": "stdout",
       "text": [
        " 93579.2418795 226602.281473\n",
        "miniFunc time:  237.157579899  --> Diff:  1.37212692585 379031.981062\n",
        "58852.0816869"
       ]
      },
      {
       "output_type": "stream",
       "stream": "stdout",
       "text": [
        " 93580.7737054 226597.767453\n",
        "miniFunc time:  228.475773096  --> Diff:  1.35821589688 379030.622846\n",
        "58853.5717246"
       ]
      },
      {
       "output_type": "stream",
       "stream": "stdout",
       "text": [
        " 93582.1850422 226593.517458\n",
        "miniFunc time:  234.712717056  --> Diff:  1.34862132778 379029.274224\n",
        "58854.8968008"
       ]
      },
      {
       "output_type": "stream",
       "stream": "stdout",
       "text": [
        " 93583.4853179 226589.547324\n",
        "miniFunc time:  226.786530972  --> Diff:  1.34478175204 379027.929443\n",
        "58856.0937897"
       ]
      },
      {
       "output_type": "stream",
       "stream": "stdout",
       "text": [
        " 93584.6752823 226585.812599\n",
        "miniFunc time:  234.82873106  --> Diff:  1.34777130018 379026.581671\n",
        "58857.1624304"
       ]
      },
      {
       "output_type": "stream",
       "stream": "stdout",
       "text": [
        " 93585.7706021 226582.291526\n",
        "miniFunc time:  226.23832202  --> Diff:  1.35711294954 379025.224558\n",
        "58858.0891389"
       ]
      },
      {
       "output_type": "stream",
       "stream": "stdout",
       "text": [
        " 93586.7936657 226578.968285\n",
        "miniFunc time:  234.462721109  --> Diff:  1.37346856954 379023.85109\n",
        "58858.8539774"
       ]
      },
      {
       "output_type": "stream",
       "stream": "stdout",
       "text": [
        " 93587.7538544 226575.850216\n",
        "miniFunc time:  226.163551092  --> Diff:  1.39304208226 379022.458048\n",
        "58859.4661836"
       ]
      },
      {
       "output_type": "stream",
       "stream": "stdout",
       "text": [
        " 93588.6356584 226572.942982\n",
        "miniFunc time:  232.940192938  --> Diff:  1.41322356078 379021.044824\n",
        "58859.998087"
       ]
      },
      {
       "output_type": "stream",
       "stream": "stdout",
       "text": [
        " 93589.4532778 226570.158147\n",
        "miniFunc time:  224.858077049  --> Diff:  1.43531267263 379019.609511\n",
        "58860.3721439"
       ]
      },
      {
       "output_type": "stream",
       "stream": "stdout",
       "text": [
        " 93590.2189183 226567.556344\n",
        "miniFunc time:  231.666915178  --> Diff:  1.46210562222 379018.147406\n"
       ]
      },
      {
       "ename": "KeyboardInterrupt",
       "evalue": "",
       "output_type": "pyerr",
       "traceback": [
        "\u001b[1;31m---------------------------------------------------------------------------\u001b[0m\n\u001b[1;31mKeyboardInterrupt\u001b[0m                         Traceback (most recent call last)",
        "\u001b[1;32m<ipython-input-40-ddd0a15ebafa>\u001b[0m in \u001b[0;36m<module>\u001b[1;34m()\u001b[0m\n\u001b[0;32m     78\u001b[0m         \u001b[1;31m#thetas, _, _, _ = np.linalg.lstsq(gi, y)\u001b[0m\u001b[1;33m\u001b[0m\u001b[1;33m\u001b[0m\u001b[0m\n\u001b[0;32m     79\u001b[0m         \u001b[1;31m#thetas, _, _ = scipy.optimize.fmin_l_bfgs_b(func, np.array(gammaU[u]).T, fprime, args = (np.array(gi), np.array(y).T, lambd))\u001b[0m\u001b[1;33m\u001b[0m\u001b[1;33m\u001b[0m\u001b[0m\n\u001b[1;32m---> 80\u001b[1;33m         \u001b[0mthetas\u001b[0m\u001b[1;33m,\u001b[0m \u001b[0m_\u001b[0m\u001b[1;33m,\u001b[0m \u001b[0m_\u001b[0m \u001b[1;33m=\u001b[0m \u001b[0mscipy\u001b[0m\u001b[1;33m.\u001b[0m\u001b[0moptimize\u001b[0m\u001b[1;33m.\u001b[0m\u001b[0mfmin_tnc\u001b[0m\u001b[1;33m(\u001b[0m\u001b[0mfunc\u001b[0m\u001b[1;33m,\u001b[0m \u001b[0mnp\u001b[0m\u001b[1;33m.\u001b[0m\u001b[0marray\u001b[0m\u001b[1;33m(\u001b[0m\u001b[0mgammaU\u001b[0m\u001b[1;33m[\u001b[0m\u001b[0mu\u001b[0m\u001b[1;33m]\u001b[0m\u001b[1;33m)\u001b[0m\u001b[1;33m.\u001b[0m\u001b[0mT\u001b[0m\u001b[1;33m,\u001b[0m \u001b[0mfprime\u001b[0m\u001b[1;33m,\u001b[0m \u001b[0margs\u001b[0m \u001b[1;33m=\u001b[0m \u001b[1;33m(\u001b[0m\u001b[0mnp\u001b[0m\u001b[1;33m.\u001b[0m\u001b[0marray\u001b[0m\u001b[1;33m(\u001b[0m\u001b[0mgi\u001b[0m\u001b[1;33m)\u001b[0m\u001b[1;33m,\u001b[0m \u001b[0mnp\u001b[0m\u001b[1;33m.\u001b[0m\u001b[0marray\u001b[0m\u001b[1;33m(\u001b[0m\u001b[0my\u001b[0m\u001b[1;33m)\u001b[0m\u001b[1;33m.\u001b[0m\u001b[0mT\u001b[0m\u001b[1;33m,\u001b[0m \u001b[0mlambd\u001b[0m\u001b[1;33m)\u001b[0m\u001b[1;33m)\u001b[0m\u001b[1;33m\u001b[0m\u001b[0m\n\u001b[0m\u001b[0;32m     81\u001b[0m         \u001b[0mgammaU\u001b[0m\u001b[1;33m[\u001b[0m\u001b[0mu\u001b[0m\u001b[1;33m]\u001b[0m \u001b[1;33m=\u001b[0m \u001b[0mthetas\u001b[0m\u001b[1;33m\u001b[0m\u001b[0m\n\u001b[0;32m     82\u001b[0m \u001b[1;33m\u001b[0m\u001b[0m\n",
        "\u001b[1;32m/oasis/scratch/iizhaki/temp_project/PV/python-virtualEnv3/lib/python2.7/site-packages/scipy/optimize/tnc.pyc\u001b[0m in \u001b[0;36mfmin_tnc\u001b[1;34m(func, x0, fprime, args, approx_grad, bounds, epsilon, scale, offset, messages, maxCGit, maxfun, eta, stepmx, accuracy, fmin, ftol, xtol, pgtol, rescale, disp, callback)\u001b[0m\n\u001b[0;32m    261\u001b[0m             'disp': False}\n\u001b[0;32m    262\u001b[0m \u001b[1;33m\u001b[0m\u001b[0m\n\u001b[1;32m--> 263\u001b[1;33m     \u001b[0mres\u001b[0m \u001b[1;33m=\u001b[0m \u001b[0m_minimize_tnc\u001b[0m\u001b[1;33m(\u001b[0m\u001b[0mfun\u001b[0m\u001b[1;33m,\u001b[0m \u001b[0mx0\u001b[0m\u001b[1;33m,\u001b[0m \u001b[0margs\u001b[0m\u001b[1;33m,\u001b[0m \u001b[0mjac\u001b[0m\u001b[1;33m,\u001b[0m \u001b[0mbounds\u001b[0m\u001b[1;33m,\u001b[0m \u001b[0mcallback\u001b[0m\u001b[1;33m=\u001b[0m\u001b[0mcallback\u001b[0m\u001b[1;33m,\u001b[0m \u001b[1;33m**\u001b[0m\u001b[0mopts\u001b[0m\u001b[1;33m)\u001b[0m\u001b[1;33m\u001b[0m\u001b[0m\n\u001b[0m\u001b[0;32m    264\u001b[0m \u001b[1;33m\u001b[0m\u001b[0m\n\u001b[0;32m    265\u001b[0m     \u001b[1;32mreturn\u001b[0m \u001b[0mres\u001b[0m\u001b[1;33m[\u001b[0m\u001b[1;34m'x'\u001b[0m\u001b[1;33m]\u001b[0m\u001b[1;33m,\u001b[0m \u001b[0mres\u001b[0m\u001b[1;33m[\u001b[0m\u001b[1;34m'nfev'\u001b[0m\u001b[1;33m]\u001b[0m\u001b[1;33m,\u001b[0m \u001b[0mres\u001b[0m\u001b[1;33m[\u001b[0m\u001b[1;34m'status'\u001b[0m\u001b[1;33m]\u001b[0m\u001b[1;33m\u001b[0m\u001b[0m\n",
        "\u001b[1;32m/oasis/scratch/iizhaki/temp_project/PV/python-virtualEnv3/lib/python2.7/site-packages/scipy/optimize/tnc.pyc\u001b[0m in \u001b[0;36m_minimize_tnc\u001b[1;34m(fun, x0, args, jac, bounds, eps, scale, offset, mesg_num, maxCGit, maxiter, eta, stepmx, accuracy, minfev, ftol, xtol, gtol, rescale, disp, callback, **unknown_options)\u001b[0m\n\u001b[0;32m    396\u001b[0m                                         \u001b[0moffset\u001b[0m\u001b[1;33m,\u001b[0m \u001b[0mmessages\u001b[0m\u001b[1;33m,\u001b[0m \u001b[0mmaxCGit\u001b[0m\u001b[1;33m,\u001b[0m \u001b[0mmaxfun\u001b[0m\u001b[1;33m,\u001b[0m\u001b[1;33m\u001b[0m\u001b[0m\n\u001b[0;32m    397\u001b[0m                                         \u001b[0meta\u001b[0m\u001b[1;33m,\u001b[0m \u001b[0mstepmx\u001b[0m\u001b[1;33m,\u001b[0m \u001b[0maccuracy\u001b[0m\u001b[1;33m,\u001b[0m \u001b[0mfmin\u001b[0m\u001b[1;33m,\u001b[0m \u001b[0mftol\u001b[0m\u001b[1;33m,\u001b[0m\u001b[1;33m\u001b[0m\u001b[0m\n\u001b[1;32m--> 398\u001b[1;33m                                         xtol, pgtol, rescale, callback)\n\u001b[0m\u001b[0;32m    399\u001b[0m \u001b[1;33m\u001b[0m\u001b[0m\n\u001b[0;32m    400\u001b[0m     \u001b[0mfunv\u001b[0m\u001b[1;33m,\u001b[0m \u001b[0mjacv\u001b[0m \u001b[1;33m=\u001b[0m \u001b[0mfunc_and_grad\u001b[0m\u001b[1;33m(\u001b[0m\u001b[0mx\u001b[0m\u001b[1;33m)\u001b[0m\u001b[1;33m\u001b[0m\u001b[0m\n",
        "\u001b[1;32m/oasis/scratch/iizhaki/temp_project/PV/python-virtualEnv3/lib/python2.7/site-packages/scipy/optimize/tnc.pyc\u001b[0m in \u001b[0;36mfunc_and_grad\u001b[1;34m(x)\u001b[0m\n\u001b[0;32m    358\u001b[0m     \u001b[1;32melse\u001b[0m\u001b[1;33m:\u001b[0m\u001b[1;33m\u001b[0m\u001b[0m\n\u001b[0;32m    359\u001b[0m         \u001b[1;32mdef\u001b[0m \u001b[0mfunc_and_grad\u001b[0m\u001b[1;33m(\u001b[0m\u001b[0mx\u001b[0m\u001b[1;33m)\u001b[0m\u001b[1;33m:\u001b[0m\u001b[1;33m\u001b[0m\u001b[0m\n\u001b[1;32m--> 360\u001b[1;33m             \u001b[0mf\u001b[0m \u001b[1;33m=\u001b[0m \u001b[0mfun\u001b[0m\u001b[1;33m(\u001b[0m\u001b[0mx\u001b[0m\u001b[1;33m,\u001b[0m \u001b[1;33m*\u001b[0m\u001b[0margs\u001b[0m\u001b[1;33m)\u001b[0m\u001b[1;33m\u001b[0m\u001b[0m\n\u001b[0m\u001b[0;32m    361\u001b[0m             \u001b[0mg\u001b[0m \u001b[1;33m=\u001b[0m \u001b[0mjac\u001b[0m\u001b[1;33m(\u001b[0m\u001b[0mx\u001b[0m\u001b[1;33m,\u001b[0m \u001b[1;33m*\u001b[0m\u001b[0margs\u001b[0m\u001b[1;33m)\u001b[0m\u001b[1;33m\u001b[0m\u001b[0m\n\u001b[0;32m    362\u001b[0m             \u001b[1;32mreturn\u001b[0m \u001b[0mf\u001b[0m\u001b[1;33m,\u001b[0m \u001b[0mg\u001b[0m\u001b[1;33m\u001b[0m\u001b[0m\n",
        "\u001b[1;32m<ipython-input-6-d3046b08a4dd>\u001b[0m in \u001b[0;36mfunc\u001b[1;34m(theta, X, y, lam)\u001b[0m\n\u001b[0;32m      2\u001b[0m \u001b[1;32mdef\u001b[0m \u001b[0mfunc\u001b[0m\u001b[1;33m(\u001b[0m\u001b[0mtheta\u001b[0m\u001b[1;33m,\u001b[0m \u001b[0mX\u001b[0m\u001b[1;33m,\u001b[0m \u001b[0my\u001b[0m\u001b[1;33m,\u001b[0m \u001b[0mlam\u001b[0m\u001b[1;33m)\u001b[0m\u001b[1;33m:\u001b[0m\u001b[1;33m\u001b[0m\u001b[0m\n\u001b[0;32m      3\u001b[0m     \u001b[0mdiff\u001b[0m \u001b[1;33m=\u001b[0m \u001b[0mnumpy\u001b[0m\u001b[1;33m.\u001b[0m\u001b[0mdot\u001b[0m\u001b[1;33m(\u001b[0m\u001b[0mX\u001b[0m\u001b[1;33m,\u001b[0m\u001b[0mtheta\u001b[0m\u001b[1;33m)\u001b[0m \u001b[1;33m-\u001b[0m \u001b[0my\u001b[0m\u001b[1;33m\u001b[0m\u001b[0m\n\u001b[1;32m----> 4\u001b[1;33m     \u001b[0mdiffSq\u001b[0m \u001b[1;33m=\u001b[0m \u001b[0mnumpy\u001b[0m\u001b[1;33m.\u001b[0m\u001b[0mdot\u001b[0m\u001b[1;33m(\u001b[0m\u001b[0mdiff\u001b[0m\u001b[1;33m,\u001b[0m\u001b[0mdiff\u001b[0m\u001b[1;33m)\u001b[0m\u001b[1;33m\u001b[0m\u001b[0m\n\u001b[0m\u001b[0;32m      5\u001b[0m     \u001b[0mdiffSqReg\u001b[0m \u001b[1;33m=\u001b[0m \u001b[0mdiffSq\u001b[0m  \u001b[1;33m+\u001b[0m \u001b[0mlam\u001b[0m \u001b[1;33m*\u001b[0m \u001b[0mnumpy\u001b[0m\u001b[1;33m.\u001b[0m\u001b[0mdot\u001b[0m\u001b[1;33m(\u001b[0m\u001b[0mtheta\u001b[0m\u001b[1;33m,\u001b[0m\u001b[0mtheta\u001b[0m\u001b[1;33m)\u001b[0m\u001b[1;33m\u001b[0m\u001b[0m\n\u001b[0;32m      6\u001b[0m     \u001b[1;31m#print \"offset =\", diffSqReg\u001b[0m\u001b[1;33m\u001b[0m\u001b[1;33m\u001b[0m\u001b[0m\n",
        "\u001b[1;31mKeyboardInterrupt\u001b[0m: "
       ]
      }
     ],
     "prompt_number": 40
    },
    {
     "cell_type": "code",
     "collapsed": false,
     "input": [
      "pickle.dump(alpha, open(\"/home/iizhaki/oasis/CSE255/Project2/assignment2/idan_predictions_Rating_a_LBFGS.pck\", \"wb\"))\n",
      "pickle.dump(betaU, open(\"/home/iizhaki/oasis/CSE255/Project2/assignment2/idan_predictions_Rating_bu_LBFGS.pck\", \"wb\"))\n",
      "pickle.dump(betaI, open(\"/home/iizhaki/oasis/CSE255/Project2/assignment2/idan_predictions_Rating_bi_LBFGS.pck\", \"wb\"))\n",
      "pickle.dump(gammaU, open(\"/home/iizhaki/oasis/CSE255/Project2/assignment2/idan_predictions_Rating_gu_LBFGS.pck\", \"wb\"))\n",
      "pickle.dump(gammaI, open(\"/home/iizhaki/oasis/CSE255/Project2/assignment2/idan_predictions_Rating_gi_LBFGS.pck\", \"wb\"))\n",
      "pickle.dump(oldVal, open(\"/home/iizhaki/oasis/CSE255/Project2/assignment2/idan_predictions_Rating_val_LBFGS.pck\", \"wb\"))"
     ],
     "language": "python",
     "metadata": {},
     "outputs": [],
     "prompt_number": 32
    },
    {
     "cell_type": "code",
     "collapsed": false,
     "input": [
      "print \"Done\""
     ],
     "language": "python",
     "metadata": {},
     "outputs": [
      {
       "output_type": "stream",
       "stream": "stdout",
       "text": [
        "Done\n"
       ]
      }
     ],
     "prompt_number": 33
    },
    {
     "cell_type": "code",
     "collapsed": false,
     "input": [
      "print (oldVal - newVal), newVal"
     ],
     "language": "python",
     "metadata": {},
     "outputs": [
      {
       "output_type": "stream",
       "stream": "stdout",
       "text": [
        "0.0 450797.985242\n"
       ]
      }
     ],
     "prompt_number": 34
    },
    {
     "cell_type": "code",
     "collapsed": false,
     "input": [
      "testRest = np.array(list(parseTxt(\"/home/iizhaki/oasis/CSE255/Project2/assignment2/pairs_Rating.txt\")))\n",
      "myPredictions = open(\"/home/iizhaki/oasis/CSE255/Project2/assignment2/idan_predictions_Rating_\" + str(lambd) + \"_\" + str(alpha) + \"_\" + str(oldVal) + \"_LBFGS.txt\", 'w')\n",
      "myPredictions.write(str(testRest[0][0]) + '\\n')\n",
      "\n",
      "mse = 0\n",
      "for currLine in testRest[1:]:\n",
      "    u, i = currLine[0].split(\"-\")\n",
      "    if u in allUs:\n",
      "        bu = betaU[allUs[u]]\n",
      "        gu = gammaU[allUs[u]]\n",
      "    else:\n",
      "        bu = 0\n",
      "        gu = [0, 0, 0]\n",
      "    if i in allIs:\n",
      "        bi = betaI[allIs[i]]\n",
      "        gi = gammaI[allIs[i]]\n",
      "    else:\n",
      "        bi = 0\n",
      "        gi = [0, 0, 0]\n",
      "    p = alpha + bu + bi + np.dot(gu, gi)\n",
      "    if p > 5.0:\n",
      "        p = 5.0\n",
      "    if p < 1.0:\n",
      "        p = 1.0\n",
      "    myPredictions.write(u + '-' + i + ',' + str(p) + '\\n')\n",
      "\n",
      "myPredictions.flush()\n",
      "myPredictions.close()"
     ],
     "language": "python",
     "metadata": {},
     "outputs": [],
     "prompt_number": 41
    },
    {
     "cell_type": "code",
     "collapsed": false,
     "input": [],
     "language": "python",
     "metadata": {},
     "outputs": []
    },
    {
     "cell_type": "code",
     "collapsed": false,
     "input": [],
     "language": "python",
     "metadata": {},
     "outputs": []
    },
    {
     "cell_type": "code",
     "collapsed": false,
     "input": [],
     "language": "python",
     "metadata": {},
     "outputs": [
      {
       "output_type": "stream",
       "stream": "stdout",
       "text": [
        "[[ 1  1  1]\n",
        " [ 4  4  4]\n",
        " [ 9  9  9]\n",
        " [16 16 16]]\n"
       ]
      }
     ],
     "prompt_number": 18
    },
    {
     "cell_type": "code",
     "collapsed": false,
     "input": [],
     "language": "python",
     "metadata": {},
     "outputs": []
    }
   ],
   "metadata": {}
  }
 ]
}