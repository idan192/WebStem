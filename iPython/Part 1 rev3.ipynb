{
 "metadata": {
  "name": "",
  "signature": "sha256:c65cbacc4a76425128995d53b949ac0c52359425e2ca686e8d8693ddf11f6933"
 },
 "nbformat": 3,
 "nbformat_minor": 0,
 "worksheets": [
  {
   "cells": [
    {
     "cell_type": "code",
     "collapsed": false,
     "input": [
      "from sklearn.linear_model import SGDRegressor\n",
      "from _collections import defaultdict\n",
      "import time\n",
      "import timeit\n",
      "\n",
      "from numpy.linalg import norm\n",
      "import scipy.optimize\n",
      "import random\n",
      "from sets import Set\n",
      "\n",
      "import numpy as np\n",
      "import pickle"
     ],
     "language": "python",
     "metadata": {},
     "outputs": [],
     "prompt_number": 1
    },
    {
     "cell_type": "code",
     "collapsed": false,
     "input": [
      "def parseData(fname):\n",
      "  for l in open(fname):\n",
      "    yield eval(l)\n",
      "    \n",
      "def parseTxt(fname):\n",
      "  for l in open(fname):\n",
      "    yield l.strip().split(\" \")\n",
      "\n",
      "print \"Reading train...\"\n",
      "train = list(parseData(\"/home/iizhaki/oasis/CSE255/Project2/assignment2/train.json\"))"
     ],
     "language": "python",
     "metadata": {},
     "outputs": [
      {
       "output_type": "stream",
       "stream": "stdout",
       "text": [
        "Reading train...\n"
       ]
      }
     ],
     "prompt_number": 2
    },
    {
     "cell_type": "code",
     "collapsed": false,
     "input": [],
     "language": "python",
     "metadata": {},
     "outputs": [],
     "prompt_number": 2
    },
    {
     "cell_type": "code",
     "collapsed": false,
     "input": [],
     "language": "python",
     "metadata": {},
     "outputs": [],
     "prompt_number": 2
    },
    {
     "cell_type": "code",
     "collapsed": false,
     "input": [
      "print \"done\"\n",
      "\n",
      "allXs = []\n",
      "allYs = []\n",
      "for l in train:\n",
      "  user, item, rating = l['reviewerID'], l['itemID'], l['rating']\n",
      "  allXs.append([user, item])\n",
      "  allYs.append(float(rating))"
     ],
     "language": "python",
     "metadata": {},
     "outputs": [
      {
       "output_type": "stream",
       "stream": "stdout",
       "text": [
        "done\n"
       ]
      }
     ],
     "prompt_number": 3
    },
    {
     "cell_type": "code",
     "collapsed": false,
     "input": [],
     "language": "python",
     "metadata": {},
     "outputs": [],
     "prompt_number": 3
    },
    {
     "cell_type": "code",
     "collapsed": false,
     "input": [],
     "language": "python",
     "metadata": {},
     "outputs": [],
     "prompt_number": 3
    },
    {
     "cell_type": "code",
     "collapsed": false,
     "input": [
      "lambd = 1.0\n",
      "alpha = 0\n",
      "X = allXs\n",
      "y = allYs\n",
      "Ntrain = len(y)\n",
      "data = zip(X, y)\n",
      "\n",
      "numU = 0\n",
      "numI = 0\n",
      "allUs = {}\n",
      "allUrs = {}\n",
      "allIs = {}\n",
      "allIrs = {}\n",
      "fastData = []\n",
      "for [u, i], Rui in data:\n",
      "    if u not in allUs:\n",
      "        allUs[u] = numU\n",
      "        allUrs[numU] = u\n",
      "        numU += 1\n",
      "    if i not in allIs:\n",
      "        allIs[i] = numI\n",
      "        allIrs[numI] = i\n",
      "        numI += 1\n",
      "    fastData.append((allUs[u], allIs[i], Rui))\n",
      "\n",
      "\n",
      "Iu = np.zeros(numU)\n",
      "Ii = np.zeros(numI)\n",
      "uToRI = [[]] * numU\n",
      "iToRU = [[]] * numI\n",
      "for (u, i, Rui) in fastData:\n",
      "    Iu[u] += 1\n",
      "    Ii[i] += 1\n",
      "    if uToRI[u] == []:\n",
      "        uToRI[u] = [(i, Rui)]\n",
      "    else:\n",
      "        uToRI[u].append((i, Rui))\n",
      "    if iToRU[i] == []:\n",
      "        iToRU[i] = [(u, Rui)]\n",
      "    else:\n",
      "        iToRU[i].append((u, Rui))"
     ],
     "language": "python",
     "metadata": {},
     "outputs": [],
     "prompt_number": 4
    },
    {
     "cell_type": "code",
     "collapsed": false,
     "input": [
      "print \"Done\""
     ],
     "language": "python",
     "metadata": {},
     "outputs": [
      {
       "output_type": "stream",
       "stream": "stdout",
       "text": [
        "Done\n"
       ]
      }
     ],
     "prompt_number": 5
    },
    {
     "cell_type": "code",
     "collapsed": false,
     "input": [
      "# Objective\n",
      "def func(theta, X, y, lam):\n",
      "    diff = numpy.dot(X,theta) - y\n",
      "    diffSq = numpy.dot(diff,diff) \n",
      "    diffSqReg = diffSq  + lam * numpy.dot(theta,theta)\n",
      "    #print \"offset =\", diffSqReg\n",
      "    return diffSqReg\n",
      "\n",
      "# Derivative\n",
      "def fprime(theta, X, y, lam):\n",
      "    diff = numpy.dot(X,theta) - y\n",
      "    res = 2 * numpy.dot(X.T,diff)    + 2 * lam * theta\n",
      "    #print \"gradient =\", res\n",
      "    return res"
     ],
     "language": "python",
     "metadata": {},
     "outputs": [],
     "prompt_number": 6
    },
    {
     "cell_type": "code",
     "collapsed": false,
     "input": [
      "def miniFunc(Data, Alpha, BetaU, BetaI, GammaU, GammaI, Lambd):\n",
      "    part1 = 0\n",
      "    for (u, i, Rui) in Data:\n",
      "        part1 += ((Alpha + BetaU[u] + BetaI[i] + np.dot(GammaU[u], GammaI[i]) - Rui) ** 2)\n",
      "    \n",
      "    part2 = sum(BetaU * BetaU) + sum(BetaI * BetaI)\n",
      "    part3 = sum(GammaU * GammaU) + sum(GammaI * GammaI)\n",
      "    \n",
      "    print part1, part2, part3\n",
      "    return part1 + Lambd * (part2 + part3)\n",
      "\n",
      "oldVal = 0\n",
      "betaU = np.zeros(numU)\n",
      "betaI = np.zeros(numI)\n",
      "gammaU = [[]] * numU\n",
      "gammaI = [[]] * numI\n",
      "for u in range(numU):\n",
      "    gammaU[u] = [0, 0, 0]\n",
      "for i in range(numI):\n",
      "    gammaI[i] = [5.0, 5.0, 5.0]\n",
      "\n",
      "it = 0\n",
      "while True:\n",
      "    lastAlpha = alpha\n",
      "    lastBetaU = list(betaU)\n",
      "    lastBetaI = list(betaI)\n",
      "    lastGammaU = list(gammaU)\n",
      "    lastGammaI = list(gammaI)\n",
      "    \n",
      "    #----------------------\n",
      "    start = time.time()\n",
      "    #----------------------\n",
      "    \n",
      "    # Alpha stage\n",
      "    alpha = 0\n",
      "    for (u, i, Rui) in fastData:\n",
      "        gu = gammaU[u]\n",
      "        gi = gammaI[i]\n",
      "        alpha += Rui - (betaU[u] + betaI[i] + np.dot(gu, gi))\n",
      "    alpha = alpha / Ntrain\n",
      "    \n",
      "    #----------------------\n",
      "    #end = time.time()\n",
      "    #finished = end - start\n",
      "    #print \"Alpha time: \", finished\n",
      "    #----------------------\n",
      "    \n",
      "    #----------------------\n",
      "    #start = time.time()\n",
      "    #----------------------\n",
      "\n",
      "    # BetaU stage \n",
      "    betaU.fill(0)\n",
      "    for (u, i, Rui) in fastData:\n",
      "        gu = gammaU[u]\n",
      "        gi = gammaI[i]\n",
      "        betaU[u] += (Rui - (alpha + betaI[i] + np.dot(gu, gi)))\n",
      "    betaU = betaU / (lambd + Iu)\n",
      "        \n",
      "    #----------------------\n",
      "    #end = time.time()\n",
      "    #finished = end - start\n",
      "    #print \"BetaU time: \", finished\n",
      "    #----------------------\n",
      "        \n",
      "    #----------------------\n",
      "    #start = time.time()\n",
      "    #----------------------\n",
      "        \n",
      "    # BetaI stage \n",
      "    betaI.fill(0)\n",
      "    for (u, i, Rui) in fastData:\n",
      "        gu = gammaU[u]\n",
      "        gi = gammaI[i]\n",
      "        betaI[i] += (Rui - (alpha + betaU[u] + np.dot(gu, gi)))\n",
      "    betaI = betaI / (lambd + Ii)\n",
      "        \n",
      "    #----------------------\n",
      "    #end = time.time()\n",
      "    #finished = end - start\n",
      "    #print \"BetaI time: \", finished\n",
      "    #----------------------\n",
      "    \n",
      "    #----------------------\n",
      "    #start = time.time()\n",
      "    #----------------------\n",
      "\n",
      "    # GammaU stage \n",
      "    for u in range(numU):\n",
      "        gi = []\n",
      "        y = []\n",
      "        for (i, Rui) in uToRI[u]:\n",
      "            gi.append(gammaI[i])\n",
      "            y.append(Rui - (alpha + betaU[u] + betaI[i]))\n",
      "                    \n",
      "        #clf = SGDRegressor(n_iter = 100, alpha = 1)\n",
      "        #clf.fit(gi, y)\n",
      "        #thetas = clf.coef_\n",
      "\n",
      "        #thetas, _, _, _ = np.linalg.lstsq(gi, y)\n",
      "        #thetas, _, _ = scipy.optimize.fmin_l_bfgs_b(func, np.array(gammaU[u]).T, fprime, args = (np.array(gi), np.array(y).T, lambd))\n",
      "        thetas = scipy.optimize.differential_evolution(func, (1., 5.), args = (np.array(gi), np.array(y).T, lambd))\n",
      "        \n",
      "        gammaU[u] = thetas\n",
      "            \n",
      "    #----------------------\n",
      "    #end = time.time()\n",
      "    #finished = end - start\n",
      "    #print \"GammaU time: \", finished\n",
      "    #----------------------\n",
      "        \n",
      "    #----------------------\n",
      "    #start = time.time()\n",
      "    #----------------------\n",
      "        \n",
      "    # GammaI stage \n",
      "    for i in range(numI):\n",
      "        gu = []\n",
      "        y = []\n",
      "        for (u, Rui) in iToRU[i]:\n",
      "            gu.append(gammaU[u])\n",
      "            y.append(Rui - (alpha + betaU[u] + betaI[i]))\n",
      "            \n",
      "        #clf = SGDRegressor(n_iter = 100, alpha = 1)\n",
      "        #clf.fit(gu, y)\n",
      "        #thetas = clf.coef_\n",
      "            \n",
      "        #thetas, _, _, _ = np.linalg.lstsq(gu, y)\n",
      "        #thetas, _, _ = scipy.optimize.fmin_l_bfgs_b(func, np.array(gammaI[i]).T, fprime, args = (np.array(gu), np.array(y).T, lambd))\n",
      "        thetas = scipy.optimize.differential_evolution(func, (1., 5.), args = (np.array(gu), np.array(y).T, lambd))\n",
      "        gammaI[i] = thetas\n",
      "    \n",
      "    #----------------------\n",
      "    #end = time.time()\n",
      "    #finished = end - start\n",
      "    #print \"GammaI time: \", finished\n",
      "    #----------------------\n",
      "    \n",
      "    #----------------------\n",
      "    #start = time.time()\n",
      "    #----------------------\n",
      "    newVal = miniFunc(fastData, alpha, betaU, betaI, np.array(gammaU), np.array(gammaI), lambd)\n",
      "    #----------------------\n",
      "    end = time.time()\n",
      "    finished = end - start\n",
      "    print \"miniFunc time: \", finished,  \" --> Diff: \", (oldVal - newVal), newVal\n",
      "    #----------------------\n",
      "\n",
      "    if oldVal > 0 and oldVal < newVal:\n",
      "        alpha = lastAlpha\n",
      "        betaU = lastBetaU\n",
      "        betaI = lastBetaI\n",
      "        gammaU = lastGammaU\n",
      "        gammaI = lastGammaI\n",
      "        break\n",
      "        \n",
      "    it += 1\n",
      "    if False:\n",
      "        it = 0\n",
      "        pickle.dump(alpha, open(\"/home/iizhaki/oasis/CSE255/Project2/assignment2/idan_predictions_Rating_a_TFC.pck\", \"wb\"))\n",
      "        pickle.dump(betaU, open(\"/home/iizhaki/oasis/CSE255/Project2/assignment2/idan_predictions_Rating_bu_TFC.pck\", \"wb\"))\n",
      "        pickle.dump(betaI, open(\"/home/iizhaki/oasis/CSE255/Project2/assignment2/idan_predictions_Rating_bi_TFC.pck\", \"wb\"))\n",
      "        pickle.dump(gammaU, open(\"/home/iizhaki/oasis/CSE255/Project2/assignment2/idan_predictions_Rating_gu_TFC.pck\", \"wb\"))\n",
      "        pickle.dump(gammaI, open(\"/home/iizhaki/oasis/CSE255/Project2/assignment2/idan_predictions_Rating_gi_TFC.pck\", \"wb\"))\n",
      "        pickle.dump(oldVal, open(\"/home/iizhaki/oasis/CSE255/Project2/assignment2/idan_predictions_Rating_val_TFC.pck\", \"wb\"))\n",
      "    oldVal = newVal\n",
      "    \n",
      "print alpha"
     ],
     "language": "python",
     "metadata": {},
     "outputs": [
      {
       "ename": "IndexError",
       "evalue": "tuple index out of range",
       "output_type": "pyerr",
       "traceback": [
        "\u001b[1;31m---------------------------------------------------------------------------\u001b[0m\n\u001b[1;31mIndexError\u001b[0m                                Traceback (most recent call last)",
        "\u001b[1;32m<ipython-input-9-607c3a70e713>\u001b[0m in \u001b[0;36m<module>\u001b[1;34m()\u001b[0m\n\u001b[0;32m    100\u001b[0m         \u001b[1;31m#thetas, _, _, _ = np.linalg.lstsq(gi, y)\u001b[0m\u001b[1;33m\u001b[0m\u001b[1;33m\u001b[0m\u001b[0m\n\u001b[0;32m    101\u001b[0m         \u001b[1;31m#thetas, _, _ = scipy.optimize.fmin_l_bfgs_b(func, np.array(gammaU[u]).T, fprime, args = (np.array(gi), np.array(y).T, lambd))\u001b[0m\u001b[1;33m\u001b[0m\u001b[1;33m\u001b[0m\u001b[0m\n\u001b[1;32m--> 102\u001b[1;33m         \u001b[0mthetas\u001b[0m \u001b[1;33m=\u001b[0m \u001b[0mscipy\u001b[0m\u001b[1;33m.\u001b[0m\u001b[0moptimize\u001b[0m\u001b[1;33m.\u001b[0m\u001b[0mdifferential_evolution\u001b[0m\u001b[1;33m(\u001b[0m\u001b[0mfunc\u001b[0m\u001b[1;33m,\u001b[0m \u001b[1;33m(\u001b[0m\u001b[1;36m1.\u001b[0m\u001b[1;33m,\u001b[0m \u001b[1;36m5.\u001b[0m\u001b[1;33m)\u001b[0m\u001b[1;33m,\u001b[0m \u001b[0margs\u001b[0m \u001b[1;33m=\u001b[0m \u001b[1;33m(\u001b[0m\u001b[0mnp\u001b[0m\u001b[1;33m.\u001b[0m\u001b[0marray\u001b[0m\u001b[1;33m(\u001b[0m\u001b[0mgi\u001b[0m\u001b[1;33m)\u001b[0m\u001b[1;33m,\u001b[0m \u001b[0mnp\u001b[0m\u001b[1;33m.\u001b[0m\u001b[0marray\u001b[0m\u001b[1;33m(\u001b[0m\u001b[0my\u001b[0m\u001b[1;33m)\u001b[0m\u001b[1;33m.\u001b[0m\u001b[0mT\u001b[0m\u001b[1;33m,\u001b[0m \u001b[0mlambd\u001b[0m\u001b[1;33m)\u001b[0m\u001b[1;33m)\u001b[0m\u001b[1;33m\u001b[0m\u001b[0m\n\u001b[0m\u001b[0;32m    103\u001b[0m \u001b[1;33m\u001b[0m\u001b[0m\n\u001b[0;32m    104\u001b[0m         \u001b[0mgammaU\u001b[0m\u001b[1;33m[\u001b[0m\u001b[0mu\u001b[0m\u001b[1;33m]\u001b[0m \u001b[1;33m=\u001b[0m \u001b[0mthetas\u001b[0m\u001b[1;33m\u001b[0m\u001b[0m\n",
        "\u001b[1;32m/oasis/scratch/iizhaki/temp_project/PV/python-virtualEnv3/lib/python2.7/site-packages/scipy/optimize/_differentialevolution.pyc\u001b[0m in \u001b[0;36mdifferential_evolution\u001b[1;34m(func, bounds, args, strategy, maxiter, popsize, tol, mutation, recombination, seed, callback, disp, polish, init)\u001b[0m\n\u001b[0;32m    199\u001b[0m                                          \u001b[0mcallback\u001b[0m\u001b[1;33m=\u001b[0m\u001b[0mcallback\u001b[0m\u001b[1;33m,\u001b[0m\u001b[1;33m\u001b[0m\u001b[0m\n\u001b[0;32m    200\u001b[0m                                          \u001b[0mdisp\u001b[0m\u001b[1;33m=\u001b[0m\u001b[0mdisp\u001b[0m\u001b[1;33m,\u001b[0m\u001b[1;33m\u001b[0m\u001b[0m\n\u001b[1;32m--> 201\u001b[1;33m                                          init=init)\n\u001b[0m\u001b[0;32m    202\u001b[0m     \u001b[1;32mreturn\u001b[0m \u001b[0msolver\u001b[0m\u001b[1;33m.\u001b[0m\u001b[0msolve\u001b[0m\u001b[1;33m(\u001b[0m\u001b[1;33m)\u001b[0m\u001b[1;33m\u001b[0m\u001b[0m\n\u001b[0;32m    203\u001b[0m \u001b[1;33m\u001b[0m\u001b[0m\n",
        "\u001b[1;32m/oasis/scratch/iizhaki/temp_project/PV/python-virtualEnv3/lib/python2.7/site-packages/scipy/optimize/_differentialevolution.pyc\u001b[0m in \u001b[0;36m__init__\u001b[1;34m(self, func, bounds, args, strategy, maxiter, popsize, tol, mutation, recombination, seed, maxfun, callback, disp, polish, init)\u001b[0m\n\u001b[0;32m    356\u001b[0m         \u001b[0mself\u001b[0m\u001b[1;33m.\u001b[0m\u001b[0mmaxiter\u001b[0m \u001b[1;33m=\u001b[0m \u001b[0mmaxiter\u001b[0m \u001b[1;32mor\u001b[0m \u001b[1;36m1000\u001b[0m\u001b[1;33m\u001b[0m\u001b[0m\n\u001b[0;32m    357\u001b[0m         self.maxfun = (maxfun or ((self.maxiter + 1) * popsize *\n\u001b[1;32m--> 358\u001b[1;33m                                   np.size(self.limits, 1)))\n\u001b[0m\u001b[0;32m    359\u001b[0m \u001b[1;33m\u001b[0m\u001b[0m\n\u001b[0;32m    360\u001b[0m         \u001b[1;31m# population is scaled to between [0, 1].\u001b[0m\u001b[1;33m\u001b[0m\u001b[1;33m\u001b[0m\u001b[0m\n",
        "\u001b[1;32m/oasis/scratch/iizhaki/temp_project/PV/python-virtualEnv3/lib/python2.7/site-packages/numpy/core/fromnumeric.pyc\u001b[0m in \u001b[0;36msize\u001b[1;34m(a, axis)\u001b[0m\n\u001b[0;32m   2534\u001b[0m     \u001b[1;32melse\u001b[0m\u001b[1;33m:\u001b[0m\u001b[1;33m\u001b[0m\u001b[0m\n\u001b[0;32m   2535\u001b[0m         \u001b[1;32mtry\u001b[0m\u001b[1;33m:\u001b[0m\u001b[1;33m\u001b[0m\u001b[0m\n\u001b[1;32m-> 2536\u001b[1;33m             \u001b[1;32mreturn\u001b[0m \u001b[0ma\u001b[0m\u001b[1;33m.\u001b[0m\u001b[0mshape\u001b[0m\u001b[1;33m[\u001b[0m\u001b[0maxis\u001b[0m\u001b[1;33m]\u001b[0m\u001b[1;33m\u001b[0m\u001b[0m\n\u001b[0m\u001b[0;32m   2537\u001b[0m         \u001b[1;32mexcept\u001b[0m \u001b[0mAttributeError\u001b[0m\u001b[1;33m:\u001b[0m\u001b[1;33m\u001b[0m\u001b[0m\n\u001b[0;32m   2538\u001b[0m             \u001b[1;32mreturn\u001b[0m \u001b[0masarray\u001b[0m\u001b[1;33m(\u001b[0m\u001b[0ma\u001b[0m\u001b[1;33m)\u001b[0m\u001b[1;33m.\u001b[0m\u001b[0mshape\u001b[0m\u001b[1;33m[\u001b[0m\u001b[0maxis\u001b[0m\u001b[1;33m]\u001b[0m\u001b[1;33m\u001b[0m\u001b[0m\n",
        "\u001b[1;31mIndexError\u001b[0m: tuple index out of range"
       ]
      }
     ],
     "prompt_number": 9
    },
    {
     "cell_type": "code",
     "collapsed": false,
     "input": [
      "print \"Done\""
     ],
     "language": "python",
     "metadata": {},
     "outputs": [
      {
       "output_type": "stream",
       "stream": "stdout",
       "text": [
        "Done\n"
       ]
      }
     ],
     "prompt_number": 15
    },
    {
     "cell_type": "code",
     "collapsed": false,
     "input": [
      "print (oldVal - newVal), newVal"
     ],
     "language": "python",
     "metadata": {},
     "outputs": [
      {
       "output_type": "stream",
       "stream": "stdout",
       "text": [
        "0.0 455746.797566\n"
       ]
      }
     ],
     "prompt_number": 16
    },
    {
     "cell_type": "code",
     "collapsed": false,
     "input": [
      "testRest = np.array(list(parseTxt(\"/home/iizhaki/oasis/CSE255/Project2/assignment2/pairs_Rating.txt\")))\n",
      "myPredictions = open(\"/home/iizhaki/oasis/CSE255/Project2/assignment2/idan_predictions_Rating_\" + str(lambd) + \"_\" + str(alpha) + \"_\" + str(oldVal) + \"_TFC.txt\", 'w')\n",
      "myPredictions.write(str(testRest[0][0]) + '\\n')\n",
      "\n",
      "mse = 0\n",
      "for currLine in testRest[1:]:\n",
      "    u, i = currLine[0].split(\"-\")\n",
      "    if u in allUs:\n",
      "        bu = betaU[allUs[u]]\n",
      "        gu = gammaU[allUs[u]]\n",
      "    else:\n",
      "        bu = 0\n",
      "        gu = [0, 0, 0]\n",
      "    if i in allIs:\n",
      "        bi = betaI[allIs[i]]\n",
      "        gi = gammaI[allIs[i]]\n",
      "    else:\n",
      "        bi = 0\n",
      "        gi = [0, 0, 0]\n",
      "    p = alpha + bu + bi + np.dot(gu, gi)\n",
      "    if p > 5.0:\n",
      "        p = 5.0\n",
      "    if p < 1.0:\n",
      "        p = 1.0\n",
      "    myPredictions.write(u + '-' + i + ',' + str(p) + '\\n')\n",
      "\n",
      "myPredictions.flush()\n",
      "myPredictions.close()"
     ],
     "language": "python",
     "metadata": {},
     "outputs": [],
     "prompt_number": 25
    },
    {
     "cell_type": "code",
     "collapsed": false,
     "input": [],
     "language": "python",
     "metadata": {},
     "outputs": []
    },
    {
     "cell_type": "code",
     "collapsed": false,
     "input": [],
     "language": "python",
     "metadata": {},
     "outputs": []
    },
    {
     "cell_type": "code",
     "collapsed": false,
     "input": [],
     "language": "python",
     "metadata": {},
     "outputs": [
      {
       "output_type": "stream",
       "stream": "stdout",
       "text": [
        "[[ 1  1  1]\n",
        " [ 4  4  4]\n",
        " [ 9  9  9]\n",
        " [16 16 16]]\n"
       ]
      }
     ],
     "prompt_number": 18
    },
    {
     "cell_type": "code",
     "collapsed": false,
     "input": [],
     "language": "python",
     "metadata": {},
     "outputs": []
    }
   ],
   "metadata": {}
  }
 ]
}