{
 "metadata": {
  "name": "",
  "signature": "sha256:5fb27854524972a7b853bc5198e5d3aad3084828748fac91e0a2716a04d17241"
 },
 "nbformat": 3,
 "nbformat_minor": 0,
 "worksheets": [
  {
   "cells": [
    {
     "cell_type": "code",
     "collapsed": false,
     "input": [
      "from _collections import defaultdict\n",
      "import time\n",
      "import timeit\n",
      "\n",
      "from numpy.linalg import norm\n",
      "import scipy.optimize\n",
      "import random\n",
      "\n",
      "import numpy as np\n",
      "\n",
      "\n",
      "def parseData(fname):\n",
      "  for l in open(fname):\n",
      "    yield eval(l)\n",
      "    \n",
      "def parseTxt(fname):\n",
      "  for l in open(fname):\n",
      "    yield l.strip().split(\" \")\n",
      "\n",
      "print \"Reading train...\"\n",
      "train = list(parseData(\"/home/iizhaki/oasis/CSE255/Project2/assignment2/train.json\"))"
     ],
     "language": "python",
     "metadata": {},
     "outputs": [
      {
       "output_type": "stream",
       "stream": "stdout",
       "text": [
        "Reading train...\n"
       ]
      }
     ],
     "prompt_number": 2
    },
    {
     "cell_type": "code",
     "collapsed": false,
     "input": [
      "trainBu = np.array(train, copy=True)\n",
      "\n",
      "N = len(train)\n",
      "myRange = range(N)\n",
      "random.shuffle(myRange)\n",
      "\n",
      "forTest = myRange[-int(0.7 * N) : ]\n",
      "forTrain = myRange[: int(0.7 * N)]"
     ],
     "language": "python",
     "metadata": {},
     "outputs": [],
     "prompt_number": 3
    },
    {
     "cell_type": "code",
     "collapsed": false,
     "input": [
      "test = [train[i] for i in forTest]\n",
      "train = [train[i] for i in forTrain]\n",
      "print \"done\""
     ],
     "language": "python",
     "metadata": {},
     "outputs": [
      {
       "output_type": "stream",
       "stream": "stdout",
       "text": [
        "done\n"
       ]
      }
     ],
     "prompt_number": 4
    },
    {
     "cell_type": "code",
     "collapsed": false,
     "input": [
      "from sets import Set\n",
      "print \"done\"\n",
      "\n",
      "allXs = []\n",
      "allYs = []\n",
      "allUsers = Set()\n",
      "for l in train:\n",
      "    user, item, rating = l['reviewerID'], l['itemID'], l['rating']\n",
      "    allXs.append([user, item])\n",
      "    allYs.append(float(rating))\n",
      "    allUsers.add(user)"
     ],
     "language": "python",
     "metadata": {},
     "outputs": [
      {
       "output_type": "stream",
       "stream": "stdout",
       "text": [
        "done\n"
       ]
      }
     ],
     "prompt_number": 5
    },
    {
     "cell_type": "code",
     "collapsed": false,
     "input": [
      "print \"Reading test...\"\n",
      "testRest = test\n",
      "print \"done\""
     ],
     "language": "python",
     "metadata": {},
     "outputs": [
      {
       "output_type": "stream",
       "stream": "stdout",
       "text": [
        "Reading test...\n",
        "done\n"
       ]
      }
     ],
     "prompt_number": 6
    },
    {
     "cell_type": "code",
     "collapsed": false,
     "input": [
      "def miniFunc(Data, Alpha, BetaU, BetaI, Lambd):\n",
      "    part1 = 0\n",
      "    for [u, i], Rui in Data:\n",
      "        part1 += ((Alpha + BetaU[u] + BetaI[i] - Rui) ** 2)\n",
      "    \n",
      "    part2 = 0\n",
      "    for u in BetaU:\n",
      "        part2 += (BetaU[u] ** 2)\n",
      "    for i in BetaI:\n",
      "        part2 += (BetaI[i] ** 2)\n",
      "    \n",
      "    return part1 + Lambd * part2   \n",
      "\n",
      "\n",
      "X = allXs\n",
      "y = allYs\n",
      "data = zip(X, y)\n",
      "\n",
      "Ntrain = len(y)\n",
      "bestMse = 0\n",
      "\n",
      "storedAlpha = 0\n",
      "storedBetaU = 0\n",
      "storedBetaI = 0\n",
      "rouni = 1\n",
      "\n",
      "alpha = 0\n",
      "oldVal = 0\n",
      "betaU = defaultdict(int)\n",
      "betaI = defaultdict(int)\n",
      "lambd = 1\n",
      "\n",
      "while True:\n",
      "    print \"Round \", rouni\n",
      "    rouni += 1\n",
      "\n",
      "    lastAlpha = alpha\n",
      "    lastBetaU = betaU\n",
      "    lastBetaI = betaI\n",
      "\n",
      "    # Alpha stage\n",
      "    alpha = 0\n",
      "    for [u, i], Rui in data:\n",
      "        bu = betaU[u]\n",
      "        bi = betaI[i]\n",
      "        alpha += Rui - (bu + bi)\n",
      "    alpha = alpha / Ntrain\n",
      "\n",
      "    # BetaU stage \n",
      "    Iu = defaultdict(int)\n",
      "    betaU = defaultdict(int)\n",
      "    for [u, i], Rui in data:\n",
      "        betaU[u] += (Rui - (alpha + betaI[i]))\n",
      "        Iu[u] += 1\n",
      "    for u in betaU:\n",
      "        betaU[u] = betaU[u] / (lambd + Iu[u])\n",
      "\n",
      "    # BetaI stage \n",
      "    Ii = defaultdict(int)\n",
      "    betaI = defaultdict(int)\n",
      "    for [u, i], Rui in data:\n",
      "        betaI[i] += (Rui - (alpha + betaU[u]))\n",
      "        Ii[i] += 1\n",
      "    for i in betaI:\n",
      "        betaI[i] = betaI[i] / (lambd + Ii[i])\n",
      "\n",
      "    newVal = miniFunc(data, alpha, betaU, betaI, lambd)\n",
      "\n",
      "    if lastAlpha != 0 and oldVal < newVal:\n",
      "        alpha = lastAlpha\n",
      "        betaU = lastBetaU\n",
      "        betaI = lastBetaI\n",
      "        break\n",
      "\n",
      "    oldVal = newVal\n",
      "\n",
      "mse = 0\n",
      "for currLine in test[1:]:\n",
      "    u, rest = currLine[0].split(\"-\")\n",
      "    i, Rui = rest.split(\",\")\n",
      "    p = alpha + betaU[u] + betaI[i]\n",
      "    mse += (p - float(Rui)) ** 2\n",
      "mse = mse / len(test)\n",
      "\n",
      "#print \"Mse: \", mse\n",
      "if mse >= bestMse:\n",
      "    storedAlpha = alpha\n",
      "    storedBetaU = betaU\n",
      "    storedBetaI = betaI\n",
      "    print \"Improved MSE from \", bestMse, \" to \",mse, \" using lambda \", lambd\n",
      "\n",
      "    bestMse = mse\n",
      "\n",
      "    myPredictions = open(\"/home/iizhaki/oasis/CSE255/Project2/assignment2/idan_predictions_Rating_\" + str(lambd) + \"_\" + str(alpha) + \".txt\", 'w')\n",
      "    myPredictions.write(str(testRest[0][0]) + '\\n')\n",
      "\n",
      "    mse = 0\n",
      "    for currLine in testRest[1:]:\n",
      "        u, i = currLine[0].split(\"-\")\n",
      "        p = alpha + betaU[u] + betaI[i]\n",
      "        myPredictions.write(u + '-' + i + ',' + str(p) + '\\n')\n",
      "\n",
      "    myPredictions.flush()\n",
      "    myPredictions.close()\n"
     ],
     "language": "python",
     "metadata": {},
     "outputs": [
      {
       "output_type": "stream",
       "stream": "stdout",
       "text": [
        "Round  1\n",
        "Round "
       ]
      },
      {
       "output_type": "stream",
       "stream": "stdout",
       "text": [
        " 2\n",
        "Round "
       ]
      },
      {
       "output_type": "stream",
       "stream": "stdout",
       "text": [
        " 3\n",
        "Round "
       ]
      }
     ]
    },
    {
     "cell_type": "code",
     "collapsed": false,
     "input": [
      "item = 'I102776733'\n",
      "user = 'U566105319'"
     ],
     "language": "python",
     "metadata": {},
     "outputs": []
    },
    {
     "cell_type": "code",
     "collapsed": false,
     "input": [
      "print \"Alpha: \", alpha\n",
      "print \"BetaI of \", item, \": \", betaI[item]\n",
      "print \"BetaU of \", user, \": \", betaU[user]"
     ],
     "language": "python",
     "metadata": {},
     "outputs": [
      {
       "output_type": "stream",
       "stream": "stdout",
       "text": [
        "Alpha:  3.5194082852\n",
        "BetaI of  I102776733 :  0.171752035867\n",
        "BetaU of  U566105319 :  -1.03076735296\n"
       ]
      }
     ],
     "prompt_number": 4
    },
    {
     "cell_type": "code",
     "collapsed": false,
     "input": [],
     "language": "python",
     "metadata": {},
     "outputs": [
      {
       "output_type": "stream",
       "stream": "stdout",
       "text": [
        "Mse:  0.35533144937\n"
       ]
      }
     ],
     "prompt_number": 20
    },
    {
     "cell_type": "code",
     "collapsed": false,
     "input": [
      "print \"Reading test...\"\n",
      "myPredictions = open(\"/home/iizhaki/oasis/CSE255/Project2/assignment2/idan_predictions_Rating.txt\", 'w')\n",
      "print \"done\""
     ],
     "language": "python",
     "metadata": {},
     "outputs": [
      {
       "output_type": "stream",
       "stream": "stdout",
       "text": [
        "Reading test...\n",
        "done"
       ]
      },
      {
       "output_type": "stream",
       "stream": "stdout",
       "text": [
        "\n"
       ]
      }
     ],
     "prompt_number": 30
    },
    {
     "cell_type": "code",
     "collapsed": false,
     "input": [
      "myPredictions.write(str(testRest[0][0]) + '\\n')\n",
      "\n",
      "mse = 0\n",
      "for currLine in testRest[1:]:\n",
      "    u, i = currLine[0].split(\"-\")\n",
      "    p = alpha + betaU[u] + betaI[i]\n",
      "    myPredictions.write(u + '-' + i + ',' + str(p) + '\\n')\n",
      "    \n",
      "myPredictions.flush()\n",
      "myPredictions.close()"
     ],
     "language": "python",
     "metadata": {},
     "outputs": [],
     "prompt_number": 31
    },
    {
     "cell_type": "heading",
     "level": 2,
     "metadata": {},
     "source": [
      "Jaccard"
     ]
    },
    {
     "cell_type": "code",
     "collapsed": false,
     "input": [
      "user1 = 'U229891973'\n",
      "user2 = 'U622491081'\n",
      "\n",
      "A = set([i for (u, i) in allXs if u == user1])\n",
      "B = set([i for (u, i) in allXs if u == user2])"
     ],
     "language": "python",
     "metadata": {},
     "outputs": [],
     "prompt_number": 6
    },
    {
     "cell_type": "code",
     "collapsed": false,
     "input": [
      "print len(A), len(B)"
     ],
     "language": "python",
     "metadata": {},
     "outputs": [
      {
       "output_type": "stream",
       "stream": "stdout",
       "text": [
        "4 3\n"
       ]
      }
     ],
     "prompt_number": 7
    },
    {
     "cell_type": "code",
     "collapsed": false,
     "input": [
      "Jaccard1 = len(A.intersection(B)) * 1.0 / len((A.union(B)))\n",
      "print Jaccard1"
     ],
     "language": "python",
     "metadata": {},
     "outputs": [
      {
       "output_type": "stream",
       "stream": "stdout",
       "text": [
        "0.75\n"
       ]
      }
     ],
     "prompt_number": 8
    },
    {
     "cell_type": "code",
     "collapsed": false,
     "input": [
      "user3 = 'U622491081'\n",
      "\n",
      "dictU = defaultdict(list)\n",
      "for u, i in allXs:\n",
      "    dictU[u].append(i)"
     ],
     "language": "python",
     "metadata": {},
     "outputs": [],
     "prompt_number": 9
    },
    {
     "cell_type": "code",
     "collapsed": false,
     "input": [
      "A = set(dictU[user3])\n",
      "\n",
      "bestJac = 0\n",
      "bestU = []\n",
      "\n",
      "for u in dictU:\n",
      "    if u == user3:\n",
      "        continue\n",
      "        \n",
      "    B = set(dictU[u])\n",
      "    jacc = len(A.intersection(B)) * 1.0 / len(A.union(B))\n",
      "    \n",
      "    if jacc > bestJac:\n",
      "        bestU = [u]\n",
      "        bestJac = jacc\n",
      "    elif jacc == bestJac:\n",
      "        bestU.append(u)\n",
      "        \n",
      "print bestU, bestJac"
     ],
     "language": "python",
     "metadata": {},
     "outputs": [
      {
       "output_type": "stream",
       "stream": "stdout",
       "text": [
        "['U359587607', 'U687939146', 'U096951499', 'U296575297', 'U387971231', 'U300899166'] 1.0\n"
       ]
      }
     ],
     "prompt_number": 10
    },
    {
     "cell_type": "code",
     "collapsed": false,
     "input": [
      "print \"Reading test...\"\n",
      "myPredictions = open(\"/home/iizhaki/oasis/CSE255/Project2/assignment2/idan_predictions_Purchase.txt\", 'w')\n",
      "print \"done\"\n",
      "print \"Reading test...\"\n",
      "test = np.array(list(parseTxt(\"/home/iizhaki/oasis/CSE255/Project2/assignment2/pairs_Purchase.txt\")))\n",
      "print \"done\""
     ],
     "language": "python",
     "metadata": {},
     "outputs": [
      {
       "output_type": "stream",
       "stream": "stdout",
       "text": [
        "Reading test...\n",
        "done\n",
        "Reading test...\n",
        "done"
       ]
      },
      {
       "output_type": "stream",
       "stream": "stdout",
       "text": [
        "\n"
       ]
      }
     ],
     "prompt_number": 3
    },
    {
     "cell_type": "code",
     "collapsed": false,
     "input": [
      "dictI = defaultdict(list)\n",
      "dictU = defaultdict(list)\n",
      "for u, i in allXs:\n",
      "    dictI[i].append(u)\n",
      "    dictU[u].append(i)   "
     ],
     "language": "python",
     "metadata": {},
     "outputs": [],
     "prompt_number": 6
    },
    {
     "cell_type": "code",
     "collapsed": false,
     "input": [
      "impUsers = Set(x[0].split(\"-\")[0] for x in test)"
     ],
     "language": "python",
     "metadata": {},
     "outputs": [],
     "prompt_number": 12
    },
    {
     "cell_type": "code",
     "collapsed": false,
     "input": [
      "bestUIs = defaultdict(Set)\n",
      "\n",
      "for user in impUsers:\n",
      "    items = dictU[user]\n",
      "    \n",
      "\n",
      "    for item in items:\n",
      "        A = set(dictI[item])\n",
      "\n",
      "        bestJac = 0\n",
      "        bestI = Set()\n",
      "\n",
      "        for i in dictI:\n",
      "            if i in items:\n",
      "                continue\n",
      "\n",
      "            B = set(dictI[i])\n",
      "            jacc = len(A.intersection(B)) * 1.0 / len(A.union(B))\n",
      "\n",
      "            if jacc > bestJac:\n",
      "                bestI = Set(i)\n",
      "                bestJac = jacc\n",
      "            elif jacc == bestJac:\n",
      "                #bestI += [i]\n",
      "                bestI.add(i)\n",
      "                \n",
      "        bestUIs[user] = bestI"
     ],
     "language": "python",
     "metadata": {},
     "outputs": []
    },
    {
     "cell_type": "code",
     "collapsed": false,
     "input": [],
     "language": "python",
     "metadata": {},
     "outputs": [
      {
       "output_type": "stream",
       "stream": "stdout",
       "text": [
        "Reading test...\n",
        "done\n",
        "Reading test...\n"
       ]
      },
      {
       "ename": "NameError",
       "evalue": "name 'parseTxt' is not defined",
       "output_type": "pyerr",
       "traceback": [
        "\u001b[1;31m---------------------------------------------------------------------------\u001b[0m\n\u001b[1;31mNameError\u001b[0m                                 Traceback (most recent call last)",
        "\u001b[1;32m<ipython-input-1-4bf1ece7208f>\u001b[0m in \u001b[0;36m<module>\u001b[1;34m()\u001b[0m\n\u001b[0;32m      3\u001b[0m \u001b[1;32mprint\u001b[0m \u001b[1;34m\"done\"\u001b[0m\u001b[1;33m\u001b[0m\u001b[0m\n\u001b[0;32m      4\u001b[0m \u001b[1;32mprint\u001b[0m \u001b[1;34m\"Reading test...\"\u001b[0m\u001b[1;33m\u001b[0m\u001b[0m\n\u001b[1;32m----> 5\u001b[1;33m \u001b[0mtest\u001b[0m \u001b[1;33m=\u001b[0m \u001b[0mnp\u001b[0m\u001b[1;33m.\u001b[0m\u001b[0marray\u001b[0m\u001b[1;33m(\u001b[0m\u001b[0mlist\u001b[0m\u001b[1;33m(\u001b[0m\u001b[0mparseTxt\u001b[0m\u001b[1;33m(\u001b[0m\u001b[1;34m\"/home/iizhaki/oasis/CSE255/Project2/assignment2/pairs_Purchase.txt\"\u001b[0m\u001b[1;33m)\u001b[0m\u001b[1;33m)\u001b[0m\u001b[1;33m)\u001b[0m\u001b[1;33m\u001b[0m\u001b[0m\n\u001b[0m\u001b[0;32m      6\u001b[0m \u001b[1;32mprint\u001b[0m \u001b[1;34m\"done\"\u001b[0m\u001b[1;33m\u001b[0m\u001b[0m\n",
        "\u001b[1;31mNameError\u001b[0m: name 'parseTxt' is not defined"
       ]
      }
     ],
     "prompt_number": 1
    },
    {
     "cell_type": "code",
     "collapsed": false,
     "input": [
      "myPredictions.write(str(test[0][0]) + '\\n')\n",
      "\n",
      "for currLine in test[1:]:\n",
      "    u, i = currLine[0].split(\"-\")\n",
      "    if i in bestUIs[u]:\n",
      "        myPredictions.write(u + '-' + i + ',1\\n')\n",
      "    else:\n",
      "        myPredictions.write(u + '-' + i + ',0\\n')\n",
      "    \n",
      "myPredictions.flush()\n",
      "myPredictions.close()"
     ],
     "language": "python",
     "metadata": {},
     "outputs": []
    }
   ],
   "metadata": {}
  }
 ]
}