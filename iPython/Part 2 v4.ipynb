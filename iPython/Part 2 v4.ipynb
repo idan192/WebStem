{
 "metadata": {
  "name": "",
  "signature": "sha256:e8bc0578c192147c7ca80325ea6504e7544c8a99d1eeb26318bb4c3da40bf2c0"
 },
 "nbformat": 3,
 "nbformat_minor": 0,
 "worksheets": [
  {
   "cells": [
    {
     "cell_type": "code",
     "collapsed": false,
     "input": [
      "from _collections import defaultdict\n",
      "import time\n",
      "import timeit\n",
      "\n",
      "from numpy.linalg import norm\n",
      "import scipy.optimize\n",
      "import random\n",
      "\n",
      "import numpy as np\n",
      "\n",
      "\n",
      "def parseData(fname):\n",
      "  for l in open(fname):\n",
      "    yield eval(l)\n",
      "    \n",
      "def parseTxt(fname):\n",
      "  for l in open(fname):\n",
      "    yield l.strip().split(\" \")\n",
      "\n",
      "print \"Reading train...\"\n",
      "train = list(parseData(\"/home/iizhaki/oasis/CSE255/Project2/assignment2/train.json\"))\n",
      "\n",
      "print \"Reading test...\"\n",
      "tetst = list(parseData(\"/home/iizhaki/oasis/CSE255/Project2/assignment2/helpful.json\"))\n",
      "print \"done\""
     ],
     "language": "python",
     "metadata": {},
     "outputs": [
      {
       "output_type": "stream",
       "stream": "stdout",
       "text": [
        "Reading train...\n",
        "Reading test..."
       ]
      },
      {
       "output_type": "stream",
       "stream": "stdout",
       "text": [
        "\n",
        "done"
       ]
      },
      {
       "output_type": "stream",
       "stream": "stdout",
       "text": [
        "\n"
       ]
      }
     ],
     "prompt_number": 28
    },
    {
     "cell_type": "code",
     "collapsed": false,
     "input": [
      "from sets import Set\n",
      "print \"done\"\n",
      "\n",
      "allXs = []\n",
      "allYs = []\n",
      "allUsers = Set()\n",
      "rater = {}\n",
      "for l in train:\n",
      "    user, item, rating = l['reviewerID'], l['itemID'], l['rating']\n",
      "    rater[item] = float(rating)\n",
      "    allXs.append([user, item])\n",
      "    allYs.append(float(rating))\n",
      "    allUsers.add(user)"
     ],
     "language": "python",
     "metadata": {},
     "outputs": [
      {
       "output_type": "stream",
       "stream": "stdout",
       "text": [
        "done\n"
       ]
      }
     ],
     "prompt_number": 99
    },
    {
     "cell_type": "code",
     "collapsed": false,
     "input": [
      "crazy = defaultdict(Set)\n",
      "\n",
      "for l in tetst:\n",
      "    user, item = l['reviewerID'], l['itemID']\n",
      "    crazy[user].add(item)"
     ],
     "language": "python",
     "metadata": {},
     "outputs": [],
     "prompt_number": 100
    },
    {
     "cell_type": "heading",
     "level": 2,
     "metadata": {},
     "source": [
      "Jaccard"
     ]
    },
    {
     "cell_type": "code",
     "collapsed": false,
     "input": [
      "frac = 1.0\n",
      "pop = 100"
     ],
     "language": "python",
     "metadata": {},
     "outputs": [],
     "prompt_number": 175
    },
    {
     "cell_type": "code",
     "collapsed": false,
     "input": [
      "print \"Reading test...\"\n",
      "myPredictions = open(\"/home/iizhaki/oasis/CSE255/Project2/assignment2/idan_predictions_Purchase_\" + str(frac) + \"_\" + str(pop) + \"_new9.txt\", 'w')\n",
      "print \"done\"\n",
      "print \"Reading test...\"\n",
      "test = np.array(list(parseTxt(\"/home/iizhaki/oasis/CSE255/Project2/assignment2/pairs_Purchase.txt\")))\n",
      "print \"done\""
     ],
     "language": "python",
     "metadata": {},
     "outputs": [
      {
       "output_type": "stream",
       "stream": "stdout",
       "text": [
        "Reading test...\n",
        "done\n",
        "Reading test...\n",
        "done"
       ]
      },
      {
       "output_type": "stream",
       "stream": "stdout",
       "text": [
        "\n"
       ]
      }
     ],
     "prompt_number": 176
    },
    {
     "cell_type": "code",
     "collapsed": false,
     "input": [
      "dictI = defaultdict(Set)\n",
      "dictU = defaultdict(Set)\n",
      "for u, i in allXs:\n",
      "    dictI[i].add(u)\n",
      "    dictU[u].add(i)   "
     ],
     "language": "python",
     "metadata": {},
     "outputs": [],
     "prompt_number": 177
    },
    {
     "cell_type": "code",
     "collapsed": false,
     "input": [
      "def tossUniassed(port):\n",
      "    val = random.uniform(0.0, 1.0)\n",
      "    if val >= port:\n",
      "        return \"0\"\n",
      "    return \"1\""
     ],
     "language": "python",
     "metadata": {},
     "outputs": [],
     "prompt_number": 178
    },
    {
     "cell_type": "code",
     "collapsed": false,
     "input": [
      "itemCount = defaultdict(int)\n",
      "userCount = defaultdict(int)\n",
      "totalPurchases = 0\n",
      "\n",
      "for user, item in allXs:\n",
      "    itemCount[item] += 1\n",
      "    userCount[user] += 1\n",
      "    totalPurchases += 1\n",
      "\n",
      "mostPopular = [(itemCount[x], x) for x in itemCount]\n",
      "mostPopular.sort()\n",
      "mostPopular.reverse()\n",
      "\n",
      "mostPopularU = [(userCount[x], x) for x in userCount]\n",
      "mostPopularU.sort()\n",
      "mostPopularU.reverse()\n",
      "\n",
      "return1 = set()\n",
      "count = 0\n",
      "for ic, i in mostPopular:\n",
      "    count += ic\n",
      "    return1.add(i)\n",
      "    if count > totalPurchases * frac: break\n",
      "        \n",
      "return2 = set()\n",
      "count = 0\n",
      "for uc, u in mostPopularU:\n",
      "    count += uc\n",
      "    return2.add(u)\n",
      "    if count > totalPurchases * 1.0: break"
     ],
     "language": "python",
     "metadata": {},
     "outputs": [],
     "prompt_number": 179
    },
    {
     "cell_type": "code",
     "collapsed": false,
     "input": [
      "#nos = {'U447391487': 'I140025784', 'U348881258': 'I828453257', 'U197471804': 'I638136162', 'U912621491': 'I686442838'}\n",
      "#U165565902-I068152971,0\n"
     ],
     "language": "python",
     "metadata": {},
     "outputs": [],
     "prompt_number": 180
    },
    {
     "cell_type": "code",
     "collapsed": false,
     "input": [
      "#myPredictions.write(str(test[0][0]) + '\\n')\n",
      "\n",
      "hasChanged = True\n",
      "bestUIs = defaultdict(Set)\n",
      "loc = 1\n",
      "\n",
      "while hasChanged:\n",
      "    print \"Loop \", loc\n",
      "    loc += 1\n",
      "    hasChanged = False\n",
      "    toAdd = []\n",
      "    \n",
      "    for l in test[1 :]:\n",
      "        u, i = l[0].split(\"-\")\n",
      "\n",
      "        if (u in dictU) and (i in dictI):\n",
      "            for it in dictU[u]:        \n",
      "                Jacc = len(dictI[it] & dictI[i]) * 1.0 / len(dictI[it] | dictI[i])\n",
      "                if Jacc > 0:\n",
      "                    if i not in dictU[u]:\n",
      "                        toAdd.append((u, i))\n",
      "                        break\n",
      "                else:\n",
      "                    for ut in dictI[i]:        \n",
      "                        Jacc = len(dictU[ut] & dictU[u]) * 1.0 / len(dictU[ut] | dictU[u])\n",
      "                        if Jacc > 0 and u not in dictI[i]:\n",
      "                            toAdd.append((u, i))\n",
      "                            break\n",
      "          \n",
      "    for (uu, ii) in toAdd:\n",
      "        hasChanged = True\n",
      "        dictU[uu].add(ii)\n",
      "        dictI[ii].add(uu)"
     ],
     "language": "python",
     "metadata": {},
     "outputs": [
      {
       "output_type": "stream",
       "stream": "stdout",
       "text": [
        "Loop  1\n",
        "Loop "
       ]
      },
      {
       "output_type": "stream",
       "stream": "stdout",
       "text": [
        " 2\n",
        "Loop "
       ]
      },
      {
       "output_type": "stream",
       "stream": "stdout",
       "text": [
        " 3\n"
       ]
      }
     ],
     "prompt_number": 181
    },
    {
     "cell_type": "code",
     "collapsed": false,
     "input": [
      "import random\n",
      "\n",
      "myPredictions = open(\"/home/iizhaki/oasis/CSE255/Project2/assignment2/idan_predictions_Purchase_\" + str(frac) + \"_\" + str(pop) + \"_new9.txt\", 'w')\n",
      "myPredictions.write(str(test[0][0]) + '\\n')\n",
      "\n",
      "hasChanged = True\n",
      "bestUIs = defaultdict(Set)\n",
      "ones = 0\n",
      "zeros = 0\n",
      "pop = 70\n",
      "\n",
      "userC = defaultdict(int)\n",
      "itemC = defaultdict(int)\n",
      "\n",
      "for l in test[1 :]:\n",
      "    u, i = l[0].split(\"-\")\n",
      "    userC[u] += 1\n",
      "    itemC[i] += 1\n",
      "\n",
      "for l in test[1 :]:\n",
      "    done = False\n",
      "    u, i = l[0].split(\"-\")\n",
      "\n",
      "    if (u in dictU) and (i in dictI):\n",
      "        for it in dictU[u]:        \n",
      "            Jacc = len(dictI[it] & dictI[i]) * 1.0 / len(dictI[it] | dictI[i])\n",
      "            if Jacc > 0.0:\n",
      "                myPredictions.write(u + '-' + i + ',1\\n')\n",
      "                ones  += 1\n",
      "                done = True\n",
      "                break\n",
      "        if not done:\n",
      "            for ut in dictI[i]:\n",
      "                Jacc = len(dictU[ut] & dictU[u]) * 1.0 / len(dictU[ut] | dictU[u])\n",
      "                if Jacc > 0:\n",
      "                    myPredictions.write(u + '-' + i + ',1\\n')\n",
      "                    ones += 1\n",
      "                    done = True\n",
      "                    break\n",
      "            if not done:\n",
      "                if len(dictI[i]) > pop or len(dictU[u]) > 30:\n",
      "                    #pop -= 1\n",
      "                    myPredictions.write(u + '-' + i + ',1\\n')\n",
      "                    ones += 1\n",
      "                else:\n",
      "                    myPredictions.write(u + '-' + i + ',0\\n')\n",
      "                    zeros += 1 \n",
      "\n",
      "    else:\n",
      "        if i in return1 or u in return2:\n",
      "            myPredictions.write(u + '-' + i + ',1\\n')\n",
      "            ones += 1\n",
      "        elif itemC[i] > 1 or userC[u] > 1:\n",
      "            myPredictions.write(u + '-' + i + ',1\\n')\n",
      "            ones += 1\n",
      "        else:    \n",
      "            myPredictions.write(u + '-' + i + ',1\\n')\n",
      "            ones += 1\n",
      "            #myPredictions.write(u + '-' + i + ',0\\n')\n",
      "            #zeros += 1 \n",
      "\n",
      "\n",
      "myPredictions.flush()\n",
      "    \n",
      "myPredictions.close()"
     ],
     "language": "python",
     "metadata": {},
     "outputs": [],
     "prompt_number": 256
    },
    {
     "cell_type": "code",
     "collapsed": false,
     "input": [
      "print ones\n",
      "print zeros"
     ],
     "language": "python",
     "metadata": {},
     "outputs": [
      {
       "output_type": "stream",
       "stream": "stdout",
       "text": [
        "45624\n",
        "54376\n"
       ]
      }
     ],
     "prompt_number": 257
    },
    {
     "cell_type": "code",
     "collapsed": false,
     "input": [],
     "language": "python",
     "metadata": {},
     "outputs": [],
     "prompt_number": 244
    },
    {
     "cell_type": "code",
     "collapsed": false,
     "input": [],
     "language": "python",
     "metadata": {},
     "outputs": [],
     "prompt_number": 107
    },
    {
     "cell_type": "code",
     "collapsed": false,
     "input": [],
     "language": "python",
     "metadata": {},
     "outputs": []
    }
   ],
   "metadata": {}
  }
 ]
}