{
 "metadata": {
  "name": "",
  "signature": "sha256:8572fbe884cbb7cab26ca02ccaa9457222fa2f36d6df2344f7fab79e59769ec7"
 },
 "nbformat": 3,
 "nbformat_minor": 0,
 "worksheets": [
  {
   "cells": [
    {
     "cell_type": "code",
     "collapsed": false,
     "input": [
      "from _collections import defaultdict\n",
      "import time\n",
      "import timeit\n",
      "\n",
      "from numpy.linalg import norm\n",
      "import scipy.optimize\n",
      "import random\n",
      "\n",
      "import numpy as np\n",
      "\n",
      "\n",
      "def parseData(fname):\n",
      "  for l in open(fname):\n",
      "    yield eval(l)\n",
      "    \n",
      "def parseTxt(fname):\n",
      "  for l in open(fname):\n",
      "    yield l.strip().split(\" \")\n",
      "\n",
      "print \"Reading train...\"\n",
      "train = list(parseData(\"/home/iizhaki/oasis/CSE255/Project2/assignment2/train.json\"))\n",
      "N = len(train)"
     ],
     "language": "python",
     "metadata": {},
     "outputs": [
      {
       "output_type": "stream",
       "stream": "stdout",
       "text": [
        "Reading train...\n"
       ]
      }
     ],
     "prompt_number": 21
    },
    {
     "cell_type": "code",
     "collapsed": false,
     "input": [
      "myRange = range(N)\n",
      "random.shuffle(myRange)\n",
      "\n",
      "test = [train[i] for i in myRange[: int(0.7 * N)]]\n",
      "train = [train[i] for i in myRange[-int(0.7 * N) : ]]"
     ],
     "language": "python",
     "metadata": {},
     "outputs": [],
     "prompt_number": 25
    },
    {
     "cell_type": "code",
     "collapsed": false,
     "input": [
      "from sets import Set\n",
      "print \"done\"\n",
      "\n",
      "allXs = []\n",
      "allYs = []\n",
      "allUsers = Set()\n",
      "rater = {}\n",
      "for l in train:\n",
      "    user, item, rating = l['reviewerID'], l['itemID'], l['rating']\n",
      "    rater[item] = float(rating)\n",
      "    allXs.append([user, item])\n",
      "    allYs.append(float(rating))\n",
      "    allUsers.add(user)"
     ],
     "language": "python",
     "metadata": {},
     "outputs": [
      {
       "output_type": "stream",
       "stream": "stdout",
       "text": [
        "done\n"
       ]
      }
     ],
     "prompt_number": 26
    },
    {
     "cell_type": "heading",
     "level": 2,
     "metadata": {},
     "source": [
      "Jaccard"
     ]
    },
    {
     "cell_type": "code",
     "collapsed": false,
     "input": [
      "'''print \"Reading test...\"\n",
      "myPredictions = open(\"/home/iizhaki/oasis/CSE255/Project2/assignment2/idan_predictions_Purchase_18.txt\", 'w')\n",
      "print \"done\"\n",
      "print \"Reading test...\"\n",
      "test = np.array(list(parseTxt(\"/home/iizhaki/oasis/CSE255/Project2/assignment2/pairs_Purchase.txt\")))\n",
      "print \"done\"'''"
     ],
     "language": "python",
     "metadata": {},
     "outputs": [
      {
       "metadata": {},
       "output_type": "pyout",
       "prompt_number": 3,
       "text": [
        "'print \"Reading test...\"\\nmyPredictions = open(\"/home/iizhaki/oasis/CSE255/Project2/assignment2/idan_predictions_Purchase_18.txt\", \\'w\\')\\nprint \"done\"\\nprint \"Reading test...\"\\ntest = np.array(list(parseTxt(\"/home/iizhaki/oasis/CSE255/Project2/assignment2/pairs_Purchase.txt\")))\\nprint \"done\"'"
       ]
      }
     ],
     "prompt_number": 3
    },
    {
     "cell_type": "code",
     "collapsed": false,
     "input": [],
     "language": "python",
     "metadata": {},
     "outputs": [],
     "prompt_number": 4
    },
    {
     "cell_type": "code",
     "collapsed": false,
     "input": [
      "Fs = [0.8, 0.85, 0.9, 0.95]\n",
      "\n",
      "while Fs:\n",
      "    dictI = defaultdict(Set)\n",
      "    dictU = defaultdict(Set)\n",
      "    for u, i in allXs:\n",
      "        dictI[i].add(u)\n",
      "        dictU[u].add(i)   \n",
      "    \n",
      "    f = Fs.pop()\n",
      "    print \"F is \", f\n",
      "    itemCount = defaultdict(int)\n",
      "    totalPurchases = 0\n",
      "\n",
      "    for user, item in allXs:\n",
      "        itemCount[item] += 1\n",
      "        totalPurchases += 1\n",
      "\n",
      "    mostPopular = [(itemCount[x], x) for x in itemCount]\n",
      "    mostPopular.sort()\n",
      "    mostPopular.reverse()\n",
      "\n",
      "    return1 = set()\n",
      "    count = 0\n",
      "    for ic, i in mostPopular:\n",
      "        count += ic\n",
      "        return1.add(i)\n",
      "        if count > totalPurchases * f: break\n",
      "            \n",
      "    #myPredictions.write(str(test[0][0]) + '\\n')\n",
      "\n",
      "    hasChanged = True\n",
      "    bestUIs = defaultdict(Set)\n",
      "    loc = 1\n",
      "\n",
      "    while hasChanged:\n",
      "        print \"Loop \", loc\n",
      "        loc += 1\n",
      "        hasChanged = False\n",
      "\n",
      "        for l in train[1 :]:\n",
      "            done = False\n",
      "            u, i = l['reviewerID'], l['itemID']\n",
      "            toAdd = []\n",
      "\n",
      "            for it in dictU[u]:        \n",
      "                Jacc = len(dictI[it] & dictI[i]) * 1.0 / len(dictI[it] | dictI[i])\n",
      "                if Jacc > 0:\n",
      "                    done = True\n",
      "                    if i not in dictU[u]:\n",
      "                        hasChanged = True\n",
      "                        toAdd.append((u, i))\n",
      "                    #else:\n",
      "                        #myPredictions.write(u + '-' + i + ',1\\n')\n",
      "                        #break\n",
      "\n",
      "            for (uu, ii) in toAdd:\n",
      "                dictU[u].add(i)\n",
      "                dictI[i].add(u)\n",
      "\n",
      "        break\n",
      "\n",
      "    \n",
      "\n",
      "    hasChanged = True\n",
      "    bestUIs = defaultdict(Set)\n",
      "\n",
      "\n",
      "    correct = 0\n",
      "    for l in test[1 :]:\n",
      "        done = False\n",
      "        u, i = l['reviewerID'], l['itemID']\n",
      "\n",
      "        for it in dictU[u]:        \n",
      "            Jacc = len(dictI[it] & dictI[i]) * 1.0 / len(dictI[it] | dictI[i])\n",
      "            if Jacc > 0:\n",
      "                correct += 1\n",
      "                done = True\n",
      "                break\n",
      "\n",
      "        if not done:\n",
      "            if i in return1:\n",
      "                correct += 1\n",
      "            elif i not in dictI and u in dictU:\n",
      "                correct += 1\n",
      "            else:    \n",
      "                correct += 0\n",
      "    \n",
      "    \n",
      "    print \"Improved using \", f, \" from \", bestCorrect, \" to \", correct\n",
      "    bestCorrect = correct\n",
      "    bestF = f"
     ],
     "language": "python",
     "metadata": {},
     "outputs": [
      {
       "output_type": "stream",
       "stream": "stdout",
       "text": [
        "F is  0.95\n",
        "Loop "
       ]
      },
      {
       "output_type": "stream",
       "stream": "stdout",
       "text": [
        " 1\n",
        "Improved using "
       ]
      },
      {
       "output_type": "stream",
       "stream": "stdout",
       "text": [
        " 0.95  from  692289  to  683832\n",
        "F is "
       ]
      },
      {
       "output_type": "stream",
       "stream": "stdout",
       "text": [
        " 0.9\n",
        "Loop "
       ]
      },
      {
       "output_type": "stream",
       "stream": "stdout",
       "text": [
        " 1\n"
       ]
      },
      {
       "ename": "KeyboardInterrupt",
       "evalue": "",
       "output_type": "pyerr",
       "traceback": [
        "\u001b[1;31m---------------------------------------------------------------------------\u001b[0m\n\u001b[1;31mKeyboardInterrupt\u001b[0m                         Traceback (most recent call last)",
        "\u001b[1;32m<ipython-input-30-f3c08848165f>\u001b[0m in \u001b[0;36m<module>\u001b[1;34m()\u001b[0m\n\u001b[0;32m     45\u001b[0m \u001b[1;33m\u001b[0m\u001b[0m\n\u001b[0;32m     46\u001b[0m             \u001b[1;32mfor\u001b[0m \u001b[0mit\u001b[0m \u001b[1;32min\u001b[0m \u001b[0mdictU\u001b[0m\u001b[1;33m[\u001b[0m\u001b[0mu\u001b[0m\u001b[1;33m]\u001b[0m\u001b[1;33m:\u001b[0m\u001b[1;33m\u001b[0m\u001b[0m\n\u001b[1;32m---> 47\u001b[1;33m                 \u001b[0mJacc\u001b[0m \u001b[1;33m=\u001b[0m \u001b[0mlen\u001b[0m\u001b[1;33m(\u001b[0m\u001b[0mdictI\u001b[0m\u001b[1;33m[\u001b[0m\u001b[0mit\u001b[0m\u001b[1;33m]\u001b[0m \u001b[1;33m&\u001b[0m \u001b[0mdictI\u001b[0m\u001b[1;33m[\u001b[0m\u001b[0mi\u001b[0m\u001b[1;33m]\u001b[0m\u001b[1;33m)\u001b[0m \u001b[1;33m*\u001b[0m \u001b[1;36m1.0\u001b[0m \u001b[1;33m/\u001b[0m \u001b[0mlen\u001b[0m\u001b[1;33m(\u001b[0m\u001b[0mdictI\u001b[0m\u001b[1;33m[\u001b[0m\u001b[0mit\u001b[0m\u001b[1;33m]\u001b[0m \u001b[1;33m|\u001b[0m \u001b[0mdictI\u001b[0m\u001b[1;33m[\u001b[0m\u001b[0mi\u001b[0m\u001b[1;33m]\u001b[0m\u001b[1;33m)\u001b[0m\u001b[1;33m\u001b[0m\u001b[0m\n\u001b[0m\u001b[0;32m     48\u001b[0m                 \u001b[1;32mif\u001b[0m \u001b[0mJacc\u001b[0m \u001b[1;33m>\u001b[0m \u001b[1;36m0\u001b[0m\u001b[1;33m:\u001b[0m\u001b[1;33m\u001b[0m\u001b[0m\n\u001b[0;32m     49\u001b[0m                     \u001b[0mdone\u001b[0m \u001b[1;33m=\u001b[0m \u001b[0mTrue\u001b[0m\u001b[1;33m\u001b[0m\u001b[0m\n",
        "\u001b[1;32m/opt/python/lib/python2.7/sets.py\u001b[0m in \u001b[0;36m__or__\u001b[1;34m(self, other)\u001b[0m\n\u001b[0;32m    176\u001b[0m     \u001b[1;31m# raises TypeError as-is is also a bit subtle).\u001b[0m\u001b[1;33m\u001b[0m\u001b[1;33m\u001b[0m\u001b[0m\n\u001b[0;32m    177\u001b[0m \u001b[1;33m\u001b[0m\u001b[0m\n\u001b[1;32m--> 178\u001b[1;33m     \u001b[1;32mdef\u001b[0m \u001b[0m__or__\u001b[0m\u001b[1;33m(\u001b[0m\u001b[0mself\u001b[0m\u001b[1;33m,\u001b[0m \u001b[0mother\u001b[0m\u001b[1;33m)\u001b[0m\u001b[1;33m:\u001b[0m\u001b[1;33m\u001b[0m\u001b[0m\n\u001b[0m\u001b[0;32m    179\u001b[0m         \"\"\"Return the union of two sets as a new set.\n\u001b[0;32m    180\u001b[0m \u001b[1;33m\u001b[0m\u001b[0m\n",
        "\u001b[1;31mKeyboardInterrupt\u001b[0m: "
       ]
      }
     ],
     "prompt_number": 30
    },
    {
     "cell_type": "code",
     "collapsed": false,
     "input": [],
     "language": "python",
     "metadata": {},
     "outputs": [
      {
       "output_type": "stream",
       "stream": "stdout",
       "text": [
        "Loop  1\n",
        "Loop "
       ]
      },
      {
       "output_type": "stream",
       "stream": "stdout",
       "text": [
        " 2\n",
        "Loop "
       ]
      },
      {
       "output_type": "stream",
       "stream": "stdout",
       "text": [
        " 3\n"
       ]
      }
     ],
     "prompt_number": 160
    },
    {
     "cell_type": "code",
     "collapsed": false,
     "input": [
      "myPredictions.write(str(test[0][0]) + '\\n')\n",
      "\n",
      "hasChanged = True\n",
      "bestUIs = defaultdict(Set)\n",
      "\n",
      "\n",
      "for l in test[1 :]:\n",
      "    done = False\n",
      "    user, item, rating = l['reviewerID'], l['itemID'], l['rating']\n",
      "\n",
      "    for it in dictU[u]:        \n",
      "        Jacc = len(dictI[it] & dictI[i]) * 1.0 / len(dictI[it] | dictI[i])\n",
      "        if Jacc > 0:\n",
      "            myPredictions.write(u + '-' + i + ',1\\n')\n",
      "            done = True\n",
      "            break\n",
      "\n",
      "    if not done:\n",
      "        if i in return1:\n",
      "            myPredictions.write(u + '-' + i + ',1\\n')\n",
      "        elif i not in dictI and u in dictU:\n",
      "            myPredictions.write(u + '-' + i + ',1\\n')\n",
      "        else:    \n",
      "            myPredictions.write(u + '-' + i + ',0\\n')\n",
      "\n",
      "\n",
      "myPredictions.flush()\n",
      "    \n",
      "myPredictions.close()"
     ],
     "language": "python",
     "metadata": {},
     "outputs": [],
     "prompt_number": 161
    },
    {
     "cell_type": "code",
     "collapsed": false,
     "input": [],
     "language": "python",
     "metadata": {},
     "outputs": []
    },
    {
     "cell_type": "code",
     "collapsed": false,
     "input": [
      "myPredictions.write(str(test[0][0]) + '\\n')\n",
      "\n",
      "for currLine in test[1:]:\n",
      "    u, i = currLine[0].split(\"-\")\n",
      "    if i in bestUIs[u]:\n",
      "        myPredictions.write(u + '-' + i + ',0.5\\n')\n",
      "    else:\n",
      "        myPredictions.write(u + '-' + i + ',0\\n')\n",
      "    \n",
      "myPredictions.flush()\n",
      "myPredictions.close()"
     ],
     "language": "python",
     "metadata": {},
     "outputs": []
    },
    {
     "cell_type": "code",
     "collapsed": false,
     "input": [],
     "language": "python",
     "metadata": {},
     "outputs": []
    }
   ],
   "metadata": {}
  }
 ]
}