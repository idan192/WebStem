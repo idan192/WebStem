{
 "cells": [
  {
   "cell_type": "code",
   "execution_count": 3,
   "metadata": {
    "collapsed": false
   },
   "outputs": [],
   "source": [
    "import random\n",
    "import matplotlib.pyplot as plt\n",
    "import pylab\n",
    "import numpy as np\n",
    "from skimage.transform import rotate\n",
    "from scipy.spatial.distance import pdist\n",
    "from scipy.spatial.distance import squareform\n",
    "from scipy.misc import imsave\n",
    "import os\n",
    "import pickle\n",
    "import shutil\n",
    "from joblib import Parallel, delayed\n",
    "\n",
    "#Rotation: RS140_x5_0000_gabor-blueNisslWide-segm-blueNisslRegular_spMaxDirAngle.npys\n",
    "#RAW:   \"/oasis/projects/nsf/csd181/yuncong/DavidData2014tif/RS140/x5/0000/RS140_x5_0000.tif\"\n",
    "#PATH: \" /oasis/projects/nsf/csd181/yuncong/DavidData2014results/RS140/0000/\"\n",
    "#Example: \"/oasis/projects/nsf/csd181/yuncong/DavidData2014v4/RS141/x5/0001/pipelineResults/RS141_x5_0001_segm-blueNissl_segmentation.npy\""
   ]
  },
  {
   "cell_type": "code",
   "execution_count": 4,
   "metadata": {
    "collapsed": false
   },
   "outputs": [],
   "source": [
    "SAMPLES = 29\n",
    "IMG_PATHS = []\n",
    "DATA_PATHS = []\n",
    "PROC_PATHS = []\n",
    "CODE_NAMES = []\n",
    "\n",
    "for i in range(0, np.min((10, SAMPLES + 1))):\n",
    "    val = \"000\" + str(i)\n",
    "    IMG_PATHS.append(\"/Users/idanizhaki/Desktop/yuncong/DavidData2014tif/RS141/x5/\" + val + \"/RS141_x5_\" + val + \".tif\")\n",
    "    DATA_PATHS.append(\"/Users/idanizhaki/Desktop/yuncong/DavidData2014results/RS141/\" + val + \"/\")\n",
    "    PROC_PATHS.append(\"RS141/x5/\" + val)\n",
    "    CODE_NAMES.append(\"blueNisslRegular\")\n",
    "    \n",
    "for i in range(10, SAMPLES + 1):\n",
    "    val = \"00\" + str(i)\n",
    "    IMG_PATHS.append(\"/Users/idanizhaki/Desktop/yuncong/DavidData2014tif/RS141/x5/\" + val + \"/RS141_x5_\" + val + \".tif\")\n",
    "    DATA_PATHS.append(\"/Users/idanizhaki/Desktop/yuncong/DavidData2014results/RS141/\" + val + \"/\")\n",
    "    PROC_PATHS.append(\"RS141/x5/\" + val)\n",
    "    CODE_NAMES.append(\"blueNisslRegular\")\n",
    "    \n",
    "TARGET = \"/Users/idanizhaki/Desktop/WebStem/photos/\""
   ]
  },
  {
   "cell_type": "code",
   "execution_count": 5,
   "metadata": {
    "collapsed": false
   },
   "outputs": [],
   "source": [
    "mapped = [0] * SAMPLES\n",
    "props = [0] * SAMPLES\n",
    "dists = [0] * SAMPLES\n",
    "neighbors = [0] * SAMPLES\n",
    "refs = {}\n",
    "\n",
    "def worker(smpl, mapped):\n",
    "    print str(smpl) + \" of  \" + str(SAMPLES)\n",
    "    FNAMES = PROC_PATHS[smpl].replace(\"/\", \"_\")\n",
    "    FPATH = DATA_PATHS[smpl] \n",
    "    IMG_PATH = IMG_PATHS[smpl]\n",
    "    PROC_PATH = PROC_PATHS[smpl]\n",
    "    CODE_NAME = CODE_NAMES[smpl]\n",
    "    \n",
    "    # Load segments data\n",
    "    SEGMENTS  = FPATH + FNAMES + \"_segm-\" + CODE_NAME + \"_segmentation.npy\" \n",
    "    ROTATIONS = FPATH + FNAMES + \"_gabor-blueNisslWide-segm-\" + CODE_NAME + \"_spMaxDirAngle.npy\" \n",
    "    NEIBRS         = FPATH + FNAMES + \"_segm-\" + CODE_NAME + \"_neighbors.npy\"\n",
    "    TEXT_DIST   = FPATH + FNAMES + \"_gabor-blueNisslWide-segm-\" + CODE_NAME + \"-vq-blueNissl_texHistPairwiseDist.npy\" \n",
    "    TEXT_MAP   = FPATH + FNAMES + \"_gabor-blueNisslWide-vq-blueNissl_texMap.npy\"\n",
    "    PROPS          = FPATH + FNAMES + \"_segm-\" + CODE_NAME + \"_spProps.npy\"\n",
    "    data = np.load(SEGMENTS)\n",
    "    N = data.max() + 1\n",
    "    #rotData = np.zeros(N)\n",
    "    rotData = np.load(ROTATIONS)\n",
    "    nbrs = np.load(NEIBRS)\n",
    "    texton_dist = np.load(TEXT_DIST)\n",
    "    texton_map = np.load(TEXT_MAP)\n",
    "    sp_props = np.load(PROPS)\n",
    "    props[smpl] = sp_props\n",
    "    dists[smpl] = texton_dist\n",
    "    neighbors[smpl] = nbrs\n",
    "    \n",
    "    # Input image\n",
    "    img = plt.imread(IMG_PATH)\n",
    "    plt.imshow(img)\n",
    "    refName = \"src_\" + str(smpl) + \"_\" + str(img.shape[0]) + \"_\" + str(img.shape[1]) +  \"_0.jpg\"\n",
    "    refs[smpl] = refName\n",
    "    imsave(TARGET + refName, img)\n",
    "    \n",
    "    # Collect images around a center (super-super-pixel)\n",
    "    center_dists = pdist(sp_props[:, :2])\n",
    "    center_dist_matrix = squareform(center_dists)\n",
    "    k = 8\n",
    "    k_neighbors = np.argsort(center_dist_matrix, axis=1)[:, 1:k+1]\n",
    "    \n",
    "    # Function to get the dimension of a super-super-pixel\n",
    "    def getXYwithNbrs(v, trsh):\n",
    "        minY, minX, maxY, maxX = sp_props[v, 4:]\n",
    "\n",
    "        for o in k_neighbors[v]:\n",
    "            if texton_dist[v, o] > trsh:\n",
    "                return True, 0, 0, 0, 0\n",
    "\n",
    "            minoY, minoX, maxoY, maxoX = sp_props[o, 4:]\n",
    "\n",
    "            minX = min(minX, minoX)\n",
    "            maxX = max(maxX, maxoX)\n",
    "            minY = min(minY, minoY)\n",
    "            maxY = max(maxY, maxoY)\n",
    "\n",
    "        return False, minX, maxX, minY, maxY\n",
    "    \n",
    "    # Generate photos of super-super-pixel\n",
    "    lenX, lenY = len(img), len(img[0])\n",
    "    mapped[smpl] = {}\n",
    "    #T = 0.7\n",
    "    #T = 1000\n",
    "    T = 0.8\n",
    "    Txtns = np.max(texton_map) + 1\n",
    "\n",
    "    for v in range(0, N):\n",
    "        if v == -1: \n",
    "            continue\n",
    "\n",
    "        # Mark all values equal to v\n",
    "        b, minX, maxX, minY, maxY = getXYwithNbrs(v, T)\n",
    "        if b:\n",
    "            continue\n",
    "\n",
    "        # Crop patch\n",
    "        degree = np.degrees(rotData[v])\n",
    "        H = maxX - minX\n",
    "        W = maxY - minY\n",
    "        buffX = H / 2 #np.min((np.max((20, minX - 1)), lenX - maxX - 1))\n",
    "        buffY = W / 2 #np.min((np.max((20, minY - 1)), lenY - maxY - 1))\n",
    "        patch = img[minY - buffY: maxY + buffY, minX - buffX : maxX + buffX]\n",
    "        #patch2 = img[minX : maxX, minY : maxY]\n",
    "        #imshow(patch2)\n",
    "        #break\n",
    "\n",
    "        # Invalid images (borders, etc.)\n",
    "        if patch.shape[0] == 0 or patch.shape[1] == 0:\n",
    "            continue\n",
    "            \n",
    "        # Temporary\n",
    "        #degree = random.randint(0, 17) * 10\n",
    "        patch = rotate(patch, degree, True)\n",
    "        #imshow(patch)\n",
    "\n",
    "        nCY, nCX, _ = patch.shape\n",
    "        P = np.max((W, H))\n",
    "        patch = patch[(nCY - P) / 2 : (nCY + P) / 2, (nCX - P) / 2 : (nCX + P) / 2]\n",
    "        nCY, nCX, _ = patch.shape\n",
    "        if nCY / nCX > 4 or nCX / nCY > 4:\n",
    "            continue\n",
    "\n",
    "        radius = int(np.round(np.min((nCY, nCX)) / 2))\n",
    "        pointX = int(np.round(maxX - H / 2))\n",
    "        pointY = int(np.round(maxY - W / 2))\n",
    "\n",
    "        textons = [0] * Txtns\n",
    "        '''for r in range(0, radius + 1):\n",
    "            for x in range(0, radius + 1):\n",
    "                for y in range(0, radius + 1):\n",
    "                    if x ** 2 + y ** 2 == r ** 2:\n",
    "                        rx = minX + x\n",
    "                        ry = minY + y\n",
    "                        val = texton_map[ry, rx]\n",
    "                        if val >= 0:\n",
    "                            textons[val] += 1'''\n",
    "\n",
    "        for x in range(int(minX), int(maxX)):\n",
    "            for y in range(int(minY), int(maxY)):\n",
    "                val = texton_map[y, x]\n",
    "                if val >= 0:\n",
    "                    textons[val] += 1\n",
    "\n",
    "        suffixName = \"ref_\" + str(smpl) + \"_\" + str(v) + \"_\" + str(pointX) + \"_\" + str(pointY) + \"_\" + str(radius)\n",
    "        imgName = TARGET + suffixName\n",
    "        mapped[smpl][v] = suffixName\n",
    "        plt.imsave(imgName + \".png\", patch)\n",
    "        plt.clf();\n",
    "        plt.cla();\n",
    "        \n",
    "        plt.hist(range(Txtns), bins=Txtns, weights=textons, normed = True, label=None)\n",
    "        plt.axes().get_xaxis().set_visible(False)\n",
    "        plt.axes().get_yaxis().set_visible(False)\n",
    "        plt.savefig(imgName + '_hist.png')\n",
    "        plt.clf();\n",
    "        plt.cla();\n",
    "        \n",
    "    return mapped, props, dists, refs"
   ]
  },
  {
   "cell_type": "code",
   "execution_count": 8,
   "metadata": {
    "collapsed": false
   },
   "outputs": [],
   "source": []
  },
  {
   "cell_type": "code",
   "execution_count": 247,
   "metadata": {
    "collapsed": false,
    "scrolled": true
   },
   "outputs": [],
   "source": [
    "restoreFromFile = True\n",
    "if restoreFromFile:\n",
    "    from os import listdir\n",
    "    from os.path import isfile, join\n",
    "\n",
    "    mypath = TARGET\n",
    "    onlyfiles = [ f for f in listdir(mypath) if isfile(join(mypath,f)) ]\n",
    "    mapped = {}\n",
    "    refs = {}\n",
    "\n",
    "    for f in onlyfiles:\n",
    "        if f.find(\"src_\") == 0:\n",
    "            cdata = f.split(\"_\")\n",
    "            refs[int(cdata[1])] = f\n",
    "        elif f.find(\"ref_\") == 0 and f.find(\"_hist\") < 0:\n",
    "            cdata = f.split(\"_\")\n",
    "            l1 = int(cdata[1])\n",
    "            l2 = int(cdata[2])\n",
    "            if l1 not in mapped:\n",
    "                mapped[l1] = {}\n",
    "\n",
    "            mapped[l1][l2] = f.split(\".png\")[0]\n",
    "\n",
    "    props = [0] * SAMPLES\n",
    "    dists = [0] * SAMPLES\n",
    "    neighbors = [0] * SAMPLES\n",
    "\n",
    "    for smpl in range(SAMPLES):\n",
    "        #print str(smpl) + \" of  \" + str(SAMPLES)\n",
    "        FNAMES = PROC_PATHS[smpl].replace(\"/\", \"_\")\n",
    "        FPATH = DATA_PATHS[smpl] \n",
    "        IMG_PATH = IMG_PATHS[smpl]\n",
    "        PROC_PATH = PROC_PATHS[smpl]\n",
    "        CODE_NAME = CODE_NAMES[smpl]\n",
    "\n",
    "        # Load segments data\n",
    "        NEIBRS         = FPATH + FNAMES + \"_segm-\" + CODE_NAME + \"_neighbors.npy\"\n",
    "        TEXT_DIST   = FPATH + FNAMES + \"_gabor-blueNisslWide-segm-\" + CODE_NAME + \"-vq-blueNissl_texHistPairwiseDist.npy\" \n",
    "        PROPS          = FPATH + FNAMES + \"_segm-\" + CODE_NAME + \"_spProps.npy\"\n",
    "\n",
    "        nbrs = np.load(NEIBRS)\n",
    "        texton_dist = np.load(TEXT_DIST)\n",
    "        sp_props = np.load(PROPS)\n",
    "        props[smpl] = sp_props\n",
    "        dists[smpl] = texton_dist\n",
    "        neighbors[smpl] = nbrs  \n",
    "        \n",
    "else:\n",
    "    res = Parallel(n_jobs=1)(delayed(worker)(i, mapped) for i in range(1))\n",
    "    mapped2, props2, dists2, refs2 = map(np.array, zip(*res))\n",
    "\n",
    "    mapped = [[]] * SAMPLES\n",
    "    props = [[]] * SAMPLES\n",
    "    dists = [[]] * SAMPLES\n",
    "    refs = {}\n",
    "\n",
    "    for i in range(0, SAMPLES):\n",
    "        mapped[i] = mapped2[i][i]\n",
    "        props[i] = props2[i][i]\n",
    "        dists[i] = dists2[i][i]\n",
    "        refs.update(refs2[i])\n",
    "        \n",
    "    import subprocess\n",
    "\n",
    "    for r in refs:\n",
    "        subprocess.call([\"convert\", TARGET + refs[r], \"-resize\", \"50%\", TARGET + refs[r]]);"
   ]
  },
  {
   "cell_type": "code",
   "execution_count": null,
   "metadata": {
    "collapsed": false
   },
   "outputs": [],
   "source": []
  },
  {
   "cell_type": "code",
   "execution_count": null,
   "metadata": {
    "collapsed": false
   },
   "outputs": [],
   "source": []
  },
  {
   "cell_type": "markdown",
   "metadata": {},
   "source": [
    "## Create Cover"
   ]
  },
  {
   "cell_type": "code",
   "execution_count": 248,
   "metadata": {
    "collapsed": false
   },
   "outputs": [
    {
     "name": "stdout",
     "output_type": "stream",
     "text": [
      "done\n"
     ]
    }
   ],
   "source": [
    "# save the map in case of a crash\n",
    "#file = open(\"images/v2name.pck\", \"w\")\n",
    "#pickle.dump(mapped, file)\n",
    "#file.close()\n",
    "print \"done\""
   ]
  },
  {
   "cell_type": "code",
   "execution_count": 249,
   "metadata": {
    "collapsed": false
   },
   "outputs": [
    {
     "name": "stdout",
     "output_type": "stream",
     "text": [
      "done\n"
     ]
    }
   ],
   "source": [
    "# load the map in case of a crash\n",
    "#file  = open (\"images/v2name.pck\")\n",
    "#mapped = pickle.load(file)\n",
    "#file.close();\n",
    "print \"done\""
   ]
  },
  {
   "cell_type": "code",
   "execution_count": 250,
   "metadata": {
    "collapsed": false
   },
   "outputs": [],
   "source": [
    "layers = []\n",
    "\n",
    "'''# 0 -> 1 : 6\n",
    "layers.append([0, [1324, 1325, 1326, 1327, 1328, 1264, 1329, 1330, 1331, 1332, 1333, 1334, 1335, 1336, 1337, 1430, 1431, \n",
    "                             1432, 1433, 1434, 1435, 1436, 1437, 1438, 1439, 1440, 1441, 1442, 1443, 1444, 1548, 1549, 1550, 1551, 1552, 1553],\n",
    "                         1, [2030, 2032, 2033, 2034, 2035, 2120, 2121, 2122, 2123, 2124, 2215, 2216, 2217, 2218, 2182, 2302, 2304, 2305, \n",
    "                              2306, 2307, 2308, 2258, 2252, 2392, 2394, 2395, 2363, 2354,2478, 2479, 2480, 2501, 2560, 2561, 2562, 2667, 2626, 2645],\n",
    "                         6]);\n",
    "\n",
    "# 0 -> 1 : 7\n",
    "layers.append([0, [3134, 3190, 3147, 3148, 3191, 3192, 3202, 3117, 3128, 3135, 3208, 3193, 3238, 3284, 3285, 3239, 3240,\n",
    "                             3286, 3287, 3241, 3242, 3243, 3303, 3288, 3244, 3371, 3372, 3374, 3375, 3376, 3377, 3378, 3332, 3379, \n",
    "                             3391, 3380, 3381, 3482, 3435, 3465, 3466, 3467, 3468, 3436, 3437, 3574, 3545, 3546, 3547, 3548, 3549,\n",
    "                             3646, 3628, 3629, 3630, 3631, 3711, 3676, 3670, 3679, 3712],\n",
    "                        1, [2835, 2838, 2863, 2822, 2759, 2886, 2836, 2830, 2851, 2839, 2840, 2927, 2928, 2947, 2901, 2891, 2905, 2906, 2998, 2960],\n",
    "                        7]);\n",
    "\n",
    "# 0 -> 1 : 12\n",
    "layers.append([0, [2130, 2139, 2131, 2079, 2021, 1968, 1907, 1921, 1928, 2132, 2133, 2080, 2055, 2249, 2250, 2242, 2243,\n",
    "                              2244, 2181, 2251, 2366, 2367, 2296, 2351, 2355, 2297, 2356, 2472, 2467, 2468, 2410, 2411, 2469, 2524],\n",
    "                        1, [2373, 2338, 2339, 2411, 2422, 2537, 2358, 2359, 2457],\n",
    "                        12]);\n",
    "\n",
    "# 0 -> 1 : 14\n",
    "layers.append([0, [3057, 3115, 3210, 3140, 3211, 3214, 3302, 3226, 3306, 3313, 3316, 3385, 3402, 3405, 3415, 3426, 3439, \n",
    "                             3531, 3502, 3532, 3553, 3510, 3593, 3600, 3618, 3601, 3686, 3695, 3687, 3742],\n",
    "                        1, [2552, 2553, 2554, 2555, 2638, 2639, 2640, 2641, 2706, 2720, 2721, 2722, 2778, 2795, 2796, 2797, 2798, 2837, \n",
    "                            2866, 2867, 2868, 2908, 2915, 2932, 2933, 2982, 2983, 2984, 2971, 3035, 3036, 3037, 3038, 3015, 3039, 3077, \n",
    "                            3085, 3086, 3087, 3088, 3078, 3079, 3117, 3127, 3128, 3129, 3130, 3131, 3132],\n",
    "                        14]);\n",
    "\n",
    "# 1 -> 2: 14\n",
    "layers.append([1, [2093, 2115, 2116, 2210, 2171, 2211, 2212, 2297, 2298, 2299, 2327, 2385, 2386, 2387, 2412, 2475, 2471, 2472, 2470, 2533, 2534, 2535, 2642], \n",
    "                         2, [677, 631, 610, 676, 709, 737, 710, 782, 711, 691, 758, 712, 792, 826, 827, 848, 828, 781, 829, 830, 793, 908, 865, 875, 909, 876, \n",
    "                              910, 911, 912, 913, 993, 956, 994, 995, 996, 997, 998, 999, 1000, 1063, 1064, 1065, 1066, 1067, 1099, 1100, 1197, 1198, 1199, \n",
    "                              1144, 1164, 1303, 1265, 1304, 1266, 1253, 1414, 1415], \n",
    "                        14]);\n",
    "\n",
    "# 2 -> 3: 10\n",
    "layers.append([2, [3214, 3187, 3237, 3273, 3282, 3243, 3274, 3362, 3316, 3348, 3349, 3325, 3350, 3332, 3426, 3378, 3422, 3425, 3391, 3411, 3434, 3482, 3478, 3452, 3522], \n",
    "                         3, [342, 309, 359, 360, 376, 424, 377, 427, 448, 453, 446, 501, 442, 533, 521, 525, 534, 526, 605, 648, 617, 648, 699, 742, 706, 829, 830, 800, 934, 935], \n",
    "                         10]);\n",
    "\n",
    "# 2 -> 3: 11\n",
    "layers.append([2, [550, 575, 630, 677, 631, 610, 676, 709, 737, 710, 762, 711, 691, 758, 712, 792, 826, 827, 848, 828, 781, 829, 830, 907, 908,\n",
    "                             865, 875, 909, 876, 910, 911, 912, 913, 956, 994, 995, 996, 997, 998, 999, 1000, 1001, 1063, 1064, 1065, 1066, 1067, 1099, 1100,\n",
    "                             1198, 1199, 1144, 1164, 1200, 1201, 1304, 1266, 1253, 1305, 1306, 1414, 1415, 1344, 1372, 1515, 1466, 1516, 1625, 1626, 1627, 1732], \n",
    "                         3, [78, 74, 80, 134, 111, 116, 184, 166, 158, 155, 213, 235, 206, 220, 214, 201, 262, 265, 258, 249, 342, 309, 264, 305, 359, 360], \n",
    "                         11]);\n",
    "\n",
    "# 2 -> 3: 12\n",
    "layers.append([2, [3222, 3210, 3166, 3223, 3288, 3292, 3244, 3289, 3301, 3245, 3251,\n",
    "                             3355, 3356, 3357, 3361, 3317, 3333, 3366, 3326, 3366, 3318, 3424,\n",
    "                             3415, 3416, 3395, 3396, 3427, 3397, 3417, 3438, 3472, 3473, 3474,\n",
    "                             3475, 3476, 3526, 3527, 3507, 3508],\n",
    "                         3, [1799, 1746, 1836, 1914, 1965, 1948, 2006, 1937, 2124, 2114,\n",
    "                             2070, 2071, 2047, 2125, 2227, 2158, 2215, 2171, 2228, 2148, 2172,\n",
    "                            2235, 2315, 2271, 2316, 2317, 2259, 2337, 2260, 2318, 2331, 2320,\n",
    "                            2377, 2353, 2378, 2379, 2362, 2438, 2462, 2453, 2480, 2481, 2482],\n",
    "                         12]);\n",
    " \n",
    "# 2 -> 3: 16\n",
    "layers.append([2, [3070, 3063, 3079, 3064, 3168, 3169, 3159, 3227, 3233, 3240,\n",
    "                              3261, 3304, 3311, 3313, 3335, 3371, 3375, 3382, 3420, 3454, \n",
    "                              3455, 3440, 3456, 3495, 3491, 3501, 3513, 3538, 3546, 3550,\n",
    "                              3572, 3586, 3584, 3613, 3587, 3588, 3605, 3589, 3583, 3590, 3610,\n",
    "                              3620, 3650, 3618, 3643, 3626, 3635, 3633, 3636, 3637, 3652,\n",
    "                              3679, 3657, 3674, 3673, 3670, 3668, 3686, 3697, 3696, 3693,\n",
    "                              3689, 3582, 3594, 3598, 3621, 3638, 3644, 3654, 3683, 3669, \n",
    "                              3503, 3545, 3516, 3504, 3517, 3552, 3559, 3561, 3562, 3563,\n",
    "                              3598, 3599, 3606, 3609, 3607, 3581, 3615, 3644, 3625, 3639, \n",
    "                              3645, 3627, 3619, 3649, 3622, 3658, 3665, 3678, 3659, 3655,\n",
    "                              3685, 3682, 3680, 3661, 3661, 3646, 3666, 3681, 3653, 3684,\n",
    "                              3667, 3690, 3675, 3698, 3662, 3687, 3698, 3688, 3701, 3694,\n",
    "                              3702, 3695, 3703, 3691, 3700, 3039, 3013, 3014, 3015, 3016,\n",
    "                              3017, 3103, 3104, 3105, 3106, 3107, 3170, 3199, 3200, 3201,\n",
    "                              3202, 3247, 3264, 3281, 3282, 3320, 3329, 3339, 3330, 3401,\n",
    "                              3402, 3403, 3404, 3448, 3461, 3462, 3463],\n",
    "                        3, [356, 313, 314, 317, 324, 354, 362, 383, 417, 418, 419, 420, 426,\n",
    "                             371, 369, 492, 493, 494, 495, 496, 497, 505, 498, 443, 508, 436,\n",
    "                             445, 438, 499, 575, 576, 577, 578, 579, 580, 581, 582, 528, 591,\n",
    "                             516, 583, 522, 588, 662, 663, 664, 665, 666, 667, 668, 625, 675,\n",
    "                             603, 669, 608, 676, 697, 513, 509, 437, 450, 435, 434, 368, 367, \n",
    "                             365, 366, 593, 589, 520, 584, 517, 511, 439, 432, 422, 429, 423,\n",
    "                             678, 679, 626, 594, 525, 590, 537, 585, 586, 587, 764, 768, 760,\n",
    "                             863, 854, 855, 856, 857, 954, 955, 906, 907, 956, 957, 958, 959,\n",
    "                             960, 961, 962, 963, 979, 1051, 1052, 1053, 1054, 1055, 1056,\n",
    "                             1057, 1058, 1059, 1004, 1061, 1103, 1168, 1082, 1152, 1153, 1154,\n",
    "                             1155, 1156, 1157, 1158, 1167, 1159, 1190, 1256, 1257],\n",
    "                        16]);\n",
    "'''\n",
    "\n",
    "layers = pickle.load(open(\"/Users/idanizhaki/Desktop/WebStem/layers.pck\", \"rb\"))"
   ]
  },
  {
   "cell_type": "code",
   "execution_count": 251,
   "metadata": {
    "collapsed": false
   },
   "outputs": [],
   "source": [
    "for i in range(len(layers)):\n",
    "    layers[i][1] = [n for n in layers[i][1] if n in mapped[layers[i][0]]]\n",
    "    layers[i][3] = [n for n in layers[i][3] if n in mapped[layers[i][2]]]\n",
    "    random.shuffle(layers[i][1])\n",
    "    random.shuffle(layers[i][3])\n",
    "\n",
    "#for i in range(SAMPLES):\n",
    " #   for k in mmapper[i]:\n",
    "  #      mmapper[i][k] = [n for n in mmapper[i][k] if n in mapped[i]]\n",
    "        #random.shuffle(mmapper[i][k])"
   ]
  },
  {
   "cell_type": "code",
   "execution_count": 252,
   "metadata": {
    "collapsed": false
   },
   "outputs": [],
   "source": [
    "#print mmapper[2]"
   ]
  },
  {
   "cell_type": "code",
   "execution_count": 253,
   "metadata": {
    "collapsed": false
   },
   "outputs": [
    {
     "data": {
      "text/plain": [
       "'layers = [];\\n\\nfor i in range(SAMPLES - 1):\\n    for j in range(i + 1, SAMPLES):\\n        for k in mmapper[i]:\\n            if mmapper[i][k] and k in mmapper[j] and mmapper[j][k]:\\n                layers += [(i, mmapper[i][k], j, mmapper[j][k])]\\n                \\n                \\nprint layers'"
      ]
     },
     "execution_count": 253,
     "metadata": {},
     "output_type": "execute_result"
    }
   ],
   "source": [
    "'''layers = [];\n",
    "\n",
    "for i in range(SAMPLES - 1):\n",
    "    for j in range(i + 1, SAMPLES):\n",
    "        for k in mmapper[i]:\n",
    "            if mmapper[i][k] and k in mmapper[j] and mmapper[j][k]:\n",
    "                layers += [(i, mmapper[i][k], j, mmapper[j][k])]\n",
    "                \n",
    "                \n",
    "print layers'''"
   ]
  },
  {
   "cell_type": "code",
   "execution_count": 254,
   "metadata": {
    "collapsed": false
   },
   "outputs": [],
   "source": [
    "'''\n",
    "lay0n14 = [n for n in lay0n14 if n in mapped[0]]\n",
    "lay1n14 = [n for n in lay1n14 if n in mapped[1]]\n",
    "\n",
    "lay0n6 = [n for n in lay0n6 if n in mapped[0]]\n",
    "lay1n6 = [n for n in lay1n6 if n in mapped[1]]\n",
    "\n",
    "print \"Layer 14\"\n",
    "print lay0n14\n",
    "print lay1n14\n",
    "\n",
    "print \"Layer 6\"\n",
    "print lay0n6\n",
    "print lay1n6\n",
    "\n",
    "layers = [(lay0n14, lay1n14), (lay0n6, lay1n6)]\n",
    "'''\n",
    "\n",
    "def overlaps(layer1, spxl1, layer2, spxl2):\n",
    "    if layer1 == 0:\n",
    "        return spxl1 in lay0n14 and spxl2 in lay1n14\n",
    "    return spxl2 in lay0n14 and spxl1 in lay1n14"
   ]
  },
  {
   "cell_type": "code",
   "execution_count": 255,
   "metadata": {
    "collapsed": false
   },
   "outputs": [],
   "source": [
    "Td = 700  # Pixels distance\n",
    "Th = 0.75  # Histogram distance"
   ]
  },
  {
   "cell_type": "code",
   "execution_count": 256,
   "metadata": {
    "collapsed": false
   },
   "outputs": [
    {
     "name": "stdout",
     "output_type": "stream",
     "text": [
      "1\n",
      "2\n",
      "3\n",
      "4\n",
      "5\n",
      "6\n",
      "7\n",
      "8\n",
      "9\n",
      "10\n",
      "11\n",
      "12\n",
      "13\n",
      "14\n",
      "15\n",
      "16\n",
      "17\n",
      "18\n"
     ]
    }
   ],
   "source": [
    "index = 1;\n",
    "for idx in range(len(layers)):\n",
    "    tuples = layers[idx];\n",
    "    \n",
    "    smpl1 = tuples[0];\n",
    "    smpl2 = tuples[2];\n",
    "    \n",
    "    potential1 = tuples[1]\n",
    "    toRemove1 = set()\n",
    "    \n",
    "    for i in range(len(potential1)):\n",
    "        tuples = layers[idx];\n",
    "        vI = potential1[i]\n",
    "        \n",
    "        centI = props[smpl1][vI][:2]\n",
    "        #nbrsI = [x for x in potential1 if x != vI and numpy.linalg.norm(centI - props[smpl1][x][:2]) < Td and dists[smpl1][vI, x] < Th]\n",
    "        nbrsI = [x for x in potential1 if x != vI and dists[smpl1][vI, x] < Th and np.linalg.norm(centI - props[smpl1][x][:2]) < Td]\n",
    "        \n",
    "        potential2 = tuples[3]\n",
    "        toRemove2 = set()\n",
    "        \n",
    "        for j in range(len(potential2)):\n",
    "            vJ = potential2[j]\n",
    "            \n",
    "            try:\n",
    "                centJ = props[smpl2][vJ][:2]\n",
    "            except:\n",
    "                continue\n",
    "            \n",
    "            nbrsJ = [x for x in potential2 if x != vJ and dists[smpl2][vJ, x] < Th and np.linalg.norm(centI - props[smpl2][x][:2]) < Td]\n",
    "        \n",
    "            lenI = len(nbrsI)\n",
    "            lenJ = len(nbrsJ)\n",
    "            if lenI + lenJ < 32:\n",
    "                continue            \n",
    "\n",
    "            if (lenI < 7 or lenJ < 7):\n",
    "                continue\n",
    "            if (lenI < 16):\n",
    "                nbrsJ = nbrsJ[: 16 + 16 - lenI]\n",
    "            elif (lenJ < 16):\n",
    "                nbrsI = nbrsI[: 16 + 16 - lenJ]\n",
    "            else:\n",
    "                nbrsI = nbrsI[: 16]\n",
    "                nbrsJ = nbrsJ[: 16]\n",
    "        \n",
    "            \n",
    "            folderName = TARGET + \"group_\" + str(index) + \"/\"\n",
    "            shutil.rmtree(folderName, True)\n",
    "            os.mkdir(folderName)\n",
    "\n",
    "            toRemove1.add(vI)\n",
    "            mFile = mapped[smpl1][vI]\n",
    "            os.symlink(\"../\" + mFile + \".png\", folderName + \"img_\" + mFile + \".png\")\n",
    "            os.symlink(\"../\" + mFile + \"_hist.png\", folderName + \"hist_\" + mFile  + \".png\")\n",
    "\n",
    "            toRemove2.add(vJ)\n",
    "            mFile = mapped[smpl2][vJ]\n",
    "            os.symlink(\"../\" + mFile + \".png\", folderName + \"img_\" + mFile + \".png\")\n",
    "            os.symlink(\"../\" + mFile + \"_hist.png\", folderName + \"hist_\" + mFile  + \".png\")\n",
    "    \n",
    "            for n in nbrsI:\n",
    "                toRemove1.add(n)\n",
    "                mFile = mapped[smpl1][n]\n",
    "                os.symlink(\"../\" + mFile + \".png\", folderName + mFile + \".png\")\n",
    "\n",
    "            for n in nbrsJ:\n",
    "                toRemove2.add(n)\n",
    "                mFile = mapped[smpl2][n]\n",
    "                os.symlink(\"../\" + mFile + \".png\", folderName + mFile + \".png\")\n",
    "\n",
    "            os.symlink(\"../\" + refs[smpl1], folderName + \"org_\" + str(smpl1));\n",
    "            os.symlink(\"../\" + refs[smpl2], folderName + \"org_\" + str(smpl2));\n",
    "\n",
    "            #print index\n",
    "            print index\n",
    "            index += 1 \n",
    "            i -= 1\n",
    "            break\n",
    "            \n",
    "        if toRemove2:\n",
    "            potential2 = [v for v in potential2 if not v in toRemove2]\n",
    "            layers[idx] = (smpl1, potential1, smpl2, potential2)\n",
    "            \n",
    "    if toRemove1:\n",
    "        potential1 = [v for v in potential1 if not v in toRemove1]\n",
    "        layers[idx] = (smpl1, potential1, smpl2, potential2)"
   ]
  },
  {
   "cell_type": "raw",
   "metadata": {},
   "source": []
  },
  {
   "cell_type": "code",
   "execution_count": null,
   "metadata": {
    "collapsed": false
   },
   "outputs": [],
   "source": []
  },
  {
   "cell_type": "code",
   "execution_count": null,
   "metadata": {
    "collapsed": false
   },
   "outputs": [],
   "source": []
  },
  {
   "cell_type": "code",
   "execution_count": null,
   "metadata": {
    "collapsed": false
   },
   "outputs": [],
   "source": []
  },
  {
   "cell_type": "code",
   "execution_count": null,
   "metadata": {
    "collapsed": false
   },
   "outputs": [],
   "source": []
  },
  {
   "cell_type": "code",
   "execution_count": null,
   "metadata": {
    "collapsed": false
   },
   "outputs": [],
   "source": []
  },
  {
   "cell_type": "code",
   "execution_count": null,
   "metadata": {
    "collapsed": false
   },
   "outputs": [],
   "source": []
  },
  {
   "cell_type": "code",
   "execution_count": null,
   "metadata": {
    "collapsed": false
   },
   "outputs": [],
   "source": []
  },
  {
   "cell_type": "code",
   "execution_count": null,
   "metadata": {
    "collapsed": false
   },
   "outputs": [],
   "source": []
  },
  {
   "cell_type": "code",
   "execution_count": 194,
   "metadata": {
    "collapsed": false
   },
   "outputs": [],
   "source": []
  },
  {
   "cell_type": "code",
   "execution_count": null,
   "metadata": {
    "collapsed": false
   },
   "outputs": [],
   "source": []
  },
  {
   "cell_type": "code",
   "execution_count": null,
   "metadata": {
    "collapsed": false
   },
   "outputs": [],
   "source": []
  },
  {
   "cell_type": "code",
   "execution_count": null,
   "metadata": {
    "collapsed": false
   },
   "outputs": [],
   "source": []
  },
  {
   "cell_type": "code",
   "execution_count": null,
   "metadata": {
    "collapsed": false
   },
   "outputs": [],
   "source": []
  },
  {
   "cell_type": "code",
   "execution_count": null,
   "metadata": {
    "collapsed": false
   },
   "outputs": [],
   "source": []
  },
  {
   "cell_type": "code",
   "execution_count": 6,
   "metadata": {
    "collapsed": false
   },
   "outputs": [
    {
     "name": "stdout",
     "output_type": "stream",
     "text": [
      "[]\n",
      "[1230, 1335, 1434, 1542]\n"
     ]
    },
    {
     "data": {
      "text/plain": [
       "'\\nfor p in Pairs:\\n    if p[0] in potential:\\n        potential.remove(p[0])\\n    if p[1] in potential:    \\n        potential.remove(p[1])\\n        \\nprint potential\\n'"
      ]
     },
     "execution_count": 6,
     "metadata": {},
     "output_type": "execute_result"
    }
   ],
   "source": [
    "maxKey = max(mapped.keys())\n",
    "potential = list(sort(mapped.keys()))\n",
    "\n",
    "Pair14 = [3023, 3057, 3039, 3115, 3210, 3121, 3140, 3211, 3214, 3302, 3226, 3247, 3306, 3313, 3316, 3385, 3402, 3405, 3415, 3426, 3439, 3531, 3502, 3532, 3553, 3510, 3593, 3600, 3618, 3601, 3663, 3686, 3695, 3717, 3687, 3742]\n",
    "Pair6 = [1230, 1275, 1323, 1324, 1325, 1326, 1327, 1328, 1264, 1329, 1330, 1331, 1332, 1333, 1334, 1335, 1336,  1428, 1429, 1430, 1431, 1432, 1433, 1434, 1435, 1436, 1437, 1438, 1439, 1440, 1441, 1442, 1443, 1541, 1542, 1543, 1544, 1545, 1546, 1547, 1548, 1549, 1550, 1551, 1552, 1553, 1554, 1555, 1556]\n",
    "\n",
    "keys14 = [key for key in Pair14 if key in mapped ]\n",
    "keys6 = [key for key in Pair6 if key in mapped ]\n",
    "        \n",
    "print keys14\n",
    "print keys6\n",
    "\n",
    "rkeys14 = []\n",
    "rkeys6 = []\n",
    "\n",
    "for i in range(0, len(potential)):\n",
    "    if potential[i] in keys14:\n",
    "        rkeys14.append(i)\n",
    "    if potential[i] in keys6:\n",
    "        rkeys6.append(i)\n",
    "        \n",
    "Pairs = []\n",
    "for k14 in rkeys14:\n",
    "    for k6 in rkeys6:\n",
    "        Pairs.append((k6, k14))\n",
    "    \n",
    "'''\n",
    "for p in Pairs:\n",
    "    if p[0] in potential:\n",
    "        potential.remove(p[0])\n",
    "    if p[1] in potential:    \n",
    "        potential.remove(p[1])\n",
    "        \n",
    "print potential\n",
    "'''"
   ]
  },
  {
   "cell_type": "code",
   "execution_count": 7,
   "metadata": {
    "collapsed": false
   },
   "outputs": [
    {
     "name": "stdout",
     "output_type": "stream",
     "text": [
      "[]\n"
     ]
    },
    {
     "data": {
      "text/plain": [
       "'\\nwhile potential:\\n    folderName = TARGET + \"group_\" + str(index) + \"/\"\\n    shutil.rmtree(folderName, True)\\n\\n    candidate = potential.popitem()\\n    nS.add(candidate)\\n    \\n    iter = potential.iteritems()\\n    remove = set()\\n    \\n    \\n    while True:\\n        try:\\n            next = iter.next()\\n        except:\\n            break\\n        succ = True\\n        v1 = next[0]\\n        for k in nS:\\n            v2 = k[0]\\n          #  print v1, v2\\n            if texton_dist[v1, v2] > T:\\n                succ = False\\n                break\\n        \\n        if succ:\\n            remove.add(next[0])\\n            nS.add(next)\\n            \\n    for i in remove:\\n        del potential[i]\\n        \\n    if (len(nS) >= 8):\\n        os.mkdir(folderName)\\n        #os.mkdir(folderName + \"images\")\\n        for n in nS:\\n            print n[1], folderName + n[1]\\n            os.symlink(n[1], folderName + n[1])\\n        index = index + 1\\n        S.append(nS)\\n    nS = set()\\n    \\nfor s in S:\\n    print s\\n    \\n'"
      ]
     },
     "execution_count": 7,
     "metadata": {},
     "output_type": "execute_result"
    }
   ],
   "source": [
    "N = len(potential)\n",
    "index = 1\n",
    "T = 0.10\n",
    "S = []\n",
    "nS = set()\n",
    "\n",
    "print Pairs\n",
    "\n",
    "i = 0\n",
    "for (i, j) in Pairs:\n",
    "    vI = potential[i]\n",
    "    centI = sp_props[vI][:2]\n",
    "    chosen = [vI]\n",
    "    \n",
    "    vJ = potential[j]\n",
    "    centJ = sp_props[vJ][:2]\n",
    "    \n",
    "    chosen += [vJ]        \n",
    "        \n",
    "    changed = False\n",
    "\n",
    "    for k in range(1, len(potential)):\n",
    "        if k == i or k == j:\n",
    "            continue\n",
    "        \n",
    "        vK = potential[k]\n",
    "        centK = sp_props[vK][:2]\n",
    "\n",
    "        distIKd = np.sqrt(sum((centI - centK)**2))\n",
    "        if distIKd < Td:\n",
    "            distJKd = np.sqrt(sum((centJ - centK)**2))\n",
    "            if distJKd < Td:\n",
    "                continue\n",
    "\n",
    "        distIKh = texton_dist[vI, vK]\n",
    "        if distIKh > Th:\n",
    "            distJKh = texton_dist[vJ, vK]\n",
    "            if distJKh > Th:\n",
    "                continue\n",
    "\n",
    "        changed = True\n",
    "        chosen += [vK]\n",
    "        #if len(chosen) >= 34:\n",
    "          #  break\n",
    "\n",
    "    if not changed:\n",
    "        continue\n",
    "\n",
    "    i += 1\n",
    "    if len(chosen) < 34:\n",
    "        continue\n",
    "\n",
    "    folderName = TARGET + \"group_\" + str(index) + \"/\"\n",
    "    shutil.rmtree(folderName, True)\n",
    "    os.mkdir(folderName)\n",
    "    \n",
    "    #print mapped\n",
    "    for n in chosen:\n",
    "        fle = mapped[n]\n",
    "        #print folderName + fle\n",
    "        potential.remove(n)\n",
    "        os.symlink(fle, folderName + fle)\n",
    "    \n",
    "    #print chosen[0]\n",
    "    #break\n",
    "    index += 1    \n",
    "\n",
    "'''\n",
    "while potential:\n",
    "    folderName = TARGET + \"group_\" + str(index) + \"/\"\n",
    "    shutil.rmtree(folderName, True)\n",
    "\n",
    "    candidate = potential.popitem()\n",
    "    nS.add(candidate)\n",
    "    \n",
    "    iter = potential.iteritems()\n",
    "    remove = set()\n",
    "    \n",
    "    \n",
    "    while True:\n",
    "        try:\n",
    "            next = iter.next()\n",
    "        except:\n",
    "            break\n",
    "        succ = True\n",
    "        v1 = next[0]\n",
    "        for k in nS:\n",
    "            v2 = k[0]\n",
    "          #  print v1, v2\n",
    "            if texton_dist[v1, v2] > T:\n",
    "                succ = False\n",
    "                break\n",
    "        \n",
    "        if succ:\n",
    "            remove.add(next[0])\n",
    "            nS.add(next)\n",
    "            \n",
    "    for i in remove:\n",
    "        del potential[i]\n",
    "        \n",
    "    if (len(nS) >= 8):\n",
    "        os.mkdir(folderName)\n",
    "        #os.mkdir(folderName + \"images\")\n",
    "        for n in nS:\n",
    "            print n[1], folderName + n[1]\n",
    "            os.symlink(n[1], folderName + n[1])\n",
    "        index = index + 1\n",
    "        S.append(nS)\n",
    "    nS = set()\n",
    "    \n",
    "for s in S:\n",
    "    print s\n",
    "    \n",
    "'''"
   ]
  },
  {
   "cell_type": "code",
   "execution_count": 8,
   "metadata": {
    "collapsed": false
   },
   "outputs": [
    {
     "name": "stdout",
     "output_type": "stream",
     "text": [
      "Done\n"
     ]
    }
   ],
   "source": [
    "print \"Done\""
   ]
  },
  {
   "cell_type": "code",
   "execution_count": null,
   "metadata": {
    "collapsed": false
   },
   "outputs": [],
   "source": [
    "\n",
    "\n",
    "for smpl1 in range(0, SAMPLES - 1):\n",
    "    maxKey1 = max(mapped[smpl1].keys())\n",
    "    potential1 = list(sort(mapped[smpl1].keys()))\n",
    "    index = 1\n",
    "    count = 0\n",
    "    \n",
    "    for smpl2 in range(smpl1 + 1, SAMPLES):\n",
    "        maxKey2 = max(mapped[smpl2].keys())\n",
    "        potential2 = list(sort(mapped[smpl2].keys()))\n",
    "        n1 = len(potential1)\n",
    "        \n",
    "        for i in range(n1):\n",
    "            vI = potential1[i]\n",
    "            centI = props[smpl1][vI][:2]\n",
    "            nbrsI = [x for x in potential1 if x != i and numpy.linalg.norm(centI - props[smpl1][x][:2]) < Td and dists[smpl1][vI, x] < Th]\n",
    "            \n",
    "            chosen = [(smpl1, vI)]\n",
    "            n2 = len(potential2)\n",
    "                \n",
    "            for j in range(n2):            \n",
    "                #print n2, len(potential2)\n",
    "                vJ = potential2[j]\n",
    "                \n",
    "                if not overlaps(smpl1, vI, smpl2, vJ):\n",
    "                    continue\n",
    "                    \n",
    "                centJ = props[smpl2][vJ][:2]\n",
    "                nbrsJ = [x for x in potential2 if x != j and numpy.linalg.norm(centJ - props[smpl2][x][:2]) < Td and dists[smpl1][vJ, x] < Th]\n",
    "                \n",
    "                if len(nbrsI) + len(nbrsJ) < 32:\n",
    "                    continue\n",
    "\n",
    "                print len(nbrsI), len(nbrsJ)\n",
    "                fdsf\n",
    "                \n",
    "                \n",
    "                # Check right distances\n",
    "                distIKd = np.sqrt(sum((centI - centK)**2))\n",
    "                if distIKd < Td:\n",
    "                    distJKd = np.sqrt(sum((centJ - centK)**2))\n",
    "                    if distJKd < Td:\n",
    "                        continue\n",
    "\n",
    "                distIKh = texton_dist[vI, vK]\n",
    "                if distIKh > Th:\n",
    "                    distJKh = texton_dist[vJ, vK]\n",
    "                    if distJKh > Th:\n",
    "                        continue\n",
    "                \n",
    "                #centJ = sp_props[smpl2][vJ][:2]\n",
    "\n",
    "                chosen += [(smpl2, vJ)]\n",
    "                if (len(chosen) >= 34):\n",
    "                    break\n",
    "\n",
    "            if len(chosen) < 34:\n",
    "                continue\n",
    "\n",
    "            folderName = TARGET + \"group_\" + str(index) + \"/\"\n",
    "            shutil.rmtree(folderName, True)\n",
    "            os.mkdir(folderName)\n",
    "    \n",
    "            #print mapped\n",
    "            for (k, n) in chosen:\n",
    "                mFile = mapped[k][n]\n",
    "                #print folderName + mFile\n",
    "                if k == smpl1:\n",
    "                    print k\n",
    "                    #potential1.remove(n)\n",
    "                else:\n",
    "                    potential2.remove(n)\n",
    "                    \n",
    "                if count < 2:\n",
    "                    os.symlink(\"../\" + mFile + \".png\", folderName + \"img_\" + mFile + \".png\")\n",
    "                    os.symlink(\"../\" + mFile + \"_hist.png\", folderName + \"hist_\" + mFile  + \".png\")\n",
    "                else:\n",
    "                    os.symlink(\"../\" + mFile + \".png\", folderName + mFile + \".png\")\n",
    "                count += 1\n",
    "            \n",
    "            os.symlink(\"../\" + refs[smpl1], folderName + \"org_\" + str(smpl1));\n",
    "            os.symlink(\"../\" + refs[smpl2], folderName + \"org_\" + str(smpl2));\n",
    "    \n",
    "            #print chosen[0]\n",
    "            #break\n",
    "            index += 1    \n",
    "            count = 0"
   ]
  }
 ],
 "metadata": {
  "kernelspec": {
   "display_name": "Python 2",
   "language": "python",
   "name": "python2"
  },
  "language_info": {
   "codemirror_mode": {
    "name": "ipython",
    "version": 2
   },
   "file_extension": ".py",
   "mimetype": "text/x-python",
   "name": "python",
   "nbconvert_exporter": "python",
   "pygments_lexer": "ipython2",
   "version": "2.7.8"
  }
 },
 "nbformat": 4,
 "nbformat_minor": 0
}
