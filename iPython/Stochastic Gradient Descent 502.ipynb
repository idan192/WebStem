{
 "metadata": {
  "name": "",
  "signature": "sha256:4b191d1668b7a6cfa81fc566a2c9817c5a1582c99eaceeda2f75cd9558902034"
 },
 "nbformat": 3,
 "nbformat_minor": 0,
 "worksheets": [
  {
   "cells": [
    {
     "cell_type": "code",
     "collapsed": false,
     "input": [
      "import numpy as np\n",
      "#save  matrix\n",
      "file = open(\"/home/iizhaki/oasis/CSE255/MatrixReorder502.pck\")\n",
      "matrix =np.load(file)\n",
      "file.close()\n",
      "print \"done\"\n",
      "\n",
      "#save  matrix\n",
      "file = open(\"/home/iizhaki/oasis/CSE255/YsReorder502.pck\")\n",
      "rankingR = np.load(file)\n",
      "file.close()\n",
      "print \"done\"\n",
      "\n",
      "#save  matrix\n",
      "file = open(\"/home/iizhaki/oasis/CSE255/IndexReorder502.pck\")\n",
      "indexes= np.load(file)\n",
      "file.close()\n",
      "print \"done\"\n",
      "\n",
      "print indexes[:20]\n",
      "X = [matrix[i] for i in indexes]\n",
      "y = [rankingR[i] for i in indexes]\n",
      "\n",
      "\n",
      "n = int(len(X) * 0.7)\n",
      "X_train_org = np.array(X[:n])\n",
      "y_train_org = np.array(y[:n])\n",
      "\n",
      "X_test_org = np.array(X[n:])\n",
      "y_test_org = np.array(y[n:])"
     ],
     "language": "python",
     "metadata": {},
     "outputs": [
      {
       "output_type": "stream",
       "stream": "stdout",
       "text": [
        "done\n",
        "done"
       ]
      },
      {
       "output_type": "stream",
       "stream": "stdout",
       "text": [
        "\n",
        "done"
       ]
      },
      {
       "output_type": "stream",
       "stream": "stdout",
       "text": [
        "\n",
        "[ 573812 1055387   93280 1232988  917762 1230238 1010895  520368 1351840\n",
        "   38040  294156   77051  166163  328957  316261 1301367  485036  728258\n",
        "  560926  814129]\n"
       ]
      }
     ],
     "prompt_number": 82
    },
    {
     "cell_type": "code",
     "collapsed": false,
     "input": [
      "n = int(len(X) * 0.7)\n",
      "X_train = X_train_org #[:n]\n",
      "y_train = y_train_org #[:n]\n",
      "X_test = X_test_org #[n:]\n",
      "y_test = y_test_org #[n:]"
     ],
     "language": "python",
     "metadata": {},
     "outputs": [],
     "prompt_number": 83
    },
    {
     "cell_type": "code",
     "collapsed": false,
     "input": [
      "import pylab as pl\n",
      "\n",
      "from sklearn.linear_model import SGDRegressor\n",
      "from sklearn.datasets.samples_generator import make_regression\n",
      "from sklearn.preprocessing import *\n",
      "from sklearn import preprocessing\n",
      "from sklearn.preprocessing import StandardScaler\n",
      "\n",
      "import time\n",
      "import timeit"
     ],
     "language": "python",
     "metadata": {},
     "outputs": [],
     "prompt_number": 84
    },
    {
     "cell_type": "code",
     "collapsed": false,
     "input": [
      "print X_train.shape, y_train.shape"
     ],
     "language": "python",
     "metadata": {},
     "outputs": [
      {
       "output_type": "stream",
       "stream": "stdout",
       "text": [
        "(1126994, 502) (1126994,)\n"
       ]
      }
     ],
     "prompt_number": 85
    },
    {
     "cell_type": "code",
     "collapsed": false,
     "input": [
      "X_train = X_train.astype(float)\n",
      "y_train = y_train.astype(float)\n",
      "\n",
      "\n",
      "X_test = X_test.astype(float)\n",
      "y_test = y_test.astype(float)\n",
      "\n",
      "print y_train[0], y[0]\n",
      "#X_test = preprocessing.scale(X_test.astype(float))\n",
      "#y_test = preprocessing.scale(y_test.astype(float))"
     ],
     "language": "python",
     "metadata": {},
     "outputs": [
      {
       "output_type": "stream",
       "stream": "stdout",
       "text": [
        "4.0 4.0\n"
       ]
      }
     ],
     "prompt_number": 86
    },
    {
     "cell_type": "code",
     "collapsed": false,
     "input": [
      "scaler = MinMaxScaler().fit(X_train)\n",
      "\n",
      "X_train = scaler.transform(X_train)"
     ],
     "language": "python",
     "metadata": {},
     "outputs": [],
     "prompt_number": 87
    },
    {
     "cell_type": "code",
     "collapsed": false,
     "input": [
      "scaler = MinMaxScaler().fit(X_test)\n",
      "\n",
      "X_test = scaler.transform(X_test)"
     ],
     "language": "python",
     "metadata": {},
     "outputs": [],
     "prompt_number": 88
    },
    {
     "cell_type": "code",
     "collapsed": false,
     "input": [
      "# run the classifier - there are parameters for L1/L2 regularization - see link below!!!!!!!!!!!!!!!!!!!!!!!!!!!!!!!!!!!!!!!!!!!!!\n",
      "clf = SGDRegressor(n_iter = 5)\n",
      "\n",
      "start = time.time()\n",
      "\n",
      "clf.fit(X_train, y_train)\n",
      "\n",
      "end = time.time()\n",
      "finished = end - start\n",
      "print finished\n",
      "\n",
      "# and plot the result\n",
      "#pl.scatter(X, Y, color='black')\n",
      "#pl.plot(X, clf.predict(X), color='blue', linewidth=3)\n",
      "#pl.show()"
     ],
     "language": "python",
     "metadata": {},
     "outputs": [
      {
       "output_type": "stream",
       "stream": "stdout",
       "text": [
        "11.4606080055\n"
       ]
      }
     ],
     "prompt_number": 9
    },
    {
     "cell_type": "code",
     "collapsed": false,
     "input": [
      "def predict(data, theta):\n",
      "    theta = numpy.matrix(theta)\n",
      "    prediction = [theta * d.T  for d in data]\n",
      "    return prediction\n",
      "\n",
      "#prediction_training = predict(X, thetax)\n",
      "\n",
      "def MSE(prediction, real):\n",
      "    squares = [ (p - r)**2 for p,r in zip (prediction,real) ]\n",
      "    return numpy.mean(squares)\n",
      "\n",
      "\n",
      "#print \" MSE training\", MSE(prediction_training, y )"
     ],
     "language": "python",
     "metadata": {},
     "outputs": [],
     "prompt_number": 10
    },
    {
     "cell_type": "code",
     "collapsed": false,
     "input": [
      "import scipy\n",
      "ptrain = clf.predict(X_train)\n",
      "ytrain = [e for e in y_train]\n",
      "\n",
      "ptrain = [e for e in ptrain]\n",
      "ptrain = [e if e <= 5 else 5. for e in ptrain]\n",
      "ptrain = [e if e >= 1 else 1. for e in ptrain ]\n",
      "\n",
      "mse = MSE(ptrain, ytrain)\n",
      "var = MSE(ytrain, [mean(ytrain)] * len(ytrain))\n",
      "print \"MSE training\", mse\n",
      "print \"Var\", var\n",
      "print \" FVU training\", (mse / var)"
     ],
     "language": "python",
     "metadata": {},
     "outputs": [
      {
       "output_type": "stream",
       "stream": "stdout",
       "text": [
        "MSE training 0.828062087924\n",
        "Var 1.39814050275\n",
        " FVU training 0.592259566401\n"
       ]
      }
     ],
     "prompt_number": 11
    },
    {
     "cell_type": "code",
     "collapsed": false,
     "input": [
      "ptest = clf.predict(X_test)\n",
      "ytest = [e for e in y_test]\n",
      "ptest = [e for e in ptest]\n",
      "ptest = [e if e <= 5 else 5. for e in ptest]\n",
      "ptest = [e if e >= 1 else 1. for e in ptest ]\n",
      "\n",
      "mse = MSE(ptest, ytest)\n",
      "var = MSE(ytest, [mean(ytest)] * len(ytest))\n",
      "print \"MSE testing\", mse\n",
      "print \"Var testing\", var\n",
      "print \" FVU testing\", (mse / var)"
     ],
     "language": "python",
     "metadata": {},
     "outputs": [
      {
       "output_type": "stream",
       "stream": "stdout",
       "text": [
        "MSE testing 0.829286981288\n",
        "Var testing 1.40083603823\n",
        " FVU testing 0.591994322432\n"
       ]
      }
     ],
     "prompt_number": 12
    },
    {
     "cell_type": "code",
     "collapsed": false,
     "input": [
      "print sum([p for p in ptrain if p > 5 or p < 1]) / len(ptrain)\n",
      "print sum([p for p in ptest if p > 5 or p < 1]) / len(ptrain)"
     ],
     "language": "python",
     "metadata": {},
     "outputs": [
      {
       "output_type": "stream",
       "stream": "stdout",
       "text": [
        "0.0\n",
        "0.0"
       ]
      },
      {
       "output_type": "stream",
       "stream": "stdout",
       "text": [
        "\n"
       ]
      }
     ],
     "prompt_number": 27
    },
    {
     "cell_type": "code",
     "collapsed": false,
     "input": [
      "# class sklearn.linear_model.SGDRegressor(loss='squared_loss', penalty='l2', alpha=0.0001, l1_ratio=0.15, fit_intercept=True, n_iter=5, shuffle=False, verbose=0, epsilon=0.1, random_state=None, learning_rate='invscaling', eta0=0.01, power_t=0.25, warm_start=False)\n",
      "# http://scikit-learn.org/stable/modules/generated/sklearn.linear_model.SGDRegressor.html"
     ],
     "language": "python",
     "metadata": {},
     "outputs": []
    },
    {
     "cell_type": "code",
     "collapsed": false,
     "input": [],
     "language": "python",
     "metadata": {},
     "outputs": []
    },
    {
     "cell_type": "code",
     "collapsed": false,
     "input": [
      "start = time.time()\n",
      "\n",
      "thetax,residualsx,rankx,sx = numpy.linalg.lstsq(X_train, y_train)\n",
      "\n",
      "end = time.time()\n",
      "finished = end - start\n",
      "print finished"
     ],
     "language": "python",
     "metadata": {},
     "outputs": [
      {
       "output_type": "stream",
       "stream": "stdout",
       "text": [
        "423.524701834\n"
       ]
      }
     ],
     "prompt_number": 89
    },
    {
     "cell_type": "code",
     "collapsed": false,
     "input": [
      "def predict(data, theta):\n",
      "    theta = numpy.matrix(theta)\n",
      "    prediction = [theta*numpy.matrix(d).T  for d in data]\n",
      "    return prediction\n",
      "\n",
      "prediction_training = predict(X_train, thetax)\n",
      "\n",
      "def MSE(prediction, real):\n",
      "    squares = [ (p - r)**2 for p,r in zip (prediction,real) ]\n",
      "    return numpy.mean(squares)\n",
      "\n",
      "y = [e for e in y_train]\n",
      "p = [e for e in prediction_training]\n",
      "\n",
      "mse = MSE(p, y)\n",
      "var = MSE(y, [mean(y)] * len(y))\n",
      "print \"MSE training\", mse\n",
      "print \"Var\", var\n",
      "print \" FVU training\", (mse / var)"
     ],
     "language": "python",
     "metadata": {},
     "outputs": [
      {
       "output_type": "stream",
       "stream": "stdout",
       "text": [
        "MSE training 0.83264986246\n",
        "Var 1.39814050275\n",
        " FVU training 0.595540906529\n"
       ]
      }
     ],
     "prompt_number": 90
    },
    {
     "cell_type": "code",
     "collapsed": false,
     "input": [
      "prediction_testing = predict(X_test, thetax)\n",
      "\n",
      "y = [e for e in y_test]\n",
      "p = [e for e in prediction_testing]\n",
      "\n",
      "mse = MSE(p, y)\n",
      "var = MSE(y, [mean(y)] * len(y))\n",
      "print \"MSE testing\", mse\n",
      "print \"Var\", var\n",
      "print \" FVU testing\", (mse / var)"
     ],
     "language": "python",
     "metadata": {},
     "outputs": [
      {
       "output_type": "stream",
       "stream": "stdout",
       "text": [
        "MSE testing 0.834613568009\n",
        "Var 1.40083603823\n",
        " FVU testing 0.595796756532\n"
       ]
      }
     ],
     "prompt_number": 93
    },
    {
     "cell_type": "heading",
     "level": 2,
     "metadata": {},
     "source": [
      "Graphs of lambda"
     ]
    },
    {
     "cell_type": "code",
     "collapsed": false,
     "input": [
      "res = {}"
     ],
     "language": "python",
     "metadata": {},
     "outputs": [],
     "prompt_number": 77
    },
    {
     "cell_type": "code",
     "collapsed": false,
     "input": [
      "\n",
      "for l in range(0, 21):\n",
      "    a = l * 0.01\n",
      "    # run the classifier - there are parameters for L1/L2 regularization - see link below!!!!!!!!!!!!!!!!!!!!!!!!!!!!!!!!!!!!!!!!!!!!!\n",
      "    clf = SGDRegressor(n_iter = 5, alpha = a, penalty = 'l1')\n",
      "\n",
      "    start = time.time()\n",
      "\n",
      "    clf.fit(X_train, y_train)\n",
      "\n",
      "    end = time.time()\n",
      "    finished = end - start\n",
      "    print finished\n",
      "\n",
      "    ptest = clf.predict(X_test)\n",
      "    ytest = [e for e in y_test]\n",
      "    ptest = [e for e in ptest]\n",
      "    ptest = [e if e <= 5 else 5. for e in ptest]\n",
      "    ptest = [e if e >= 1 else 1. for e in ptest ]\n",
      "\n",
      "    mse = MSE(ptest, ytest)\n",
      "    var = MSE(ytest, [mean(ytest)] * len(ytest))\n",
      "    print \"MSE testing\", mse\n",
      "    print \"Var testing\", var\n",
      "    print \" FVU testing\", (mse / var)\n",
      "    \n",
      "    res[a] =(a, finished, mse, var, (mse / var))"
     ],
     "language": "python",
     "metadata": {},
     "outputs": [
      {
       "output_type": "stream",
       "stream": "stdout",
       "text": [
        "24.2345089912\n",
        "MSE testing"
       ]
      },
      {
       "output_type": "stream",
       "stream": "stdout",
       "text": [
        " 0.828631456879\n",
        "Var testing 1.40083603823\n",
        " FVU testing 0.591526370158\n",
        "20.2774541378"
       ]
      },
      {
       "output_type": "stream",
       "stream": "stdout",
       "text": [
        "\n",
        "MSE testing"
       ]
      },
      {
       "output_type": "stream",
       "stream": "stdout",
       "text": [
        " 0.927514540196\n",
        "Var testing 1.40083603823\n",
        " FVU testing 0.662114990538\n",
        "20.1288979053"
       ]
      },
      {
       "output_type": "stream",
       "stream": "stdout",
       "text": [
        "\n",
        "MSE testing"
       ]
      },
      {
       "output_type": "stream",
       "stream": "stdout",
       "text": [
        " 0.971858688356\n",
        "Var testing 1.40083603823\n",
        " FVU testing 0.693770478368\n",
        "20.3958899975"
       ]
      },
      {
       "output_type": "stream",
       "stream": "stdout",
       "text": [
        "\n",
        "MSE testing"
       ]
      },
      {
       "output_type": "stream",
       "stream": "stdout",
       "text": [
        " 0.994954338814\n",
        "Var testing 1.40083603823\n",
        " FVU testing 0.71025752598\n",
        "20.7129850388"
       ]
      },
      {
       "output_type": "stream",
       "stream": "stdout",
       "text": [
        "\n",
        "MSE testing"
       ]
      },
      {
       "output_type": "stream",
       "stream": "stdout",
       "text": [
        " 1.0207817107\n",
        "Var testing 1.40083603823\n",
        " FVU testing 0.728694638659\n",
        "20.0346138477"
       ]
      },
      {
       "output_type": "stream",
       "stream": "stdout",
       "text": [
        "\n",
        "MSE testing"
       ]
      },
      {
       "output_type": "stream",
       "stream": "stdout",
       "text": [
        " 1.05397173218\n",
        "Var testing 1.40083603823\n",
        " FVU testing 0.7523876481\n",
        "19.965089798"
       ]
      },
      {
       "output_type": "stream",
       "stream": "stdout",
       "text": [
        "\n",
        "MSE testing"
       ]
      },
      {
       "output_type": "stream",
       "stream": "stdout",
       "text": [
        " 1.09452440325\n",
        "Var testing 1.40083603823\n",
        " FVU testing 0.781336554302\n",
        "20.3972451687"
       ]
      },
      {
       "output_type": "stream",
       "stream": "stdout",
       "text": [
        "\n",
        "MSE testing"
       ]
      },
      {
       "output_type": "stream",
       "stream": "stdout",
       "text": [
        " 1.14243972392\n",
        "Var testing 1.40083603823\n",
        " FVU testing 0.815541357265\n",
        "20.4180140495"
       ]
      },
      {
       "output_type": "stream",
       "stream": "stdout",
       "text": [
        "\n",
        "MSE testing"
       ]
      },
      {
       "output_type": "stream",
       "stream": "stdout",
       "text": [
        " 1.19771769419\n",
        "Var testing 1.40083603823\n",
        " FVU testing 0.855002056989\n",
        "20.3330769539"
       ]
      },
      {
       "output_type": "stream",
       "stream": "stdout",
       "text": [
        "\n",
        "MSE testing"
       ]
      },
      {
       "output_type": "stream",
       "stream": "stdout",
       "text": [
        " 1.26035831405\n",
        "Var testing 1.40083603823\n",
        " FVU testing 0.899718653474\n",
        "20.4877541065"
       ]
      },
      {
       "output_type": "stream",
       "stream": "stdout",
       "text": [
        "\n",
        "MSE testing"
       ]
      },
      {
       "output_type": "stream",
       "stream": "stdout",
       "text": [
        " 1.33036158351\n",
        "Var testing 1.40083603823\n",
        " FVU testing 0.949691146722\n",
        "20.4414789677"
       ]
      },
      {
       "output_type": "stream",
       "stream": "stdout",
       "text": [
        "\n",
        "MSE testing"
       ]
      },
      {
       "output_type": "stream",
       "stream": "stdout",
       "text": [
        " 1.40176229865\n",
        "Var testing 1.40083603823\n",
        " FVU testing 1.00066121973\n",
        "20.0542750359"
       ]
      },
      {
       "output_type": "stream",
       "stream": "stdout",
       "text": [
        "\n",
        "MSE testing"
       ]
      },
      {
       "output_type": "stream",
       "stream": "stdout",
       "text": [
        " 1.40176229865\n",
        "Var testing 1.40083603823\n",
        " FVU testing 1.00066121973\n",
        "20.1588051319"
       ]
      },
      {
       "output_type": "stream",
       "stream": "stdout",
       "text": [
        "\n",
        "MSE testing"
       ]
      },
      {
       "output_type": "stream",
       "stream": "stdout",
       "text": [
        " 1.40176229865\n",
        "Var testing 1.40083603823\n",
        " FVU testing 1.00066121973\n",
        "19.9682350159"
       ]
      },
      {
       "output_type": "stream",
       "stream": "stdout",
       "text": [
        "\n",
        "MSE testing"
       ]
      },
      {
       "output_type": "stream",
       "stream": "stdout",
       "text": [
        " 1.40176229865\n",
        "Var testing 1.40083603823\n",
        " FVU testing 1.00066121973\n",
        "20.6555678844"
       ]
      },
      {
       "output_type": "stream",
       "stream": "stdout",
       "text": [
        "\n",
        "MSE testing"
       ]
      },
      {
       "output_type": "stream",
       "stream": "stdout",
       "text": [
        " 1.40176229865\n",
        "Var testing 1.40083603823\n",
        " FVU testing 1.00066121973\n",
        "20.0508759022"
       ]
      },
      {
       "output_type": "stream",
       "stream": "stdout",
       "text": [
        "\n",
        "MSE testing"
       ]
      },
      {
       "output_type": "stream",
       "stream": "stdout",
       "text": [
        " 1.40176229865\n",
        "Var testing 1.40083603823\n",
        " FVU testing 1.00066121973\n",
        "20.4067659378"
       ]
      },
      {
       "output_type": "stream",
       "stream": "stdout",
       "text": [
        "\n",
        "MSE testing"
       ]
      },
      {
       "output_type": "stream",
       "stream": "stdout",
       "text": [
        " 1.40176229865\n",
        "Var testing 1.40083603823\n",
        " FVU testing 1.00066121973\n",
        "20.4263460636"
       ]
      },
      {
       "output_type": "stream",
       "stream": "stdout",
       "text": [
        "\n",
        "MSE testing"
       ]
      },
      {
       "output_type": "stream",
       "stream": "stdout",
       "text": [
        " 1.40176229865\n",
        "Var testing 1.40083603823\n",
        " FVU testing 1.00066121973\n",
        "20.4940600395"
       ]
      },
      {
       "output_type": "stream",
       "stream": "stdout",
       "text": [
        "\n",
        "MSE testing"
       ]
      },
      {
       "output_type": "stream",
       "stream": "stdout",
       "text": [
        " 1.40176229865\n",
        "Var testing 1.40083603823\n",
        " FVU testing 1.00066121973\n",
        "20.5017299652"
       ]
      },
      {
       "output_type": "stream",
       "stream": "stdout",
       "text": [
        "\n",
        "MSE testing"
       ]
      },
      {
       "output_type": "stream",
       "stream": "stdout",
       "text": [
        " 1.40176229865\n",
        "Var testing 1.40083603823\n",
        " FVU testing 1.00066121973\n"
       ]
      }
     ],
     "prompt_number": 102
    },
    {
     "cell_type": "code",
     "collapsed": false,
     "input": [
      "from matplotlib import pyplot as PLT\n",
      "from matplotlib import cm as CM\n",
      "from matplotlib import mlab as ML\n",
      "import numpy as NP \n",
      "from IPython.display import FileLink, FileLinks\n",
      "\n",
      "RY = []\n",
      "XS = []\n",
      "for i in range (len(R)):\n",
      "    if R[i] < 0.85 and i > 2:\n",
      "        RY.append(R[i])\n",
      "        XS.append(i)\n",
      "        \n",
      "ll = len(RY)\n",
      "RX = [i * 0.01 for i in XS]\n",
      "\n",
      "fig, axes = PLT.subplots(figsize=(10,8))\n",
      "#eft, height, width=0.8, bottom=None, **kwargs)\n",
      "axes.bar (range(ll), RY, width=0.5, alpha=0.5, align=\"center\")\n",
      "#(bottom, width, height=0.8, left=None, **kwargs)\n",
      "axes.set_xlabel('Rating')\n",
      "\n",
      "axes.set_title('title');\n",
      "axes.set_xticks(range(ll))\n",
      "axes.set_xticklabels(RX, fontsize=10, rotation='vertical');\n",
      "axes.set_title(\"FVU per L1 Regularization lambda factor\");\n",
      "PLT.axis([-1, ll, 0.5, 0.9])\n",
      "\n",
      "PLT.show()  \n",
      "\n",
      "fig.savefig(\"FVU_L1.png\", dpi=200)\n",
      "FileLink(\"FVU_L1.png\")"
     ],
     "language": "python",
     "metadata": {},
     "outputs": [
      {
       "metadata": {},
       "output_type": "display_data",
       "png": "[encoded data removed]",
       "text": [
        "<matplotlib.figure.Figure at 0x1ed95550>"
       ]
      },
      {
       "html": [
        "<a href='FVU_L1.png' target='_blank'>FVU_L1.png</a><br>"
       ],
       "metadata": {},
       "output_type": "pyout",
       "prompt_number": 136,
       "text": [
        "/home/iizhaki/FVU_L1.png"
       ]
      }
     ],
     "prompt_number": 136
    },
    {
     "cell_type": "code",
     "collapsed": false,
     "input": [
      "res2 = {}\n",
      "\n",
      "for l in range(0, 21):\n",
      "    a = l * 0.01\n",
      "    # run the classifier - there are parameters for L1/L2 regularization - see link below!!!!!!!!!!!!!!!!!!!!!!!!!!!!!!!!!!!!!!!!!!!!!\n",
      "    clf = SGDRegressor(n_iter = 5, alpha = a, penalty = 'l2')\n",
      "\n",
      "    start = time.time()\n",
      "\n",
      "    clf.fit(X_train, y_train)\n",
      "\n",
      "    end = time.time()\n",
      "    finished = end - start\n",
      "    print finished\n",
      "\n",
      "    ptest = clf.predict(X_test)\n",
      "    ytest = [e for e in y_test]\n",
      "    ptest = [e for e in ptest]\n",
      "    ptest = [e if e <= 5 else 5. for e in ptest]\n",
      "    ptest = [e if e >= 1 else 1. for e in ptest ]\n",
      "\n",
      "    mse = MSE(ptest, ytest)\n",
      "    var = MSE(ytest, [mean(ytest)] * len(ytest))\n",
      "    print \"MSE testing\", mse\n",
      "    print \"Var testing\", var\n",
      "    print \" FVU testing\", (mse / var)\n",
      "    \n",
      "    res2[a] =(a, finished, mse, var, (mse / var))"
     ],
     "language": "python",
     "metadata": {},
     "outputs": [
      {
       "output_type": "stream",
       "stream": "stdout",
       "text": [
        "10.685063839\n",
        "MSE testing"
       ]
      },
      {
       "output_type": "stream",
       "stream": "stdout",
       "text": [
        " 0.828631456879\n",
        "Var testing 1.40083603823\n",
        " FVU testing 0.591526370158\n",
        "10.6929478645"
       ]
      },
      {
       "output_type": "stream",
       "stream": "stdout",
       "text": [
        "\n",
        "MSE testing"
       ]
      },
      {
       "output_type": "stream",
       "stream": "stdout",
       "text": [
        " 0.891173827359\n",
        "Var testing 1.40083603823\n",
        " FVU testing 0.636172830396\n",
        "11.1689119339"
       ]
      },
      {
       "output_type": "stream",
       "stream": "stdout",
       "text": [
        "\n",
        "MSE testing"
       ]
      },
      {
       "output_type": "stream",
       "stream": "stdout",
       "text": [
        " 0.946133464832\n",
        "Var testing 1.40083603823\n",
        " FVU testing 0.675406285256\n",
        "10.7066700459"
       ]
      },
      {
       "output_type": "stream",
       "stream": "stdout",
       "text": [
        "\n",
        "MSE testing"
       ]
      },
      {
       "output_type": "stream",
       "stream": "stdout",
       "text": [
        " 0.993038201079\n",
        "Var testing 1.40083603823\n",
        " FVU testing 0.70888967301\n",
        "11.1291618347"
       ]
      },
      {
       "output_type": "stream",
       "stream": "stdout",
       "text": [
        "\n",
        "MSE testing"
       ]
      },
      {
       "output_type": "stream",
       "stream": "stdout",
       "text": [
        " 1.03211022118\n",
        "Var testing 1.40083603823\n",
        " FVU testing 0.736781602571\n",
        "10.7130358219"
       ]
      },
      {
       "output_type": "stream",
       "stream": "stdout",
       "text": [
        "\n",
        "MSE testing"
       ]
      },
      {
       "output_type": "stream",
       "stream": "stdout",
       "text": [
        " 1.06468030239\n",
        "Var testing 1.40083603823\n",
        " FVU testing 0.760032061806\n",
        "11.161716938"
       ]
      },
      {
       "output_type": "stream",
       "stream": "stdout",
       "text": [
        "\n",
        "MSE testing"
       ]
      },
      {
       "output_type": "stream",
       "stream": "stdout",
       "text": [
        " 1.09206840364\n",
        "Var testing 1.40083603823\n",
        " FVU testing 0.77958331585\n",
        "10.7221870422"
       ]
      },
      {
       "output_type": "stream",
       "stream": "stdout",
       "text": [
        "\n",
        "MSE testing"
       ]
      },
      {
       "output_type": "stream",
       "stream": "stdout",
       "text": [
        " 1.11534705165\n",
        "Var testing 1.40083603823\n",
        " FVU testing 0.796200997986\n",
        "11.0700058937"
       ]
      },
      {
       "output_type": "stream",
       "stream": "stdout",
       "text": [
        "\n",
        "MSE testing"
       ]
      },
      {
       "output_type": "stream",
       "stream": "stdout",
       "text": [
        " 1.13534505273\n",
        "Var testing 1.40083603823\n",
        " FVU testing 0.810476759412\n",
        "10.7216658592"
       ]
      },
      {
       "output_type": "stream",
       "stream": "stdout",
       "text": [
        "\n",
        "MSE testing"
       ]
      },
      {
       "output_type": "stream",
       "stream": "stdout",
       "text": [
        " 1.15269635019\n",
        "Var testing 1.40083603823\n",
        " FVU testing 0.822863146532\n",
        "10.7221090794"
       ]
      },
      {
       "output_type": "stream",
       "stream": "stdout",
       "text": [
        "\n",
        "MSE testing"
       ]
      },
      {
       "output_type": "stream",
       "stream": "stdout",
       "text": [
        " 1.16788780897\n",
        "Var testing 1.40083603823\n",
        " FVU testing 0.833707712465\n",
        "11.1613440514"
       ]
      },
      {
       "output_type": "stream",
       "stream": "stdout",
       "text": [
        "\n",
        "MSE testing"
       ]
      },
      {
       "output_type": "stream",
       "stream": "stdout",
       "text": [
        " 1.18129684238\n",
        "Var testing 1.40083603823\n",
        " FVU testing 0.843279877259\n",
        "11.1632518768"
       ]
      },
      {
       "output_type": "stream",
       "stream": "stdout",
       "text": [
        "\n",
        "MSE testing"
       ]
      },
      {
       "output_type": "stream",
       "stream": "stdout",
       "text": [
        " 1.19321929053\n",
        "Var testing 1.40083603823\n",
        " FVU testing 0.851790829168\n",
        "10.7118799686"
       ]
      },
      {
       "output_type": "stream",
       "stream": "stdout",
       "text": [
        "\n",
        "MSE testing"
       ]
      },
      {
       "output_type": "stream",
       "stream": "stdout",
       "text": [
        " 1.20388972258\n",
        "Var testing 1.40083603823\n",
        " FVU testing 0.859408017588\n",
        "11.1570730209"
       ]
      },
      {
       "output_type": "stream",
       "stream": "stdout",
       "text": [
        "\n",
        "MSE testing"
       ]
      },
      {
       "output_type": "stream",
       "stream": "stdout",
       "text": [
        " 1.21349620968\n",
        "Var testing 1.40083603823\n",
        " FVU testing 0.866265698889\n",
        "10.7131700516"
       ]
      },
      {
       "output_type": "stream",
       "stream": "stdout",
       "text": [
        "\n",
        "MSE testing"
       ]
      },
      {
       "output_type": "stream",
       "stream": "stdout",
       "text": [
        " 1.22219114143\n",
        "Var testing 1.40083603823\n",
        " FVU testing 0.872472657813\n",
        "10.7126019001"
       ]
      },
      {
       "output_type": "stream",
       "stream": "stdout",
       "text": [
        "\n",
        "MSE testing"
       ]
      },
      {
       "output_type": "stream",
       "stream": "stdout",
       "text": [
        " 1.23009921906\n",
        "Var testing 1.40083603823\n",
        " FVU testing 0.878117913509\n",
        "11.0700390339"
       ]
      },
      {
       "output_type": "stream",
       "stream": "stdout",
       "text": [
        "\n",
        "MSE testing"
       ]
      },
      {
       "output_type": "stream",
       "stream": "stdout",
       "text": [
        " 1.23732342469\n",
        "Var testing 1.40083603823\n",
        " FVU testing 0.883274980746\n",
        "10.7104821205"
       ]
      },
      {
       "output_type": "stream",
       "stream": "stdout",
       "text": [
        "\n",
        "MSE testing"
       ]
      },
      {
       "output_type": "stream",
       "stream": "stdout",
       "text": [
        " 1.24394952777\n",
        "Var testing 1.40083603823\n",
        " FVU testing 0.888005086837\n",
        "10.7069168091"
       ]
      },
      {
       "output_type": "stream",
       "stream": "stdout",
       "text": [
        "\n",
        "MSE testing"
       ]
      },
      {
       "output_type": "stream",
       "stream": "stdout",
       "text": [
        " 1.25004952368\n",
        "Var testing 1.40083603823\n",
        " FVU testing 0.892359626372\n",
        "11.1317820549"
       ]
      },
      {
       "output_type": "stream",
       "stream": "stdout",
       "text": [
        "\n",
        "MSE testing"
       ]
      },
      {
       "output_type": "stream",
       "stream": "stdout",
       "text": [
        " 1.25568428506\n",
        "Var testing 1.40083603823\n",
        " FVU testing 0.896382053854\n"
       ]
      }
     ],
     "prompt_number": 108
    },
    {
     "cell_type": "code",
     "collapsed": false,
     "input": [
      "from matplotlib import pyplot as PLT\n",
      "from matplotlib import cm as CM\n",
      "from matplotlib import mlab as ML\n",
      "import numpy as NP \n",
      "from IPython.display import FileLink, FileLinks\n",
      "\n",
      "RY = []\n",
      "XS = []\n",
      "for i in range (len(R)):\n",
      "    if R[i] < 0.85 and i > 2:\n",
      "        RY.append(R[i])\n",
      "        XS.append(i)\n",
      "        \n",
      "ll = len(RY)\n",
      "RX = [i * 0.01 for i in XS]\n",
      "\n",
      "fig, axes = PLT.subplots(figsize=(10,8))\n",
      "#eft, height, width=0.8, bottom=None, **kwargs)\n",
      "axes.bar (range(ll), RY, width=0.5, alpha=0.5, align=\"center\")\n",
      "#(bottom, width, height=0.8, left=None, **kwargs)\n",
      "axes.set_xlabel('Rating')\n",
      "\n",
      "axes.set_title('title');\n",
      "axes.set_xticks(range(ll))\n",
      "axes.set_xticklabels(RX, fontsize=10, rotation='vertical');\n",
      "axes.set_title(\"FVU per L2 Regularization lambda factor\");\n",
      "PLT.axis([-1, ll, 0.5, 0.9])\n",
      "\n",
      "PLT.show()  \n",
      "\n",
      "fig.savefig(\"FVU_L2.png\", dpi=200)\n",
      "FileLink(\"FVU_L2.png\")"
     ],
     "language": "python",
     "metadata": {},
     "outputs": [
      {
       "metadata": {},
       "output_type": "display_data",
       "png": "[encoded data removed]",
       "text": [
        "<matplotlib.figure.Figure at 0x1acdd5d0>"
       ]
      },
      {
       "html": [
        "<a href='FVU_L2.png' target='_blank'>FVU_L2.png</a><br>"
       ],
       "metadata": {},
       "output_type": "pyout",
       "prompt_number": 137,
       "text": [
        "/home/iizhaki/FVU_L2.png"
       ]
      }
     ],
     "prompt_number": 137
    },
    {
     "cell_type": "code",
     "collapsed": false,
     "input": [
      "res3 = {}\n",
      "\n",
      "for l in range(0, 21):\n",
      "    a = l * 0.01\n",
      "    # run the classifier - there are parameters for L1/L2 regularization - see link below!!!!!!!!!!!!!!!!!!!!!!!!!!!!!!!!!!!!!!!!!!!!!\n",
      "    clf = SGDRegressor(n_iter = 5, alpha = a, penalty = 'elasticnet')\n",
      "\n",
      "    start = time.time()\n",
      "\n",
      "    clf.fit(X_train, y_train)\n",
      "\n",
      "    end = time.time()\n",
      "    finished = end - start\n",
      "    print finished\n",
      "\n",
      "    ptest = clf.predict(X_test)\n",
      "    ytest = [e for e in y_test]\n",
      "    ptest = [e for e in ptest]\n",
      "    ptest = [e if e <= 5 else 5. for e in ptest]\n",
      "    ptest = [e if e >= 1 else 1. for e in ptest ]\n",
      "\n",
      "    mse = MSE(ptest, ytest)\n",
      "    var = MSE(ytest, [mean(ytest)] * len(ytest))\n",
      "    print \"MSE testing\", mse\n",
      "    print \"Var testing\", var\n",
      "    print \" FVU testing\", (mse / var)\n",
      "    \n",
      "    res3[a] =(a, finished, mse, var, (mse / var))"
     ],
     "language": "python",
     "metadata": {},
     "outputs": [
      {
       "output_type": "stream",
       "stream": "stdout",
       "text": [
        "23.5385699272\n",
        "MSE testing"
       ]
      },
      {
       "output_type": "stream",
       "stream": "stdout",
       "text": [
        " 0.828631456879\n",
        "Var testing 1.40083603823\n",
        " FVU testing 0.591526370158\n",
        "20.8136219978"
       ]
      },
      {
       "output_type": "stream",
       "stream": "stdout",
       "text": [
        "\n",
        "MSE testing"
       ]
      },
      {
       "output_type": "stream",
       "stream": "stdout",
       "text": [
        " 0.902271443074\n",
        "Var testing 1.40083603823\n",
        " FVU testing 0.644094967899\n",
        "20.9953169823"
       ]
      },
      {
       "output_type": "stream",
       "stream": "stdout",
       "text": [
        "\n",
        "MSE testing"
       ]
      },
      {
       "output_type": "stream",
       "stream": "stdout",
       "text": [
        " 0.961605654609\n",
        "Var testing 1.40083603823\n",
        " FVU testing 0.686451253657\n",
        "20.7167339325"
       ]
      },
      {
       "output_type": "stream",
       "stream": "stdout",
       "text": [
        "\n",
        "MSE testing"
       ]
      },
      {
       "output_type": "stream",
       "stream": "stdout",
       "text": [
        " 1.01245646097\n",
        "Var testing 1.40083603823\n",
        " FVU testing 0.722751580728\n",
        "20.6516780853"
       ]
      },
      {
       "output_type": "stream",
       "stream": "stdout",
       "text": [
        "\n",
        "MSE testing"
       ]
      },
      {
       "output_type": "stream",
       "stream": "stdout",
       "text": [
        " 1.0558361898\n",
        "Var testing 1.40083603823\n",
        " FVU testing 0.753718608735\n",
        "21.0626988411"
       ]
      },
      {
       "output_type": "stream",
       "stream": "stdout",
       "text": [
        "\n",
        "MSE testing"
       ]
      },
      {
       "output_type": "stream",
       "stream": "stdout",
       "text": [
        " 1.09316793043\n",
        "Var testing 1.40083603823\n",
        " FVU testing 0.780368223402\n",
        "21.0325140953"
       ]
      },
      {
       "output_type": "stream",
       "stream": "stdout",
       "text": [
        "\n",
        "MSE testing"
       ]
      },
      {
       "output_type": "stream",
       "stream": "stdout",
       "text": [
        " 1.12480126703\n",
        "Var testing 1.40083603823\n",
        " FVU testing 0.802949978678\n",
        "20.4984838963"
       ]
      },
      {
       "output_type": "stream",
       "stream": "stdout",
       "text": [
        "\n",
        "MSE testing"
       ]
      },
      {
       "output_type": "stream",
       "stream": "stdout",
       "text": [
        " 1.15238219812\n",
        "Var testing 1.40083603823\n",
        " FVU testing 0.822638886114\n",
        "20.4190158844"
       ]
      },
      {
       "output_type": "stream",
       "stream": "stdout",
       "text": [
        "\n",
        "MSE testing"
       ]
      },
      {
       "output_type": "stream",
       "stream": "stdout",
       "text": [
        " 1.17635641652\n",
        "Var testing 1.40083603823\n",
        " FVU testing 0.839753107729\n",
        "20.857847929"
       ]
      },
      {
       "output_type": "stream",
       "stream": "stdout",
       "text": [
        "\n",
        "MSE testing"
       ]
      },
      {
       "output_type": "stream",
       "stream": "stdout",
       "text": [
        " 1.19697480236\n",
        "Var testing 1.40083603823\n",
        " FVU testing 0.854471736659\n",
        "20.3892409801"
       ]
      },
      {
       "output_type": "stream",
       "stream": "stdout",
       "text": [
        "\n",
        "MSE testing"
       ]
      },
      {
       "output_type": "stream",
       "stream": "stdout",
       "text": [
        " 1.21484272015\n",
        "Var testing 1.40083603823\n",
        " FVU testing 0.867226918071\n",
        "20.3825340271"
       ]
      },
      {
       "output_type": "stream",
       "stream": "stdout",
       "text": [
        "\n",
        "MSE testing"
       ]
      },
      {
       "output_type": "stream",
       "stream": "stdout",
       "text": [
        " 1.23096631355\n",
        "Var testing 1.40083603823\n",
        " FVU testing 0.878736897079\n",
        "20.734815836"
       ]
      },
      {
       "output_type": "stream",
       "stream": "stdout",
       "text": [
        "\n",
        "MSE testing"
       ]
      },
      {
       "output_type": "stream",
       "stream": "stdout",
       "text": [
        " 1.24523904395\n",
        "Var testing 1.40083603823\n",
        " FVU testing 0.88892562011\n",
        "20.7441270351"
       ]
      },
      {
       "output_type": "stream",
       "stream": "stdout",
       "text": [
        "\n",
        "MSE testing"
       ]
      },
      {
       "output_type": "stream",
       "stream": "stdout",
       "text": [
        " 1.25792562638\n",
        "Var testing 1.40083603823\n",
        " FVU testing 0.897982056468\n",
        "20.2967419624"
       ]
      },
      {
       "output_type": "stream",
       "stream": "stdout",
       "text": [
        "\n",
        "MSE testing"
       ]
      },
      {
       "output_type": "stream",
       "stream": "stdout",
       "text": [
        " 1.26904382526\n",
        "Var testing 1.40083603823\n",
        " FVU testing 0.905918887453\n",
        "20.2354199886"
       ]
      },
      {
       "output_type": "stream",
       "stream": "stdout",
       "text": [
        "\n",
        "MSE testing"
       ]
      },
      {
       "output_type": "stream",
       "stream": "stdout",
       "text": [
        " 1.27923548857\n",
        "Var testing 1.40083603823\n",
        " FVU testing 0.9131943023\n",
        "20.2263391018"
       ]
      },
      {
       "output_type": "stream",
       "stream": "stdout",
       "text": [
        "\n",
        "MSE testing"
       ]
      },
      {
       "output_type": "stream",
       "stream": "stdout",
       "text": [
        " 1.28840311074\n",
        "Var testing 1.40083603823\n",
        " FVU testing 0.919738695739\n",
        "20.2129888535"
       ]
      },
      {
       "output_type": "stream",
       "stream": "stdout",
       "text": [
        "\n",
        "MSE testing"
       ]
      },
      {
       "output_type": "stream",
       "stream": "stdout",
       "text": [
        " 1.29703491687\n",
        "Var testing 1.40083603823\n",
        " FVU testing 0.925900591842\n",
        "20.6135029793"
       ]
      },
      {
       "output_type": "stream",
       "stream": "stdout",
       "text": [
        "\n",
        "MSE testing"
       ]
      },
      {
       "output_type": "stream",
       "stream": "stdout",
       "text": [
        " 1.3040506602\n",
        "Var testing 1.40083603823\n",
        " FVU testing 0.930908846296\n",
        "20.6072919369"
       ]
      },
      {
       "output_type": "stream",
       "stream": "stdout",
       "text": [
        "\n",
        "MSE testing"
       ]
      },
      {
       "output_type": "stream",
       "stream": "stdout",
       "text": [
        " 1.31018465004\n",
        "Var testing 1.40083603823\n",
        " FVU testing 0.935287652721\n",
        "20.9061069489"
       ]
      },
      {
       "output_type": "stream",
       "stream": "stdout",
       "text": [
        "\n",
        "MSE testing"
       ]
      },
      {
       "output_type": "stream",
       "stream": "stdout",
       "text": [
        " 1.31593926647\n",
        "Var testing 1.40083603823\n",
        " FVU testing 0.939395639858\n"
       ]
      }
     ],
     "prompt_number": 110
    },
    {
     "cell_type": "code",
     "collapsed": false,
     "input": [
      "from matplotlib import pyplot as PLT\n",
      "from matplotlib import cm as CM\n",
      "from matplotlib import mlab as ML\n",
      "import numpy as NP \n",
      "\n",
      "from IPython.display import FileLink, FileLinks\n",
      "\n",
      "R = list([r for (_, _, _, _, r) in res.values()])\n",
      "RY = []\n",
      "XS = []\n",
      "for i in range (len(R)):\n",
      "    if R[i] < 0.85 and i > 2:\n",
      "        RY.append(R[i])\n",
      "        XS.append(i)\n",
      "        \n",
      "ll = len(RY)\n",
      "RX = [i * 0.01 for i in XS]\n",
      "\n",
      "fig, axes = PLT.subplots(figsize=(10,8))\n",
      "#eft, height, width=0.8, bottom=None, **kwargs)\n",
      "axes.bar (range(ll), RY, width=0.5, alpha=0.5, align=\"center\")\n",
      "#(bottom, width, height=0.8, left=None, **kwargs)\n",
      "axes.set_xlabel('Accuracy (FLV value) of prediction')\n",
      "\n",
      "axes.set_title('title');\n",
      "axes.set_xticks(range(ll))\n",
      "axes.set_xticklabels(RX, fontsize=10, rotation='vertical');\n",
      "axes.set_title(\"FVU per Elasticnet Regularization lambda factor\");\n",
      "PLT.axis([-1, ll, 0.5, 0.9])\n",
      "\n",
      "PLT.show()  \n",
      "\n",
      "fig.savefig(\"FVU_Elasticent.png\", dpi=200)\n",
      "FileLink(\"FVU_Elasticent.png\")"
     ],
     "language": "python",
     "metadata": {},
     "outputs": [
      {
       "metadata": {},
       "output_type": "display_data",
       "png": "[encoded data removed]",
       "text": [
        "<matplotlib.figure.Figure at 0x4132ca90>"
       ]
      },
      {
       "html": [
        "<a href='FVU_Elasticent.png' target='_blank'>FVU_Elasticent.png</a><br>"
       ],
       "metadata": {},
       "output_type": "pyout",
       "prompt_number": 139,
       "text": [
        "/home/iizhaki/FVU_Elasticent.png"
       ]
      }
     ],
     "prompt_number": 139
    },
    {
     "cell_type": "code",
     "collapsed": false,
     "input": [],
     "language": "python",
     "metadata": {},
     "outputs": []
    }
   ],
   "metadata": {}
  }
 ]
}