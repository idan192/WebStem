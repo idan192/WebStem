{
 "metadata": {
  "name": "",
  "signature": "sha256:cc927c7f747fd478b1934d29fdc86274a0382f79648fb4c21c43bd1bbc57d6f5"
 },
 "nbformat": 3,
 "nbformat_minor": 0,
 "worksheets": [
  {
   "cells": [
    {
     "cell_type": "code",
     "collapsed": false,
     "input": [
      "import numpy as np\n",
      "#save  matrix\n",
      "file = open(\"/home/iizhaki/oasis/CSE255/MatrixReorder_0.pck\")\n",
      "matrix =np.load(file)\n",
      "file.close()\n",
      "print \"done\"\n",
      "\n",
      "#save  matrix\n",
      "file = open(\"/home/iizhaki/oasis/CSE255/YsReorder_1.pck\")\n",
      "rankingR = np.load(file)\n",
      "file.close()\n",
      "print \"done\"\n",
      "\n",
      "#save  matrix\n",
      "file = open(\"/home/iizhaki/oasis/CSE255/IndexReorder_1.pck\")\n",
      "indexes= np.load(file)\n",
      "file.close()\n",
      "print \"done\"\n",
      "\n",
      "print indexes[:20]\n",
      "X = [matrix[i] for i in indexes]\n",
      "y = [rankingR[i] for i in indexes]\n",
      "\n",
      "\n",
      "n = int(len(X) * 0.7)\n",
      "X_train_org = np.array(X[:n])\n",
      "y_train_org = np.array(y[:n])\n",
      "\n",
      "X_test_org = np.array(X[n:])\n",
      "y_test_org = np.array(y[n:])"
     ],
     "language": "python",
     "metadata": {},
     "outputs": [
      {
       "output_type": "stream",
       "stream": "stdout",
       "text": [
        "done\n",
        "done"
       ]
      },
      {
       "output_type": "stream",
       "stream": "stdout",
       "text": [
        "\n",
        "done"
       ]
      },
      {
       "output_type": "stream",
       "stream": "stdout",
       "text": [
        "\n",
        "[1326168 1268572 1384023 1563614  135893  247612  480020 1359532  743048\n",
        "  288473 1476688  165460  211059 1269851  837046  957459  372289  836921\n",
        "  666038  747082]\n"
       ]
      }
     ],
     "prompt_number": 1
    },
    {
     "cell_type": "code",
     "collapsed": false,
     "input": [
      "n = int(len(X) * 0.7)\n",
      "X_train = X_train_org #[:n]\n",
      "y_train = y_train_org #[:n]\n",
      "X_test = X_test_org #[n:]\n",
      "y_test = y_test_org #[n:]"
     ],
     "language": "python",
     "metadata": {},
     "outputs": [],
     "prompt_number": 2
    },
    {
     "cell_type": "code",
     "collapsed": false,
     "input": [
      "import pylab as pl\n",
      "\n",
      "from sklearn.linear_model import SGDRegressor\n",
      "from sklearn.datasets.samples_generator import make_regression\n",
      "from sklearn.preprocessing import *\n",
      "from sklearn import preprocessing\n",
      "from sklearn.preprocessing import StandardScaler\n",
      "\n",
      "import time\n",
      "import timeit"
     ],
     "language": "python",
     "metadata": {},
     "outputs": [],
     "prompt_number": 3
    },
    {
     "cell_type": "code",
     "collapsed": false,
     "input": [
      "print X_train.shape, y_train.shape"
     ],
     "language": "python",
     "metadata": {},
     "outputs": [
      {
       "output_type": "stream",
       "stream": "stdout",
       "text": [
        "(1126994, 1028) (1126994,)\n"
       ]
      }
     ],
     "prompt_number": 4
    },
    {
     "cell_type": "code",
     "collapsed": false,
     "input": [
      "X_train = X_train.astype(float)\n",
      "y_train = y_train.astype(float)\n",
      "\n",
      "\n",
      "X_test = X_test.astype(float)\n",
      "y_test = y_test.astype(float)\n",
      "\n",
      "print y_train[0], y[0]\n",
      "#X_test = preprocessing.scale(X_test.astype(float))\n",
      "#y_test = preprocessing.scale(y_test.astype(float))"
     ],
     "language": "python",
     "metadata": {},
     "outputs": [
      {
       "output_type": "stream",
       "stream": "stdout",
       "text": [
        "5000.0 5000\n"
       ]
      }
     ],
     "prompt_number": 5
    },
    {
     "cell_type": "code",
     "collapsed": false,
     "input": [
      "scaler = MinMaxScaler().fit(X_train)\n",
      "\n",
      "X_train = scaler.transform(X_train)"
     ],
     "language": "python",
     "metadata": {},
     "outputs": [],
     "prompt_number": 6
    },
    {
     "cell_type": "code",
     "collapsed": false,
     "input": [
      "scaler = MinMaxScaler().fit(X_test)\n",
      "\n",
      "X_test = scaler.transform(X_test)"
     ],
     "language": "python",
     "metadata": {},
     "outputs": [],
     "prompt_number": 7
    },
    {
     "cell_type": "code",
     "collapsed": false,
     "input": [
      "# run the classifier - there are parameters for L1/L2 regularization - see link below!!!!!!!!!!!!!!!!!!!!!!!!!!!!!!!!!!!!!!!!!!!!!\n",
      "clf = SGDRegressor(n_iter = 500)\n",
      "\n",
      "start = time.time()\n",
      "\n",
      "clf.fit(X_train, y_train)\n",
      "\n",
      "end = time.time()\n",
      "finished = end - start\n",
      "print finished\n",
      "\n",
      "# and plot the result\n",
      "#pl.scatter(X, Y, color='black')\n",
      "#pl.plot(X, clf.predict(X), color='blue', linewidth=3)\n",
      "#pl.show()"
     ],
     "language": "python",
     "metadata": {},
     "outputs": [
      {
       "output_type": "stream",
       "stream": "stdout",
       "text": [
        "2077.26218796\n"
       ]
      }
     ],
     "prompt_number": 8
    },
    {
     "cell_type": "code",
     "collapsed": false,
     "input": [
      "def predict(data, theta):\n",
      "    theta = numpy.matrix(theta)\n",
      "    prediction = [theta * d.T  for d in data]\n",
      "    return prediction\n",
      "\n",
      "#prediction_training = predict(X, thetax)\n",
      "\n",
      "def MSE(prediction, real):\n",
      "    squares = [ (p - r)**2 for p,r in zip (prediction,real) ]\n",
      "    return numpy.mean(squares)\n",
      "\n",
      "\n",
      "#print \" MSE training\", MSE(prediction_training, y )"
     ],
     "language": "python",
     "metadata": {},
     "outputs": [],
     "prompt_number": 9
    },
    {
     "cell_type": "code",
     "collapsed": false,
     "input": [
      "import scipy\n",
      "ptrain = clf.predict(X_train)\n",
      "ytrain = [e / 1000.0 for e in y_train]\n",
      "\n",
      "ptrain = [e / 1000.0 for e in ptrain]\n",
      "ptrain = [e if e <= 5 else 5. for e in ptrain]\n",
      "ptrain = [e if e >= 1 else 1. for e in ptrain ]\n",
      "\n",
      "mse = MSE(ptrain, ytrain)\n",
      "var = MSE(ytrain, [mean(ytrain)] * len(ytrain))\n",
      "print \"MSE training\", mse\n",
      "print \"Var\", var\n",
      "print \" FVU training\", (mse / var)"
     ],
     "language": "python",
     "metadata": {},
     "outputs": [
      {
       "output_type": "stream",
       "stream": "stdout",
       "text": [
        "MSE training 0.825505078352\n",
        "Var 1.39925657753\n",
        " FVU training 0.589959762642\n"
       ]
      }
     ],
     "prompt_number": 10
    },
    {
     "cell_type": "code",
     "collapsed": false,
     "input": [
      "ptest = clf.predict(X_test)\n",
      "ytest = [e / 1000.0 for e in y_test]\n",
      "ptest = [e / 1000.0 for e in ptest]\n",
      "ptest = [e if e <= 5 else 5. for e in ptest]\n",
      "ptest = [e if e >= 1 else 1. for e in ptest ]\n",
      "\n",
      "mse = MSE(ptest, ytest)\n",
      "var = MSE(ytest, [mean(ytest)] * len(ytest))\n",
      "print \"MSE testing\", mse\n",
      "print \"Var testing\", var\n",
      "print \" FVU testing\", (mse / var)"
     ],
     "language": "python",
     "metadata": {},
     "outputs": [
      {
       "output_type": "stream",
       "stream": "stdout",
       "text": [
        "MSE testing 0.825707651065\n",
        "Var testing 1.39823186516\n",
        " FVU testing 0.590537000079\n"
       ]
      }
     ],
     "prompt_number": 11
    },
    {
     "cell_type": "code",
     "collapsed": false,
     "input": [
      "print sum([p for p in ptrain if p > 5 or p < 1]) / len(ptrain)\n",
      "print sum([p for p in ptest if p > 5 or p < 1]) / len(ptrain)"
     ],
     "language": "python",
     "metadata": {},
     "outputs": [
      {
       "output_type": "stream",
       "stream": "stdout",
       "text": [
        "0.0\n",
        "0.0"
       ]
      },
      {
       "output_type": "stream",
       "stream": "stdout",
       "text": [
        "\n"
       ]
      }
     ],
     "prompt_number": 12
    },
    {
     "cell_type": "code",
     "collapsed": false,
     "input": [
      "# class sklearn.linear_model.SGDRegressor(loss='squared_loss', penalty='l2', alpha=0.0001, l1_ratio=0.15, fit_intercept=True, n_iter=5, shuffle=False, verbose=0, epsilon=0.1, random_state=None, learning_rate='invscaling', eta0=0.01, power_t=0.25, warm_start=False)\n",
      "# http://scikit-learn.org/stable/modules/generated/sklearn.linear_model.SGDRegressor.html"
     ],
     "language": "python",
     "metadata": {},
     "outputs": [],
     "prompt_number": 13
    },
    {
     "cell_type": "code",
     "collapsed": false,
     "input": [],
     "language": "python",
     "metadata": {},
     "outputs": [],
     "prompt_number": 13
    },
    {
     "cell_type": "code",
     "collapsed": false,
     "input": [
      "start = time.time()\n",
      "\n",
      "thetax,residualsx,rankx,sx = numpy.linalg.lstsq(X_train, y_train)\n",
      "\n",
      "end = time.time()\n",
      "finished = end - start\n",
      "print finished"
     ],
     "language": "python",
     "metadata": {},
     "outputs": [
      {
       "output_type": "stream",
       "stream": "stdout",
       "text": [
        "1603.94804001\n"
       ]
      }
     ],
     "prompt_number": 14
    },
    {
     "cell_type": "code",
     "collapsed": false,
     "input": [
      "def predict(data, theta):\n",
      "    prediction = [np.dot(theta, d)  for d in data]\n",
      "    return prediction\n",
      "\n",
      "def MSE(prediction, real):\n",
      "    squares = [ (p - r)**2 for p,r in zip (prediction,real) ]\n",
      "    return numpy.mean(squares)"
     ],
     "language": "python",
     "metadata": {},
     "outputs": [],
     "prompt_number": 62
    },
    {
     "cell_type": "code",
     "collapsed": false,
     "input": [
      "prediction_training = predict(X_train, thetax)\n",
      "\n",
      "y = [e/1000.0 for e in y_train]\n",
      "p = [e/1000.0 for e in prediction_training]\n",
      "\n",
      "mse = MSE(p, y)\n",
      "var = MSE(y, [mean(y)] * len(y))\n",
      "print \"MSE training\", mse\n",
      "print \"Var\", var\n",
      "print \" FVU training\", (mse / var)"
     ],
     "language": "python",
     "metadata": {},
     "outputs": [
      {
       "output_type": "stream",
       "stream": "stdout",
       "text": [
        "MSE training 0.831968452555\n",
        "Var 1.39925657753\n",
        " FVU training 0.594578911344\n"
       ]
      }
     ],
     "prompt_number": 64
    },
    {
     "cell_type": "code",
     "collapsed": false,
     "input": [],
     "language": "python",
     "metadata": {},
     "outputs": [],
     "prompt_number": 49
    },
    {
     "cell_type": "code",
     "collapsed": false,
     "input": [
      "prediction_testing = predict(X_test, thetax)\n",
      "\n",
      "y = [e/1000.0 for e in y_test]\n",
      "p = [e/1000.0 for e in prediction_testing]\n",
      "\n",
      "mse = MSE(p, y)\n",
      "var = MSE(y, [mean(y)] * len(y))\n",
      "print \"MSE testing\", mse\n",
      "print \"Var\", var\n",
      "print \" FVU testing\", (mse / var)"
     ],
     "language": "python",
     "metadata": {},
     "outputs": [
      {
       "output_type": "stream",
       "stream": "stdout",
       "text": [
        "MSE testing 2.41279725531e+19\n",
        "Var 1.39823186516\n",
        " FVU testing 1.72560597096e+19\n"
       ]
      }
     ],
     "prompt_number": 66
    },
    {
     "cell_type": "code",
     "collapsed": false,
     "input": [
      "print finished"
     ],
     "language": "python",
     "metadata": {},
     "outputs": [
      {
       "output_type": "stream",
       "stream": "stdout",
       "text": [
        "1603.94804001\n"
       ]
      }
     ],
     "prompt_number": 51
    },
    {
     "cell_type": "code",
     "collapsed": false,
     "input": [],
     "language": "python",
     "metadata": {},
     "outputs": [],
     "prompt_number": 47
    },
    {
     "cell_type": "code",
     "collapsed": false,
     "input": [],
     "language": "python",
     "metadata": {},
     "outputs": [],
     "prompt_number": 43
    },
    {
     "cell_type": "code",
     "collapsed": false,
     "input": [],
     "language": "python",
     "metadata": {},
     "outputs": []
    }
   ],
   "metadata": {}
  }
 ]
}