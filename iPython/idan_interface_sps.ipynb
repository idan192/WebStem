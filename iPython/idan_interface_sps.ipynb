{
 "cells": [
  {
   "cell_type": "code",
   "execution_count": 1,
   "metadata": {
    "collapsed": false
   },
   "outputs": [
    {
     "name": "stderr",
     "output_type": "stream",
     "text": [
      "/oasis/scratch/iizhaki/temp_project/PV/python-virtualEnv3/lib/python2.7/site-packages/skimage/filter/__init__.py:6: skimage_deprecation: The `skimage.filter` module has been renamed to `skimage.filters`.  This placeholder module will be removed in v0.13.\n",
      "  warn(skimage_deprecation('The `skimage.filter` module has been renamed '\n"
     ]
    }
   ],
   "source": [
    "%load_ext autoreload\n",
    "%autoreload 2\n",
    "\n",
    "import sys\n",
    "sys.path.append('/home/yuncong/Brain/pipeline_scripts')\n",
    "from utilities2014 import *"
   ]
  },
  {
   "cell_type": "code",
   "execution_count": 2,
   "metadata": {
    "collapsed": false
   },
   "outputs": [],
   "source": [
    "os.environ['GORDON_DATA_DIR'] = '/home/yuncong/project/DavidData2014tif/'\n",
    "os.environ['GORDON_REPO_DIR'] = '/home/yuncong/Brain'\n",
    "os.environ['GORDON_RESULT_DIR'] = '/home/yuncong/project/DavidData2014results/'\n",
    "os.environ['GORDON_LABELING_DIR'] = '/home/yuncong/project/DavidData2014labelings/'"
   ]
  },
  {
   "cell_type": "code",
   "execution_count": 7,
   "metadata": {
    "collapsed": false
   },
   "outputs": [
    {
     "ename": "NameError",
     "evalue": "name 'DataManager' is not defined",
     "output_type": "error",
     "traceback": [
      "\u001b[0;31m---------------------------------------------------------------------------\u001b[0m",
      "\u001b[0;31mNameError\u001b[0m                                 Traceback (most recent call last)",
      "\u001b[0;32m<ipython-input-7-a305d5931ee3>\u001b[0m in \u001b[0;36m<module>\u001b[0;34m()\u001b[0m\n\u001b[1;32m      1\u001b[0m \u001b[0msec\u001b[0m \u001b[0;34m=\u001b[0m \u001b[0;36m0\u001b[0m\u001b[0;34m\u001b[0m\u001b[0m\n\u001b[1;32m      2\u001b[0m \u001b[0;34m\u001b[0m\u001b[0m\n\u001b[0;32m----> 3\u001b[0;31m \u001b[0mdm_prev\u001b[0m \u001b[0;34m=\u001b[0m \u001b[0mDataManager\u001b[0m\u001b[0;34m(\u001b[0m\u001b[0mgenerate_hierarchy\u001b[0m\u001b[0;34m=\u001b[0m\u001b[0mFalse\u001b[0m\u001b[0;34m,\u001b[0m \u001b[0mstack\u001b[0m\u001b[0;34m=\u001b[0m\u001b[0;34m'RS141'\u001b[0m\u001b[0;34m,\u001b[0m \u001b[0mresol\u001b[0m\u001b[0;34m=\u001b[0m\u001b[0;34m'x5'\u001b[0m\u001b[0;34m,\u001b[0m \u001b[0msection\u001b[0m\u001b[0;34m=\u001b[0m\u001b[0msec\u001b[0m\u001b[0;34m)\u001b[0m\u001b[0;34m\u001b[0m\u001b[0m\n\u001b[0m\u001b[1;32m      4\u001b[0m \u001b[0msupporters_prev\u001b[0m \u001b[0;34m=\u001b[0m \u001b[0mdm_prev\u001b[0m\u001b[0;34m.\u001b[0m\u001b[0mload_pipeline_result\u001b[0m\u001b[0;34m(\u001b[0m\u001b[0;34m'supporters'\u001b[0m\u001b[0;34m,\u001b[0m \u001b[0;34m'pkl'\u001b[0m\u001b[0;34m)\u001b[0m\u001b[0;34m\u001b[0m\u001b[0m\n\u001b[1;32m      5\u001b[0m \u001b[0;34m\u001b[0m\u001b[0m\n",
      "\u001b[0;31mNameError\u001b[0m: name 'DataManager' is not defined"
     ]
    }
   ],
   "source": [
    "sec = 0\n",
    "\n",
    "dm_prev = DataManager(generate_hierarchy=False, stack='RS141', resol='x5', section=sec)\n",
    "supporters_prev = dm_prev.load_pipeline_result('supporters', 'pkl')\n",
    "\n",
    "dm_next = DataManager(generate_hierarchy=False, stack='RS141', resol='x5', section=sec+1)\n",
    "supporters_next = dm_next.load_pipeline_result('supporters', 'pkl')\n",
    "\n",
    "matchings_prev_with_next = dm_prev.load_pipeline_result('matchings%dWith%d'%(sec,sec+1), 'pkl')"
   ]
  },
  {
   "cell_type": "code",
   "execution_count": 8,
   "metadata": {
    "collapsed": false
   },
   "outputs": [
    {
     "name": "stdout",
     "output_type": "stream",
     "text": [
      "loaded /home/yuncong/project/DavidData2014results/RS141/0000/RS141_x5_0000_gabor-blueNisslWide-segm-blueNisslRegular-vq-blueNissl_matchedBoundaries0With1SideBySide.jpg\n"
     ]
    }
   ],
   "source": [
    "dual_image = dm_prev.load_pipeline_result('matchedBoundaries%dWith%dSideBySide'%(sec,sec+1), 'jpg')\n",
    "\n",
    "plt.figure(figsize=(20,20));\n",
    "plt.imshow(dual_image);\n",
    "plt.axis('off');"
   ]
  },
  {
   "cell_type": "code",
   "execution_count": 9,
   "metadata": {
    "collapsed": false
   },
   "outputs": [],
   "source": [
    "wrong_matchings = [2, 5, 6, 8, 9, 10, 12, 14]"
   ]
  },
  {
   "cell_type": "code",
   "execution_count": 10,
   "metadata": {
    "collapsed": false
   },
   "outputs": [],
   "source": [
    "for ind in wrong_matchings:\n",
    "    score, i, j = matchings_prev_with_next[ind]\n",
    "    print 'matching', ind, '(boundary', i, 'of section', sec, 'and boundary', j, 'of section', sec+1, ') is wrong'\n",
    "    print len(supporters_prev[i]), len(supporters_next[j])"
   ]
  },
  {
   "cell_type": "code",
   "execution_count": null,
   "metadata": {
    "collapsed": false
   },
   "outputs": [],
   "source": []
  }
 ],
 "metadata": {
  "kernelspec": {
   "display_name": "Python 2",
   "language": "python",
   "name": "python2"
  },
  "language_info": {
   "codemirror_mode": {
    "name": "ipython",
    "version": 2
   },
   "file_extension": ".py",
   "mimetype": "text/x-python",
   "name": "python",
   "nbconvert_exporter": "python",
   "pygments_lexer": "ipython2",
   "version": "2.7.3"
  }
 },
 "nbformat": 4,
 "nbformat_minor": 0
}
