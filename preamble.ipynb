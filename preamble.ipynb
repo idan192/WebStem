{
 "metadata": {
  "name": "",
  "signature": "sha256:3adc25f7dc607016886ebd7f6f75c11034ed1f8eaeba71b048f55638429b6169"
 },
 "nbformat": 3,
 "nbformat_minor": 0,
 "worksheets": [
  {
   "cells": [
    {
     "cell_type": "code",
     "collapsed": false,
     "input": [
      "%reload_ext autoreload\n",
      "%autoreload 2"
     ],
     "language": "python",
     "metadata": {},
     "outputs": []
    },
    {
     "cell_type": "code",
     "collapsed": false,
     "input": [
      "import sys\n",
      "sys.path.append('/home/yuncong/Brain/pipeline_scripts')\n",
      "from utilities2014 import *\n",
      "import os\n",
      "\n",
      "os.environ['GORDON_DATA_DIR'] = '/home/yuncong/project/DavidData2014tif/'\n",
      "os.environ['GORDON_REPO_DIR'] = '/home/yuncong/Brain'\n",
      "os.environ['GORDON_RESULT_DIR'] = '/home/yuncong/project/DavidData2014results/'\n",
      "os.environ['GORDON_LABELING_DIR'] = '/home/yuncong/project/DavidData2014labelings/'\n",
      "\n",
      "dm = DataManager(data_dir=os.environ['GORDON_DATA_DIR'], \n",
      "  repo_dir=os.environ['GORDON_REPO_DIR'], \n",
      "  result_dir=os.environ['GORDON_RESULT_DIR'], \n",
      "  labeling_dir=os.environ['GORDON_LABELING_DIR'])\n",
      "\n",
      "class args:\n",
      "    stack_name = 'RS141'\n",
      "    resolution = 'x5'\n",
      "    slice_ind = 12\n",
      "    gabor_params_id = 'blueNisslWide'\n",
      "    segm_params_id = 'blueNisslRegular'\n",
      "    vq_params_id = 'blueNissl'\n",
      "    \n",
      "dm.set_image(args.stack_name, args.resolution, args.slice_ind)\n",
      "dm.set_gabor_params(gabor_params_id=args.gabor_params_id)\n",
      "dm.set_segmentation_params(segm_params_id=args.segm_params_id)\n",
      "dm.set_vq_params(vq_params_id=args.vq_params_id)"
     ],
     "language": "python",
     "metadata": {},
     "outputs": []
    },
    {
     "cell_type": "code",
     "collapsed": false,
     "input": [],
     "language": "python",
     "metadata": {},
     "outputs": []
    }
   ],
   "metadata": {}
  }
 ]
}